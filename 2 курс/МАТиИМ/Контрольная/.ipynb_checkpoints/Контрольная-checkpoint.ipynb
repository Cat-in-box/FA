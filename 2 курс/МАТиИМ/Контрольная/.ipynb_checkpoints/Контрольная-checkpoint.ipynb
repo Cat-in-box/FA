{
 "cells": [
  {
   "cell_type": "markdown",
   "id": "mounted-bulgarian",
   "metadata": {},
   "source": [
    "Математическое и имитационное моделирование<br>\n",
    "Жевагина Анастасия<br>\n",
    "ПИ19-4\n",
    "\n",
    "# **Контрольная работа** <br>Вариант 82\n",
    "\n",
    "В этом файле содержатся формулировки заданий, формулы и письменные ответы (схемы, системы уравнений). Для рассчета используется вызов методов, реализованных в [Task_1](./modules/Task_1.py) и [Task_2](./modules/Task_2.py). Вы так же можете запустить эти файлы для вывода рассчитанных значений с комментариями."
   ]
  },
  {
   "cell_type": "markdown",
   "id": "dominican-certification",
   "metadata": {},
   "source": [
    "## **Задание 1**\n",
    "\n",
    "*Реализация [Task_1](./modules/Task_1.py)*\n"
   ]
  },
  {
   "cell_type": "code",
   "execution_count": 18,
   "id": "computational-heart",
   "metadata": {},
   "outputs": [],
   "source": [
    "from modules.Task_1 import *"
   ]
  },
  {
   "cell_type": "markdown",
   "id": "included-mandate",
   "metadata": {},
   "source": [
    "Система имеет 15 дискретных состояний. Изменение состояний происходит в дискретные моменты времени с заданной вероятность. Схема марковского процесса изображена на рисунке."
   ]
  },
  {
   "cell_type": "markdown",
   "id": "devoted-information",
   "metadata": {},
   "source": [
    "![](./png/Task_1/system_diagram.png)"
   ]
  },
  {
   "cell_type": "code",
   "execution_count": 19,
   "id": "collaborative-turkish",
   "metadata": {},
   "outputs": [],
   "source": [
    "Task1 = Task_1(np.array([[0, 0, 0, 0.41, 0.18, 0, 0, 0, 0, 0, 0, 0, 0, 0, 0],\n",
    "\t\t\t\t\t\t[0, 0, 0.31, 0, 0, 0, 0, 0, 0, 0, 0, 0, 0, 0, 0],\n",
    "\t\t\t\t\t\t[0, 0.46, 0, 0.48, 0, 0, 0, 0, 0, 0, 0, 0, 0, 0, 0],\n",
    "\t\t\t\t\t\t[0.2, 0.18, 0.26, 0, 0, 0, 0.1, 0.24, 0, 0, 0, 0, 0, 0, 0],\n",
    "\t\t\t\t\t\t[0.05, 0.07, 0, 0, 0, 0.3, 0.32, 0, 0, 0, 0, 0, 0, 0, 0],\n",
    "\t\t\t\t\t\t[0, 0.4, 0, 0, 0.52, 0, 0.01, 0, 0, 0, 0, 0, 0, 0, 0],\n",
    "\t\t\t\t\t\t[0, 0, 0, 0.21, 0, 0.1, 0, 0.21, 0.21, 0, 0.25, 0, 0, 0, 0],\n",
    "\t\t\t\t\t\t[0, 0, 0, 0, 0, 0, 0, 0, 0.19, 0, 0.68, 0, 0, 0, 0],\n",
    "\t\t\t\t\t\t[0, 0, 0, 0, 0, 0, 0.29, 0, 0, 0.15, 0, 0, 0.35, 0, 0],\n",
    "\t\t\t\t\t\t[0, 0, 0, 0, 0, 0, 0.46, 0, 0, 0, 0, 0, 0, 0, 0],\n",
    "\t\t\t\t\t\t[0, 0, 0, 0, 0, 0, 0, 0, 0, 0.34, 0, 0.03, 0.05, 0.21, 0.08],\n",
    "\t\t\t\t\t\t[0, 0, 0, 0, 0, 0, 0, 0.28, 0, 0, 0.04, 0, 0.13, 0.31, 0.2],\n",
    "\t\t\t\t\t\t[0, 0, 0, 0, 0, 0, 0, 0, 0.19, 0.24, 0, 0, 0, 0.49, 0],\n",
    "\t\t\t\t\t\t[0, 0, 0, 0, 0, 0, 0, 0, 0, 0, 0, 0, 0.25, 0, 0],\n",
    "\t\t\t\t\t\t[0, 0, 0, 0, 0, 0, 0, 0, 0, 0, 0.65, 0, 0, 0, 0]]))"
   ]
  },
  {
   "cell_type": "markdown",
   "id": "variable-property",
   "metadata": {},
   "source": [
    "#### **1) вероятность того, что за 7 шагов система перейдет из состояния 2 в состояние 7**"
   ]
  },
  {
   "cell_type": "markdown",
   "id": "limited-mention",
   "metadata": {},
   "source": [
    "![](./png/Task_1/1.png)"
   ]
  },
  {
   "cell_type": "code",
   "execution_count": 20,
   "id": "helpful-creator",
   "metadata": {},
   "outputs": [
    {
     "data": {
      "text/plain": [
       "0.0302709586656"
      ]
     },
     "execution_count": 20,
     "metadata": {},
     "output_type": "execute_result"
    }
   ],
   "source": [
    "Task1.Par_1(7, 2, 7)"
   ]
  },
  {
   "cell_type": "markdown",
   "id": "angry-ending",
   "metadata": {},
   "source": [
    "#### **2) вероятности состояний системы спустя 6 шагов, если в начальный момент вероятность состояний были следующими<br>A=(0,06; 0,01; 0,14; 0,1; 0,14; 0,06; 0,06; 0,1; 0,05; 0,05; 0,08; 0,05; 0,01; 0,01; 0,08)**"
   ]
  },
  {
   "cell_type": "markdown",
   "id": "still-engineer",
   "metadata": {},
   "source": [
    "![](./png/Task_1/2.png)"
   ]
  },
  {
   "cell_type": "code",
   "execution_count": 21,
   "id": "normal-strategy",
   "metadata": {},
   "outputs": [
    {
     "data": {
      "text/plain": [
       "array([0.02582531, 0.17556265, 0.07571832, 0.06631878, 0.02200177,\n",
       "       0.01793998, 0.08540404, 0.04092715, 0.04728388, 0.11669832,\n",
       "       0.08637117, 0.00286466, 0.06320472, 0.16071088, 0.01316836])"
      ]
     },
     "execution_count": 21,
     "metadata": {},
     "output_type": "execute_result"
    }
   ],
   "source": [
    "Task1.Par_2(6, (0.06, 0.01, 0.14, 0.1, 0.14, 0.06, 0.06, 0.1, 0.05, 0.05, 0.08, 0.05, 0.01, 0.01, 0.08))"
   ]
  },
  {
   "cell_type": "markdown",
   "id": "critical-drunk",
   "metadata": {},
   "source": [
    "#### **3) вероятность первого перехода за 6 шагов из состояния 13 в состояние 1**"
   ]
  },
  {
   "cell_type": "markdown",
   "id": "headed-patient",
   "metadata": {},
   "source": [
    "![](./png/Task_1/3.png)"
   ]
  },
  {
   "cell_type": "code",
   "execution_count": 22,
   "id": "neural-composite",
   "metadata": {},
   "outputs": [
    {
     "data": {
      "text/plain": [
       "0.005528702680000001"
      ]
     },
     "execution_count": 22,
     "metadata": {},
     "output_type": "execute_result"
    }
   ],
   "source": [
    "Task1.Par_3(6, 13, 1)"
   ]
  },
  {
   "cell_type": "markdown",
   "id": "reverse-layout",
   "metadata": {},
   "source": [
    "#### **4) вероятность перехода из состояния 1 в состояние 6 не позднее чем за 6 шагов**"
   ]
  },
  {
   "cell_type": "markdown",
   "id": "consolidated-sterling",
   "metadata": {},
   "source": [
    "![](./png/Task_1/4.png)"
   ]
  },
  {
   "cell_type": "code",
   "execution_count": 23,
   "id": "welsh-banks",
   "metadata": {},
   "outputs": [
    {
     "data": {
      "text/plain": [
       "0.16343834334000001"
      ]
     },
     "execution_count": 23,
     "metadata": {},
     "output_type": "execute_result"
    }
   ],
   "source": [
    "Task1.Par_4(1, 6, 6)"
   ]
  },
  {
   "cell_type": "markdown",
   "id": "eight-apollo",
   "metadata": {},
   "source": [
    "#### **5) среднее количество шагов для перехода из состояния 2 в состояние 1**"
   ]
  },
  {
   "cell_type": "markdown",
   "id": "velvet-rescue",
   "metadata": {},
   "source": [
    "![](./png/Task_1/5.png)"
   ]
  },
  {
   "cell_type": "markdown",
   "id": "golden-senate",
   "metadata": {},
   "source": [
    "Это задание долго считает 10тыс"
   ]
  },
  {
   "cell_type": "code",
   "execution_count": 24,
   "id": "flying-sharing",
   "metadata": {},
   "outputs": [
    {
     "data": {
      "text/plain": [
       "83.89198679121328"
      ]
     },
     "execution_count": 24,
     "metadata": {},
     "output_type": "execute_result"
    }
   ],
   "source": [
    "Task1.Par_5(2, 1)"
   ]
  },
  {
   "cell_type": "markdown",
   "id": "lasting-conference",
   "metadata": {},
   "source": [
    "#### **6) вероятность первого возвращения в состояние 4 за 7 шагов**"
   ]
  },
  {
   "cell_type": "markdown",
   "id": "conceptual-corrections",
   "metadata": {},
   "source": [
    "![](./png/Task_1/6.png)"
   ]
  },
  {
   "cell_type": "code",
   "execution_count": 25,
   "id": "southwest-planet",
   "metadata": {},
   "outputs": [
    {
     "data": {
      "text/plain": [
       "0.03754738490698"
      ]
     },
     "execution_count": 25,
     "metadata": {},
     "output_type": "execute_result"
    }
   ],
   "source": [
    "Task1.Par_6(4, 7)"
   ]
  },
  {
   "cell_type": "markdown",
   "id": "northern-cream",
   "metadata": {},
   "source": [
    "#### **7) вероятность возвращения в состояние 5 не позднее чем за 7 шагов**"
   ]
  },
  {
   "cell_type": "markdown",
   "id": "textile-operations",
   "metadata": {},
   "source": [
    "![](./png/Task_1/7.png)"
   ]
  },
  {
   "cell_type": "code",
   "execution_count": 26,
   "id": "patent-winter",
   "metadata": {},
   "outputs": [
    {
     "data": {
      "text/plain": [
       "0.5070938663389799"
      ]
     },
     "execution_count": 26,
     "metadata": {},
     "output_type": "execute_result"
    }
   ],
   "source": [
    "Task1.Par_7(5, 7)"
   ]
  },
  {
   "cell_type": "markdown",
   "id": "afraid-badge",
   "metadata": {},
   "source": [
    "#### **8) среднее время возвращения в состояние 7**"
   ]
  },
  {
   "cell_type": "markdown",
   "id": "infinite-recall",
   "metadata": {},
   "source": [
    "![](./png/Task_1/8.png)"
   ]
  },
  {
   "cell_type": "markdown",
   "id": "deadly-western",
   "metadata": {},
   "source": [
    "Тоже долго считает 10тыс, поэтому поставлен параметр 20"
   ]
  },
  {
   "cell_type": "code",
   "execution_count": 27,
   "id": "interstate-casino",
   "metadata": {},
   "outputs": [
    {
     "data": {
      "text/plain": [
       "1.6468696138239678"
      ]
     },
     "execution_count": 27,
     "metadata": {},
     "output_type": "execute_result"
    }
   ],
   "source": [
    "Task1.Par_8(7, 20)"
   ]
  },
  {
   "cell_type": "markdown",
   "id": "native-partition",
   "metadata": {},
   "source": [
    "#### **9) установившиеся вероятности**"
   ]
  },
  {
   "cell_type": "markdown",
   "id": "textile-salon",
   "metadata": {},
   "source": [
    "![](./png/Task_1/9.png)"
   ]
  },
  {
   "cell_type": "code",
   "execution_count": 36,
   "id": "random-complement",
   "metadata": {},
   "outputs": [
    {
     "data": {
      "text/plain": [
       "array([0.02085891, 0.15181978, 0.0661027 , 0.05797079, 0.01425198,\n",
       "       0.01306128, 0.07871392, 0.03570203, 0.05013697, 0.11328607,\n",
       "       0.07061182, 0.00220662, 0.08576262, 0.23014487, 0.00936965])"
      ]
     },
     "execution_count": 36,
     "metadata": {},
     "output_type": "execute_result"
    }
   ],
   "source": [
    "Task1.Par_9()"
   ]
  },
  {
   "cell_type": "markdown",
   "id": "welsh-beverage",
   "metadata": {},
   "source": [
    "- - - - - - -"
   ]
  },
  {
   "cell_type": "markdown",
   "id": "taken-biotechnology",
   "metadata": {},
   "source": [
    "## **Задание 2**\n",
    "\n",
    "*Реализация [Task_2](./modules/Task_2.py)*\n"
   ]
  },
  {
   "cell_type": "code",
   "execution_count": 2,
   "id": "lyric-inflation",
   "metadata": {},
   "outputs": [],
   "source": [
    "from modules.Task_2 import *"
   ]
  },
  {
   "cell_type": "markdown",
   "id": "mental-possibility",
   "metadata": {},
   "source": [
    "Задана система массового обслуживания со следующими характеристиками:\n",
    "\n",
    "  Параметр                    | Значение\n",
    "  --------------------------- | --------\n",
    "  интенсивность поступления   | λ=14\n",
    "  каналов обслуживания        | m=2\n",
    "  интенсивность обслуживания  | μ=10\n",
    "  максимальный размер очереди | n=19\n",
    "\n",
    "Изначально требований в системе нет."
   ]
  },
  {
   "cell_type": "markdown",
   "id": "encouraging-facial",
   "metadata": {},
   "source": [
    "#### **a) Составьте граф марковского процесса, запишите систему уравнений Колмогорова и найдите установившиеся вероятности состояний.**"
   ]
  },
  {
   "cell_type": "markdown",
   "id": "protective-device",
   "metadata": {},
   "source": [
    "Граф марковского процесса:"
   ]
  },
  {
   "cell_type": "markdown",
   "id": "allied-henry",
   "metadata": {},
   "source": [
    "![](./png/Task_2/diagram.png)"
   ]
  },
  {
   "cell_type": "markdown",
   "id": "extra-values",
   "metadata": {},
   "source": [
    "Система уравнений Колмогорова:"
   ]
  },
  {
   "cell_type": "markdown",
   "id": "genetic-louisiana",
   "metadata": {},
   "source": [
    "![](./png/Task_2/system.png)"
   ]
  },
  {
   "cell_type": "markdown",
   "id": "educated-correspondence",
   "metadata": {},
   "source": [
    "Установившиеся вероятности:"
   ]
  },
  {
   "cell_type": "markdown",
   "id": "centered-scene",
   "metadata": {},
   "source": [
    "![](./png/Task_2/a.PNG)"
   ]
  },
  {
   "cell_type": "code",
   "execution_count": 3,
   "id": "precious-internet",
   "metadata": {
    "tags": []
   },
   "outputs": [
    {
     "data": {
      "text/plain": [
       "array([1.76551798e-01, 2.47172518e-01, 1.73020762e-01, 1.21114534e-01,\n",
       "       8.47801736e-02, 5.93461215e-02, 4.15422850e-02, 2.90795995e-02,\n",
       "       2.03557197e-02, 1.42490038e-02, 9.97430264e-03, 6.98201185e-03,\n",
       "       4.88740829e-03, 3.42118581e-03, 2.39483006e-03, 1.67638104e-03,\n",
       "       1.17346673e-03, 8.21426712e-04, 5.74998698e-04, 4.02499089e-04,\n",
       "       2.81749362e-04, 1.97224554e-04])"
      ]
     },
     "execution_count": 3,
     "metadata": {},
     "output_type": "execute_result"
    }
   ],
   "source": [
    "Task2 = Task_2(14, 10, 2, 19)\n",
    "\n",
    "Task2.Par_A()"
   ]
  },
  {
   "cell_type": "markdown",
   "id": "respective-cannon",
   "metadata": {},
   "source": [
    "#### **b) Найдите вероятность отказа в обслуживании.**"
   ]
  },
  {
   "cell_type": "markdown",
   "id": "blind-characterization",
   "metadata": {},
   "source": [
    "![](./png/Task_2/b.PNG)"
   ]
  },
  {
   "cell_type": "code",
   "execution_count": 4,
   "id": "beginning-touch",
   "metadata": {},
   "outputs": [
    {
     "data": {
      "text/plain": [
       "0.00019722455352475275"
      ]
     },
     "execution_count": 4,
     "metadata": {},
     "output_type": "execute_result"
    }
   ],
   "source": [
    "Task2.Par_B()"
   ]
  },
  {
   "cell_type": "markdown",
   "id": "fifteen-ottawa",
   "metadata": {},
   "source": [
    "#### **c) Найдите относительную и абсолютную интенсивность обслуживания.**"
   ]
  },
  {
   "cell_type": "markdown",
   "id": "rational-personal",
   "metadata": {},
   "source": [
    "![](./png/Task_2/c.PNG)"
   ]
  },
  {
   "cell_type": "code",
   "execution_count": 7,
   "id": "lesser-broad",
   "metadata": {},
   "outputs": [
    {
     "name": "stdout",
     "output_type": "stream",
     "text": [
      "Относительная: 0.9998027754464752\n",
      "Абсолютная: 13.997238856250654\n"
     ]
    }
   ],
   "source": [
    "a, b = Task2.Par_C()\n",
    "\n",
    "print('Относительная:', a)\n",
    "print('Абсолютная:', b)"
   ]
  },
  {
   "cell_type": "markdown",
   "id": "operational-sentence",
   "metadata": {},
   "source": [
    "#### **d) Найдите среднюю длину в очереди.**"
   ]
  },
  {
   "cell_type": "markdown",
   "id": "contained-portsmouth",
   "metadata": {},
   "source": [
    "![](./png/Task_2/d.PNG)"
   ]
  },
  {
   "cell_type": "code",
   "execution_count": 8,
   "id": "packed-aircraft",
   "metadata": {},
   "outputs": [
    {
     "data": {
      "text/plain": [
       "1.3354394501003224"
      ]
     },
     "execution_count": 8,
     "metadata": {},
     "output_type": "execute_result"
    }
   ],
   "source": [
    "Task2.Par_D()"
   ]
  },
  {
   "cell_type": "markdown",
   "id": "compound-agriculture",
   "metadata": {},
   "source": [
    "#### **e) Найдите среднее время в очереди.**"
   ]
  },
  {
   "cell_type": "markdown",
   "id": "needed-clarity",
   "metadata": {},
   "source": [
    "![](./png/Task_2/e.PNG)"
   ]
  },
  {
   "cell_type": "code",
   "execution_count": 9,
   "id": "posted-pennsylvania",
   "metadata": {},
   "outputs": [
    {
     "data": {
      "text/plain": [
       "0.09538853215002309"
      ]
     },
     "execution_count": 9,
     "metadata": {},
     "output_type": "execute_result"
    }
   ],
   "source": [
    "Task2.Par_E()"
   ]
  },
  {
   "cell_type": "markdown",
   "id": "large-billy",
   "metadata": {},
   "source": [
    "#### **f) Найдите среднее число занятых каналов.**"
   ]
  },
  {
   "cell_type": "markdown",
   "id": "democratic-suite",
   "metadata": {},
   "source": [
    "![](./png/Task_2/f.PNG)"
   ]
  },
  {
   "cell_type": "code",
   "execution_count": 10,
   "id": "tested-viewer",
   "metadata": {},
   "outputs": [
    {
     "data": {
      "text/plain": [
       "1.3997238856250656"
      ]
     },
     "execution_count": 10,
     "metadata": {},
     "output_type": "execute_result"
    }
   ],
   "source": [
    "Task2.Par_F()"
   ]
  },
  {
   "cell_type": "markdown",
   "id": "adverse-revolution",
   "metadata": {},
   "source": [
    "#### **g) Найдите вероятность того, что поступающая заявка не будет ждать в очереди.**"
   ]
  },
  {
   "cell_type": "markdown",
   "id": "spare-chick",
   "metadata": {},
   "source": [
    "![](./png/Task_2/g.PNG)"
   ]
  },
  {
   "cell_type": "code",
   "execution_count": 11,
   "id": "alpine-variety",
   "metadata": {},
   "outputs": [
    {
     "data": {
      "text/plain": [
       "0.17655179834556908"
      ]
     },
     "execution_count": 11,
     "metadata": {},
     "output_type": "execute_result"
    }
   ],
   "source": [
    "Task2.Par_G()"
   ]
  },
  {
   "cell_type": "markdown",
   "id": "digital-unemployment",
   "metadata": {},
   "source": [
    "#### **h) Найти среднее время простоя системы массового обслуживания.**"
   ]
  },
  {
   "cell_type": "markdown",
   "id": "extraordinary-protection",
   "metadata": {},
   "source": [
    "![](./png/Task_2/h.PNG)"
   ]
  },
  {
   "cell_type": "code",
   "execution_count": 12,
   "id": "offshore-shepherd",
   "metadata": {},
   "outputs": [
    {
     "data": {
      "text/plain": [
       "0.07142857142857142"
      ]
     },
     "execution_count": 12,
     "metadata": {},
     "output_type": "execute_result"
    }
   ],
   "source": [
    "Task2.Par_H()"
   ]
  }
 ],
 "metadata": {
  "kernelspec": {
   "display_name": "Python 3",
   "language": "python",
   "name": "python3"
  },
  "language_info": {
   "codemirror_mode": {
    "name": "ipython",
    "version": 3
   },
   "file_extension": ".py",
   "mimetype": "text/x-python",
   "name": "python",
   "nbconvert_exporter": "python",
   "pygments_lexer": "ipython3",
   "version": "3.8.3"
  }
 },
 "nbformat": 4,
 "nbformat_minor": 5
}
