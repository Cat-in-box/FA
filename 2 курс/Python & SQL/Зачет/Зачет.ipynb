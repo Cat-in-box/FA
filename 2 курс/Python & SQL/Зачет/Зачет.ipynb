{
 "cells": [
  {
   "cell_type": "markdown",
   "metadata": {},
   "source": [
    "# Зачет\r\n",
    "\r\n",
    "28 мая 2021 года <br>"
   ]
  },
  {
   "cell_type": "markdown",
   "metadata": {},
   "source": [
    "## №3 (ORM)\r\n",
    "\r\n",
    "Напишите запрос для получения списка названий университетов \r\n",
    "с указанием количества студентов, обучающихся на каждом курсе.\r\n",
    "Отсортируйте результат по названию университета.\r\n"
   ]
  },
  {
   "cell_type": "code",
   "execution_count": 1,
   "metadata": {},
   "outputs": [
    {
     "name": "stdout",
     "output_type": "stream",
     "text": [
      "[<class 'sqlalchemy.ext.automap.city'>, <class 'sqlalchemy.ext.automap.exam_marks'>, <class 'sqlalchemy.ext.automap.student'>, <class 'sqlalchemy.ext.automap.university'>, <class 'sqlalchemy.ext.automap.subject'>, <class 'sqlalchemy.ext.automap.lecturer'>, <class 'sqlalchemy.ext.automap.subj_lect'>]\n"
     ]
    }
   ],
   "source": [
    "from sqlalchemy.ext.automap import automap_base\r\n",
    "from sqlalchemy.orm import Session\r\n",
    "from sqlalchemy import create_engine\r\n",
    "from datetime import datetime\r\n",
    "engine = create_engine('sqlite:///Students_2021.sqlite')\r\n",
    "Base = automap_base()\r\n",
    "Base.prepare(engine, reflect=True)\r\n",
    "session = Session(engine)\r\n",
    "print(Base.classes.values())\r\n",
    "city, exam_marks, student, university, subject, lecturer, subj_lect = Base.classes.values()"
   ]
  },
  {
   "cell_type": "code",
   "execution_count": 2,
   "metadata": {},
   "outputs": [
    {
     "name": "stdout",
     "output_type": "stream",
     "text": [
      "Университет\tКурс\tСтудентов\n",
      "БГУ\t\t1\t1\n",
      "БГУ\t\t4\t1\n",
      "ВГМА\t\t4\t1\n",
      "ВГУ\t\t1\t1\n",
      "ВГУ\t\t2\t2\n",
      "ВГУ\t\t3\t2\n",
      "ВГУ\t\t4\t2\n",
      "КФУ\t\t1\t1\n",
      "КФУ\t\t4\t1\n",
      "МГУ\t\t3\t1\n",
      "МГУ\t\t4\t1\n",
      "МТУСИ\t\t2\t2\n",
      "ТГУ\t\t1\t1\n",
      "УЛГУ\t\t2\t2\n"
     ]
    }
   ],
   "source": [
    "from sqlalchemy.sql.expression import func\r\n",
    "\r\n",
    "print('Университет\\tКурс\\tСтудентов')\r\n",
    "\r\n",
    "query = session.query(university.univ_name, student.kurs, func.count(student.student_id)).join(university, student.univ_id == university.univ_id).group_by(student.kurs, university.univ_name).order_by(university.univ_name).all()\r\n",
    "for item in query:\r\n",
    "    print(item[0] + '\\t\\t' + str(item[1]) + '\\t' + str(item[2]))"
   ]
  },
  {
   "cell_type": "markdown",
   "metadata": {},
   "source": [
    "## №8 (CORE)\r\n",
    "\r\n",
    "Напишите запрос для получения списка университетов с указанием \r\n",
    "суммарного количества часов, отводимых на изучение каждого предмета.\r\n"
   ]
  },
  {
   "cell_type": "code",
   "execution_count": 3,
   "metadata": {},
   "outputs": [],
   "source": [
    "from sqlalchemy import (select, create_engine, MetaData, Table, Numeric, String, \r\n",
    "                        insert, update, delete, cast)\r\n",
    "from datetime import datetime\r\n",
    "import pandas as pd\r\n",
    "import warnings\r\n",
    "warnings.filterwarnings('ignore')"
   ]
  },
  {
   "cell_type": "code",
   "execution_count": 4,
   "metadata": {},
   "outputs": [],
   "source": [
    "engine=create_engine('sqlite:///Students_2021.sqlite')\r\n",
    "metadata=MetaData()\r\n",
    "connection=engine.connect()"
   ]
  },
  {
   "cell_type": "code",
   "execution_count": 5,
   "metadata": {},
   "outputs": [],
   "source": [
    "city=Table('city', metadata, autoload=True, autoload_with=engine)\r\n",
    "exam_marks=Table('exam_marks', metadata, autoload=True, autoload_with=engine)\r\n",
    "student=Table('student', metadata, autoload=True, autoload_with=engine)\r\n",
    "university=Table('university', metadata, autoload=True, autoload_with=engine)\r\n",
    "subject=Table('subject', metadata, autoload=True, autoload_with=engine)\r\n",
    "lecturer=Table('lecturer', metadata, autoload=True, autoload_with=engine)\r\n",
    "subj_lect=Table('subj_lect', metadata, autoload=True, autoload_with=engine)"
   ]
  },
  {
   "cell_type": "code",
   "execution_count": 11,
   "metadata": {},
   "outputs": [
    {
     "name": "stdout",
     "output_type": "stream",
     "text": [
      "Университет\tПредмет                                       \t\tЧасы\n",
      "БГУ\t\tАнализ данных                                 \t\t42\n",
      "БГУ\t\tБазы данных                                   \t\t180\n",
      "БГУ\t\tПрограммирование на языках Python и SQL       \t\t180\n",
      "ВГМА\t\tАнализ данных                                 \t\t42\n",
      "ВГМА\t\tМатематика                                    \t\t56\n",
      "ВГУ\t\tИстория                                       \t\t34\n",
      "МГТУ\t\tФизкультура                                   \t\t34\n",
      "МГТУ\t\tФинансовые риски корпоративного инвестирования\t\t36\n",
      "МГУ\t\tИстория                                       \t\t34\n",
      "МТУСИ\t\tБазы данных                                   \t\t180\n",
      "МТУСИ\t\tЭкономическая информатика                     \t\t72\n",
      "НГУ\t\tФизика                                        \t\t34\n",
      "Политех\t\tWeb-дизайн                                    \t\t72\n",
      "Политех\t\tИнформатика                                   \t\t56\n",
      "Политех\t\tПрограммирование                              \t\t34\n",
      "РГУ\t\tФинансовые рынки                              \t\t72\n"
     ]
    }
   ],
   "source": [
    "import numpy\r\n",
    "\r\n",
    "print('Университет\\t' + 'Предмет'.ljust(46) + '\\t\\tЧасы')\r\n",
    "\r\n",
    "selection=select([university.c.univ_name, subject.c.subj_name, func.sum(subject.c.hour)]).select_from(university.join(lecturer).join(subj_lect).join(subject)).group_by(subject.c.subj_name, university.c.univ_name).order_by(university.c.univ_name)\r\n",
    "result=connection.execute(selection).fetchall()\r\n",
    "\r\n",
    "for item in result:\r\n",
    "    print(item[0] + '\\t\\t' + item[1].ljust(46) + '\\t\\t' + str(item[2]))\r\n"
   ]
  },
  {
   "cell_type": "code",
   "execution_count": null,
   "metadata": {},
   "outputs": [],
   "source": []
  }
 ],
 "metadata": {
  "kernelspec": {
   "display_name": "Python 3.8.3 32-bit",
   "name": "python383jvsc74a57bd0f36bb2415103839c44be3616e885f7d6aee90348d429d9698a9148e0dea357be"
  },
  "language_info": {
   "codemirror_mode": {
    "name": "ipython",
    "version": 3
   },
   "file_extension": ".py",
   "mimetype": "text/x-python",
   "name": "python",
   "nbconvert_exporter": "python",
   "pygments_lexer": "ipython3",
   "version": "3.8.3"
  },
  "orig_nbformat": 3
 },
 "nbformat": 4,
 "nbformat_minor": 4
}