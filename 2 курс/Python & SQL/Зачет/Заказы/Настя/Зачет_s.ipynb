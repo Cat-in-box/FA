{
 "cells": [
  {
   "cell_type": "markdown",
   "metadata": {},
   "source": [
    "<img src=\"./Img/Label_02.png\">\n",
    "\n",
    "# Зачет\n",
    "\n",
    "28 мая 2021 года <br>\n",
    "ПИ19-3, ПИ19-4 - 3 подгруппа<br>\n",
    "\n",
    "4 июня 2021 года <br>\n",
    "ПИ19-4, ПИ19-5 - 4 подгруппа\n",
    "\n",
    "5 июня 2021 года <br>\n",
    "ПИ19-2, ПИ19-3, ПИ19-4 - 2 подгруппа<br>"
   ]
  },
  {
   "cell_type": "code",
   "execution_count": 13,
   "metadata": {},
   "outputs": [
    {
     "data": {
      "text/plain": "'\\nНапишите запрос для получения списка названий университетов вместе с\\nназваниями преподаваемых в них предметов.\\n'"
     },
     "execution_count": 13,
     "metadata": {},
     "output_type": "execute_result"
    }
   ],
   "source": [
    "#6 orm\r\n",
    "\r\n",
    "\"\"\"\r\n",
    "Напишите запрос для получения списка названий университетов вместе с\r\n",
    "названиями преподаваемых в них предметов.\r\n",
    "\"\"\"\r\n"
   ]
  },
  {
   "cell_type": "code",
   "execution_count": 14,
   "metadata": {},
   "outputs": [
    {
     "name": "stdout",
     "output_type": "stream",
     "text": [
      "[<class 'sqlalchemy.ext.automap.city'>, <class 'sqlalchemy.ext.automap.exam_marks'>, <class 'sqlalchemy.ext.automap.student'>, <class 'sqlalchemy.ext.automap.university'>, <class 'sqlalchemy.ext.automap.subject'>, <class 'sqlalchemy.ext.automap.lecturer'>, <class 'sqlalchemy.ext.automap.subj_lect'>]\n"
     ]
    }
   ],
   "source": [
    "# Импортим дофига разных модулей для работы sqlalchemy\r\n",
    "from sqlalchemy.ext.automap import automap_base\r\n",
    "from sqlalchemy.orm import Session\r\n",
    "from sqlalchemy import create_engine\r\n",
    "from datetime import datetime\r\n",
    "\r\n",
    "# Подключения к базе данных\r\n",
    "engine = create_engine('sqlite:///Students_2021.sqlite')\r\n",
    "Base = automap_base()\r\n",
    "Base.prepare(engine, reflect=True)\r\n",
    "# Создание текущей сессии\r\n",
    "session = Session(engine)\r\n",
    "\r\n",
    "# Смотрим, какие есть таблицы в бд и передаем их в отдельные переменные (впринципе print можно и стереть)\r\n",
    "print(Base.classes.values())\r\n",
    "city, exam_marks, student, university, subject, lecturer, subj_lect = Base.classes.values()"
   ]
  },
  {
   "cell_type": "code",
   "execution_count": 15,
   "metadata": {},
   "outputs": [
    {
     "name": "stdout",
     "output_type": "stream",
     "text": [
      "Университет\tПредмет\n",
      "('БГУ', 'Анализ данных')\n",
      "('БГУ', 'Базы данных')\n",
      "('БГУ', 'Программирование на языках Python и SQL')\n",
      "('ВГМА', 'Анализ данных')\n",
      "('ВГМА', 'Математика')\n",
      "('ВГУ', 'История')\n",
      "('МГТУ', 'Физкультура')\n",
      "('МГТУ', 'Финансовые риски корпоративного инвестирования')\n",
      "('МГУ', 'История')\n",
      "('МТУСИ', 'Базы данных')\n",
      "('МТУСИ', 'Экономическая информатика')\n",
      "('НГУ', 'Физика')\n",
      "('Политех', 'Информатика')\n",
      "('Политех', 'Программирование')\n",
      "('Политех', 'Web-дизайн')\n",
      "('РГУ', 'Финансовые рынки')\n"
     ]
    }
   ],
   "source": [
    "print('Университет\\tПредмет')\r\n",
    "\r\n",
    "# Это сам select, какие выбираем колонки\r\n",
    "query = session.query(university.univ_name, subject.subj_name)\r\n",
    "# Соединяем таблицы university и lecturer\r\n",
    ".join(lecturer, university.univ_id == lecturer.univ_id)\r\n",
    "# Потом еще subj_lect к тем двум сверху\r\n",
    ".join(subj_lect, lecturer.lecturer_id == subj_lect.lecturer_id)\r\n",
    "# И еще subject туда же\r\n",
    ".join(subject, subj_lect.subj_id == subject.subj_id)\r\n",
    "# Сортировка по названию универа\r\n",
    ".order_by(university.univ_name)\r\n",
    "# запрос всех строк\r\n",
    ".all()\r\n",
    "\r\n",
    "# Получается структура [(), ()], поэтому выводим \"построчно\"\r\n",
    "for item in query:\r\n",
    "    print(item)"
   ]
  },
  {
   "cell_type": "code",
   "execution_count": null,
   "metadata": {},
   "outputs": [],
   "source": [
    "#7 core\r\n",
    "\r\n",
    "\"\"\"\r\n",
    "Напишите запрос для получения списка университетов с указанием\r\n",
    "суммарного количества аудиторных часов в каждом семестре.\r\n",
    "\"\"\"\r\n"
   ]
  },
  {
   "cell_type": "code",
   "execution_count": 16,
   "metadata": {},
   "outputs": [],
   "source": [
    "# Опять много импортов\r\n",
    "from sqlalchemy import (select, create_engine, MetaData, Table, Numeric, String, \r\n",
    "                        insert, update, delete, cast)\r\n",
    "from datetime import datetime\r\n",
    "import pandas as pd\r\n",
    "import warnings\r\n",
    "warnings.filterwarnings('ignore')"
   ]
  },
  {
   "cell_type": "code",
   "execution_count": 17,
   "metadata": {},
   "outputs": [],
   "source": [
    "# Подключение к бд\r\n",
    "engine=create_engine('sqlite:///Students_2021.sqlite')\r\n",
    "metadata=MetaData()\r\n",
    "connection=engine.connect()"
   ]
  },
  {
   "cell_type": "code",
   "execution_count": 18,
   "metadata": {},
   "outputs": [],
   "source": [
    "# передаем таблицы из бд в отдельные переменные\r\n",
    "city=Table('city', metadata, autoload=True, autoload_with=engine)\r\n",
    "exam_marks=Table('exam_marks', metadata, autoload=True, autoload_with=engine)\r\n",
    "student=Table('student', metadata, autoload=True, autoload_with=engine)\r\n",
    "university=Table('university', metadata, autoload=True, autoload_with=engine)\r\n",
    "subject=Table('subject', metadata, autoload=True, autoload_with=engine)\r\n",
    "lecturer=Table('lecturer', metadata, autoload=True, autoload_with=engine)\r\n",
    "subj_lect=Table('subj_lect', metadata, autoload=True, autoload_with=engine)"
   ]
  },
  {
   "cell_type": "code",
   "execution_count": 28,
   "metadata": {},
   "outputs": [
    {
     "name": "stdout",
     "output_type": "stream",
     "text": [
      "Университет, Семестр, Часы\n",
      "('БГУ', 1, 42)\n",
      "('БГУ', 7, 360)\n",
      "('ВГМА', 1, 42)\n",
      "('ВГМА', 2, 56)\n",
      "('ВГУ', 4, 34)\n",
      "('МГТУ', 5, 70)\n",
      "('МГУ', 4, 34)\n",
      "('МТУСИ', 7, 252)\n",
      "('НГУ', 1, 34)\n",
      "('Политех', 1, 56)\n",
      "('Политех', 2, 34)\n",
      "('Политех', 4, 72)\n",
      "('РГУ', 6, 72)\n"
     ]
    }
   ],
   "source": [
    "print('Университет, Семестр, Часы')\r\n",
    "\r\n",
    "# Сам select\r\n",
    "selection=select([university.c.univ_name, subject.c.semester, func.sum(subject.c.hour)])\r\n",
    "# Указываем, откуда берем данные\r\n",
    ".select_from(\r\n",
    "    # Длинная цепочка joinтов\r\n",
    "    university.join(lecturer).join(subj_lect).join(subject)\r\n",
    "    )\r\n",
    "# группировка по семестру и университету\r\n",
    ".group_by(subject.c.semester, university.c.univ_name)\r\n",
    "# сортировка по университету\r\n",
    ".order_by(university.c.univ_name)\r\n",
    "\r\n",
    "# Отправляем сформированный select в бд и дергаем ответ\r\n",
    "result=connection.execute(selection).fetchall()\r\n",
    "\r\n",
    "# ну и вывод\r\n",
    "for item in result:\r\n",
    "    print(item)"
   ]
  },
  {
   "cell_type": "code",
   "execution_count": null,
   "metadata": {},
   "outputs": [],
   "source": []
  }
 ],
 "metadata": {
  "kernelspec": {
   "display_name": "Python 3.8.3 32-bit",
   "name": "python383jvsc74a57bd0f36bb2415103839c44be3616e885f7d6aee90348d429d9698a9148e0dea357be"
  },
  "language_info": {
   "name": "python",
   "version": ""
  }
 },
 "nbformat": 4,
 "nbformat_minor": 4
}