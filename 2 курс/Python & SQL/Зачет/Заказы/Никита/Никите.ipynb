{
 "cells": [
  {
   "cell_type": "code",
   "execution_count": 23,
   "metadata": {},
   "outputs": [],
   "source": [
    "from sqlalchemy import (select, create_engine, MetaData, Table, Numeric, String, \r\n",
    "                        insert, update, delete, cast)\r\n",
    "from datetime import datetime\r\n",
    "import pandas as pd\r\n",
    "import warnings\r\n",
    "warnings.filterwarnings('ignore')"
   ]
  },
  {
   "cell_type": "code",
   "execution_count": 24,
   "metadata": {},
   "outputs": [],
   "source": [
    "engine=create_engine('sqlite:///Students_2021.sqlite')\r\n",
    "metadata=MetaData()\r\n",
    "connection=engine.connect()"
   ]
  },
  {
   "cell_type": "code",
   "execution_count": 25,
   "metadata": {},
   "outputs": [],
   "source": [
    "city=Table('city', metadata, autoload=True, autoload_with=engine)\r\n",
    "exam_marks=Table('exam_marks', metadata, autoload=True, autoload_with=engine)\r\n",
    "student=Table('student', metadata, autoload=True, autoload_with=engine)\r\n",
    "university=Table('university', metadata, autoload=True, autoload_with=engine)\r\n",
    "subject=Table('subject', metadata, autoload=True, autoload_with=engine)\r\n",
    "lecturer=Table('lecturer', metadata, autoload=True, autoload_with=engine)\r\n",
    "subj_lect=Table('subj_lect', metadata, autoload=True, autoload_with=engine)"
   ]
  },
  {
   "cell_type": "code",
   "execution_count": 26,
   "metadata": {},
   "outputs": [
    {
     "name": "stdout",
     "output_type": "stream",
     "text": [
      "Волков Михаил 70\n",
      "Дорофеев Прокофий 72\n"
     ]
    }
   ],
   "source": [
    "from sqlalchemy.sql.expression import func\r\n",
    "from sqlalchemy import or_\r\n",
    "\r\n",
    "selection=select([lecturer.c.surname + ' ' + lecturer.c.name, func.sum(subject.c.hour)]).select_from(lecturer.join(subj_lect).join(subject)).where(or_(subject.c.semester == 5, subject.c.semester == 6)).group_by(lecturer.c.surname, lecturer.c.name).order_by(lecturer.c.surname, lecturer.c.name)\r\n",
    "result=connection.execute(selection).fetchall()\r\n",
    "\r\n",
    "for item in result:\r\n",
    "    print(item[0], item[1])\r\n"
   ]
  },
  {
   "cell_type": "code",
   "execution_count": null,
   "metadata": {},
   "outputs": [],
   "source": []
  }
 ],
 "metadata": {
  "kernelspec": {
   "display_name": "Python 3.8.3 32-bit",
   "name": "python383jvsc74a57bd0f36bb2415103839c44be3616e885f7d6aee90348d429d9698a9148e0dea357be"
  },
  "language_info": {
   "codemirror_mode": {
    "name": "ipython",
    "version": 3
   },
   "file_extension": ".py",
   "mimetype": "text/x-python",
   "name": "python",
   "nbconvert_exporter": "python",
   "pygments_lexer": "ipython3",
   "version": "3.8.3"
  },
  "orig_nbformat": 3
 },
 "nbformat": 4,
 "nbformat_minor": 4
}