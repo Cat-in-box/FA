{
 "cells": [
  {
   "cell_type": "markdown",
   "metadata": {},
   "source": [
    "<img src=\"./Img/Label_02.png\">\n",
    "\n",
    "# Зачет\n",
    "\n",
    "28 мая 2021 года <br>\n",
    "ПИ19-3, ПИ19-4 - 3 подгруппа<br>\n",
    "\n",
    "5 июня 2021 года <br>\n",
    "ПИ19-2, ПИ19-3, ПИ19-4 - 2 подгруппа<br>\n",
    "\n",
    "4 июня 2021 года <br>\n",
    "ПИ19-4, ПИ19-5 - 4 подгруппа"
   ]
  },
  {
   "cell_type": "code",
   "execution_count": 1,
   "metadata": {},
   "outputs": [
    {
     "data": {
      "text/plain": "'\\nНапишите запрос для получения списка преподавателей с указанием \\nколичества часов, отведенных для обучения каждому из предметов.\\nФамилияю и имя преподавателя отобразите в одном столбце результата.\\nРезультат упорядочите по фамилии преподавателя.\\n'"
     },
     "execution_count": 1,
     "metadata": {},
     "output_type": "execute_result"
    }
   ],
   "source": [
    "#9 ORM\r\n",
    "\r\n",
    "\"\"\"\r\n",
    "Напишите запрос для получения списка преподавателей с указанием \r\n",
    "количества часов, отведенных для обучения каждому из предметов.\r\n",
    "Фамилияю и имя преподавателя отобразите в одном столбце результата.\r\n",
    "Результат упорядочите по фамилии преподавателя.\r\n",
    "\"\"\"\r\n"
   ]
  },
  {
   "cell_type": "code",
   "execution_count": 2,
   "metadata": {},
   "outputs": [
    {
     "name": "stdout",
     "output_type": "stream",
     "text": [
      "[<class 'sqlalchemy.ext.automap.city'>, <class 'sqlalchemy.ext.automap.exam_marks'>, <class 'sqlalchemy.ext.automap.student'>, <class 'sqlalchemy.ext.automap.university'>, <class 'sqlalchemy.ext.automap.subject'>, <class 'sqlalchemy.ext.automap.lecturer'>, <class 'sqlalchemy.ext.automap.subj_lect'>]\n"
     ]
    }
   ],
   "source": [
    "# Импортим дофига разных модулей для работы sqlalchemy\r\n",
    "\r\n",
    "from sqlalchemy.ext.automap import automap_base\r\n",
    "from sqlalchemy.orm import Session\r\n",
    "from sqlalchemy import create_engine\r\n",
    "from datetime import datetime\r\n",
    "\r\n",
    "# Подключения к базе данных\r\n",
    "engine = create_engine('sqlite:///Students_2021.sqlite')\r\n",
    "Base = automap_base()\r\n",
    "Base.prepare(engine, reflect=True)\r\n",
    "# Создание текущей сессии\r\n",
    "session = Session(engine)\r\n",
    "\r\n",
    "# Смотрим, какие есть таблицы в бд и передаем их в отдельные переменные (впринципе print можно и стереть)\r\n",
    "print(Base.classes.values())\r\n",
    "city, exam_marks, student, university, subject, lecturer, subj_lect = Base.classes.values()"
   ]
  },
  {
   "cell_type": "code",
   "execution_count": 11,
   "metadata": {},
   "outputs": [
    {
     "name": "stdout",
     "output_type": "stream",
     "text": [
      "Преподаватель, Предмет, Часы\n",
      "('Богданова Оксана', 'Анализ данных', 42)\n",
      "('Богданова Оксана', 'Математика', 56)\n",
      "('Волков Михаил', 'Физкультура', 34)\n",
      "('Волков Михаил', 'Финансовые риски корпоративного инвестирования', 36)\n",
      "('Дорофеев Прокофий', 'Финансовые рынки', 72)\n",
      "('Зайцева Юлия', 'Анализ данных', 42)\n",
      "('Зайцева Юлия', 'Базы данных', 180)\n",
      "('Зайцева Юлия', 'Программирование на языках Python и SQL', 180)\n",
      "('Ковтун Игорь', 'Базы данных', 180)\n",
      "('Ковтун Игорь', 'Экономическая информатика', 72)\n",
      "('Лагутин Павел', 'История', 34)\n",
      "('Максимова Иванна', 'История', 34)\n",
      "('Мамонтова Акулина', 'Физика', 34)\n",
      "('Сафонова Лукия', 'Информатика', 56)\n",
      "('Сафонова Лукия', 'Программирование', 34)\n",
      "('Стрелков Руслан', 'Web-дизайн', 72)\n"
     ]
    }
   ],
   "source": [
    "print('Преподаватель, Предмет, Часы')\r\n",
    "\r\n",
    "# Это сам select, какие выбираем колонки\r\n",
    "query = session.query(lecturer.surname + ' ' + lecturer.name, subject.subj_name, subject.hour)\r\n",
    "# Соединяем таблицы lecturer и subj_lect\r\n",
    ".join(subj_lect, lecturer.lecturer_id == subj_lect.lecturer_id)\r\n",
    "# Потом еще subject к тем двум сверху\r\n",
    ".join(subject, subj_lect.subj_id == subject.subj_id)\r\n",
    "# Сортировка по фамилии студента\r\n",
    ".order_by(lecturer.surname).all()\r\n",
    "\r\n",
    "# Получается структура [(), ()], поэтому выводим \"построчно\"\r\n",
    "for item in query:\r\n",
    "    print(item)"
   ]
  },
  {
   "cell_type": "code",
   "execution_count": null,
   "metadata": {},
   "outputs": [],
   "source": [
    "#16 CORE\r\n",
    "\r\n",
    "\"\"\"\r\n",
    "Напишите запрос, который выполняет выборку фамилий ВСЕХ студентов, \r\n",
    "с указанием для студентов, сдававших экзамены, идентификаторов сданных ими предметов обучения.\r\n",
    "\"\"\"\r\n"
   ]
  },
  {
   "cell_type": "code",
   "execution_count": 12,
   "metadata": {},
   "outputs": [],
   "source": [
    "# Опять много импортов\r\n",
    "\r\n",
    "from sqlalchemy import (select, create_engine, MetaData, Table, Numeric, String, \r\n",
    "                        insert, update, delete, cast)\r\n",
    "from datetime import datetime\r\n",
    "import pandas as pd\r\n",
    "import warnings\r\n",
    "warnings.filterwarnings('ignore')"
   ]
  },
  {
   "cell_type": "code",
   "execution_count": 13,
   "metadata": {},
   "outputs": [],
   "source": [
    "# Подключение к бд\r\n",
    "\r\n",
    "engine=create_engine('sqlite:///Students_2021.sqlite')\r\n",
    "metadata=MetaData()\r\n",
    "connection=engine.connect()"
   ]
  },
  {
   "cell_type": "code",
   "execution_count": 14,
   "metadata": {},
   "outputs": [],
   "source": [
    "# передаем таблицы из бд в отдельные переменные\r\n",
    "\r\n",
    "city=Table('city', metadata, autoload=True, autoload_with=engine)\r\n",
    "exam_marks=Table('exam_marks', metadata, autoload=True, autoload_with=engine)\r\n",
    "student=Table('student', metadata, autoload=True, autoload_with=engine)\r\n",
    "university=Table('university', metadata, autoload=True, autoload_with=engine)\r\n",
    "subject=Table('subject', metadata, autoload=True, autoload_with=engine)\r\n",
    "lecturer=Table('lecturer', metadata, autoload=True, autoload_with=engine)\r\n",
    "subj_lect=Table('subj_lect', metadata, autoload=True, autoload_with=engine)"
   ]
  },
  {
   "cell_type": "code",
   "execution_count": 17,
   "metadata": {},
   "outputs": [
    {
     "name": "stdout",
     "output_type": "stream",
     "text": [
      "Фамилия студента, Предмет\n",
      "('Афанасьева', None)\n",
      "('Белкин', 10)\n",
      "('Белкин', 11)\n",
      "('Белкин', 12)\n",
      "('Белкин', 13)\n",
      "('Белкин', 14)\n",
      "('Белкин', 15)\n",
      "('Доу', None)\n",
      "('Зайцева', 10)\n",
      "('Зайцева', 11)\n",
      "('Зайцева', 13)\n",
      "('Иванов', 12)\n",
      "('Иванов', 22)\n",
      "('Иванов', 43)\n",
      "('Калашников', 10)\n",
      "('Калашников', 11)\n",
      "('Котов', 10)\n",
      "('Котов', 11)\n",
      "('Котов', 12)\n",
      "('Котов', 14)\n",
      "('Котов', 15)\n",
      "('Кузнецов', None)\n",
      "('Медведева', None)\n",
      "('Мельникова', 10)\n",
      "('Мельникова', 11)\n",
      "('Мельникова', 12)\n",
      "('Мельникова', 13)\n",
      "('Мельникова', 56)\n",
      "('Никитин', 10)\n",
      "('Никитин', 11)\n",
      "('Никитин', 12)\n",
      "('Никитин', 13)\n",
      "('Никитин', 14)\n",
      "('Никитин', 15)\n",
      "('Петров', None)\n",
      "('Петров', None)\n",
      "('Семенова', 15)\n",
      "('Семенова', 73)\n",
      "('Семенова', 94)\n",
      "('Сергеева', 10)\n",
      "('Сергеева', 11)\n",
      "('Сергеева', 12)\n",
      "('Сергеева', 13)\n",
      "('Сергеева', 14)\n",
      "('Сергеева', 16)\n",
      "('Сидоров', None)\n",
      "('Синицин', 10)\n",
      "('Синицин', 11)\n",
      "('Шоу', None)\n",
      "('Юнг', None)\n"
     ]
    }
   ],
   "source": [
    "print('Фамилия студента, Предмет')\r\n",
    "\r\n",
    "# Сам select\r\n",
    "selection=select([student.c.surname, exam_marks.c.subj_id])\r\n",
    "# Это соиденение join, при чем по условию оно left outer join\r\n",
    ".select_from(student.outerjoin(exam_marks))\r\n",
    "# Сортировка по фамилии для удобства\r\n",
    ".order_by(student.c.surname)\r\n",
    "\r\n",
    "# Отправляем сформированный select в бд и дергаем ответ\r\n",
    "result=connection.execute(selection).fetchall()\r\n",
    "\r\n",
    "# ну и вывод\r\n",
    "for item in result:\r\n",
    "    print(item)\r\n"
   ]
  },
  {
   "cell_type": "code",
   "execution_count": null,
   "metadata": {},
   "outputs": [],
   "source": []
  }
 ],
 "metadata": {
  "kernelspec": {
   "display_name": "Python 3.8.3 32-bit",
   "name": "python383jvsc74a57bd0f36bb2415103839c44be3616e885f7d6aee90348d429d9698a9148e0dea357be"
  },
  "language_info": {
   "name": "python",
   "version": ""
  },
  "orig_nbformat": 3
 },
 "nbformat": 4,
 "nbformat_minor": 4
}