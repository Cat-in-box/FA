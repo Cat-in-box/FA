{
 "cells": [
  {
   "cell_type": "code",
   "execution_count": 9,
   "metadata": {},
   "outputs": [
    {
     "data": {
      "text/plain": "'\\nНапишите запрос для получения списка университетов с указанием\\nсуммарного количества аудиторных часов в каждом семестре.\\n'"
     },
     "execution_count": 9,
     "metadata": {},
     "output_type": "execute_result"
    }
   ],
   "source": [
    "#7 orm\r\n",
    "\r\n",
    "\"\"\"\r\n",
    "Напишите запрос для получения списка университетов с указанием\r\n",
    "суммарного количества аудиторных часов в каждом семестре.\r\n",
    "\"\"\"\r\n"
   ]
  },
  {
   "cell_type": "code",
   "execution_count": 10,
   "metadata": {},
   "outputs": [
    {
     "name": "stdout",
     "output_type": "stream",
     "text": [
      "[<class 'sqlalchemy.ext.automap.city'>, <class 'sqlalchemy.ext.automap.exam_marks'>, <class 'sqlalchemy.ext.automap.student'>, <class 'sqlalchemy.ext.automap.university'>, <class 'sqlalchemy.ext.automap.subject'>, <class 'sqlalchemy.ext.automap.lecturer'>, <class 'sqlalchemy.ext.automap.subj_lect'>]\n"
     ]
    }
   ],
   "source": [
    "from sqlalchemy.ext.automap import automap_base\r\n",
    "from sqlalchemy.orm import Session\r\n",
    "from sqlalchemy import create_engine\r\n",
    "from datetime import datetime\r\n",
    "\r\n",
    "engine = create_engine('sqlite:///Students_2021.sqlite')\r\n",
    "Base = automap_base()\r\n",
    "Base.prepare(engine, reflect=True)\r\n",
    "session = Session(engine)\r\n",
    "\r\n",
    "print(Base.classes.values())\r\n",
    "city, exam_marks, student, university, subject, lecturer, subj_lect = Base.classes.values()"
   ]
  },
  {
   "cell_type": "code",
   "execution_count": 12,
   "metadata": {},
   "outputs": [
    {
     "name": "stdout",
     "output_type": "stream",
     "text": [
      "Университет, Семестр, Часы\n",
      "('БГУ', 1, 42)\n",
      "('БГУ', 7, 360)\n",
      "('ВГМА', 1, 42)\n",
      "('ВГМА', 2, 56)\n",
      "('ВГУ', 4, 34)\n",
      "('МГТУ', 5, 70)\n",
      "('МГУ', 4, 34)\n",
      "('МТУСИ', 7, 252)\n",
      "('НГУ', 1, 34)\n",
      "('Политех', 1, 56)\n",
      "('Политех', 2, 34)\n",
      "('Политех', 4, 72)\n",
      "('РГУ', 6, 72)\n"
     ]
    }
   ],
   "source": [
    "from sqlalchemy.sql.expression import func\r\n",
    "print('Университет, Семестр, Часы')\r\n",
    "\r\n",
    "query = session.query(university.univ_name, subject.semester, func.sum(subject.hour)).join(lecturer, university.univ_id == lecturer.univ_id).join(subj_lect, lecturer.lecturer_id == subj_lect.lecturer_id).join(subject, subj_lect.subj_id == subject.subj_id).group_by(subject.semester, university.univ_name).order_by(university.univ_name).all()\r\n",
    "for item in query:\r\n",
    "    print(item)"
   ]
  },
  {
   "cell_type": "code",
   "execution_count": null,
   "metadata": {},
   "outputs": [],
   "source": []
  }
 ],
 "metadata": {
  "kernelspec": {
   "display_name": "Python 3.8.3 32-bit",
   "name": "python383jvsc74a57bd0f36bb2415103839c44be3616e885f7d6aee90348d429d9698a9148e0dea357be"
  },
  "language_info": {
   "codemirror_mode": {
    "name": "ipython",
    "version": 3
   },
   "file_extension": ".py",
   "mimetype": "text/x-python",
   "name": "python",
   "nbconvert_exporter": "python",
   "pygments_lexer": "ipython3",
   "version": "3.8.3"
  },
  "orig_nbformat": 3
 },
 "nbformat": 4,
 "nbformat_minor": 4
}