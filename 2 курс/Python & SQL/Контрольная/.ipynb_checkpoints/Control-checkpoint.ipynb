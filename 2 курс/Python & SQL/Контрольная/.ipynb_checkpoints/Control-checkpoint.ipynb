{
 "cells": [
  {
   "cell_type": "markdown",
   "metadata": {},
   "source": [
    "# Задания\n",
    "\n",
    "Выполните задания, используя методы SQL Alchemy ORM"
   ]
  },
  {
   "cell_type": "markdown",
   "metadata": {},
   "source": [
    "1. Создайте отображение базы данных студентов *Students_2021.sqlite*"
   ]
  },
  {
   "cell_type": "code",
   "execution_count": 3,
   "metadata": {},
   "outputs": [
    {
     "name": "stdout",
     "output_type": "stream",
     "text": [
      "[<class 'sqlalchemy.ext.automap.city'>, <class 'sqlalchemy.ext.automap.exam_marks'>, <class 'sqlalchemy.ext.automap.student'>, <class 'sqlalchemy.ext.automap.university'>, <class 'sqlalchemy.ext.automap.subject'>, <class 'sqlalchemy.ext.automap.lecturer'>, <class 'sqlalchemy.ext.automap.subj_lect'>]\n"
     ]
    }
   ],
   "source": [
    "from sqlalchemy.ext.automap import automap_base\n",
    "from sqlalchemy.orm import Session\n",
    "from sqlalchemy import create_engine\n",
    "from datetime import datetime\n",
    "engine = create_engine('sqlite:///Students_2021.sqlite')\n",
    "Base = automap_base()\n",
    "Base.prepare(engine, reflect=True)\n",
    "session = Session(engine)\n",
    "print(Base.classes.values())\n",
    "city, exam_marks, student, university, subject, lecturer, subj_lect = Base.classes.values()"
   ]
  },
  {
   "cell_type": "markdown",
   "metadata": {},
   "source": [
    "2. Напишите запрос, позволяющий получить из таблицы *exam_marks* значения столбца *mark* (экзаменационная оценка) для всех студентов, исключив из списка повторение одинаковых строк."
   ]
  },
  {
   "cell_type": "code",
   "execution_count": 14,
   "metadata": {},
   "outputs": [
    {
     "name": "stdout",
     "output_type": "stream",
     "text": [
      "1\n",
      "4\n",
      "3\n",
      "5\n",
      "2\n",
      "None\n"
     ]
    }
   ],
   "source": [
    "for item in session.query(exam_marks.mark).distinct(exam_marks.mark).all():\n",
    "    print(item[0])"
   ]
  },
  {
   "cell_type": "markdown",
   "metadata": {},
   "source": [
    "3. Напишите запрос для получения списка студентов без определенного места жительства."
   ]
  },
  {
   "cell_type": "code",
   "execution_count": 30,
   "metadata": {},
   "outputs": [
    {
     "name": "stdout",
     "output_type": "stream",
     "text": [
      "Медведева Ирина\n",
      "Афанасьева Оксана\n"
     ]
    }
   ],
   "source": [
    "for item in session.query(student.surname, student.name).filter(student.city.is_(None)).all():\n",
    "    print(item[0], item[1])"
   ]
  },
  {
   "cell_type": "markdown",
   "metadata": {},
   "source": [
    "4. Напишите запрос для получения списка студентов, проживающих в Воронеже и не получающих стипендию."
   ]
  },
  {
   "cell_type": "code",
   "execution_count": 38,
   "metadata": {},
   "outputs": [
    {
     "name": "stdout",
     "output_type": "stream",
     "text": [
      "Павлов Андрей\n"
     ]
    }
   ],
   "source": [
    "for item in session.query(student.surname, student.name).filter_by(city=\"Воронеж\", stipend=0).all():\n",
    "    print(item[0], item[1])"
   ]
  },
  {
   "cell_type": "markdown",
   "metadata": {},
   "source": [
    "5. Напишите запрос для получения списка университетов, расположенных в Москве и имеющих рейтинг меньший, чем у НГУ. Значение рейтинга НГУ получите с помощью отдельного запроса или подзапроса."
   ]
  },
  {
   "cell_type": "code",
   "execution_count": 49,
   "metadata": {},
   "outputs": [
    {
     "name": "stdout",
     "output_type": "stream",
     "text": [
      "ФинУ\n",
      "МТУСИ\n"
     ]
    }
   ],
   "source": [
    "from sqlalchemy import and_\n",
    "\n",
    "for item in session.query(university.univ_name).filter(and_(university.city==\"Москва\", university.rating<\n",
    "                                                           session.query(university.rating).filter(university.univ_name==\"НГУ\").one()[0]\n",
    "                                                           )).all():\n",
    "    print(item[0])"
   ]
  },
  {
   "cell_type": "markdown",
   "metadata": {},
   "source": [
    "6. Напишите запрос, выполняющий вывод находящихся в таблице EXAM_MARKS номеров предметов обучения, экзамены по которым сдавались между 1 и 21 марта 2020 г."
   ]
  },
  {
   "cell_type": "code",
   "execution_count": 56,
   "metadata": {},
   "outputs": [
    {
     "name": "stdout",
     "output_type": "stream",
     "text": [
      "73\n",
      "12\n",
      "10\n"
     ]
    }
   ],
   "source": [
    "import datetime\n",
    "\n",
    "for item in session.query(exam_marks.subj_id).filter(exam_marks.exam_date.between(datetime.datetime.strptime('29-02-2020', \"%d-%m-%Y\").date(), datetime.datetime.strptime('22-03-2020', \"%d-%m-%Y\").date())).all():\n",
    "    print(item[0])"
   ]
  },
  {
   "cell_type": "markdown",
   "metadata": {},
   "source": [
    "7. Напишите запрос, который выполняет вывод названий предметов обучения, начинающихся на букву ‘И’."
   ]
  },
  {
   "cell_type": "code",
   "execution_count": 58,
   "metadata": {},
   "outputs": [
    {
     "name": "stdout",
     "output_type": "stream",
     "text": [
      "Информатика\n",
      "История\n"
     ]
    }
   ],
   "source": [
    "for item in session.query(subject.subj_name).filter(subject.subj_name.like('И%')).all():\n",
    "    print(item[0])"
   ]
  },
  {
   "cell_type": "markdown",
   "metadata": {},
   "source": [
    "8. Напишите запрос, выбирающий сведения о студентах, у которых имена начинаются на букву ‘И’ или ‘С’."
   ]
  },
  {
   "cell_type": "code",
   "execution_count": 64,
   "metadata": {},
   "outputs": [
    {
     "name": "stdout",
     "output_type": "stream",
     "text": [
      "Иванов Иван\n",
      "Дементьева Софья\n",
      "Соколова Ия\n",
      "Медведева Ирина\n",
      "Кондрат Синицин\n",
      "Мишина Светлана\n",
      "Сорокина Ирина\n",
      "Жданова Ирина\n",
      "Блохина Ираида\n",
      "Мельникова Светлана\n",
      "Никитин Самуил\n",
      "Назаров Икром\n",
      "Захаров Софон\n",
      "Колобов Иннокентий\n",
      "Юдин Савва\n",
      "Комаров Ипат\n",
      "Симонов Семен\n"
     ]
    }
   ],
   "source": [
    "from sqlalchemy import or_\n",
    "\n",
    "for item in session.query(student.surname, student.name).filter(or_(student.name.like('И%'), student.name.like('С%'))).all():\n",
    "    print(item[0], item[1])"
   ]
  },
  {
   "cell_type": "markdown",
   "metadata": {},
   "source": [
    "9. Напишите запрос для получения списка предметов обучения, названия которых состоят из более одного слова."
   ]
  },
  {
   "cell_type": "code",
   "execution_count": 62,
   "metadata": {},
   "outputs": [
    {
     "name": "stdout",
     "output_type": "stream",
     "text": [
      "Анализ данных\n"
     ]
    }
   ],
   "source": [
    "for item in session.query(subject.subj_name).filter(subject.subj_name.like('% %')).all():\n",
    "    print(item[0])"
   ]
  },
  {
   "cell_type": "markdown",
   "metadata": {},
   "source": [
    "10. Напишите запрос для получения списка студентов, фамилии которых состоят из трех букв."
   ]
  },
  {
   "cell_type": "code",
   "execution_count": 70,
   "metadata": {},
   "outputs": [
    {
     "name": "stdout",
     "output_type": "stream",
     "text": [
      "Шоу Бернар\n",
      "Доу Джон\n"
     ]
    }
   ],
   "source": [
    "from sqlalchemy.sql.expression import func\n",
    "\n",
    "for item in session.query(student.surname, student.name).filter(func.length(student.surname) == 3).all():\n",
    "    print(item[0], item[1])"
   ]
  },
  {
   "cell_type": "markdown",
   "metadata": {},
   "source": [
    "11. Составьте запрос для таблицы STUDENT таким образом, чтобы получить результат в следующем виде. Распечатайте первые 9 записей результата.\n",
    "```\n",
    "И. Иванов \t 1982-12-03\n",
    "П. Петров \t 1980-12-01\n",
    "В. Сидоров \t1979-06-07\n",
    "...\n",
    "```"
   ]
  },
  {
   "cell_type": "code",
   "execution_count": 135,
   "metadata": {},
   "outputs": [
    {
     "name": "stdout",
     "output_type": "stream",
     "text": [
      "И. Иванов\t1982-12-03\n",
      "П. Петров\t1980-12-01\n",
      "В. Сидоров\t1979-06-07\n",
      "Б. Кузнецов\t1981-12-08\n",
      "О. Зайцева\t1981-05-01\n",
      "П. Котов\t2021-02-28\n",
      "В. Белкин\t1980-01-07\n",
      "Е. Сергеева\t1997-07-04\n",
      "В. Кудряшова\t2002-02-18\n"
     ]
    }
   ],
   "source": [
    "from sqlalchemy import cast, String, Integer\n",
    "\n",
    "for item in session.query(func.substr(cast(student.name, String(20)), 0, 2)+\". \"+\n",
    "                          cast(student.surname, String(20))+\"\\t\"+\n",
    "                          func.substr(cast(student.birthday, String(20)), 0, 11)).limit(9).all():\n",
    "    print(item[0])"
   ]
  },
  {
   "cell_type": "markdown",
   "metadata": {},
   "source": [
    "12. Напишите запрос для получения списка студентов, фамилии которых начинаются на ‘Ков’ или на ‘Куз’."
   ]
  },
  {
   "cell_type": "code",
   "execution_count": 72,
   "metadata": {},
   "outputs": [
    {
     "name": "stdout",
     "output_type": "stream",
     "text": [
      "Кузнецов Борис\n",
      "Ковалев Ефим\n"
     ]
    }
   ],
   "source": [
    "for item in session.query(student.surname, student.name).filter(or_(student.surname.like('Ков%'), student.surname.like('Куз%'))).all():\n",
    "    print(item[0], item[1])"
   ]
  },
  {
   "cell_type": "markdown",
   "metadata": {},
   "source": [
    "13. Напишите запрос для получения списка предметов, названия которых оканчиваются на ‘ия’."
   ]
  },
  {
   "cell_type": "code",
   "execution_count": 73,
   "metadata": {},
   "outputs": [
    {
     "name": "stdout",
     "output_type": "stream",
     "text": [
      "История\n"
     ]
    }
   ],
   "source": [
    "for item in session.query(subject.subj_name).filter(subject.subj_name.like('%ия')).all():\n",
    "    print(item[0])"
   ]
  },
  {
   "cell_type": "markdown",
   "metadata": {},
   "source": [
    "14. Напишите запрос для выбора из таблицы EXAM_MARKS записей, для которых отсутствуют значения оценок (поле MARK)."
   ]
  },
  {
   "cell_type": "code",
   "execution_count": 77,
   "metadata": {},
   "outputs": [
    {
     "name": "stdout",
     "output_type": "stream",
     "text": [
      "(639, 55, 10, None, datetime.datetime(1999, 6, 22, 0, 0))\n"
     ]
    }
   ],
   "source": [
    "for item in session.query(exam_marks.exam_id, exam_marks.student_id, exam_marks.subj_id, exam_marks.mark, exam_marks.exam_date).filter(exam_marks.mark.is_(None)).all():\n",
    "    print(item)"
   ]
  },
  {
   "cell_type": "markdown",
   "metadata": {},
   "source": [
    "15. Составьте запрос, выводящий фамилии, имена студентов и величину получаемых ими стипендий, при этом значения стипендий должны быть увеличены в 100 раз."
   ]
  },
  {
   "cell_type": "code",
   "execution_count": 137,
   "metadata": {},
   "outputs": [
    {
     "name": "stdout",
     "output_type": "stream",
     "text": [
      "Иванов Иван 15000 \n",
      "Петров Петр 20000 \n",
      "Сидоров Вадим 15000 \n",
      "Кузнецов Борис 0 \n",
      "Зайцева Ольга 25000 \n",
      "Котов Павел 15000 \n",
      "Белкин Вадим 25000 \n",
      "Сергеева Елизавета 15000 \n",
      "Кудряшова Вера 10000 \n",
      "Журавлева Вера 0 \n",
      "Дементьева Софья 15000 \n",
      "Рожкова Пелагея 0 \n",
      "Соколова Ия 10000 \n",
      "Семенова Вероника 0 \n",
      "Медведева Ирина 10000 \n",
      "Афанасьева Оксана 25000 \n",
      "Сергеева Фёкла 10000 \n",
      "Некрасова Вероника 25000 \n",
      "Игнатьева Оксана 20000 \n",
      "Казакова Ольга 25000 \n",
      "Шубина Елена 0 \n",
      "Миронова Анна 20000 \n",
      "Кондрат Синицин 20000 \n",
      "Пономарева Алина 25000 \n",
      "Одинцова Лидия 10000 \n",
      "Гуляева Рукижат 0 \n",
      "Игнатова Зинаида 10000 \n",
      "Мельникова Дарья 10000 \n",
      "Мишина Светлана 15000 \n",
      "Агафонов Василий 15000 \n",
      "Афанасьева Анжелика 0 \n",
      "Фролова Василиса 10000 \n",
      "Лихачева Нина 15000 \n",
      "Лапина Элеонора 15000 \n",
      "Сорокина Ирина 20000 \n",
      "Шашкова Галина 15000 \n",
      "Казакова Мария 15000 \n",
      "Жукова Фекла 15000 \n",
      "Зимина Виктория 10000 \n",
      "Жданова Ирина 20000 \n",
      "Валерия Овчинникова 20000 \n",
      "Костина Кира 0 \n",
      "Блохина Ираида 25000 \n",
      "Мельникова Светлана 25000 \n",
      "Щербакова Агата 25000 \n",
      "Васильева Оксана 0 \n",
      "Сорокина Валерия 15000 \n",
      "Тимофеева Фаина 15000 \n",
      "Вишнякова Анжела 20000 \n",
      "Суравьева Фаина 15000 \n",
      "Борисова Марина 15000 \n",
      "Никитин Самуил 25000 \n",
      "Калашников Евгений 20000 \n",
      "Петров Касьян 20000 \n",
      "Трофимов Владислав 25000 \n",
      "Бирюков Герасим 0 \n",
      "Антонов Анатолий 10000 \n",
      "Медведев Владимир 20000 \n",
      "Морозов Кирилл 25000 \n",
      "Назаров Икром 15000 \n",
      "Дмитриев Павел 20000 \n",
      "Суханов Константин 25000 \n",
      "Карпов Лука 20000 \n",
      "Захаров Софон 15000 \n",
      "Аксенов Валерий 20000 \n",
      "Панов Арсений 25000 \n",
      "Колобов Иннокентий 20000 \n",
      "Федоров Гостомысл 10000 \n",
      "Лазарев Константин 10000 \n",
      "Кондратьев Николай 15000 \n",
      "Бирюков Архип 20000 \n",
      "Горский Радмил 10000 \n",
      "Воронова Антонина 0 \n",
      "Гордеев Филипп 20000 \n",
      "Веселов Тимур 15000 \n",
      "Юдин Савва 0 \n",
      "Пономарев Варфоромей 20000 \n",
      "Жуков Пров 0 \n",
      "Кудравцев Пахом 15000 \n",
      "Васильев Матвей 10000 \n",
      "Нестеров Арсений 15000 \n",
      "Кудряшов Роман 25000 \n",
      "Ковалев Ефим 20000 \n",
      "Мамонтов Максим 0 \n",
      "Жуковский Юрий 15000 \n",
      "Копылов Борис 0 \n",
      "Комаров Ипат 0 \n",
      "Ефимов Яков 20000 \n",
      "Кулаков Феофан 15000 \n",
      "Уваров Тынгиз 0 \n",
      "Журавлев Фома 20000 \n",
      "Ширяев Андрей 15000 \n",
      "Ершов Митрофан 25000 \n",
      "Бобылев Михаил 10000 \n",
      "Бирюков Мартин 10000 \n",
      "Ситников Викентий 15000 \n",
      "Агафонов Хасан 20000 \n",
      "Русаков Давид 25000 \n",
      "Симонов Семен 10000 \n",
      "Гуляев Кузьма 15000 \n",
      "Вячеслав Пахомов 25000 \n",
      "Баранов Александр 22000 \n",
      "Архипов Андрей 18000 \n",
      "Владимиров Анатолий 20000 \n",
      "Петрова Екатерина 25000 \n",
      "Петров Вадим 25000 \n",
      "Иванова Мария 20000 \n",
      "Киселев Владимир 21000 \n",
      "Миронова Федор 20000 \n",
      "Павлов Андрей 0 \n",
      "Петров Антон 20000 \n",
      "Лукин Артем 20000 \n",
      "Шоу Бернар 12000 \n",
      "Доу Джон 12000 \n"
     ]
    }
   ],
   "source": [
    "for item in session.query(student.surname, student.name, cast(student.stipend, Integer)*100).all():\n",
    "    for p in item:\n",
    "        print(p, end=\" \")\n",
    "    print()"
   ]
  },
  {
   "cell_type": "markdown",
   "metadata": {},
   "source": [
    "16. Составьте запрос для таблицы UNIVERSITY таким образом, чтобы выходная таблица содержала всего один столбец в следующем виде: Код-10; ВГУ-г.ВОРОНЕЖ; Рейтинг=296."
   ]
  },
  {
   "cell_type": "code",
   "execution_count": 122,
   "metadata": {},
   "outputs": [
    {
     "name": "stdout",
     "output_type": "stream",
     "text": [
      "Код-10; ВГУ-г.Воронеж; Рейтинг=296.\n",
      "Код-11; НГУ-г.Новосибирск; Рейтинг=345.\n",
      "Код-14; БГУ-г.Белгород; Рейтинг=326.\n",
      "Код-15; ТГУ-г.Томск; Рейтинг=368.\n",
      "Код-18; ВГМА-г.Воронеж; Рейтинг=327.\n",
      "Код-22; МГУ-г.Москва; Рейтинг=400.\n",
      "Код-32; РГУ-г.Ростов; Рейтинг=416.\n",
      "Код-44; ФинУ-г.Москва; Рейтинг=330.\n",
      "Код-45; МГТУ-г.Москва; Рейтинг=372.\n",
      "Код-46; Политех-г.Санкт-Петербург; Рейтинг=300.\n",
      "Код-47; КФУ-г.Казань; Рейтинг=330.\n",
      "Код-48; УЛГУ-г.Ульяновск; Рейтинг=231.\n",
      "Код-49; МТУСИ-г.Москва; Рейтинг=295.\n"
     ]
    }
   ],
   "source": [
    "for item in session.query(\"Код-\"+cast(university.univ_id, String(20))+\"; \"+\n",
    "                          cast(university.univ_name, String(20))+\"-г.\"+\n",
    "                          cast(university.city, String(20))+\"; Рейтинг=\"+\n",
    "                          cast(university.rating, String(20))+\".\").all():\n",
    "    print(item[0])"
   ]
  },
  {
   "cell_type": "markdown",
   "metadata": {},
   "source": [
    "17. Напишите запрос для подсчета количества студентов, сдававших экзамен по предмету обучения с идентификатором 10."
   ]
  },
  {
   "cell_type": "code",
   "execution_count": 97,
   "metadata": {},
   "outputs": [
    {
     "data": {
      "text/plain": [
       "10"
      ]
     },
     "execution_count": 97,
     "metadata": {},
     "output_type": "execute_result"
    }
   ],
   "source": [
    "session.query(func.count(exam_marks.student_id)).filter(exam_marks.subj_id==10).all()[0][0]"
   ]
  },
  {
   "cell_type": "markdown",
   "metadata": {},
   "source": [
    "18. Напишите запрос, который позволяет подсчитать в таблице EXAM_MARKS количество различных предметов обучения."
   ]
  },
  {
   "cell_type": "code",
   "execution_count": 111,
   "metadata": {},
   "outputs": [
    {
     "data": {
      "text/plain": [
       "9"
      ]
     },
     "execution_count": 111,
     "metadata": {},
     "output_type": "execute_result"
    }
   ],
   "source": [
    "session.query(exam_marks.subj_id).distinct().count()"
   ]
  },
  {
   "cell_type": "markdown",
   "metadata": {},
   "source": [
    "19. Напишите запрос, который для каждого студента выполняет выборку его идентификатора и минимальной из полученных им оценок."
   ]
  },
  {
   "cell_type": "code",
   "execution_count": 108,
   "metadata": {},
   "outputs": [
    {
     "name": "stdout",
     "output_type": "stream",
     "text": [
      "1 1\n",
      "6 4\n",
      "10 5\n",
      "12 5\n",
      "15 5\n",
      "32 4\n",
      "55 5\n",
      "62 4\n",
      "64 4\n",
      "65 1\n",
      "71 3\n",
      "73 1\n",
      "76 2\n",
      "77 1\n",
      "79 1\n",
      "82 5\n",
      "83 1\n",
      "85 1\n",
      "88 5\n",
      "90 4\n",
      "91 5\n",
      "92 5\n",
      "97 1\n",
      "99 5\n",
      "101 2\n",
      "103 2\n",
      "105 3\n",
      "110 1\n",
      "116 1\n",
      "117 4\n",
      "123 2\n",
      "126 1\n",
      "128 3\n",
      "149 2\n",
      "203 3\n"
     ]
    }
   ],
   "source": [
    "for item in session.query(exam_marks.student_id, func.min(exam_marks.mark)).group_by(exam_marks.student_id).all():\n",
    "    print(item[0], item[1])"
   ]
  },
  {
   "cell_type": "markdown",
   "metadata": {},
   "source": [
    "20. Напишите запрос, который для каждого предмета обучения выводит наименование предмета и максимальное значение номера семестра, в котором этот предмет преподается."
   ]
  },
  {
   "cell_type": "code",
   "execution_count": 112,
   "metadata": {},
   "outputs": [
    {
     "name": "stdout",
     "output_type": "stream",
     "text": [
      "Анализ данных 1\n",
      "Английский 3\n",
      "Информатика 1\n",
      "История 4\n",
      "Математика 2\n",
      "ОБЖ 2\n",
      "Программирование 2\n",
      "Физика 1\n",
      "Физкультура 5\n"
     ]
    }
   ],
   "source": [
    "for item in session.query(subject.subj_name, func.max(subject.semester)).group_by(subject.subj_name).all():\n",
    "    print(item[0], item[1])"
   ]
  },
  {
   "cell_type": "markdown",
   "metadata": {},
   "source": [
    "21. Напишите запрос, который для каждого конкретного дня сдачи экзамена выводит данные о количестве студентов, сдававших экзамен в этот день."
   ]
  },
  {
   "cell_type": "code",
   "execution_count": 113,
   "metadata": {},
   "outputs": [
    {
     "name": "stdout",
     "output_type": "stream",
     "text": [
      "1999-06-17 00:00:00 1\n",
      "1999-06-22 00:00:00 1\n",
      "2000-01-05 00:00:00 1\n",
      "2000-01-18 00:00:00 1\n",
      "2000-01-23 00:00:00 1\n",
      "2006-01-12 00:00:00 1\n",
      "2019-05-11 00:00:00 1\n",
      "2019-06-08 00:00:00 1\n",
      "2019-07-04 00:00:00 1\n",
      "2019-07-06 00:00:00 1\n",
      "2019-07-24 00:00:00 1\n",
      "2019-08-14 00:00:00 1\n",
      "2019-08-30 00:00:00 1\n",
      "2019-09-02 00:00:00 1\n",
      "2019-10-28 00:00:00 1\n",
      "2019-12-17 00:00:00 1\n",
      "2019-12-25 00:00:00 1\n",
      "2019-12-31 00:00:00 1\n",
      "2020-02-10 00:00:00 1\n",
      "2020-02-22 00:00:00 1\n",
      "2020-03-13 00:00:00 1\n",
      "2020-03-20 00:00:00 1\n",
      "2020-03-21 00:00:00 1\n",
      "2020-04-06 00:00:00 1\n",
      "2020-05-04 00:00:00 1\n",
      "2020-05-10 00:00:00 1\n",
      "2020-05-13 00:00:00 1\n",
      "2020-07-26 00:00:00 1\n",
      "2020-08-10 00:00:00 1\n",
      "2020-08-18 00:00:00 1\n",
      "2020-09-09 00:00:00 1\n",
      "2020-09-21 00:00:00 1\n",
      "2020-10-24 00:00:00 1\n",
      "2020-12-03 00:00:00 1\n",
      "2020-12-04 00:00:00 1\n",
      "2020-12-23 00:00:00 1\n",
      "2021-02-10 00:00:00 1\n",
      "2021-03-01 00:00:00 1\n",
      "2021-03-07 00:00:00 1\n",
      "2021-03-14 00:00:00 1\n",
      "2021-03-29 00:00:00 1\n"
     ]
    }
   ],
   "source": [
    "for item in session.query(exam_marks.exam_date, func.count(exam_marks.student_id)).group_by(exam_marks.exam_date).all():\n",
    "    print(item[0], item[1])"
   ]
  },
  {
   "cell_type": "markdown",
   "metadata": {},
   "source": [
    "22. Напишите запрос, выдающий средний балл для каждого студента."
   ]
  },
  {
   "cell_type": "code",
   "execution_count": 114,
   "metadata": {},
   "outputs": [
    {
     "name": "stdout",
     "output_type": "stream",
     "text": [
      "1 1.0\n",
      "6 4.0\n",
      "10 5.0\n",
      "12 5.0\n",
      "15 5.0\n",
      "32 4.0\n",
      "55 5.0\n",
      "62 4.0\n",
      "64 4.0\n",
      "65 1.0\n",
      "71 3.0\n",
      "73 1.0\n",
      "76 2.0\n",
      "77 1.0\n",
      "79 1.0\n",
      "82 5.0\n",
      "83 1.0\n",
      "85 2.5\n",
      "88 5.0\n",
      "90 4.0\n",
      "91 5.0\n",
      "92 5.0\n",
      "97 1.0\n",
      "99 5.0\n",
      "101 2.0\n",
      "103 2.0\n",
      "105 3.0\n",
      "110 1.0\n",
      "116 1.0\n",
      "117 4.0\n",
      "123 2.0\n",
      "126 1.0\n",
      "128 4.0\n",
      "149 2.0\n",
      "203 3.0\n"
     ]
    }
   ],
   "source": [
    "for item in session.query(exam_marks.student_id, func.avg(exam_marks.mark)).group_by(exam_marks.student_id).all():\n",
    "    print(item[0], item[1])"
   ]
  },
  {
   "cell_type": "markdown",
   "metadata": {},
   "source": [
    "23. Напишите запрос, выдающий средний балл для каждого экзамена."
   ]
  },
  {
   "cell_type": "code",
   "execution_count": 115,
   "metadata": {},
   "outputs": [
    {
     "name": "stdout",
     "output_type": "stream",
     "text": [
      "1 1.0\n",
      "2 4.0\n",
      "3 4.0\n",
      "4 1.0\n",
      "5 3.0\n",
      "6 4.0\n",
      "7 1.0\n",
      "8 1.0\n",
      "9 5.0\n",
      "10 1.0\n",
      "11 2.0\n",
      "12 5.0\n",
      "13 2.0\n",
      "14 1.0\n",
      "15 4.0\n",
      "16 5.0\n",
      "17 5.0\n",
      "18 2.0\n",
      "19 3.0\n",
      "20 3.0\n",
      "21 2.0\n",
      "22 3.0\n",
      "23 4.0\n",
      "24 2.0\n",
      "25 1.0\n",
      "26 1.0\n",
      "27 5.0\n",
      "28 5.0\n",
      "29 1.0\n",
      "30 5.0\n",
      "31 1.0\n",
      "32 1.0\n",
      "33 2.0\n",
      "34 4.0\n",
      "43 4.0\n",
      "75 5.0\n",
      "95 2.0\n",
      "100 5.0\n",
      "145 5.0\n",
      "238 5.0\n",
      "639 None\n"
     ]
    }
   ],
   "source": [
    "for item in session.query(exam_marks.exam_id, func.avg(exam_marks.mark)).group_by(exam_marks.exam_id).all():\n",
    "    print(item[0], item[1])"
   ]
  },
  {
   "cell_type": "markdown",
   "metadata": {},
   "source": [
    "24. Напишите запрос, определяющий количество сдавших студентов для каждого экзамена."
   ]
  },
  {
   "cell_type": "code",
   "execution_count": 138,
   "metadata": {},
   "outputs": [
    {
     "name": "stdout",
     "output_type": "stream",
     "text": [
      "1 1\n",
      "2 1\n",
      "3 1\n",
      "4 1\n",
      "5 1\n",
      "6 1\n",
      "7 1\n",
      "8 1\n",
      "9 1\n",
      "10 1\n",
      "11 1\n",
      "12 1\n",
      "13 1\n",
      "14 1\n",
      "15 1\n",
      "16 1\n",
      "17 1\n",
      "18 1\n",
      "19 1\n",
      "20 1\n",
      "21 1\n",
      "22 1\n",
      "23 1\n",
      "24 1\n",
      "25 1\n",
      "26 1\n",
      "27 1\n",
      "28 1\n",
      "29 1\n",
      "30 1\n",
      "31 1\n",
      "32 1\n",
      "33 1\n",
      "34 1\n",
      "43 1\n",
      "75 1\n",
      "95 1\n",
      "100 1\n",
      "145 1\n",
      "238 1\n",
      "639 1\n"
     ]
    }
   ],
   "source": [
    "for item in session.query(exam_marks.exam_id, func.count(exam_marks.student_id)).group_by(exam_marks.exam_id).all():\n",
    "    print(item[0], item[1])"
   ]
  },
  {
   "cell_type": "markdown",
   "metadata": {},
   "source": [
    "25. Напишите запрос для определения количества предметов, преподаваемых на каждом курсе."
   ]
  },
  {
   "cell_type": "code",
   "execution_count": 139,
   "metadata": {},
   "outputs": [
    {
     "name": "stdout",
     "output_type": "stream",
     "text": [
      "1 3\n",
      "2 3\n",
      "3 1\n",
      "4 1\n",
      "5 1\n"
     ]
    }
   ],
   "source": [
    "for item in session.query(cast(subject.semester, Integer)+1//2, func.count(subject.subj_id)).group_by(cast(subject.semester, Integer)+1//2).all():\n",
    "    print(item[0], item[1])"
   ]
  },
  {
   "cell_type": "markdown",
   "metadata": {},
   "source": [
    "26. Для каждого университета напишите запрос, выводящий суммарную стипендию."
   ]
  },
  {
   "cell_type": "code",
   "execution_count": 141,
   "metadata": {},
   "outputs": [
    {
     "name": "stdout",
     "output_type": "stream",
     "text": [
      "10 3250\n",
      "11 400\n",
      "14 1700\n",
      "15 650\n",
      "18 1000\n",
      "22 2180\n",
      "32 1050\n",
      "44 2220\n",
      "45 650\n",
      "46 1250\n",
      "47 1450\n",
      "48 1200\n"
     ]
    }
   ],
   "source": [
    "for item in session.query(student.univ_id, func.sum(student.stipend)).group_by(student.univ_id).all():\n",
    "    print(item[0], item[1])"
   ]
  },
  {
   "cell_type": "markdown",
   "metadata": {},
   "source": [
    "27. Для каждого семестра напишите запрос, выводящий общее количество часов, отводимое на изучение соответствующих предметов."
   ]
  },
  {
   "cell_type": "code",
   "execution_count": 142,
   "metadata": {},
   "outputs": [
    {
     "name": "stdout",
     "output_type": "stream",
     "text": [
      "1 132\n",
      "2 124\n",
      "3 56\n",
      "4 34\n",
      "5 34\n"
     ]
    }
   ],
   "source": [
    "for item in session.query(subject.semester, func.sum(subject.hour)).group_by(subject.semester).all():\n",
    "    print(item[0], item[1])"
   ]
  },
  {
   "cell_type": "code",
   "execution_count": null,
   "metadata": {},
   "outputs": [],
   "source": []
  }
 ],
 "metadata": {
  "kernelspec": {
   "display_name": "Python 3",
   "language": "python",
   "name": "python3"
  },
  "language_info": {
   "codemirror_mode": {
    "name": "ipython",
    "version": 3
   },
   "file_extension": ".py",
   "mimetype": "text/x-python",
   "name": "python",
   "nbconvert_exporter": "python",
   "pygments_lexer": "ipython3",
   "version": "3.8.5"
  }
 },
 "nbformat": 4,
 "nbformat_minor": 4
}
