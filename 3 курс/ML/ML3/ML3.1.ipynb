{
 "cells": [
  {
   "cell_type": "markdown",
   "id": "2db4e7a1",
   "metadata": {},
   "source": [
    "## Диагностика и кривые обучения"
   ]
  },
  {
   "cell_type": "code",
   "execution_count": 1,
   "id": "24c7687a",
   "metadata": {},
   "outputs": [],
   "source": [
    "import numpy as np\n",
    "import matplotlib.pyplot as plt\n",
    "from sklearn.datasets import load_breast_cancer\n",
    "from sklearn.model_selection import train_test_split\n",
    "from sklearn.svm import SVC"
   ]
  },
  {
   "cell_type": "markdown",
   "id": "a7157341",
   "metadata": {},
   "source": [
    "### 1.\tЗагрузите датасет breast_cancer."
   ]
  },
  {
   "cell_type": "code",
   "execution_count": 2,
   "id": "d0b2a6f3",
   "metadata": {},
   "outputs": [],
   "source": [
    "breast_cancer = load_breast_cancer()\n",
    "X = breast_cancer.data\n",
    "y = breast_cancer.target"
   ]
  },
  {
   "cell_type": "code",
   "execution_count": 3,
   "id": "2d61eaa5",
   "metadata": {},
   "outputs": [
    {
     "name": "stdout",
     "output_type": "stream",
     "text": [
      "(569, 30)\n",
      "(569,)\n"
     ]
    }
   ],
   "source": [
    "print(X.shape)\n",
    "print(y.shape)"
   ]
  },
  {
   "cell_type": "markdown",
   "id": "25a68724",
   "metadata": {},
   "source": [
    "### 2.\tВыберите два первых признака. Таким образом мы уменьшим размерность задачи. У нас была задача множественной классификации, а стала - бинарная."
   ]
  },
  {
   "cell_type": "code",
   "execution_count": 4,
   "id": "76a3bd21",
   "metadata": {},
   "outputs": [],
   "source": [
    "X_2d = X[:, :2]"
   ]
  },
  {
   "cell_type": "markdown",
   "id": "6adf57a0",
   "metadata": {},
   "source": [
    "### 3.\tРазделите датасет на обучающую и тестовую выборки в пропорции 80-20."
   ]
  },
  {
   "cell_type": "code",
   "execution_count": 5,
   "id": "de8abc24",
   "metadata": {},
   "outputs": [],
   "source": [
    "X_train, X_test, y_train, y_test = train_test_split(X_2d, y, test_size=0.2)"
   ]
  },
  {
   "cell_type": "markdown",
   "id": "7fea96a2",
   "metadata": {},
   "source": [
    "### 4.\tПостройте классификатор на опорных векторах с гауссовым ядром с параметром регуляризации C=0.01. Выведите на экран значение точности на тестовой и обучающей выборке. Сделайте предварительный вывод о степени обученности модели."
   ]
  },
  {
   "cell_type": "code",
   "execution_count": 6,
   "id": "8168b5e3",
   "metadata": {},
   "outputs": [
    {
     "data": {
      "text/plain": [
       "SVC(C=0.01)"
      ]
     },
     "execution_count": 6,
     "metadata": {},
     "output_type": "execute_result"
    }
   ],
   "source": [
    "C = 0.01\n",
    "m = SVC(C=C, kernel=\"rbf\")\n",
    "m.fit(X_train, y_train)"
   ]
  },
  {
   "cell_type": "code",
   "execution_count": 7,
   "id": "5d22cf4f",
   "metadata": {},
   "outputs": [
    {
     "name": "stdout",
     "output_type": "stream",
     "text": [
      "Train = 0.676923076923077\n",
      "Test = 0.6403508771929824\n"
     ]
    }
   ],
   "source": [
    "m1_test = m.score(X_test, y_test)\n",
    "m1_train = m.score(X_train, y_train)\n",
    "print(f\"Train = {m1_train}\")\n",
    "print(f\"Test = {m1_test}\")"
   ]
  },
  {
   "cell_type": "markdown",
   "id": "8fdd13b9",
   "metadata": {},
   "source": [
    "Точность на обучаемой выборке состваляет 70%, на тестовой 65%, возможно модель недообучается"
   ]
  },
  {
   "cell_type": "markdown",
   "id": "9865eda4",
   "metadata": {},
   "source": [
    "### 5. Постройте графически зависимость тестовой и обучающей точности от размера обучающей выборки. Прокомментируйте получившийся результат. Сделайте вывод о том, недообучается или переобучается модель? В зависимости от этого выберите варианты, которые могут привести к увеличению точности модели"
   ]
  },
  {
   "cell_type": "code",
   "execution_count": 8,
   "id": "239df6f4",
   "metadata": {},
   "outputs": [
    {
     "data": {
      "text/plain": [
       "<matplotlib.legend.Legend at 0x11dfb2dc0>"
      ]
     },
     "execution_count": 8,
     "metadata": {},
     "output_type": "execute_result"
    },
    {
     "data": {
      "image/png": "[encoded data removed]",
      "text/plain": [
       "<Figure size 432x288 with 1 Axes>"
      ]
     },
     "metadata": {
      "needs_background": "light"
     },
     "output_type": "display_data"
    }
   ],
   "source": [
    "test_scores = []\n",
    "train_scores = []\n",
    "\n",
    "koeff = 100\n",
    "data = np.linspace(len(X_train)//koeff+10, len(X_train), koeff)\n",
    "\n",
    "for i in data:\n",
    "    \n",
    "    clf = SVC(C=0.01, kernel='rbf')\n",
    "    x_ = X_train[:int(i)]\n",
    "    y_ = y_train[:int(i)]\n",
    "\n",
    "    clf.fit(x_, y_)\n",
    "\n",
    "    test_scores.append(clf.score(X_test, y_test))\n",
    "    train_scores.append(clf.score(x_, y_))\n",
    "\n",
    "ax = plt.axes()\n",
    "ax.plot(data, test_scores, label=\"test\")\n",
    "ax.plot(data, train_scores, label=\"train\")\n",
    "ax.set_xlabel('size')\n",
    "ax.set_ylabel('score')\n",
    "ax.legend()"
   ]
  },
  {
   "cell_type": "markdown",
   "id": "1f2aeeb6",
   "metadata": {},
   "source": [
    "Метрики train_score и test_score с ростом объема выборки к концу графика увеличиваются, значит мы не достигли переобучения. Пока мы не доситгли переобучения, то можно ее еще дообучить.\n",
    "\n",
    "Из предложенных вариантов самыми очевидным являются следующие\n",
    "1. увеличить регуляризацию модели (аргумент С)\n",
    "2. попробовать другие, более сложные модели\n",
    "\n",
    "Также можно в теории увеличить выборку каким-либо способом, но на данном этапе это не представляется возможным\n"
   ]
  },
  {
   "cell_type": "markdown",
   "id": "595f40f7",
   "metadata": {},
   "source": [
    "###  6.\tПроверьте выдвинутую гипотезу и попробуйте улучшить модель в соответствии с выбранными рекомендациями. Проверьте, увеличивается ли тестовая точность. Сделайте вывод."
   ]
  },
  {
   "cell_type": "markdown",
   "id": "1a8f16cc",
   "metadata": {},
   "source": [
    "##### Использование метода опорных векторов через LinearSVC"
   ]
  },
  {
   "cell_type": "code",
   "execution_count": 9,
   "id": "5965acee",
   "metadata": {},
   "outputs": [
    {
     "name": "stdout",
     "output_type": "stream",
     "text": [
      "Train = 0.8857142857142857\n",
      "Test = 0.8947368421052632\n",
      "\n",
      "Train = +20.879120879120872\n",
      "Test = +25.438596491228072\n"
     ]
    }
   ],
   "source": [
    "import sklearn.svm as svm\n",
    "\n",
    "svect = svm.LinearSVC(max_iter=50000).fit(X_train, y_train)\n",
    "m3_test = svect.score(X_test, y_test)\n",
    "m3_train = svect.score(X_train, y_train)\n",
    "print(f\"Train = {m3_train}\")\n",
    "print(f\"Test = {m3_test}\")\n",
    "\n",
    "print(f\"\\nTrain = +{(m3_train - m1_train) * 100}\")\n",
    "print(f\"Test = +{(m3_test - m1_test) * 100}\")"
   ]
  },
  {
   "cell_type": "markdown",
   "id": "c3648633",
   "metadata": {},
   "source": [
    "Использование альтернативных моделей может дать хороший прирост в точности предсказания модели. Метод опорных векторов дает прирост на 18%"
   ]
  },
  {
   "cell_type": "markdown",
   "id": "721ee3f3",
   "metadata": {},
   "source": [
    "##### Увеличение регуляризации"
   ]
  },
  {
   "cell_type": "code",
   "execution_count": 10,
   "id": "25799089",
   "metadata": {},
   "outputs": [
    {
     "name": "stdout",
     "output_type": "stream",
     "text": [
      "Train = 0.9010989010989011\n",
      "Test = 0.9210526315789473\n",
      "\n",
      "Train = +22.417582417582416\n",
      "Test = +28.07017543859649\n"
     ]
    }
   ],
   "source": [
    "m = SVC(kernel='rbf', C=50)\n",
    "\n",
    "m.fit(X_train, y_train)\n",
    "m2_train = m.score(X_train, y_train)\n",
    "m2_test = m.score(X_test, y_test)\n",
    "\n",
    "print(f\"Train = {m2_train}\")\n",
    "print(f\"Test = {m2_test}\")\n",
    "\n",
    "print(f\"\\nTrain = +{(m2_train - m1_train) * 100}\")\n",
    "print(f\"Test = +{(m2_test - m1_test) * 100}\")"
   ]
  },
  {
   "cell_type": "markdown",
   "id": "08d0ccf4",
   "metadata": {},
   "source": [
    "Как мы видим, увеличение регуляции положительно влияет на точность предстказания модели. При C=50 точность предсказания увеличивается на 21%"
   ]
  },
  {
   "cell_type": "markdown",
   "id": "046c8e68",
   "metadata": {},
   "source": [
    "### 7.\tПовторите предыдущий пункт для различных значений C в диапазоне от 0,0001 до 1 000 000. Обратите внимание на шкалу по вертикальной оси. Для каких значений тестовая точность оптимальна? Какие значения дают недообучение? Какие - переобучение?"
   ]
  },
  {
   "cell_type": "code",
   "execution_count": 11,
   "id": "d99626a4",
   "metadata": {},
   "outputs": [],
   "source": [
    "def plot_reg(linspace, kernel_name=\"rbf\"):\n",
    "    test_scores = []\n",
    "    train_scores = []\n",
    "\n",
    "    for i in linspace:\n",
    "        clf = SVC(C=i, kernel=kernel_name)\n",
    "\n",
    "        clf.fit(X_train, y_train)\n",
    "\n",
    "        test_scores.append(clf.score(X_test, y_test))\n",
    "        train_scores.append(clf.score(X_train, y_train))\n",
    "\n",
    "    ax = plt.axes()\n",
    "    ax.plot(linspace, test_scores, label=\"test\", color=\"magenta\")\n",
    "    ax.plot(linspace, train_scores, label=\"train\", color=\"red\")\n",
    "    ax.set_xlabel('С')\n",
    "    ax.set_ylabel('score')\n",
    "    ax.set_ylim([0.75, 1])\n",
    "    ax.legend()\n",
    "    return max(test_scores), max(train_scores)"
   ]
  },
  {
   "cell_type": "code",
   "execution_count": 12,
   "id": "69de0e99",
   "metadata": {},
   "outputs": [
    {
     "data": {
      "text/plain": [
       "0.9385964912280702"
      ]
     },
     "execution_count": 12,
     "metadata": {},
     "output_type": "execute_result"
    },
    {
     "data": {
      "image/png": "[encoded data removed]",
      "text/plain": [
       "<Figure size 432x288 with 1 Axes>"
      ]
     },
     "metadata": {
      "needs_background": "light"
     },
     "output_type": "display_data"
    }
   ],
   "source": [
    "plot_reg(np.linspace(1, 100000, 50))[0]"
   ]
  },
  {
   "cell_type": "markdown",
   "id": "b52366d7",
   "metadata": {},
   "source": [
    "### 8.\tПостройте график зависимости тестовой и обучающей точности от значения регуляризационного параметра. Сделайте вывод о зависимости степени регуляризации на точность модели."
   ]
  },
  {
   "cell_type": "code",
   "execution_count": 13,
   "id": "8040a441",
   "metadata": {},
   "outputs": [
    {
     "data": {
      "text/plain": [
       "0.9298245614035088"
      ]
     },
     "execution_count": 13,
     "metadata": {},
     "output_type": "execute_result"
    },
    {
     "data": {
      "image/png": "[encoded data removed]",
      "text/plain": [
       "<Figure size 432x288 with 1 Axes>"
      ]
     },
     "metadata": {
      "needs_background": "light"
     },
     "output_type": "display_data"
    }
   ],
   "source": [
    "plot_reg(np.linspace(0.0001, 1, 500))[0]"
   ]
  },
  {
   "cell_type": "markdown",
   "id": "e73f440b",
   "metadata": {},
   "source": [
    "Здесь модель себя ведет как по теории: с малым значением C модель недообучется, с большим - переобучается. Такой вывод модно сделать из графика: c увеличением аргумента точность модели на обучающих данных увеличивается, а на тестовых - уменьшается."
   ]
  },
  {
   "cell_type": "markdown",
   "id": "e08a7d1d",
   "metadata": {},
   "source": [
    "### 9.\tНайдите методом подбора оптимальное значение параметра регуляризации (примерное)."
   ]
  },
  {
   "cell_type": "code",
   "execution_count": 14,
   "id": "1782ee3e",
   "metadata": {},
   "outputs": [
    {
     "name": "stdout",
     "output_type": "stream",
     "text": [
      "Train = 0.9032967032967033\n",
      "Test = 0.9298245614035088\n"
     ]
    }
   ],
   "source": [
    "m3 = SVC(kernel='rbf', C=6)\n",
    "m3.fit(X_train, y_train)\n",
    "\n",
    "print(f\"Train = {m3.score(X_train, y_train)}\")\n",
    "print(f\"Test = { m3.score(X_test, y_test)}\")"
   ]
  },
  {
   "cell_type": "markdown",
   "id": "15a9cf34",
   "metadata": {},
   "source": [
    "При C = 6 получаем 90% на тестовой выборке и 92% на тренировочной"
   ]
  },
  {
   "cell_type": "markdown",
   "id": "175c361e",
   "metadata": {},
   "source": [
    "### 10.\tПовторите два предыдущих пункта для метода опорных векторов с линейным ядром. Сравните получившиеся результаты. Сделайте вывод о сравнительной эффективности двух этих моделей."
   ]
  },
  {
   "cell_type": "code",
   "execution_count": 15,
   "id": "be7573c1",
   "metadata": {},
   "outputs": [
    {
     "data": {
      "text/plain": [
       "0.9210526315789473"
      ]
     },
     "execution_count": 15,
     "metadata": {},
     "output_type": "execute_result"
    },
    {
     "data": {
      "image/png": "[encoded data removed]",
      "text/plain": [
       "<Figure size 432x288 with 1 Axes>"
      ]
     },
     "metadata": {
      "needs_background": "light"
     },
     "output_type": "display_data"
    }
   ],
   "source": [
    "plot_reg(np.linspace(1, 100000, 50), \"linear\")[0]"
   ]
  },
  {
   "cell_type": "markdown",
   "id": "75296bf9",
   "metadata": {},
   "source": [
    "Найти методом подбора оптимальное значение параметра регуляризации"
   ]
  },
  {
   "cell_type": "code",
   "execution_count": 16,
   "id": "28e459df",
   "metadata": {},
   "outputs": [
    {
     "name": "stdout",
     "output_type": "stream",
     "text": [
      "test accuracy: 0.9035087719298246\n",
      "train accuracy: 0.8791208791208791\n"
     ]
    }
   ],
   "source": [
    "clf = SVC(kernel='linear', C=8)\n",
    "clf.fit(X_train, y_train)\n",
    "print(f'test accuracy: {clf.score(X_test, y_test)}')\n",
    "print(f'train accuracy: {clf.score(X_train, y_train)}')"
   ]
  },
  {
   "cell_type": "code",
   "execution_count": 17,
   "id": "08245d10",
   "metadata": {},
   "outputs": [
    {
     "name": "stdout",
     "output_type": "stream",
     "text": [
      "Train m3 = 0.9032967032967033\n",
      "Test m3 = 0.9385964912280702\n",
      "Train m4 = 0.8835164835164835\n",
      "Test m4 = 0.9035087719298246\n"
     ]
    }
   ],
   "source": [
    "koeff = 600\n",
    "m3 = SVC(kernel='rbf', C=koeff)\n",
    "m4 = SVC(kernel='linear', C=koeff)\n",
    "m3.fit(X_train, y_train)\n",
    "m4.fit(X_train, y_train)\n",
    "\n",
    "print(f\"Train m3 = {m3.score(X_train, y_train)}\")\n",
    "print(f\"Test m3 = { m3.score(X_test, y_test)}\")\n",
    "print(f\"Train m4 = {m4.score(X_train, y_train)}\")\n",
    "print(f\"Test m4 = { m4.score(X_test, y_test)}\")"
   ]
  },
  {
   "cell_type": "markdown",
   "id": "c4aa94e6",
   "metadata": {},
   "source": [
    "### Вывод\n",
    "Модели похожи, но модель с ядром rbf на очень больших значениях коэффициента C показывает результаты лучше (ячейка выше)"
   ]
  }
 ],
 "metadata": {
  "kernelspec": {
   "display_name": "Python 3 (ipykernel)",
   "language": "python",
   "name": "python3"
  },
  "language_info": {
   "codemirror_mode": {
    "name": "ipython",
    "version": 3
   },
   "file_extension": ".py",
   "mimetype": "text/x-python",
   "name": "python",
   "nbconvert_exporter": "python",
   "pygments_lexer": "ipython3",
   "version": "3.9.10"
  }
 },
 "nbformat": 4,
 "nbformat_minor": 5
}
