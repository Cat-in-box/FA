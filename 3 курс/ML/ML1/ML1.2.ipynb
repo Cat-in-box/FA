{
 "cells": [
  {
   "cell_type": "markdown",
   "metadata": {},
   "source": [
    "# Регрессия на чистых данных"
   ]
  },
  {
   "cell_type": "markdown",
   "metadata": {},
   "source": [
    "Построить предиктивную модель предсказания целевой переменной в зависимости от значения нескольких факторов"
   ]
  },
  {
   "cell_type": "code",
   "execution_count": 1,
   "metadata": {},
   "outputs": [],
   "source": [
    "import random\n",
    "import pandas as pd\n",
    "import numpy as np\n",
    "import matplotlib.pyplot as plt\n",
    "from sklearn.linear_model import LinearRegression\n",
    "from sklearn.model_selection import train_test_split\n",
    "import statsmodels.formula.api as sm"
   ]
  },
  {
   "cell_type": "markdown",
   "metadata": {},
   "source": [
    "### 2. Загрузите датасет"
   ]
  },
  {
   "cell_type": "code",
   "execution_count": 2,
   "metadata": {},
   "outputs": [],
   "source": [
    "# Читаем данные с .csv с помощью pandas\n",
    "names_list_x =['x1','x2','x3','x4','x5','x6','x7']\n",
    "names_list_y = [\"Y\"]\n",
    "\n",
    "x = pd.read_csv('input/8_x.csv',names=names_list_x)\n",
    "y = pd.read_csv('input/8_y.csv', names = names_list_y)"
   ]
  },
  {
   "cell_type": "code",
   "execution_count": 3,
   "metadata": {},
   "outputs": [
    {
     "data": {
      "text/html": [
       "<div>\n",
       "<style scoped>\n",
       "    .dataframe tbody tr th:only-of-type {\n",
       "        vertical-align: middle;\n",
       "    }\n",
       "\n",
       "    .dataframe tbody tr th {\n",
       "        vertical-align: top;\n",
       "    }\n",
       "\n",
       "    .dataframe thead th {\n",
       "        text-align: right;\n",
       "    }\n",
       "</style>\n",
       "<table border=\"1\" class=\"dataframe\">\n",
       "  <thead>\n",
       "    <tr style=\"text-align: right;\">\n",
       "      <th></th>\n",
       "      <th>x1</th>\n",
       "      <th>x2</th>\n",
       "      <th>x3</th>\n",
       "      <th>x4</th>\n",
       "      <th>x5</th>\n",
       "      <th>x6</th>\n",
       "      <th>x7</th>\n",
       "    </tr>\n",
       "  </thead>\n",
       "  <tbody>\n",
       "    <tr>\n",
       "      <th>0</th>\n",
       "      <td>1.514584</td>\n",
       "      <td>-0.621563</td>\n",
       "      <td>-1.277379</td>\n",
       "      <td>-1.236340</td>\n",
       "      <td>0.449646</td>\n",
       "      <td>-0.713396</td>\n",
       "      <td>-0.008099</td>\n",
       "    </tr>\n",
       "    <tr>\n",
       "      <th>1</th>\n",
       "      <td>0.120996</td>\n",
       "      <td>0.969454</td>\n",
       "      <td>0.572916</td>\n",
       "      <td>-0.449216</td>\n",
       "      <td>-1.231906</td>\n",
       "      <td>-0.154540</td>\n",
       "      <td>-0.217604</td>\n",
       "    </tr>\n",
       "    <tr>\n",
       "      <th>2</th>\n",
       "      <td>0.091450</td>\n",
       "      <td>-1.781662</td>\n",
       "      <td>0.971287</td>\n",
       "      <td>-0.342499</td>\n",
       "      <td>0.358784</td>\n",
       "      <td>-0.474612</td>\n",
       "      <td>-0.629888</td>\n",
       "    </tr>\n",
       "    <tr>\n",
       "      <th>3</th>\n",
       "      <td>-1.128455</td>\n",
       "      <td>-1.036818</td>\n",
       "      <td>0.594698</td>\n",
       "      <td>-0.613796</td>\n",
       "      <td>2.937939</td>\n",
       "      <td>1.617190</td>\n",
       "      <td>0.236998</td>\n",
       "    </tr>\n",
       "    <tr>\n",
       "      <th>4</th>\n",
       "      <td>0.868826</td>\n",
       "      <td>-0.913182</td>\n",
       "      <td>0.366585</td>\n",
       "      <td>-0.254660</td>\n",
       "      <td>-0.185404</td>\n",
       "      <td>-0.863618</td>\n",
       "      <td>0.214062</td>\n",
       "    </tr>\n",
       "  </tbody>\n",
       "</table>\n",
       "</div>"
      ],
      "text/plain": [
       "         x1        x2        x3        x4        x5        x6        x7\n",
       "0  1.514584 -0.621563 -1.277379 -1.236340  0.449646 -0.713396 -0.008099\n",
       "1  0.120996  0.969454  0.572916 -0.449216 -1.231906 -0.154540 -0.217604\n",
       "2  0.091450 -1.781662  0.971287 -0.342499  0.358784 -0.474612 -0.629888\n",
       "3 -1.128455 -1.036818  0.594698 -0.613796  2.937939  1.617190  0.236998\n",
       "4  0.868826 -0.913182  0.366585 -0.254660 -0.185404 -0.863618  0.214062"
      ]
     },
     "execution_count": 3,
     "metadata": {},
     "output_type": "execute_result"
    }
   ],
   "source": [
    "x.head()"
   ]
  },
  {
   "cell_type": "code",
   "execution_count": 4,
   "metadata": {},
   "outputs": [
    {
     "data": {
      "text/html": [
       "<div>\n",
       "<style scoped>\n",
       "    .dataframe tbody tr th:only-of-type {\n",
       "        vertical-align: middle;\n",
       "    }\n",
       "\n",
       "    .dataframe tbody tr th {\n",
       "        vertical-align: top;\n",
       "    }\n",
       "\n",
       "    .dataframe thead th {\n",
       "        text-align: right;\n",
       "    }\n",
       "</style>\n",
       "<table border=\"1\" class=\"dataframe\">\n",
       "  <thead>\n",
       "    <tr style=\"text-align: right;\">\n",
       "      <th></th>\n",
       "      <th>Y</th>\n",
       "    </tr>\n",
       "  </thead>\n",
       "  <tbody>\n",
       "    <tr>\n",
       "      <th>0</th>\n",
       "      <td>-88.370484</td>\n",
       "    </tr>\n",
       "    <tr>\n",
       "      <th>1</th>\n",
       "      <td>-33.342405</td>\n",
       "    </tr>\n",
       "    <tr>\n",
       "      <th>2</th>\n",
       "      <td>-132.859442</td>\n",
       "    </tr>\n",
       "    <tr>\n",
       "      <th>3</th>\n",
       "      <td>156.519597</td>\n",
       "    </tr>\n",
       "    <tr>\n",
       "      <th>4</th>\n",
       "      <td>-71.378443</td>\n",
       "    </tr>\n",
       "  </tbody>\n",
       "</table>\n",
       "</div>"
      ],
      "text/plain": [
       "            Y\n",
       "0  -88.370484\n",
       "1  -33.342405\n",
       "2 -132.859442\n",
       "3  156.519597\n",
       "4  -71.378443"
      ]
     },
     "execution_count": 4,
     "metadata": {},
     "output_type": "execute_result"
    }
   ],
   "source": [
    "y.head()"
   ]
  },
  {
   "cell_type": "markdown",
   "metadata": {},
   "source": [
    "###  3. Сделайте количественное описание датасета: количество точек данных, признаков, статистику по каждому признаку.\n",
    "\n",
    "\n"
   ]
  },
  {
   "cell_type": "code",
   "execution_count": 5,
   "metadata": {},
   "outputs": [
    {
     "name": "stdout",
     "output_type": "stream",
     "text": [
      "(83, 7)\n"
     ]
    },
    {
     "data": {
      "text/html": [
       "<div>\n",
       "<style scoped>\n",
       "    .dataframe tbody tr th:only-of-type {\n",
       "        vertical-align: middle;\n",
       "    }\n",
       "\n",
       "    .dataframe tbody tr th {\n",
       "        vertical-align: top;\n",
       "    }\n",
       "\n",
       "    .dataframe thead th {\n",
       "        text-align: right;\n",
       "    }\n",
       "</style>\n",
       "<table border=\"1\" class=\"dataframe\">\n",
       "  <thead>\n",
       "    <tr style=\"text-align: right;\">\n",
       "      <th></th>\n",
       "      <th>x1</th>\n",
       "      <th>x2</th>\n",
       "      <th>x3</th>\n",
       "      <th>x4</th>\n",
       "      <th>x5</th>\n",
       "      <th>x6</th>\n",
       "      <th>x7</th>\n",
       "    </tr>\n",
       "  </thead>\n",
       "  <tbody>\n",
       "    <tr>\n",
       "      <th>count</th>\n",
       "      <td>83.000000</td>\n",
       "      <td>83.000000</td>\n",
       "      <td>83.000000</td>\n",
       "      <td>83.000000</td>\n",
       "      <td>83.000000</td>\n",
       "      <td>83.000000</td>\n",
       "      <td>83.000000</td>\n",
       "    </tr>\n",
       "    <tr>\n",
       "      <th>mean</th>\n",
       "      <td>0.083742</td>\n",
       "      <td>-0.038892</td>\n",
       "      <td>-0.077287</td>\n",
       "      <td>0.202356</td>\n",
       "      <td>0.111821</td>\n",
       "      <td>-0.106154</td>\n",
       "      <td>-0.044355</td>\n",
       "    </tr>\n",
       "    <tr>\n",
       "      <th>std</th>\n",
       "      <td>1.181994</td>\n",
       "      <td>0.941986</td>\n",
       "      <td>0.891228</td>\n",
       "      <td>1.226907</td>\n",
       "      <td>1.019480</td>\n",
       "      <td>1.007005</td>\n",
       "      <td>0.929658</td>\n",
       "    </tr>\n",
       "    <tr>\n",
       "      <th>min</th>\n",
       "      <td>-3.545896</td>\n",
       "      <td>-1.889278</td>\n",
       "      <td>-2.538651</td>\n",
       "      <td>-2.502444</td>\n",
       "      <td>-2.621536</td>\n",
       "      <td>-2.452811</td>\n",
       "      <td>-2.007143</td>\n",
       "    </tr>\n",
       "    <tr>\n",
       "      <th>25%</th>\n",
       "      <td>-0.589996</td>\n",
       "      <td>-0.687546</td>\n",
       "      <td>-0.486259</td>\n",
       "      <td>-0.611158</td>\n",
       "      <td>-0.590063</td>\n",
       "      <td>-0.760261</td>\n",
       "      <td>-0.748415</td>\n",
       "    </tr>\n",
       "    <tr>\n",
       "      <th>50%</th>\n",
       "      <td>0.120996</td>\n",
       "      <td>-0.099994</td>\n",
       "      <td>0.020013</td>\n",
       "      <td>0.133044</td>\n",
       "      <td>0.150418</td>\n",
       "      <td>-0.154540</td>\n",
       "      <td>-0.009249</td>\n",
       "    </tr>\n",
       "    <tr>\n",
       "      <th>75%</th>\n",
       "      <td>0.831314</td>\n",
       "      <td>0.692257</td>\n",
       "      <td>0.559829</td>\n",
       "      <td>1.199444</td>\n",
       "      <td>0.715865</td>\n",
       "      <td>0.658789</td>\n",
       "      <td>0.680093</td>\n",
       "    </tr>\n",
       "    <tr>\n",
       "      <th>max</th>\n",
       "      <td>2.470810</td>\n",
       "      <td>2.157520</td>\n",
       "      <td>1.884430</td>\n",
       "      <td>2.594291</td>\n",
       "      <td>2.937939</td>\n",
       "      <td>1.626076</td>\n",
       "      <td>1.909412</td>\n",
       "    </tr>\n",
       "  </tbody>\n",
       "</table>\n",
       "</div>"
      ],
      "text/plain": [
       "              x1         x2         x3         x4         x5         x6  \\\n",
       "count  83.000000  83.000000  83.000000  83.000000  83.000000  83.000000   \n",
       "mean    0.083742  -0.038892  -0.077287   0.202356   0.111821  -0.106154   \n",
       "std     1.181994   0.941986   0.891228   1.226907   1.019480   1.007005   \n",
       "min    -3.545896  -1.889278  -2.538651  -2.502444  -2.621536  -2.452811   \n",
       "25%    -0.589996  -0.687546  -0.486259  -0.611158  -0.590063  -0.760261   \n",
       "50%     0.120996  -0.099994   0.020013   0.133044   0.150418  -0.154540   \n",
       "75%     0.831314   0.692257   0.559829   1.199444   0.715865   0.658789   \n",
       "max     2.470810   2.157520   1.884430   2.594291   2.937939   1.626076   \n",
       "\n",
       "              x7  \n",
       "count  83.000000  \n",
       "mean   -0.044355  \n",
       "std     0.929658  \n",
       "min    -2.007143  \n",
       "25%    -0.748415  \n",
       "50%    -0.009249  \n",
       "75%     0.680093  \n",
       "max     1.909412  "
      ]
     },
     "execution_count": 5,
     "metadata": {},
     "output_type": "execute_result"
    }
   ],
   "source": [
    "print(x.shape)\n",
    "x.describe()"
   ]
  },
  {
   "cell_type": "code",
   "execution_count": 6,
   "metadata": {},
   "outputs": [
    {
     "name": "stdout",
     "output_type": "stream",
     "text": [
      "(83, 1)\n"
     ]
    },
    {
     "data": {
      "text/html": [
       "<div>\n",
       "<style scoped>\n",
       "    .dataframe tbody tr th:only-of-type {\n",
       "        vertical-align: middle;\n",
       "    }\n",
       "\n",
       "    .dataframe tbody tr th {\n",
       "        vertical-align: top;\n",
       "    }\n",
       "\n",
       "    .dataframe thead th {\n",
       "        text-align: right;\n",
       "    }\n",
       "</style>\n",
       "<table border=\"1\" class=\"dataframe\">\n",
       "  <thead>\n",
       "    <tr style=\"text-align: right;\">\n",
       "      <th></th>\n",
       "      <th>Y</th>\n",
       "    </tr>\n",
       "  </thead>\n",
       "  <tbody>\n",
       "    <tr>\n",
       "      <th>count</th>\n",
       "      <td>83.000000</td>\n",
       "    </tr>\n",
       "    <tr>\n",
       "      <th>mean</th>\n",
       "      <td>-9.601932</td>\n",
       "    </tr>\n",
       "    <tr>\n",
       "      <th>std</th>\n",
       "      <td>120.800458</td>\n",
       "    </tr>\n",
       "    <tr>\n",
       "      <th>min</th>\n",
       "      <td>-336.124426</td>\n",
       "    </tr>\n",
       "    <tr>\n",
       "      <th>25%</th>\n",
       "      <td>-87.287939</td>\n",
       "    </tr>\n",
       "    <tr>\n",
       "      <th>50%</th>\n",
       "      <td>-2.394386</td>\n",
       "    </tr>\n",
       "    <tr>\n",
       "      <th>75%</th>\n",
       "      <td>67.341250</td>\n",
       "    </tr>\n",
       "    <tr>\n",
       "      <th>max</th>\n",
       "      <td>221.017606</td>\n",
       "    </tr>\n",
       "  </tbody>\n",
       "</table>\n",
       "</div>"
      ],
      "text/plain": [
       "                Y\n",
       "count   83.000000\n",
       "mean    -9.601932\n",
       "std    120.800458\n",
       "min   -336.124426\n",
       "25%    -87.287939\n",
       "50%     -2.394386\n",
       "75%     67.341250\n",
       "max    221.017606"
      ]
     },
     "execution_count": 6,
     "metadata": {},
     "output_type": "execute_result"
    }
   ],
   "source": [
    "print(y.shape)\n",
    "y.describe()"
   ]
  },
  {
   "cell_type": "markdown",
   "metadata": {},
   "source": [
    "###  4. Разделите все наблюдения на обучающую и тестовую выборки в соотношении 80-20.\n"
   ]
  },
  {
   "cell_type": "code",
   "execution_count": 7,
   "metadata": {},
   "outputs": [],
   "source": [
    "x_train, x_test, y_train, y_test = train_test_split(x, y, test_size=0.2)"
   ]
  },
  {
   "cell_type": "markdown",
   "metadata": {},
   "source": [
    "### 5. Для целевой и каждого из признаков постройте парную регрессионную модель. Визуализируйте линию регрессии и исходные данные на графике. При помощи коэффициентов оцените силу связи."
   ]
  },
  {
   "cell_type": "markdown",
   "metadata": {},
   "source": [
    "Т.к. у нас 7 факторов, то чтобы код не повторялся, пишем универсальный метод"
   ]
  },
  {
   "cell_type": "code",
   "execution_count": 8,
   "metadata": {},
   "outputs": [],
   "source": [
    "def calc(arg):\n",
    "    \n",
    "    values = x_test[[arg]].values\n",
    "    #Создаем линейную регрессию\n",
    "    reg = LinearRegression()\n",
    "\n",
    "    y = reg.fit(x_train[[arg]].values, y_train.values)\n",
    "    #Делаем прогноз по значениям\n",
    "    y_model = y.predict(values)\n",
    "    \n",
    "    #Построение графика\n",
    "    plt.plot(values, y_model, color='red')\n",
    "    plt.scatter(values, y_test.values, color='black')\n",
    "\n",
    "    #Возвращаем критерий R^2\n",
    "    return y.score(values,  y_test.values)"
   ]
  },
  {
   "cell_type": "markdown",
   "metadata": {},
   "source": [
    "##### Критерий x1"
   ]
  },
  {
   "cell_type": "code",
   "execution_count": 9,
   "metadata": {},
   "outputs": [
    {
     "name": "stdout",
     "output_type": "stream",
     "text": [
      "R2 = -0.2582621830577909\n"
     ]
    },
    {
     "data": {
      "image/png": "[encoded data removed]",
      "text/plain": [
       "<Figure size 432x288 with 1 Axes>"
      ]
     },
     "metadata": {
      "needs_background": "light"
     },
     "output_type": "display_data"
    }
   ],
   "source": [
    "print(f\"R2 = {calc('x1')}\")"
   ]
  },
  {
   "cell_type": "markdown",
   "metadata": {},
   "source": [
    "Связь очень слабая"
   ]
  },
  {
   "cell_type": "markdown",
   "metadata": {},
   "source": [
    "##### Критерий x2"
   ]
  },
  {
   "cell_type": "code",
   "execution_count": 10,
   "metadata": {},
   "outputs": [
    {
     "name": "stdout",
     "output_type": "stream",
     "text": [
      "R2 = -0.2232804435259741\n"
     ]
    },
    {
     "data": {
      "image/png": "[encoded data removed]",
      "text/plain": [
       "<Figure size 432x288 with 1 Axes>"
      ]
     },
     "metadata": {
      "needs_background": "light"
     },
     "output_type": "display_data"
    }
   ],
   "source": [
    "print(f\"R2 = {calc('x2')}\")"
   ]
  },
  {
   "cell_type": "markdown",
   "metadata": {},
   "source": [
    "Связь очень слабая"
   ]
  },
  {
   "cell_type": "markdown",
   "metadata": {},
   "source": [
    "##### Критерий x3"
   ]
  },
  {
   "cell_type": "code",
   "execution_count": 11,
   "metadata": {},
   "outputs": [
    {
     "name": "stdout",
     "output_type": "stream",
     "text": [
      "R2 = -0.25364078580190386\n"
     ]
    },
    {
     "data": {
      "image/png": "[encoded data removed]",
      "text/plain": [
       "<Figure size 432x288 with 1 Axes>"
      ]
     },
     "metadata": {
      "needs_background": "light"
     },
     "output_type": "display_data"
    }
   ],
   "source": [
    "print(f\"R2 = {calc('x3')}\")"
   ]
  },
  {
   "cell_type": "markdown",
   "metadata": {},
   "source": [
    "Связь очень слабая"
   ]
  },
  {
   "cell_type": "markdown",
   "metadata": {},
   "source": [
    "##### Критерий x4"
   ]
  },
  {
   "cell_type": "code",
   "execution_count": 12,
   "metadata": {},
   "outputs": [
    {
     "name": "stdout",
     "output_type": "stream",
     "text": [
      "R2 = -0.4502474654576698\n"
     ]
    },
    {
     "data": {
      "image/png": "[encoded data removed]",
      "text/plain": [
       "<Figure size 432x288 with 1 Axes>"
      ]
     },
     "metadata": {
      "needs_background": "light"
     },
     "output_type": "display_data"
    }
   ],
   "source": [
    "print(f\"R2 = {calc('x4')}\")"
   ]
  },
  {
   "cell_type": "markdown",
   "metadata": {},
   "source": [
    "Связь очень слабая"
   ]
  },
  {
   "cell_type": "markdown",
   "metadata": {},
   "source": [
    "##### Критерий x5"
   ]
  },
  {
   "cell_type": "code",
   "execution_count": 13,
   "metadata": {},
   "outputs": [
    {
     "name": "stdout",
     "output_type": "stream",
     "text": [
      "R2 = -0.25972129669831867\n"
     ]
    },
    {
     "data": {
      "image/png": "[encoded data removed]",
      "text/plain": [
       "<Figure size 432x288 with 1 Axes>"
      ]
     },
     "metadata": {
      "needs_background": "light"
     },
     "output_type": "display_data"
    }
   ],
   "source": [
    "print(f\"R2 = {calc('x5')}\")"
   ]
  },
  {
   "cell_type": "markdown",
   "metadata": {},
   "source": [
    "Связи практически нет"
   ]
  },
  {
   "cell_type": "markdown",
   "metadata": {},
   "source": [
    "##### Критерий x6"
   ]
  },
  {
   "cell_type": "code",
   "execution_count": 14,
   "metadata": {},
   "outputs": [
    {
     "name": "stdout",
     "output_type": "stream",
     "text": [
      "R2 = -0.016659396639436386\n"
     ]
    },
    {
     "data": {
      "image/png": "[encoded data removed]",
      "text/plain": [
       "<Figure size 432x288 with 1 Axes>"
      ]
     },
     "metadata": {
      "needs_background": "light"
     },
     "output_type": "display_data"
    }
   ],
   "source": [
    "print(f\"R2 = {calc('x6')}\")"
   ]
  },
  {
   "cell_type": "markdown",
   "metadata": {},
   "source": [
    "Связь средняя"
   ]
  },
  {
   "cell_type": "markdown",
   "metadata": {},
   "source": [
    "##### Критерий x7"
   ]
  },
  {
   "cell_type": "code",
   "execution_count": 15,
   "metadata": {},
   "outputs": [
    {
     "name": "stdout",
     "output_type": "stream",
     "text": [
      "R2 = 0.5104830991038554\n"
     ]
    },
    {
     "data": {
      "image/png": "[encoded data removed]",
      "text/plain": [
       "<Figure size 432x288 with 1 Axes>"
      ]
     },
     "metadata": {
      "needs_background": "light"
     },
     "output_type": "display_data"
    }
   ],
   "source": [
    "print(f\"R2 = {calc('x7')}\")"
   ]
  },
  {
   "cell_type": "markdown",
   "metadata": {},
   "source": [
    "Связь средняя"
   ]
  },
  {
   "cell_type": "markdown",
   "metadata": {},
   "source": [
    "В ходе наблюдения есть критерии с повышенной связанностью - x6, x7"
   ]
  },
  {
   "cell_type": "markdown",
   "metadata": {},
   "source": [
    "###  6. Постройте модель множественной линейной регрессии целевой переменной от всех показателей. Оцените качество регрессии, сделайте вывод."
   ]
  },
  {
   "cell_type": "code",
   "execution_count": 16,
   "metadata": {},
   "outputs": [
    {
     "data": {
      "text/html": [
       "<table class=\"simpletable\">\n",
       "<caption>OLS Regression Results</caption>\n",
       "<tr>\n",
       "  <th>Dep. Variable:</th>            <td>y</td>        <th>  R-squared:         </th> <td>   0.995</td>\n",
       "</tr>\n",
       "<tr>\n",
       "  <th>Model:</th>                   <td>OLS</td>       <th>  Adj. R-squared:    </th> <td>   0.994</td>\n",
       "</tr>\n",
       "<tr>\n",
       "  <th>Method:</th>             <td>Least Squares</td>  <th>  F-statistic:       </th> <td>   1524.</td>\n",
       "</tr>\n",
       "<tr>\n",
       "  <th>Date:</th>             <td>Fri, 08 Apr 2022</td> <th>  Prob (F-statistic):</th> <td>2.83e-63</td>\n",
       "</tr>\n",
       "<tr>\n",
       "  <th>Time:</th>                 <td>19:28:45</td>     <th>  Log-Likelihood:    </th> <td> -239.29</td>\n",
       "</tr>\n",
       "<tr>\n",
       "  <th>No. Observations:</th>      <td>    66</td>      <th>  AIC:               </th> <td>   494.6</td>\n",
       "</tr>\n",
       "<tr>\n",
       "  <th>Df Residuals:</th>          <td>    58</td>      <th>  BIC:               </th> <td>   512.1</td>\n",
       "</tr>\n",
       "<tr>\n",
       "  <th>Df Model:</th>              <td>     7</td>      <th>                     </th>     <td> </td>   \n",
       "</tr>\n",
       "<tr>\n",
       "  <th>Covariance Type:</th>      <td>nonrobust</td>    <th>                     </th>     <td> </td>   \n",
       "</tr>\n",
       "</table>\n",
       "<table class=\"simpletable\">\n",
       "<tr>\n",
       "      <td></td>         <th>coef</th>     <th>std err</th>      <th>t</th>      <th>P>|t|</th>  <th>[0.025</th>    <th>0.975]</th>  \n",
       "</tr>\n",
       "<tr>\n",
       "  <th>Intercept</th> <td>    0.2621</td> <td>    1.284</td> <td>    0.204</td> <td> 0.839</td> <td>   -2.309</td> <td>    2.833</td>\n",
       "</tr>\n",
       "<tr>\n",
       "  <th>x1</th>        <td>   -0.5815</td> <td>    1.048</td> <td>   -0.555</td> <td> 0.581</td> <td>   -2.680</td> <td>    1.517</td>\n",
       "</tr>\n",
       "<tr>\n",
       "  <th>x2</th>        <td>   16.7111</td> <td>    1.361</td> <td>   12.280</td> <td> 0.000</td> <td>   13.987</td> <td>   19.435</td>\n",
       "</tr>\n",
       "<tr>\n",
       "  <th>x3</th>        <td>    1.5961</td> <td>    1.449</td> <td>    1.101</td> <td> 0.275</td> <td>   -1.305</td> <td>    4.497</td>\n",
       "</tr>\n",
       "<tr>\n",
       "  <th>x4</th>        <td>   14.3166</td> <td>    1.070</td> <td>   13.381</td> <td> 0.000</td> <td>   12.175</td> <td>   16.458</td>\n",
       "</tr>\n",
       "<tr>\n",
       "  <th>x5</th>        <td>    6.2625</td> <td>    1.152</td> <td>    5.438</td> <td> 0.000</td> <td>    3.957</td> <td>    8.568</td>\n",
       "</tr>\n",
       "<tr>\n",
       "  <th>x6</th>        <td>   83.0595</td> <td>    1.169</td> <td>   71.027</td> <td> 0.000</td> <td>   80.719</td> <td>   85.400</td>\n",
       "</tr>\n",
       "<tr>\n",
       "  <th>x7</th>        <td>   96.3050</td> <td>    1.345</td> <td>   71.614</td> <td> 0.000</td> <td>   93.613</td> <td>   98.997</td>\n",
       "</tr>\n",
       "</table>\n",
       "<table class=\"simpletable\">\n",
       "<tr>\n",
       "  <th>Omnibus:</th>       <td> 2.080</td> <th>  Durbin-Watson:     </th> <td>   2.382</td>\n",
       "</tr>\n",
       "<tr>\n",
       "  <th>Prob(Omnibus):</th> <td> 0.353</td> <th>  Jarque-Bera (JB):  </th> <td>   1.866</td>\n",
       "</tr>\n",
       "<tr>\n",
       "  <th>Skew:</th>          <td> 0.300</td> <th>  Prob(JB):          </th> <td>   0.393</td>\n",
       "</tr>\n",
       "<tr>\n",
       "  <th>Kurtosis:</th>      <td> 2.436</td> <th>  Cond. No.          </th> <td>    1.74</td>\n",
       "</tr>\n",
       "</table><br/><br/>Notes:<br/>[1] Standard Errors assume that the covariance matrix of the errors is correctly specified."
      ],
      "text/plain": [
       "<class 'statsmodels.iolib.summary.Summary'>\n",
       "\"\"\"\n",
       "                            OLS Regression Results                            \n",
       "==============================================================================\n",
       "Dep. Variable:                      y   R-squared:                       0.995\n",
       "Model:                            OLS   Adj. R-squared:                  0.994\n",
       "Method:                 Least Squares   F-statistic:                     1524.\n",
       "Date:                Fri, 08 Apr 2022   Prob (F-statistic):           2.83e-63\n",
       "Time:                        19:28:45   Log-Likelihood:                -239.29\n",
       "No. Observations:                  66   AIC:                             494.6\n",
       "Df Residuals:                      58   BIC:                             512.1\n",
       "Df Model:                           7                                         \n",
       "Covariance Type:            nonrobust                                         \n",
       "==============================================================================\n",
       "                 coef    std err          t      P>|t|      [0.025      0.975]\n",
       "------------------------------------------------------------------------------\n",
       "Intercept      0.2621      1.284      0.204      0.839      -2.309       2.833\n",
       "x1            -0.5815      1.048     -0.555      0.581      -2.680       1.517\n",
       "x2            16.7111      1.361     12.280      0.000      13.987      19.435\n",
       "x3             1.5961      1.449      1.101      0.275      -1.305       4.497\n",
       "x4            14.3166      1.070     13.381      0.000      12.175      16.458\n",
       "x5             6.2625      1.152      5.438      0.000       3.957       8.568\n",
       "x6            83.0595      1.169     71.027      0.000      80.719      85.400\n",
       "x7            96.3050      1.345     71.614      0.000      93.613      98.997\n",
       "==============================================================================\n",
       "Omnibus:                        2.080   Durbin-Watson:                   2.382\n",
       "Prob(Omnibus):                  0.353   Jarque-Bera (JB):                1.866\n",
       "Skew:                           0.300   Prob(JB):                        0.393\n",
       "Kurtosis:                       2.436   Cond. No.                         1.74\n",
       "==============================================================================\n",
       "\n",
       "Notes:\n",
       "[1] Standard Errors assume that the covariance matrix of the errors is correctly specified.\n",
       "\"\"\""
      ]
     },
     "execution_count": 16,
     "metadata": {},
     "output_type": "execute_result"
    }
   ],
   "source": [
    "current_formula = \"y~x1+x2+x3+x4+x5+x6+x7\"\n",
    "data = pd.DataFrame(np.array(x_train[names_list_x]), columns=names_list_x)\n",
    "\n",
    "data['y'] = np.array(y_train)\n",
    "columns = data.columns.tolist()\n",
    "columns = columns[-1:] + columns[:-1]\n",
    "data = data[columns]\n",
    "\n",
    "m = sm.ols(formula=current_formula, data=data)\n",
    "fitted = m.fit()\n",
    "fitted.summary()"
   ]
  },
  {
   "cell_type": "markdown",
   "metadata": {},
   "source": [
    "### Итоги"
   ]
  },
  {
   "cell_type": "markdown",
   "metadata": {},
   "source": [
    "##### Влияние коэффициентов\n",
    "\n",
    "При построении многофакторной модели R2 = 0.99, что сигнализирует об очень сильной связанности. Больше всего этому способствуют фаторы x6 и x7. Также за это выступают коэффициенты однофакторных моделей, построенным по этим критериям x6 и x7 (0.56 и 0.38 соответственно)"
   ]
  },
  {
   "cell_type": "markdown",
   "metadata": {},
   "source": [
    "##### Значимость регрессии\n",
    "\n",
    "F-статистика = 1.69e-61 = 0 значима\n",
    "Автокорреляция = 2.131 => aвтокорреляция отсутствует (1.5 < 2.131 < 2.5)"
   ]
  },
  {
   "cell_type": "markdown",
   "metadata": {},
   "source": [
    "##### Итог\n",
    "Модель можно использовать"
   ]
  }
 ],
 "metadata": {
  "kernelspec": {
   "display_name": "Python 3 (ipykernel)",
   "language": "python",
   "name": "python3"
  },
  "language_info": {
   "codemirror_mode": {
    "name": "ipython",
    "version": 3
   },
   "file_extension": ".py",
   "mimetype": "text/x-python",
   "name": "python",
   "nbconvert_exporter": "python",
   "pygments_lexer": "ipython3",
   "version": "3.9.10"
  }
 },
 "nbformat": 4,
 "nbformat_minor": 4
}
