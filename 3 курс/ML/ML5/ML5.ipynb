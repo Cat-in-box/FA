{
 "cells": [
  {
   "cell_type": "markdown",
   "metadata": {},
   "source": [
    "# Кластеризация"
   ]
  },
  {
   "cell_type": "code",
   "execution_count": 2,
   "metadata": {},
   "outputs": [],
   "source": [
    "import numpy as np\n",
    "import pandas as pd\n",
    "import seaborn as sns\n",
    "import matplotlib.pyplot as plt\n",
    "from sklearn.metrics import silhouette_score, calinski_harabasz_score\n",
    "import matplotlib.cm as cm\n",
    "from sklearn.cluster import KMeans\n",
    "\n",
    "%matplotlib inline"
   ]
  },
  {
   "cell_type": "markdown",
   "metadata": {},
   "source": [
    "### 1. Загрузите датасет mall_customers."
   ]
  },
  {
   "cell_type": "code",
   "execution_count": 3,
   "metadata": {},
   "outputs": [
    {
     "data": {
      "text/html": [
       "<div>\n",
       "<style scoped>\n",
       "    .dataframe tbody tr th:only-of-type {\n",
       "        vertical-align: middle;\n",
       "    }\n",
       "\n",
       "    .dataframe tbody tr th {\n",
       "        vertical-align: top;\n",
       "    }\n",
       "\n",
       "    .dataframe thead th {\n",
       "        text-align: right;\n",
       "    }\n",
       "</style>\n",
       "<table border=\"1\" class=\"dataframe\">\n",
       "  <thead>\n",
       "    <tr style=\"text-align: right;\">\n",
       "      <th></th>\n",
       "      <th>CustomerID</th>\n",
       "      <th>Genre</th>\n",
       "      <th>Age</th>\n",
       "      <th>Annual Income (k$)</th>\n",
       "      <th>Spending Score (1-100)</th>\n",
       "    </tr>\n",
       "  </thead>\n",
       "  <tbody>\n",
       "    <tr>\n",
       "      <th>0</th>\n",
       "      <td>1</td>\n",
       "      <td>Male</td>\n",
       "      <td>19</td>\n",
       "      <td>15</td>\n",
       "      <td>39</td>\n",
       "    </tr>\n",
       "    <tr>\n",
       "      <th>1</th>\n",
       "      <td>2</td>\n",
       "      <td>Male</td>\n",
       "      <td>21</td>\n",
       "      <td>15</td>\n",
       "      <td>81</td>\n",
       "    </tr>\n",
       "    <tr>\n",
       "      <th>2</th>\n",
       "      <td>3</td>\n",
       "      <td>Female</td>\n",
       "      <td>20</td>\n",
       "      <td>16</td>\n",
       "      <td>6</td>\n",
       "    </tr>\n",
       "    <tr>\n",
       "      <th>3</th>\n",
       "      <td>4</td>\n",
       "      <td>Female</td>\n",
       "      <td>23</td>\n",
       "      <td>16</td>\n",
       "      <td>77</td>\n",
       "    </tr>\n",
       "    <tr>\n",
       "      <th>4</th>\n",
       "      <td>5</td>\n",
       "      <td>Female</td>\n",
       "      <td>31</td>\n",
       "      <td>17</td>\n",
       "      <td>40</td>\n",
       "    </tr>\n",
       "    <tr>\n",
       "      <th>...</th>\n",
       "      <td>...</td>\n",
       "      <td>...</td>\n",
       "      <td>...</td>\n",
       "      <td>...</td>\n",
       "      <td>...</td>\n",
       "    </tr>\n",
       "    <tr>\n",
       "      <th>195</th>\n",
       "      <td>196</td>\n",
       "      <td>Female</td>\n",
       "      <td>35</td>\n",
       "      <td>120</td>\n",
       "      <td>79</td>\n",
       "    </tr>\n",
       "    <tr>\n",
       "      <th>196</th>\n",
       "      <td>197</td>\n",
       "      <td>Female</td>\n",
       "      <td>45</td>\n",
       "      <td>126</td>\n",
       "      <td>28</td>\n",
       "    </tr>\n",
       "    <tr>\n",
       "      <th>197</th>\n",
       "      <td>198</td>\n",
       "      <td>Male</td>\n",
       "      <td>32</td>\n",
       "      <td>126</td>\n",
       "      <td>74</td>\n",
       "    </tr>\n",
       "    <tr>\n",
       "      <th>198</th>\n",
       "      <td>199</td>\n",
       "      <td>Male</td>\n",
       "      <td>32</td>\n",
       "      <td>137</td>\n",
       "      <td>18</td>\n",
       "    </tr>\n",
       "    <tr>\n",
       "      <th>199</th>\n",
       "      <td>200</td>\n",
       "      <td>Male</td>\n",
       "      <td>30</td>\n",
       "      <td>137</td>\n",
       "      <td>83</td>\n",
       "    </tr>\n",
       "  </tbody>\n",
       "</table>\n",
       "<p>200 rows × 5 columns</p>\n",
       "</div>"
      ],
      "text/plain": [
       "     CustomerID   Genre  Age  Annual Income (k$)  Spending Score (1-100)\n",
       "0             1    Male   19                  15                      39\n",
       "1             2    Male   21                  15                      81\n",
       "2             3  Female   20                  16                       6\n",
       "3             4  Female   23                  16                      77\n",
       "4             5  Female   31                  17                      40\n",
       "..          ...     ...  ...                 ...                     ...\n",
       "195         196  Female   35                 120                      79\n",
       "196         197  Female   45                 126                      28\n",
       "197         198    Male   32                 126                      74\n",
       "198         199    Male   32                 137                      18\n",
       "199         200    Male   30                 137                      83\n",
       "\n",
       "[200 rows x 5 columns]"
      ]
     },
     "execution_count": 3,
     "metadata": {},
     "output_type": "execute_result"
    }
   ],
   "source": [
    "df = pd.read_csv(\"./Mall_Customers.csv\")\n",
    "df"
   ]
  },
  {
   "cell_type": "markdown",
   "metadata": {},
   "source": [
    "### 2. Проверьте датасет на наличие пустых значений. Если есть пустые значения, то заменить их на наиболее подходящие."
   ]
  },
  {
   "cell_type": "code",
   "execution_count": 4,
   "metadata": {},
   "outputs": [
    {
     "data": {
      "text/plain": [
       "CustomerID                0\n",
       "Genre                     0\n",
       "Age                       0\n",
       "Annual Income (k$)        0\n",
       "Spending Score (1-100)    0\n",
       "dtype: int64"
      ]
     },
     "execution_count": 4,
     "metadata": {},
     "output_type": "execute_result"
    }
   ],
   "source": [
    "df.isna().sum()"
   ]
  },
  {
   "cell_type": "markdown",
   "metadata": {},
   "source": [
    "Пустые значения отсутствуют"
   ]
  },
  {
   "cell_type": "markdown",
   "metadata": {},
   "source": [
    "### 3. Постройте графическую интерпретацию значений датасета. В качестве x-координаты используйте Annual Income, в качестве y-координаты Spending Score."
   ]
  },
  {
   "cell_type": "code",
   "execution_count": 5,
   "metadata": {},
   "outputs": [
    {
     "data": {
      "image/png": "[encoded data removed]",
      "text/plain": [
       "<Figure size 432x288 with 1 Axes>"
      ]
     },
     "metadata": {
      "needs_background": "light"
     },
     "output_type": "display_data"
    }
   ],
   "source": [
    "f, ax = plt.subplots()\n",
    "sns.scatterplot(y=\"Spending Score (1-100)\", x=\"Annual Income (k$)\", hue=\"Genre\", data=df, ax=ax)\n",
    "plt.show()"
   ]
  },
  {
   "cell_type": "markdown",
   "metadata": {},
   "source": [
    "По графику видно, что сумма трат не зависит от пола. Кроме того, данные хорошо делятся на 5 классов"
   ]
  },
  {
   "cell_type": "markdown",
   "metadata": {},
   "source": [
    "### 4. Определите наилучшее число кластеров с помощью графической зависимости числа кластеров от суммы квадратов расстояний значений датасета до центра кластера."
   ]
  },
  {
   "cell_type": "code",
   "execution_count": 6,
   "id": "5270697c",
   "metadata": {},
   "outputs": [
    {
     "data": {
      "text/html": [
       "<div>\n",
       "<style scoped>\n",
       "    .dataframe tbody tr th:only-of-type {\n",
       "        vertical-align: middle;\n",
       "    }\n",
       "\n",
       "    .dataframe tbody tr th {\n",
       "        vertical-align: top;\n",
       "    }\n",
       "\n",
       "    .dataframe thead th {\n",
       "        text-align: right;\n",
       "    }\n",
       "</style>\n",
       "<table border=\"1\" class=\"dataframe\">\n",
       "  <thead>\n",
       "    <tr style=\"text-align: right;\">\n",
       "      <th></th>\n",
       "      <th>Annual Income (k$)</th>\n",
       "      <th>Spending Score (1-100)</th>\n",
       "    </tr>\n",
       "  </thead>\n",
       "  <tbody>\n",
       "    <tr>\n",
       "      <th>0</th>\n",
       "      <td>15</td>\n",
       "      <td>39</td>\n",
       "    </tr>\n",
       "    <tr>\n",
       "      <th>1</th>\n",
       "      <td>15</td>\n",
       "      <td>81</td>\n",
       "    </tr>\n",
       "    <tr>\n",
       "      <th>2</th>\n",
       "      <td>16</td>\n",
       "      <td>6</td>\n",
       "    </tr>\n",
       "    <tr>\n",
       "      <th>3</th>\n",
       "      <td>16</td>\n",
       "      <td>77</td>\n",
       "    </tr>\n",
       "    <tr>\n",
       "      <th>4</th>\n",
       "      <td>17</td>\n",
       "      <td>40</td>\n",
       "    </tr>\n",
       "    <tr>\n",
       "      <th>...</th>\n",
       "      <td>...</td>\n",
       "      <td>...</td>\n",
       "    </tr>\n",
       "    <tr>\n",
       "      <th>195</th>\n",
       "      <td>120</td>\n",
       "      <td>79</td>\n",
       "    </tr>\n",
       "    <tr>\n",
       "      <th>196</th>\n",
       "      <td>126</td>\n",
       "      <td>28</td>\n",
       "    </tr>\n",
       "    <tr>\n",
       "      <th>197</th>\n",
       "      <td>126</td>\n",
       "      <td>74</td>\n",
       "    </tr>\n",
       "    <tr>\n",
       "      <th>198</th>\n",
       "      <td>137</td>\n",
       "      <td>18</td>\n",
       "    </tr>\n",
       "    <tr>\n",
       "      <th>199</th>\n",
       "      <td>137</td>\n",
       "      <td>83</td>\n",
       "    </tr>\n",
       "  </tbody>\n",
       "</table>\n",
       "<p>200 rows × 2 columns</p>\n",
       "</div>"
      ],
      "text/plain": [
       "     Annual Income (k$)  Spending Score (1-100)\n",
       "0                    15                      39\n",
       "1                    15                      81\n",
       "2                    16                       6\n",
       "3                    16                      77\n",
       "4                    17                      40\n",
       "..                  ...                     ...\n",
       "195                 120                      79\n",
       "196                 126                      28\n",
       "197                 126                      74\n",
       "198                 137                      18\n",
       "199                 137                      83\n",
       "\n",
       "[200 rows x 2 columns]"
      ]
     },
     "execution_count": 6,
     "metadata": {},
     "output_type": "execute_result"
    }
   ],
   "source": [
    "# Создадим датафрейм с Annual Income и Spending Score\n",
    "\n",
    "annual_income_df = df.iloc[:,[3,4]]\n",
    "annual_income_df"
   ]
  },
  {
   "cell_type": "code",
   "execution_count": null,
   "id": "edfdb187",
   "metadata": {},
   "outputs": [],
   "source": [
    "values_list = []\n",
    "for i in range(1,11):\n",
    "    kmeans = KMeans(n_clusters = i, init='k-means++', random_state = 0)\n",
    "    kmeans.fit(age_df) \n",
    "    values_list.append(kmeans.inertia_)"
   ]
  },
  {
   "cell_type": "code",
   "execution_count": null,
   "id": "733f8436",
   "metadata": {},
   "outputs": [
    {
     "data": {
      "image/png": "[encoded data removed]",
      "text/plain": [
       "<Figure size 432x288 with 1 Axes>"
      ]
     },
     "metadata": {},
     "output_type": "display_data"
    }
   ],
   "source": [
    "plt.plot(range(1,11),values_list)\n",
    "plt.show()"
   ]
  },
  {
   "cell_type": "code",
   "execution_count": 7,
   "id": "8e7fa0f5",
   "metadata": {},
   "outputs": [],
   "source": [
    "values_list = []\n",
    "for i in range(1,11):\n",
    "    kmeans = KMeans(n_clusters = i, init='k-means++',random_state = 0)\n",
    "    kmeans.fit(annual_income_df) \n",
    "    values_list.append(kmeans.inertia_)"
   ]
  },
  {
   "cell_type": "code",
   "execution_count": 8,
   "id": "bd4f7a58",
   "metadata": {},
   "outputs": [
    {
     "data": {
      "image/png": "[encoded data removed]",
      "text/plain": [
       "<Figure size 432x288 with 1 Axes>"
      ]
     },
     "metadata": {
      "needs_background": "light"
     },
     "output_type": "display_data"
    }
   ],
   "source": [
    "plt.plot(range(1,11), values_list)\n",
    "plt.show()"
   ]
  },
  {
   "cell_type": "markdown",
   "metadata": {},
   "source": [
    "Последняя точка, после которой график перестает существенно меняться - 5 классов"
   ]
  },
  {
   "cell_type": "markdown",
   "metadata": {},
   "source": [
    "### 5. Обучить модель К-средних и предсказать кластер для каждого значения из датасета."
   ]
  },
  {
   "cell_type": "code",
   "execution_count": 10,
   "metadata": {},
   "outputs": [
    {
     "data": {
      "text/plain": [
       "array([4, 3, 4, 3, 4, 3, 4, 3, 4, 3, 4, 3, 4, 3, 4, 3, 4, 3, 4, 3, 4, 3,\n",
       "       4, 3, 4, 3, 4, 3, 4, 3, 4, 3, 4, 3, 4, 3, 4, 3, 4, 3, 4, 3, 4, 1,\n",
       "       4, 3, 1, 1, 1, 1, 1, 1, 1, 1, 1, 1, 1, 1, 1, 1, 1, 1, 1, 1, 1, 1,\n",
       "       1, 1, 1, 1, 1, 1, 1, 1, 1, 1, 1, 1, 1, 1, 1, 1, 1, 1, 1, 1, 1, 1,\n",
       "       1, 1, 1, 1, 1, 1, 1, 1, 1, 1, 1, 1, 1, 1, 1, 1, 1, 1, 1, 1, 1, 1,\n",
       "       1, 1, 1, 1, 1, 1, 1, 1, 1, 1, 1, 1, 1, 2, 0, 2, 1, 2, 0, 2, 0, 2,\n",
       "       1, 2, 0, 2, 0, 2, 0, 2, 0, 2, 1, 2, 0, 2, 0, 2, 0, 2, 0, 2, 0, 2,\n",
       "       0, 2, 0, 2, 0, 2, 0, 2, 0, 2, 0, 2, 0, 2, 0, 2, 0, 2, 0, 2, 0, 2,\n",
       "       0, 2, 0, 2, 0, 2, 0, 2, 0, 2, 0, 2, 0, 2, 0, 2, 0, 2, 0, 2, 0, 2,\n",
       "       0, 2])"
      ]
     },
     "execution_count": 10,
     "metadata": {},
     "output_type": "execute_result"
    }
   ],
   "source": [
    "# Получаем кластеры\n",
    "\n",
    "kmeans = KMeans(n_clusters = 5, init ='k-means++',random_state = 0)\n",
    "predicted = kmeans.fit_predict(annual_income_df)\n",
    "predicted"
   ]
  },
  {
   "cell_type": "code",
   "execution_count": 11,
   "id": "98c42f8b",
   "metadata": {},
   "outputs": [
    {
     "name": "stdout",
     "output_type": "stream",
     "text": [
      "Класс: 4, income: 15, score: 39\n",
      "Класс: 3, income: 15, score: 81\n",
      "Класс: 4, income: 16, score: 6\n",
      "Класс: 3, income: 16, score: 77\n",
      "Класс: 4, income: 17, score: 40\n",
      "Класс: 3, income: 17, score: 76\n",
      "Класс: 4, income: 18, score: 6\n",
      "Класс: 3, income: 18, score: 94\n",
      "Класс: 4, income: 19, score: 3\n",
      "Класс: 3, income: 19, score: 72\n",
      "Класс: 4, income: 19, score: 14\n",
      "Класс: 3, income: 19, score: 99\n",
      "Класс: 4, income: 20, score: 15\n",
      "Класс: 3, income: 20, score: 77\n",
      "Класс: 4, income: 20, score: 13\n",
      "Класс: 3, income: 20, score: 79\n",
      "Класс: 4, income: 21, score: 35\n",
      "Класс: 3, income: 21, score: 66\n",
      "Класс: 4, income: 23, score: 29\n",
      "Класс: 3, income: 23, score: 98\n",
      "Класс: 4, income: 24, score: 35\n",
      "Класс: 3, income: 24, score: 73\n",
      "Класс: 4, income: 25, score: 5\n",
      "Класс: 3, income: 25, score: 73\n",
      "Класс: 4, income: 28, score: 14\n",
      "Класс: 3, income: 28, score: 82\n",
      "Класс: 4, income: 28, score: 32\n",
      "Класс: 3, income: 28, score: 61\n",
      "Класс: 4, income: 29, score: 31\n",
      "Класс: 3, income: 29, score: 87\n",
      "Класс: 4, income: 30, score: 4\n",
      "Класс: 3, income: 30, score: 73\n",
      "Класс: 4, income: 33, score: 4\n",
      "Класс: 3, income: 33, score: 92\n",
      "Класс: 4, income: 33, score: 14\n",
      "Класс: 3, income: 33, score: 81\n",
      "Класс: 4, income: 34, score: 17\n",
      "Класс: 3, income: 34, score: 73\n",
      "Класс: 4, income: 37, score: 26\n",
      "Класс: 3, income: 37, score: 75\n",
      "Класс: 4, income: 38, score: 35\n",
      "Класс: 3, income: 38, score: 92\n",
      "Класс: 4, income: 39, score: 36\n",
      "Класс: 1, income: 39, score: 61\n",
      "Класс: 4, income: 39, score: 28\n",
      "Класс: 3, income: 39, score: 65\n",
      "Класс: 1, income: 40, score: 55\n",
      "Класс: 1, income: 40, score: 47\n",
      "Класс: 1, income: 40, score: 42\n",
      "Класс: 1, income: 40, score: 42\n",
      "Класс: 1, income: 42, score: 52\n",
      "Класс: 1, income: 42, score: 60\n",
      "Класс: 1, income: 43, score: 54\n",
      "Класс: 1, income: 43, score: 60\n",
      "Класс: 1, income: 43, score: 45\n",
      "Класс: 1, income: 43, score: 41\n",
      "Класс: 1, income: 44, score: 50\n",
      "Класс: 1, income: 44, score: 46\n",
      "Класс: 1, income: 46, score: 51\n",
      "Класс: 1, income: 46, score: 46\n",
      "Класс: 1, income: 46, score: 56\n",
      "Класс: 1, income: 46, score: 55\n",
      "Класс: 1, income: 47, score: 52\n",
      "Класс: 1, income: 47, score: 59\n",
      "Класс: 1, income: 48, score: 51\n",
      "Класс: 1, income: 48, score: 59\n",
      "Класс: 1, income: 48, score: 50\n",
      "Класс: 1, income: 48, score: 48\n",
      "Класс: 1, income: 48, score: 59\n",
      "Класс: 1, income: 48, score: 47\n",
      "Класс: 1, income: 49, score: 55\n",
      "Класс: 1, income: 49, score: 42\n",
      "Класс: 1, income: 50, score: 49\n",
      "Класс: 1, income: 50, score: 56\n",
      "Класс: 1, income: 54, score: 47\n",
      "Класс: 1, income: 54, score: 54\n",
      "Класс: 1, income: 54, score: 53\n",
      "Класс: 1, income: 54, score: 48\n",
      "Класс: 1, income: 54, score: 52\n",
      "Класс: 1, income: 54, score: 42\n",
      "Класс: 1, income: 54, score: 51\n",
      "Класс: 1, income: 54, score: 55\n",
      "Класс: 1, income: 54, score: 41\n",
      "Класс: 1, income: 54, score: 44\n",
      "Класс: 1, income: 54, score: 57\n",
      "Класс: 1, income: 54, score: 46\n",
      "Класс: 1, income: 57, score: 58\n",
      "Класс: 1, income: 57, score: 55\n",
      "Класс: 1, income: 58, score: 60\n",
      "Класс: 1, income: 58, score: 46\n",
      "Класс: 1, income: 59, score: 55\n",
      "Класс: 1, income: 59, score: 41\n",
      "Класс: 1, income: 60, score: 49\n",
      "Класс: 1, income: 60, score: 40\n",
      "Класс: 1, income: 60, score: 42\n",
      "Класс: 1, income: 60, score: 52\n",
      "Класс: 1, income: 60, score: 47\n",
      "Класс: 1, income: 60, score: 50\n",
      "Класс: 1, income: 61, score: 42\n",
      "Класс: 1, income: 61, score: 49\n",
      "Класс: 1, income: 62, score: 41\n",
      "Класс: 1, income: 62, score: 48\n",
      "Класс: 1, income: 62, score: 59\n",
      "Класс: 1, income: 62, score: 55\n",
      "Класс: 1, income: 62, score: 56\n",
      "Класс: 1, income: 62, score: 42\n",
      "Класс: 1, income: 63, score: 50\n",
      "Класс: 1, income: 63, score: 46\n",
      "Класс: 1, income: 63, score: 43\n",
      "Класс: 1, income: 63, score: 48\n",
      "Класс: 1, income: 63, score: 52\n",
      "Класс: 1, income: 63, score: 54\n",
      "Класс: 1, income: 64, score: 42\n",
      "Класс: 1, income: 64, score: 46\n",
      "Класс: 1, income: 65, score: 48\n",
      "Класс: 1, income: 65, score: 50\n",
      "Класс: 1, income: 65, score: 43\n",
      "Класс: 1, income: 65, score: 59\n",
      "Класс: 1, income: 67, score: 43\n",
      "Класс: 1, income: 67, score: 57\n",
      "Класс: 1, income: 67, score: 56\n",
      "Класс: 1, income: 67, score: 40\n",
      "Класс: 1, income: 69, score: 58\n",
      "Класс: 2, income: 69, score: 91\n",
      "Класс: 0, income: 70, score: 29\n",
      "Класс: 2, income: 70, score: 77\n",
      "Класс: 1, income: 71, score: 35\n",
      "Класс: 2, income: 71, score: 95\n",
      "Класс: 0, income: 71, score: 11\n",
      "Класс: 2, income: 71, score: 75\n",
      "Класс: 0, income: 71, score: 9\n",
      "Класс: 2, income: 71, score: 75\n",
      "Класс: 1, income: 72, score: 34\n",
      "Класс: 2, income: 72, score: 71\n",
      "Класс: 0, income: 73, score: 5\n",
      "Класс: 2, income: 73, score: 88\n",
      "Класс: 0, income: 73, score: 7\n",
      "Класс: 2, income: 73, score: 73\n",
      "Класс: 0, income: 74, score: 10\n",
      "Класс: 2, income: 74, score: 72\n",
      "Класс: 0, income: 75, score: 5\n",
      "Класс: 2, income: 75, score: 93\n",
      "Класс: 1, income: 76, score: 40\n",
      "Класс: 2, income: 76, score: 87\n",
      "Класс: 0, income: 77, score: 12\n",
      "Класс: 2, income: 77, score: 97\n",
      "Класс: 0, income: 77, score: 36\n",
      "Класс: 2, income: 77, score: 74\n",
      "Класс: 0, income: 78, score: 22\n",
      "Класс: 2, income: 78, score: 90\n",
      "Класс: 0, income: 78, score: 17\n",
      "Класс: 2, income: 78, score: 88\n",
      "Класс: 0, income: 78, score: 20\n",
      "Класс: 2, income: 78, score: 76\n",
      "Класс: 0, income: 78, score: 16\n",
      "Класс: 2, income: 78, score: 89\n",
      "Класс: 0, income: 78, score: 1\n",
      "Класс: 2, income: 78, score: 78\n",
      "Класс: 0, income: 78, score: 1\n",
      "Класс: 2, income: 78, score: 73\n",
      "Класс: 0, income: 79, score: 35\n",
      "Класс: 2, income: 79, score: 83\n",
      "Класс: 0, income: 81, score: 5\n",
      "Класс: 2, income: 81, score: 93\n",
      "Класс: 0, income: 85, score: 26\n",
      "Класс: 2, income: 85, score: 75\n",
      "Класс: 0, income: 86, score: 20\n",
      "Класс: 2, income: 86, score: 95\n",
      "Класс: 0, income: 87, score: 27\n",
      "Класс: 2, income: 87, score: 63\n",
      "Класс: 0, income: 87, score: 13\n",
      "Класс: 2, income: 87, score: 75\n",
      "Класс: 0, income: 87, score: 10\n",
      "Класс: 2, income: 87, score: 92\n",
      "Класс: 0, income: 88, score: 13\n",
      "Класс: 2, income: 88, score: 86\n",
      "Класс: 0, income: 88, score: 15\n",
      "Класс: 2, income: 88, score: 69\n",
      "Класс: 0, income: 93, score: 14\n",
      "Класс: 2, income: 93, score: 90\n",
      "Класс: 0, income: 97, score: 32\n",
      "Класс: 2, income: 97, score: 86\n",
      "Класс: 0, income: 98, score: 15\n",
      "Класс: 2, income: 98, score: 88\n",
      "Класс: 0, income: 99, score: 39\n",
      "Класс: 2, income: 99, score: 97\n",
      "Класс: 0, income: 101, score: 24\n",
      "Класс: 2, income: 101, score: 68\n",
      "Класс: 0, income: 103, score: 17\n",
      "Класс: 2, income: 103, score: 85\n",
      "Класс: 0, income: 103, score: 23\n",
      "Класс: 2, income: 103, score: 69\n",
      "Класс: 0, income: 113, score: 8\n",
      "Класс: 2, income: 113, score: 91\n",
      "Класс: 0, income: 120, score: 16\n",
      "Класс: 2, income: 120, score: 79\n",
      "Класс: 0, income: 126, score: 28\n",
      "Класс: 2, income: 126, score: 74\n",
      "Класс: 0, income: 137, score: 18\n",
      "Класс: 2, income: 137, score: 83\n"
     ]
    }
   ],
   "source": [
    "items_list = zip(predicted, annual_income_df[\"Annual Income (k$)\"].to_list(), annual_income_df[\"Spending Score (1-100)\"].to_list())\n",
    "for predict, income, score  in items_list:\n",
    "    print(f\"Класс: {predict}, income: {income}, score: {score}\")"
   ]
  },
  {
   "cell_type": "markdown",
   "metadata": {},
   "source": [
    "### 6. Построить графическую интерпретацию из пункта 3,  с центрами кластеров."
   ]
  },
  {
   "cell_type": "code",
   "execution_count": 12,
   "metadata": {},
   "outputs": [
    {
     "data": {
      "image/png": "[encoded data removed]",
      "text/plain": [
       "<Figure size 432x288 with 1 Axes>"
      ]
     },
     "metadata": {
      "needs_background": "light"
     },
     "output_type": "display_data"
    }
   ],
   "source": [
    "f, ax = plt.subplots()\n",
    "sns.scatterplot(x=annual_income_df['Annual Income (k$)'], y=annual_income_df['Spending Score (1-100)'], hue=predicted, palette=\"deep\", data=annual_income_df, ax=ax)\n",
    "plt.scatter(kmeans.cluster_centers_[:,0],kmeans.cluster_centers_[:,1],c='black')\n",
    "plt.show()"
   ]
  },
  {
   "cell_type": "markdown",
   "metadata": {},
   "source": [
    "Модель разделила данные на 5 классов, которые мы визуально и предполагали на графике. Эти данные можно использовать, например, для банковских предложений.\n",
    "\n",
    "0 - Клиенты с высоким доходом и низкими расходами (Можно предложить вклады и накопительные счета)\n",
    "\n",
    "1 - Среднестатистические люди со средним доходом (Можно использовать больше рекламы)\n",
    "\n",
    "2 - Клиенты с высоким доходом и высокими расходами (Можно предложить карты с повышенным процентом кешбека)\n",
    "\n",
    "3 - Клиенты с низким доходом и высокими расходами (Видимо,  богатые родители)\n",
    "\n",
    "4 - Клиенты с низким доходом и низкими расходами (Можно предложить, например, ипотеку. Люди не смогут позволить сразу потратить большую сумму на покупку недвижимости, но согласятся на небольшие регулярные выплаты)"
   ]
  },
  {
   "cell_type": "markdown",
   "metadata": {},
   "source": [
    "### 7. Построить графическую интерпретацию с центрами кластеров, в качестве x-координаты используйте Возраст, в качестве y-координаты Spending Score"
   ]
  },
  {
   "cell_type": "code",
   "execution_count": 13,
   "metadata": {},
   "outputs": [
    {
     "data": {
      "text/html": [
       "<div>\n",
       "<style scoped>\n",
       "    .dataframe tbody tr th:only-of-type {\n",
       "        vertical-align: middle;\n",
       "    }\n",
       "\n",
       "    .dataframe tbody tr th {\n",
       "        vertical-align: top;\n",
       "    }\n",
       "\n",
       "    .dataframe thead th {\n",
       "        text-align: right;\n",
       "    }\n",
       "</style>\n",
       "<table border=\"1\" class=\"dataframe\">\n",
       "  <thead>\n",
       "    <tr style=\"text-align: right;\">\n",
       "      <th></th>\n",
       "      <th>Age</th>\n",
       "      <th>Spending Score (1-100)</th>\n",
       "    </tr>\n",
       "  </thead>\n",
       "  <tbody>\n",
       "    <tr>\n",
       "      <th>0</th>\n",
       "      <td>19</td>\n",
       "      <td>39</td>\n",
       "    </tr>\n",
       "    <tr>\n",
       "      <th>1</th>\n",
       "      <td>21</td>\n",
       "      <td>81</td>\n",
       "    </tr>\n",
       "    <tr>\n",
       "      <th>2</th>\n",
       "      <td>20</td>\n",
       "      <td>6</td>\n",
       "    </tr>\n",
       "    <tr>\n",
       "      <th>3</th>\n",
       "      <td>23</td>\n",
       "      <td>77</td>\n",
       "    </tr>\n",
       "    <tr>\n",
       "      <th>4</th>\n",
       "      <td>31</td>\n",
       "      <td>40</td>\n",
       "    </tr>\n",
       "    <tr>\n",
       "      <th>...</th>\n",
       "      <td>...</td>\n",
       "      <td>...</td>\n",
       "    </tr>\n",
       "    <tr>\n",
       "      <th>195</th>\n",
       "      <td>35</td>\n",
       "      <td>79</td>\n",
       "    </tr>\n",
       "    <tr>\n",
       "      <th>196</th>\n",
       "      <td>45</td>\n",
       "      <td>28</td>\n",
       "    </tr>\n",
       "    <tr>\n",
       "      <th>197</th>\n",
       "      <td>32</td>\n",
       "      <td>74</td>\n",
       "    </tr>\n",
       "    <tr>\n",
       "      <th>198</th>\n",
       "      <td>32</td>\n",
       "      <td>18</td>\n",
       "    </tr>\n",
       "    <tr>\n",
       "      <th>199</th>\n",
       "      <td>30</td>\n",
       "      <td>83</td>\n",
       "    </tr>\n",
       "  </tbody>\n",
       "</table>\n",
       "<p>200 rows × 2 columns</p>\n",
       "</div>"
      ],
      "text/plain": [
       "     Age  Spending Score (1-100)\n",
       "0     19                      39\n",
       "1     21                      81\n",
       "2     20                       6\n",
       "3     23                      77\n",
       "4     31                      40\n",
       "..   ...                     ...\n",
       "195   35                      79\n",
       "196   45                      28\n",
       "197   32                      74\n",
       "198   32                      18\n",
       "199   30                      83\n",
       "\n",
       "[200 rows x 2 columns]"
      ]
     },
     "execution_count": 13,
     "metadata": {},
     "output_type": "execute_result"
    }
   ],
   "source": [
    "# Создадим датафрейм с Age и Spending Score\n",
    "\n",
    "age_df = df.iloc[:,[2,4]]\n",
    "age_df"
   ]
  },
  {
   "cell_type": "code",
   "execution_count": 14,
   "id": "edfdb187",
   "metadata": {},
   "outputs": [],
   "source": [
    "values_list = []\n",
    "for i in range(1,11):\n",
    "    kmeans = KMeans(n_clusters = i, init='k-means++', random_state = 0)\n",
    "    kmeans.fit(age_df) \n",
    "    values_list.append(kmeans.inertia_)"
   ]
  },
  {
   "cell_type": "code",
   "execution_count": 15,
   "id": "733f8436",
   "metadata": {},
   "outputs": [
    {
     "data": {
      "image/png": "[encoded data removed]",
      "text/plain": [
       "<Figure size 432x288 with 1 Axes>"
      ]
     },
     "metadata": {
      "needs_background": "light"
     },
     "output_type": "display_data"
    }
   ],
   "source": [
    "plt.plot(range(1,11),values_list)\n",
    "plt.show()"
   ]
  },
  {
   "cell_type": "markdown",
   "metadata": {},
   "source": [
    "Для этой зависимости оптимальное число классов равно 4"
   ]
  },
  {
   "cell_type": "code",
   "execution_count": 16,
   "metadata": {},
   "outputs": [
    {
     "name": "stdout",
     "output_type": "stream",
     "text": [
      "[2 1 0 1 2 1 0 1 0 1 0 1 0 1 0 1 2 2 0 1 2 1 0 1 0 1 0 2 0 1 0 1 0 1 0 1 0\n",
      " 1 0 1 3 1 3 2 0 2 3 2 2 2 3 2 2 3 3 3 3 3 2 3 3 2 3 3 3 2 3 3 2 2 3 3 3 3\n",
      " 3 2 3 2 2 3 3 2 3 3 2 3 3 2 2 3 3 2 3 2 2 2 3 2 3 2 2 3 3 2 3 2 3 3 3 3 3\n",
      " 2 2 2 2 2 3 3 3 3 2 2 2 1 2 1 3 1 0 1 0 1 2 1 0 1 0 1 0 1 0 1 2 1 0 1 3 1\n",
      " 0 1 0 1 0 1 0 1 0 1 0 1 3 1 0 1 0 1 0 1 0 2 0 1 0 1 0 1 0 1 0 1 0 1 0 1 2\n",
      " 1 0 1 0 1 0 1 0 1 0 1 0 1 0 1]\n"
     ]
    }
   ],
   "source": [
    "# Получем кластеры\n",
    "\n",
    "kmeans2 = KMeans(n_clusters=4, init='k-means++', random_state=0)\n",
    "predicted = kmeans2.fit_predict(age_df)\n",
    "print(predicted)"
   ]
  },
  {
   "cell_type": "code",
   "execution_count": 17,
   "metadata": {},
   "outputs": [
    {
     "name": "stdout",
     "output_type": "stream",
     "text": [
      "Класс: 2, age: 19, score: 39\n",
      "Класс: 1, age: 21, score: 81\n",
      "Класс: 0, age: 20, score: 6\n",
      "Класс: 1, age: 23, score: 77\n",
      "Класс: 2, age: 31, score: 40\n",
      "Класс: 1, age: 22, score: 76\n",
      "Класс: 0, age: 35, score: 6\n",
      "Класс: 1, age: 23, score: 94\n",
      "Класс: 0, age: 64, score: 3\n",
      "Класс: 1, age: 30, score: 72\n",
      "Класс: 0, age: 67, score: 14\n",
      "Класс: 1, age: 35, score: 99\n",
      "Класс: 0, age: 58, score: 15\n",
      "Класс: 1, age: 24, score: 77\n",
      "Класс: 0, age: 37, score: 13\n",
      "Класс: 1, age: 22, score: 79\n",
      "Класс: 2, age: 35, score: 35\n",
      "Класс: 2, age: 20, score: 66\n",
      "Класс: 0, age: 52, score: 29\n",
      "Класс: 1, age: 35, score: 98\n",
      "Класс: 2, age: 35, score: 35\n",
      "Класс: 1, age: 25, score: 73\n",
      "Класс: 0, age: 46, score: 5\n",
      "Класс: 1, age: 31, score: 73\n",
      "Класс: 0, age: 54, score: 14\n",
      "Класс: 1, age: 29, score: 82\n",
      "Класс: 0, age: 45, score: 32\n",
      "Класс: 2, age: 35, score: 61\n",
      "Класс: 0, age: 40, score: 31\n",
      "Класс: 1, age: 23, score: 87\n",
      "Класс: 0, age: 60, score: 4\n",
      "Класс: 1, age: 21, score: 73\n",
      "Класс: 0, age: 53, score: 4\n",
      "Класс: 1, age: 18, score: 92\n",
      "Класс: 0, age: 49, score: 14\n",
      "Класс: 1, age: 21, score: 81\n",
      "Класс: 0, age: 42, score: 17\n",
      "Класс: 1, age: 30, score: 73\n",
      "Класс: 0, age: 36, score: 26\n",
      "Класс: 1, age: 20, score: 75\n",
      "Класс: 3, age: 65, score: 35\n",
      "Класс: 1, age: 24, score: 92\n",
      "Класс: 3, age: 48, score: 36\n",
      "Класс: 2, age: 31, score: 61\n",
      "Класс: 0, age: 49, score: 28\n",
      "Класс: 2, age: 24, score: 65\n",
      "Класс: 3, age: 50, score: 55\n",
      "Класс: 2, age: 27, score: 47\n",
      "Класс: 2, age: 29, score: 42\n",
      "Класс: 2, age: 31, score: 42\n",
      "Класс: 3, age: 49, score: 52\n",
      "Класс: 2, age: 33, score: 60\n",
      "Класс: 2, age: 31, score: 54\n",
      "Класс: 3, age: 59, score: 60\n",
      "Класс: 3, age: 50, score: 45\n",
      "Класс: 3, age: 47, score: 41\n",
      "Класс: 3, age: 51, score: 50\n",
      "Класс: 3, age: 69, score: 46\n",
      "Класс: 2, age: 27, score: 51\n",
      "Класс: 3, age: 53, score: 46\n",
      "Класс: 3, age: 70, score: 56\n",
      "Класс: 2, age: 19, score: 55\n",
      "Класс: 3, age: 67, score: 52\n",
      "Класс: 3, age: 54, score: 59\n",
      "Класс: 3, age: 63, score: 51\n",
      "Класс: 2, age: 18, score: 59\n",
      "Класс: 3, age: 43, score: 50\n",
      "Класс: 3, age: 68, score: 48\n",
      "Класс: 2, age: 19, score: 59\n",
      "Класс: 2, age: 32, score: 47\n",
      "Класс: 3, age: 70, score: 55\n",
      "Класс: 3, age: 47, score: 42\n",
      "Класс: 3, age: 60, score: 49\n",
      "Класс: 3, age: 60, score: 56\n",
      "Класс: 3, age: 59, score: 47\n",
      "Класс: 2, age: 26, score: 54\n",
      "Класс: 3, age: 45, score: 53\n",
      "Класс: 2, age: 40, score: 48\n",
      "Класс: 2, age: 23, score: 52\n",
      "Класс: 3, age: 49, score: 42\n",
      "Класс: 3, age: 57, score: 51\n",
      "Класс: 2, age: 38, score: 55\n",
      "Класс: 3, age: 67, score: 41\n",
      "Класс: 3, age: 46, score: 44\n",
      "Класс: 2, age: 21, score: 57\n",
      "Класс: 3, age: 48, score: 46\n",
      "Класс: 3, age: 55, score: 58\n",
      "Класс: 2, age: 22, score: 55\n",
      "Класс: 2, age: 34, score: 60\n",
      "Класс: 3, age: 50, score: 46\n",
      "Класс: 3, age: 68, score: 55\n",
      "Класс: 2, age: 18, score: 41\n",
      "Класс: 3, age: 48, score: 49\n",
      "Класс: 2, age: 40, score: 40\n",
      "Класс: 2, age: 32, score: 42\n",
      "Класс: 2, age: 24, score: 52\n",
      "Класс: 3, age: 47, score: 47\n",
      "Класс: 2, age: 27, score: 50\n",
      "Класс: 3, age: 48, score: 42\n",
      "Класс: 2, age: 20, score: 49\n",
      "Класс: 2, age: 23, score: 41\n",
      "Класс: 3, age: 49, score: 48\n",
      "Класс: 3, age: 67, score: 59\n",
      "Класс: 2, age: 26, score: 55\n",
      "Класс: 3, age: 49, score: 56\n",
      "Класс: 2, age: 21, score: 42\n",
      "Класс: 3, age: 66, score: 50\n",
      "Класс: 3, age: 54, score: 46\n",
      "Класс: 3, age: 68, score: 43\n",
      "Класс: 3, age: 66, score: 48\n",
      "Класс: 3, age: 65, score: 52\n",
      "Класс: 2, age: 19, score: 54\n",
      "Класс: 2, age: 38, score: 42\n",
      "Класс: 2, age: 19, score: 46\n",
      "Класс: 2, age: 18, score: 48\n",
      "Класс: 2, age: 19, score: 50\n",
      "Класс: 3, age: 63, score: 43\n",
      "Класс: 3, age: 49, score: 59\n",
      "Класс: 3, age: 51, score: 43\n",
      "Класс: 3, age: 50, score: 57\n",
      "Класс: 2, age: 27, score: 56\n",
      "Класс: 2, age: 38, score: 40\n",
      "Класс: 2, age: 40, score: 58\n",
      "Класс: 1, age: 39, score: 91\n",
      "Класс: 2, age: 23, score: 29\n",
      "Класс: 1, age: 31, score: 77\n",
      "Класс: 3, age: 43, score: 35\n",
      "Класс: 1, age: 40, score: 95\n",
      "Класс: 0, age: 59, score: 11\n",
      "Класс: 1, age: 38, score: 75\n",
      "Класс: 0, age: 47, score: 9\n",
      "Класс: 1, age: 39, score: 75\n",
      "Класс: 2, age: 25, score: 34\n",
      "Класс: 1, age: 31, score: 71\n",
      "Класс: 0, age: 20, score: 5\n",
      "Класс: 1, age: 29, score: 88\n",
      "Класс: 0, age: 44, score: 7\n",
      "Класс: 1, age: 32, score: 73\n",
      "Класс: 0, age: 19, score: 10\n",
      "Класс: 1, age: 35, score: 72\n",
      "Класс: 0, age: 57, score: 5\n",
      "Класс: 1, age: 32, score: 93\n",
      "Класс: 2, age: 28, score: 40\n",
      "Класс: 1, age: 32, score: 87\n",
      "Класс: 0, age: 25, score: 12\n",
      "Класс: 1, age: 28, score: 97\n",
      "Класс: 3, age: 48, score: 36\n",
      "Класс: 1, age: 32, score: 74\n",
      "Класс: 0, age: 34, score: 22\n",
      "Класс: 1, age: 34, score: 90\n",
      "Класс: 0, age: 43, score: 17\n",
      "Класс: 1, age: 39, score: 88\n",
      "Класс: 0, age: 44, score: 20\n",
      "Класс: 1, age: 38, score: 76\n",
      "Класс: 0, age: 47, score: 16\n",
      "Класс: 1, age: 27, score: 89\n",
      "Класс: 0, age: 37, score: 1\n",
      "Класс: 1, age: 30, score: 78\n",
      "Класс: 0, age: 34, score: 1\n",
      "Класс: 1, age: 30, score: 73\n",
      "Класс: 3, age: 56, score: 35\n",
      "Класс: 1, age: 29, score: 83\n",
      "Класс: 0, age: 19, score: 5\n",
      "Класс: 1, age: 31, score: 93\n",
      "Класс: 0, age: 50, score: 26\n",
      "Класс: 1, age: 36, score: 75\n",
      "Класс: 0, age: 42, score: 20\n",
      "Класс: 1, age: 33, score: 95\n",
      "Класс: 0, age: 36, score: 27\n",
      "Класс: 2, age: 32, score: 63\n",
      "Класс: 0, age: 40, score: 13\n",
      "Класс: 1, age: 28, score: 75\n",
      "Класс: 0, age: 36, score: 10\n",
      "Класс: 1, age: 36, score: 92\n",
      "Класс: 0, age: 52, score: 13\n",
      "Класс: 1, age: 30, score: 86\n",
      "Класс: 0, age: 58, score: 15\n",
      "Класс: 1, age: 27, score: 69\n",
      "Класс: 0, age: 59, score: 14\n",
      "Класс: 1, age: 35, score: 90\n",
      "Класс: 0, age: 37, score: 32\n",
      "Класс: 1, age: 32, score: 86\n",
      "Класс: 0, age: 46, score: 15\n",
      "Класс: 1, age: 29, score: 88\n",
      "Класс: 2, age: 41, score: 39\n",
      "Класс: 1, age: 30, score: 97\n",
      "Класс: 0, age: 54, score: 24\n",
      "Класс: 1, age: 28, score: 68\n",
      "Класс: 0, age: 41, score: 17\n",
      "Класс: 1, age: 36, score: 85\n",
      "Класс: 0, age: 34, score: 23\n",
      "Класс: 1, age: 32, score: 69\n",
      "Класс: 0, age: 33, score: 8\n",
      "Класс: 1, age: 38, score: 91\n",
      "Класс: 0, age: 47, score: 16\n",
      "Класс: 1, age: 35, score: 79\n",
      "Класс: 0, age: 45, score: 28\n",
      "Класс: 1, age: 32, score: 74\n",
      "Класс: 0, age: 32, score: 18\n",
      "Класс: 1, age: 30, score: 83\n"
     ]
    }
   ],
   "source": [
    "items_list = zip(predicted, age_df[\"Age\"].to_list(), age_df[\"Spending Score (1-100)\"].to_list())\n",
    "for predict, income, score  in items_list:\n",
    "    print(f\"Класс: {predict}, age: {income}, score: {score}\")"
   ]
  },
  {
   "cell_type": "code",
   "execution_count": 19,
   "metadata": {},
   "outputs": [
    {
     "data": {
      "image/png": "[encoded data removed]",
      "text/plain": [
       "<Figure size 432x288 with 1 Axes>"
      ]
     },
     "metadata": {
      "needs_background": "light"
     },
     "output_type": "display_data"
    }
   ],
   "source": [
    "# Снова строим график\n",
    "\n",
    "f, ax = plt.subplots()\n",
    "sns.scatterplot(x=age_df['Age'], y=age_df['Spending Score (1-100)'], hue=predicted, palette=\"deep\", data=age_df, ax=ax)\n",
    "plt.scatter(kmeans2.cluster_centers_[:,0],kmeans2.cluster_centers_[:,1],c='black')\n",
    "plt.show()"
   ]
  },
  {
   "cell_type": "markdown",
   "metadata": {},
   "source": [
    "Более молодые люди делятся на большее количество классов по тратам. Кроме того, у нас имеется пропуск данных по людям в возрасте, которые много тратят. Это может означать либо отсутствие данных по каким-либо причинам, либо то, что с возрастом траты людей уменьшаются"
   ]
  },
  {
   "cell_type": "markdown",
   "metadata": {},
   "source": [
    "### 8. Оцените модель с помощью метрик."
   ]
  },
  {
   "cell_type": "code",
   "execution_count": 21,
   "metadata": {},
   "outputs": [
    {
     "name": "stdout",
     "output_type": "stream",
     "text": [
      "0.49973941540141753\n"
     ]
    }
   ],
   "source": [
    "# расстояние разделения между кластерами, стремится к 1 в лучшем случае\n",
    "print(silhouette_score(age_df, predicted))"
   ]
  },
  {
   "cell_type": "code",
   "execution_count": 23,
   "metadata": {},
   "outputs": [
    {
     "name": "stdout",
     "output_type": "stream",
     "text": [
      "332.5631268443306\n"
     ]
    }
   ],
   "source": [
    "# критерий соотношения дисперсий\n",
    "print(calinski_harabasz_score(age_df, predicted))"
   ]
  },
  {
   "cell_type": "markdown",
   "metadata": {},
   "source": [
    "### 9. Сравните эффективность модели кластеризации в зависимости от количества кластеров. Сделайте выводы."
   ]
  },
  {
   "cell_type": "code",
   "execution_count": 25,
   "metadata": {},
   "outputs": [
    {
     "name": "stdout",
     "output_type": "stream",
     "text": [
      "Число кластеров: 2, silhouette score: 0.4692341232501655, calinski_harabasz_score: 249.19429134176448)\n",
      "Число кластеров: 3, silhouette score: 0.45300127016521263, calinski_harabasz_score: 270.0863298113398)\n",
      "Число кластеров: 4, silhouette score: 0.49973941540141753, calinski_harabasz_score: 332.5631268443306)\n",
      "Число кластеров: 5, silhouette score: 0.44526667994351227, calinski_harabasz_score: 302.4394405378254)\n",
      "Число кластеров: 6, silhouette score: 0.4405479018621985, calinski_harabasz_score: 302.46952193907464)\n",
      "Число кластеров: 7, silhouette score: 0.40833321946277396, calinski_harabasz_score: 321.55913801827427)\n",
      "Число кластеров: 8, silhouette score: 0.4290264154541208, calinski_harabasz_score: 332.19774974353555)\n",
      "Число кластеров: 9, silhouette score: 0.4119906277658083, calinski_harabasz_score: 329.6446137896869)\n"
     ]
    }
   ],
   "source": [
    "for n_clusters in range(2, 10):\n",
    "    \n",
    "    kmeans2 = KMeans(n_clusters=n_clusters, init='k-means++', random_state=0)\n",
    "    predicted = kmeans2.fit_predict(age_df)\n",
    "    centers = kmeans2.cluster_centers_\n",
    "    \n",
    "    s_score = silhouette_score(age_df, predicted)\n",
    "    ch_score = calinski_harabasz_score(age_df, predicted)\n",
    "    print(f\"Число кластеров: {n_clusters}, silhouette score: {s_score}, calinski_harabasz_score: {ch_score})\")"
   ]
  },
  {
   "cell_type": "markdown",
   "metadata": {},
   "source": [
    "Лучшие показатели при количестве кластеров, равном 4, как мы и выбрали изначально"
   ]
  },
  {
   "cell_type": "code",
   "execution_count": null,
   "metadata": {},
   "outputs": [],
   "source": []
  }
 ],
 "metadata": {
  "interpreter": {
   "hash": "ae1bf8b79d587a26b742435046462f0f0964b0eab320f9f70a402ba5a265371b"
  },
  "kernelspec": {
   "display_name": "Python 3.9.9 64-bit",
   "language": "python",
   "name": "python3"
  },
  "language_info": {
   "codemirror_mode": {
    "name": "ipython",
    "version": 3
   },
   "file_extension": ".py",
   "mimetype": "text/x-python",
   "name": "python",
   "nbconvert_exporter": "python",
   "pygments_lexer": "ipython3",
   "version": "3.9.9"
  },
  "orig_nbformat": 4
 },
 "nbformat": 4,
 "nbformat_minor": 2
}
