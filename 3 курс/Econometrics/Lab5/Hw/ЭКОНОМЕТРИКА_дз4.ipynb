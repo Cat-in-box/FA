{
  "cells": [
    {
      "cell_type": "markdown",
      "metadata": {
        "id": "M4-HzMUPYW7P"
      },
      "source": [
        "# **ЭКОНОМЕТРИКА**\n",
        "## Домашняя работа №4"
      ]
    },
    {
      "cell_type": "markdown",
      "metadata": {
        "id": "hiN-Ow4dYffH"
      },
      "source": [
        "## *Модели регрессии*"
      ]
    },
    {
      "cell_type": "markdown",
      "metadata": {
        "id": "7Wno7VPgaSx1"
      },
      "source": [
        "### **Задание.**\n",
        "### Сгенерируйте свой индивидуальный вариант в соответствии с инструкцией. Затем выполните задание, используя R и Python. Решение оформите в формате word с включением всех необходимых математических формул, гипотез статистических тестов и выводов. В приложение вынесите код и скрины реализации кода."
      ]
    },
    {
      "cell_type": "code",
      "execution_count": 1,
      "metadata": {},
      "outputs": [],
      "source": [
        "import numpy as np\n",
        "import pandas as pd\n",
        "from matplotlib import pyplot as plt\n",
        "import statsmodels.formula.api as sm\n",
        "import statsmodels.stats as smd\n",
        "import statsmodels.stats.api as sms\n",
        "from statsmodels.compat import lzip\n",
        "from sklearn.metrics import mean_absolute_error"
      ]
    },
    {
      "cell_type": "code",
      "execution_count": 2,
      "metadata": {},
      "outputs": [
        {
          "data": {
            "text/html": [
              "<div>\n",
              "<style scoped>\n",
              "    .dataframe tbody tr th:only-of-type {\n",
              "        vertical-align: middle;\n",
              "    }\n",
              "\n",
              "    .dataframe tbody tr th {\n",
              "        vertical-align: top;\n",
              "    }\n",
              "\n",
              "    .dataframe thead th {\n",
              "        text-align: right;\n",
              "    }\n",
              "</style>\n",
              "<table border=\"1\" class=\"dataframe\">\n",
              "  <thead>\n",
              "    <tr style=\"text-align: right;\">\n",
              "      <th></th>\n",
              "      <th>y</th>\n",
              "      <th>x1</th>\n",
              "      <th>x2</th>\n",
              "      <th>x3</th>\n",
              "    </tr>\n",
              "  </thead>\n",
              "  <tbody>\n",
              "    <tr>\n",
              "      <th>1</th>\n",
              "      <td>135.750669</td>\n",
              "      <td>81.194462</td>\n",
              "      <td>28.525444</td>\n",
              "      <td>52.152226</td>\n",
              "    </tr>\n",
              "    <tr>\n",
              "      <th>2</th>\n",
              "      <td>135.126265</td>\n",
              "      <td>81.181577</td>\n",
              "      <td>29.742445</td>\n",
              "      <td>51.650061</td>\n",
              "    </tr>\n",
              "    <tr>\n",
              "      <th>3</th>\n",
              "      <td>135.811606</td>\n",
              "      <td>81.425460</td>\n",
              "      <td>29.757179</td>\n",
              "      <td>50.031976</td>\n",
              "    </tr>\n",
              "    <tr>\n",
              "      <th>4</th>\n",
              "      <td>136.004092</td>\n",
              "      <td>81.974309</td>\n",
              "      <td>29.234541</td>\n",
              "      <td>51.210147</td>\n",
              "    </tr>\n",
              "    <tr>\n",
              "      <th>5</th>\n",
              "      <td>133.570461</td>\n",
              "      <td>80.016322</td>\n",
              "      <td>29.744077</td>\n",
              "      <td>51.323134</td>\n",
              "    </tr>\n",
              "    <tr>\n",
              "      <th>...</th>\n",
              "      <td>...</td>\n",
              "      <td>...</td>\n",
              "      <td>...</td>\n",
              "      <td>...</td>\n",
              "    </tr>\n",
              "    <tr>\n",
              "      <th>296</th>\n",
              "      <td>136.272193</td>\n",
              "      <td>82.586120</td>\n",
              "      <td>30.876906</td>\n",
              "      <td>49.006820</td>\n",
              "    </tr>\n",
              "    <tr>\n",
              "      <th>297</th>\n",
              "      <td>136.208140</td>\n",
              "      <td>82.148104</td>\n",
              "      <td>29.552497</td>\n",
              "      <td>49.634414</td>\n",
              "    </tr>\n",
              "    <tr>\n",
              "      <th>298</th>\n",
              "      <td>133.571785</td>\n",
              "      <td>80.161587</td>\n",
              "      <td>27.836560</td>\n",
              "      <td>50.875037</td>\n",
              "    </tr>\n",
              "    <tr>\n",
              "      <th>299</th>\n",
              "      <td>134.705414</td>\n",
              "      <td>82.046298</td>\n",
              "      <td>30.210145</td>\n",
              "      <td>51.703677</td>\n",
              "    </tr>\n",
              "    <tr>\n",
              "      <th>300</th>\n",
              "      <td>134.616753</td>\n",
              "      <td>81.925674</td>\n",
              "      <td>29.821673</td>\n",
              "      <td>52.352173</td>\n",
              "    </tr>\n",
              "  </tbody>\n",
              "</table>\n",
              "<p>300 rows × 4 columns</p>\n",
              "</div>"
            ],
            "text/plain": [
              "              y         x1         x2         x3\n",
              "1    135.750669  81.194462  28.525444  52.152226\n",
              "2    135.126265  81.181577  29.742445  51.650061\n",
              "3    135.811606  81.425460  29.757179  50.031976\n",
              "4    136.004092  81.974309  29.234541  51.210147\n",
              "5    133.570461  80.016322  29.744077  51.323134\n",
              "..          ...        ...        ...        ...\n",
              "296  136.272193  82.586120  30.876906  49.006820\n",
              "297  136.208140  82.148104  29.552497  49.634414\n",
              "298  133.571785  80.161587  27.836560  50.875037\n",
              "299  134.705414  82.046298  30.210145  51.703677\n",
              "300  134.616753  81.925674  29.821673  52.352173\n",
              "\n",
              "[300 rows x 4 columns]"
            ]
          },
          "execution_count": 2,
          "metadata": {},
          "output_type": "execute_result"
        }
      ],
      "source": [
        "data = pd.read_csv('./9.txt', sep = '\t', decimal = ',').astype('float')\n",
        "y = data[\"y\"]\n",
        "x1 = data[\"x1\"]\n",
        "x2 = data[\"x2\"]\n",
        "x3 = data[\"x3\"]\n",
        "data"
      ]
    },
    {
      "cell_type": "markdown",
      "metadata": {
        "id": "ULITFVwIafjl"
      },
      "source": [
        "#### 1. Отберите факторы на основе анализа матрицы парных корреляций. Постройте диаграммы рассеяния с выбранными факторами и зависимой переменной."
      ]
    },
    {
      "cell_type": "code",
      "execution_count": 3,
      "metadata": {},
      "outputs": [
        {
          "name": "stdout",
          "output_type": "stream",
          "text": [
            "Y & X1\n"
          ]
        },
        {
          "data": {
            "image/png": "[encoded data removed]",
            "text/plain": [
              "<Figure size 432x288 with 1 Axes>"
            ]
          },
          "metadata": {
            "needs_background": "light"
          },
          "output_type": "display_data"
        },
        {
          "name": "stdout",
          "output_type": "stream",
          "text": [
            "Корреляция: 0.8041342028686278\n"
          ]
        }
      ],
      "source": [
        "print('Y & X1')\n",
        "pd.DataFrame(np.array([x1, y.apply(np.log)]).T).plot.scatter(0, 1, s=12, grid=True)\n",
        "plt.xlabel('x1')\n",
        "plt.ylabel('y')\n",
        "plt.show()\n",
        "\n",
        "x1_corr = np.corrcoef(x1, y)[0, 1]\n",
        "print('Корреляция:' , x1_corr)"
      ]
    },
    {
      "cell_type": "code",
      "execution_count": 4,
      "metadata": {},
      "outputs": [
        {
          "name": "stdout",
          "output_type": "stream",
          "text": [
            "Y & X2\n"
          ]
        },
        {
          "data": {
            "image/png": "[encoded data removed]",
            "text/plain": [
              "<Figure size 432x288 with 1 Axes>"
            ]
          },
          "metadata": {
            "needs_background": "light"
          },
          "output_type": "display_data"
        },
        {
          "name": "stdout",
          "output_type": "stream",
          "text": [
            "Корреляция: 0.5030958431999591\n"
          ]
        }
      ],
      "source": [
        "print('Y & X2')\n",
        "pd.DataFrame(np.array([x2, y.apply(np.log)]).T).plot.scatter(0, 1, s=12, grid=True)\n",
        "plt.xlabel('x2')\n",
        "plt.ylabel('y')\n",
        "plt.show()\n",
        "\n",
        "x2_corr = np.corrcoef(x2, y)[0, 1]\n",
        "print('Корреляция:' , x2_corr)"
      ]
    },
    {
      "cell_type": "code",
      "execution_count": 5,
      "metadata": {},
      "outputs": [
        {
          "name": "stdout",
          "output_type": "stream",
          "text": [
            "Y & X3\n"
          ]
        },
        {
          "data": {
            "image/png": "[encoded data removed]",
            "text/plain": [
              "<Figure size 432x288 with 1 Axes>"
            ]
          },
          "metadata": {
            "needs_background": "light"
          },
          "output_type": "display_data"
        },
        {
          "name": "stdout",
          "output_type": "stream",
          "text": [
            "Корреляция: -0.6553395174844641\n"
          ]
        }
      ],
      "source": [
        "print('Y & X3')\n",
        "pd.DataFrame(np.array([x3, y.apply(np.log)]).T).plot.scatter(0, 1, s=12, grid=True)\n",
        "plt.xlabel('x3')\n",
        "plt.ylabel('y')\n",
        "plt.show()\n",
        "\n",
        "x3_corr = np.corrcoef(x3, y)[0, 1]\n",
        "print('Корреляция:' , x3_corr)"
      ]
    },
    {
      "cell_type": "markdown",
      "metadata": {},
      "source": [
        "Наиболее сильная зависимость наблюдается между y и x1"
      ]
    },
    {
      "cell_type": "markdown",
      "metadata": {},
      "source": [
        "\n",
        "#### 2. Постройте две модели регрессии:\n",
        "    \n",
        "    a) Парную"
      ]
    },
    {
      "cell_type": "code",
      "execution_count": 6,
      "metadata": {},
      "outputs": [
        {
          "data": {
            "text/html": [
              "<table class=\"simpletable\">\n",
              "<caption>OLS Regression Results</caption>\n",
              "<tr>\n",
              "  <th>Dep. Variable:</th>            <td>y</td>        <th>  R-squared:         </th> <td>   0.647</td>\n",
              "</tr>\n",
              "<tr>\n",
              "  <th>Model:</th>                   <td>OLS</td>       <th>  Adj. R-squared:    </th> <td>   0.645</td>\n",
              "</tr>\n",
              "<tr>\n",
              "  <th>Method:</th>             <td>Least Squares</td>  <th>  F-statistic:       </th> <td>   545.3</td>\n",
              "</tr>\n",
              "<tr>\n",
              "  <th>Date:</th>             <td>Sat, 16 Oct 2021</td> <th>  Prob (F-statistic):</th> <td>2.78e-69</td>\n",
              "</tr>\n",
              "<tr>\n",
              "  <th>Time:</th>                 <td>22:15:03</td>     <th>  Log-Likelihood:    </th> <td> -269.12</td>\n",
              "</tr>\n",
              "<tr>\n",
              "  <th>No. Observations:</th>      <td>   300</td>      <th>  AIC:               </th> <td>   542.2</td>\n",
              "</tr>\n",
              "<tr>\n",
              "  <th>Df Residuals:</th>          <td>   298</td>      <th>  BIC:               </th> <td>   549.6</td>\n",
              "</tr>\n",
              "<tr>\n",
              "  <th>Df Model:</th>              <td>     1</td>      <th>                     </th>     <td> </td>   \n",
              "</tr>\n",
              "<tr>\n",
              "  <th>Covariance Type:</th>      <td>nonrobust</td>    <th>                     </th>     <td> </td>   \n",
              "</tr>\n",
              "</table>\n",
              "<table class=\"simpletable\">\n",
              "<tr>\n",
              "      <td></td>         <th>coef</th>     <th>std err</th>      <th>t</th>      <th>P>|t|</th>  <th>[0.025</th>    <th>0.975]</th>  \n",
              "</tr>\n",
              "<tr>\n",
              "  <th>Intercept</th> <td>   68.2396</td> <td>    2.864</td> <td>   23.824</td> <td> 0.000</td> <td>   62.603</td> <td>   73.877</td>\n",
              "</tr>\n",
              "<tr>\n",
              "  <th>x1</th>        <td>    0.8244</td> <td>    0.035</td> <td>   23.352</td> <td> 0.000</td> <td>    0.755</td> <td>    0.894</td>\n",
              "</tr>\n",
              "</table>\n",
              "<table class=\"simpletable\">\n",
              "<tr>\n",
              "  <th>Omnibus:</th>       <td> 0.697</td> <th>  Durbin-Watson:     </th> <td>   2.163</td>\n",
              "</tr>\n",
              "<tr>\n",
              "  <th>Prob(Omnibus):</th> <td> 0.706</td> <th>  Jarque-Bera (JB):  </th> <td>   0.690</td>\n",
              "</tr>\n",
              "<tr>\n",
              "  <th>Skew:</th>          <td> 0.116</td> <th>  Prob(JB):          </th> <td>   0.708</td>\n",
              "</tr>\n",
              "<tr>\n",
              "  <th>Kurtosis:</th>      <td> 2.957</td> <th>  Cond. No.          </th> <td>6.76e+03</td>\n",
              "</tr>\n",
              "</table><br/><br/>Notes:<br/>[1] Standard Errors assume that the covariance matrix of the errors is correctly specified.<br/>[2] The condition number is large, 6.76e+03. This might indicate that there are<br/>strong multicollinearity or other numerical problems."
            ],
            "text/plain": [
              "<class 'statsmodels.iolib.summary.Summary'>\n",
              "\"\"\"\n",
              "                            OLS Regression Results                            \n",
              "==============================================================================\n",
              "Dep. Variable:                      y   R-squared:                       0.647\n",
              "Model:                            OLS   Adj. R-squared:                  0.645\n",
              "Method:                 Least Squares   F-statistic:                     545.3\n",
              "Date:                Sat, 16 Oct 2021   Prob (F-statistic):           2.78e-69\n",
              "Time:                        22:15:03   Log-Likelihood:                -269.12\n",
              "No. Observations:                 300   AIC:                             542.2\n",
              "Df Residuals:                     298   BIC:                             549.6\n",
              "Df Model:                           1                                         \n",
              "Covariance Type:            nonrobust                                         \n",
              "==============================================================================\n",
              "                 coef    std err          t      P>|t|      [0.025      0.975]\n",
              "------------------------------------------------------------------------------\n",
              "Intercept     68.2396      2.864     23.824      0.000      62.603      73.877\n",
              "x1             0.8244      0.035     23.352      0.000       0.755       0.894\n",
              "==============================================================================\n",
              "Omnibus:                        0.697   Durbin-Watson:                   2.163\n",
              "Prob(Omnibus):                  0.706   Jarque-Bera (JB):                0.690\n",
              "Skew:                           0.116   Prob(JB):                        0.708\n",
              "Kurtosis:                       2.957   Cond. No.                     6.76e+03\n",
              "==============================================================================\n",
              "\n",
              "Notes:\n",
              "[1] Standard Errors assume that the covariance matrix of the errors is correctly specified.\n",
              "[2] The condition number is large, 6.76e+03. This might indicate that there are\n",
              "strong multicollinearity or other numerical problems.\n",
              "\"\"\""
            ]
          },
          "execution_count": 6,
          "metadata": {},
          "output_type": "execute_result"
        }
      ],
      "source": [
        "p_model = sm.ols(formula=\"y ~ x1\", data=data)\n",
        "p_results = p_model.fit()\n",
        "p_df = pd.read_html(p_results.summary().tables[1].as_html(),header=0,index_col=0)[0]\n",
        "p_results.summary()"
      ]
    },
    {
      "cell_type": "markdown",
      "metadata": {},
      "source": [
        "    b) Множественную"
      ]
    },
    {
      "cell_type": "code",
      "execution_count": 7,
      "metadata": {},
      "outputs": [
        {
          "data": {
            "text/html": [
              "<table class=\"simpletable\">\n",
              "<caption>OLS Regression Results</caption>\n",
              "<tr>\n",
              "  <th>Dep. Variable:</th>            <td>y</td>        <th>  R-squared:         </th> <td>   0.759</td>\n",
              "</tr>\n",
              "<tr>\n",
              "  <th>Model:</th>                   <td>OLS</td>       <th>  Adj. R-squared:    </th> <td>   0.756</td>\n",
              "</tr>\n",
              "<tr>\n",
              "  <th>Method:</th>             <td>Least Squares</td>  <th>  F-statistic:       </th> <td>   310.1</td>\n",
              "</tr>\n",
              "<tr>\n",
              "  <th>Date:</th>             <td>Sat, 16 Oct 2021</td> <th>  Prob (F-statistic):</th> <td>5.28e-91</td>\n",
              "</tr>\n",
              "<tr>\n",
              "  <th>Time:</th>                 <td>22:15:03</td>     <th>  Log-Likelihood:    </th> <td> -211.96</td>\n",
              "</tr>\n",
              "<tr>\n",
              "  <th>No. Observations:</th>      <td>   300</td>      <th>  AIC:               </th> <td>   431.9</td>\n",
              "</tr>\n",
              "<tr>\n",
              "  <th>Df Residuals:</th>          <td>   296</td>      <th>  BIC:               </th> <td>   446.7</td>\n",
              "</tr>\n",
              "<tr>\n",
              "  <th>Df Model:</th>              <td>     3</td>      <th>                     </th>     <td> </td>   \n",
              "</tr>\n",
              "<tr>\n",
              "  <th>Covariance Type:</th>      <td>nonrobust</td>    <th>                     </th>     <td> </td>   \n",
              "</tr>\n",
              "</table>\n",
              "<table class=\"simpletable\">\n",
              "<tr>\n",
              "      <td></td>         <th>coef</th>     <th>std err</th>      <th>t</th>      <th>P>|t|</th>  <th>[0.025</th>    <th>0.975]</th>  \n",
              "</tr>\n",
              "<tr>\n",
              "  <th>Intercept</th> <td>   97.6382</td> <td>    4.086</td> <td>   23.898</td> <td> 0.000</td> <td>   89.598</td> <td>  105.679</td>\n",
              "</tr>\n",
              "<tr>\n",
              "  <th>x1</th>        <td>    0.7236</td> <td>    0.046</td> <td>   15.573</td> <td> 0.000</td> <td>    0.632</td> <td>    0.815</td>\n",
              "</tr>\n",
              "<tr>\n",
              "  <th>x2</th>        <td>   -0.0885</td> <td>    0.042</td> <td>   -2.092</td> <td> 0.037</td> <td>   -0.172</td> <td>   -0.005</td>\n",
              "</tr>\n",
              "<tr>\n",
              "  <th>x3</th>        <td>   -0.3660</td> <td>    0.033</td> <td>  -11.080</td> <td> 0.000</td> <td>   -0.431</td> <td>   -0.301</td>\n",
              "</tr>\n",
              "</table>\n",
              "<table class=\"simpletable\">\n",
              "<tr>\n",
              "  <th>Omnibus:</th>       <td> 0.236</td> <th>  Durbin-Watson:     </th> <td>   2.065</td>\n",
              "</tr>\n",
              "<tr>\n",
              "  <th>Prob(Omnibus):</th> <td> 0.889</td> <th>  Jarque-Bera (JB):  </th> <td>   0.372</td>\n",
              "</tr>\n",
              "<tr>\n",
              "  <th>Skew:</th>          <td>-0.019</td> <th>  Prob(JB):          </th> <td>   0.830</td>\n",
              "</tr>\n",
              "<tr>\n",
              "  <th>Kurtosis:</th>      <td> 2.832</td> <th>  Cond. No.          </th> <td>1.44e+04</td>\n",
              "</tr>\n",
              "</table><br/><br/>Notes:<br/>[1] Standard Errors assume that the covariance matrix of the errors is correctly specified.<br/>[2] The condition number is large, 1.44e+04. This might indicate that there are<br/>strong multicollinearity or other numerical problems."
            ],
            "text/plain": [
              "<class 'statsmodels.iolib.summary.Summary'>\n",
              "\"\"\"\n",
              "                            OLS Regression Results                            \n",
              "==============================================================================\n",
              "Dep. Variable:                      y   R-squared:                       0.759\n",
              "Model:                            OLS   Adj. R-squared:                  0.756\n",
              "Method:                 Least Squares   F-statistic:                     310.1\n",
              "Date:                Sat, 16 Oct 2021   Prob (F-statistic):           5.28e-91\n",
              "Time:                        22:15:03   Log-Likelihood:                -211.96\n",
              "No. Observations:                 300   AIC:                             431.9\n",
              "Df Residuals:                     296   BIC:                             446.7\n",
              "Df Model:                           3                                         \n",
              "Covariance Type:            nonrobust                                         \n",
              "==============================================================================\n",
              "                 coef    std err          t      P>|t|      [0.025      0.975]\n",
              "------------------------------------------------------------------------------\n",
              "Intercept     97.6382      4.086     23.898      0.000      89.598     105.679\n",
              "x1             0.7236      0.046     15.573      0.000       0.632       0.815\n",
              "x2            -0.0885      0.042     -2.092      0.037      -0.172      -0.005\n",
              "x3            -0.3660      0.033    -11.080      0.000      -0.431      -0.301\n",
              "==============================================================================\n",
              "Omnibus:                        0.236   Durbin-Watson:                   2.065\n",
              "Prob(Omnibus):                  0.889   Jarque-Bera (JB):                0.372\n",
              "Skew:                          -0.019   Prob(JB):                        0.830\n",
              "Kurtosis:                       2.832   Cond. No.                     1.44e+04\n",
              "==============================================================================\n",
              "\n",
              "Notes:\n",
              "[1] Standard Errors assume that the covariance matrix of the errors is correctly specified.\n",
              "[2] The condition number is large, 1.44e+04. This might indicate that there are\n",
              "strong multicollinearity or other numerical problems.\n",
              "\"\"\""
            ]
          },
          "execution_count": 7,
          "metadata": {},
          "output_type": "execute_result"
        }
      ],
      "source": [
        "m_model = sm.ols(formula=\"y ~ x1 + x2 + x3\", data=data)\n",
        "m_results = m_model.fit()\n",
        "m_df = pd.read_html(m_results.summary().tables[1].as_html(),header=0,index_col=0)[0]\n",
        "m_results.summary()"
      ]
    },
    {
      "cell_type": "markdown",
      "metadata": {},
      "source": [
        "#### 3. Оцените качество моделей, используя коэффициент детерминации, стандартную ошибку и среднюю относительную ошибку аппроксимации."
      ]
    },
    {
      "cell_type": "code",
      "execution_count": 8,
      "metadata": {},
      "outputs": [
        {
          "name": "stdout",
          "output_type": "stream",
          "text": [
            "КОЭФФИЦИЕНТ ДЕТЕРМИНАЦИИ\n",
            "\n",
            "Парная модель: 0.6466318162231632 \n",
            "Множественная модель: 0.7586059139996671\n"
          ]
        }
      ],
      "source": [
        "print('КОЭФФИЦИЕНТ ДЕТЕРМИНАЦИИ\\n\\nПарная модель:', p_results.rsquared, '\\nМножественная модель:', m_results.rsquared)"
      ]
    },
    {
      "cell_type": "code",
      "execution_count": 9,
      "metadata": {},
      "outputs": [
        {
          "name": "stdout",
          "output_type": "stream",
          "text": [
            "СТАНДАРТНАЯ ОШИБКА\n",
            "\n",
            "Парная модель:\n",
            " Intercept    2.928971\n",
            "x1           0.036067\n",
            "dtype: float64 \n",
            "\n",
            "Множественная модель:\n",
            " Intercept    4.043658\n",
            "x1           0.046620\n",
            "x2           0.042294\n",
            "x3           0.032442\n",
            "dtype: float64\n"
          ]
        }
      ],
      "source": [
        "print('СТАНДАРТНАЯ ОШИБКА\\n\\nПарная модель:\\n', p_results.HC0_se, '\\n\\nМножественная модель:\\n', m_results.HC0_se)"
      ]
    },
    {
      "cell_type": "code",
      "execution_count": 10,
      "metadata": {},
      "outputs": [
        {
          "name": "stdout",
          "output_type": "stream",
          "text": [
            "СРЕДНЯЯ ОТНОСИТЕЛЬНАЯ ОШИБКА АППРОКСИМАЦИИ\n",
            "\n",
            "Парная модель: 1.177630862705952e-05 \n",
            "Множественная модель: 9.742628218983842e-06\n"
          ]
        }
      ],
      "source": [
        "print('СРЕДНЯЯ ОТНОСИТЕЛЬНАЯ ОШИБКА АППРОКСИМАЦИИ\\n\\nПарная модель:', mean_absolute_error(y, p_results.fittedvalues) / y.abs().sum(), \n",
        "'\\nМножественная модель:', mean_absolute_error(y, m_results.fittedvalues) / y.abs().sum())"
      ]
    },
    {
      "cell_type": "markdown",
      "metadata": {},
      "source": [
        "#### 4. Проведите тесты на значимость параметров моделей и моделей в целом."
      ]
    },
    {
      "cell_type": "code",
      "execution_count": 11,
      "metadata": {},
      "outputs": [
        {
          "name": "stdout",
          "output_type": "stream",
          "text": [
            "ДОВЕРИТЕЛЬНЫЕ ИНТЕРВАЛЫ\n",
            "\n",
            "Парная модель:\n",
            " 2.781254306050499e-69\n"
          ]
        }
      ],
      "source": [
        "print('ДОВЕРИТЕЛЬНЫЕ ИНТЕРВАЛЫ\\n\\nПарная модель:\\n', p_results.f_pvalue)"
      ]
    },
    {
      "cell_type": "markdown",
      "metadata": {},
      "source": [
        "p-value < alfa => парная модель регрессии в целом значима"
      ]
    },
    {
      "cell_type": "code",
      "execution_count": 12,
      "metadata": {},
      "outputs": [
        {
          "name": "stdout",
          "output_type": "stream",
          "text": [
            "Множественная модель:\n",
            " 5.280750073098084e-91\n"
          ]
        }
      ],
      "source": [
        "print('Множественная модель:\\n', m_results.f_pvalue)"
      ]
    },
    {
      "cell_type": "markdown",
      "metadata": {},
      "source": [
        "p-value < alfa => множественная модель регрессии в целом значима"
      ]
    },
    {
      "cell_type": "markdown",
      "metadata": {},
      "source": [
        "#### 5. Постройте доверительные интервалы для параметров."
      ]
    },
    {
      "cell_type": "code",
      "execution_count": 13,
      "metadata": {},
      "outputs": [
        {
          "name": "stdout",
          "output_type": "stream",
          "text": [
            "ДОВЕРИТЕЛЬНЫЕ ИНТЕРВАЛЫ\n",
            "\n",
            "Парная модель:\n",
            "                    0          1\n",
            "Intercept  62.602762  73.876518\n",
            "x1          0.754880   0.893823 \n",
            "\n",
            "Множественная модель:\n",
            "                    0           1\n",
            "Intercept  89.597566  105.678859\n",
            "x1          0.632154    0.815042\n",
            "x2         -0.171739   -0.005242\n",
            "x3         -0.430996   -0.300987\n"
          ]
        }
      ],
      "source": [
        "print('ДОВЕРИТЕЛЬНЫЕ ИНТЕРВАЛЫ\\n\\nПарная модель:\\n', p_results.conf_int(0.05), \n",
        "'\\n\\nМножественная модель:\\n', m_results.conf_int(0.05))"
      ]
    },
    {
      "cell_type": "markdown",
      "metadata": {},
      "source": [
        "#### 6. Рассчитайте коэффициенты бетта, дельта и эластичности."
      ]
    },
    {
      "cell_type": "code",
      "execution_count": 14,
      "metadata": {},
      "outputs": [
        {
          "name": "stdout",
          "output_type": "stream",
          "text": [
            "БЕТТА\n",
            "\n",
            "Парная модель:\n",
            " 0.8244 \n",
            "\n",
            "Множественная модель:\n",
            " 0.7236 -0.0885 -0.366\n"
          ]
        }
      ],
      "source": [
        "p_beta = p_df['coef'].values[1]\n",
        "m_beta_1 = m_df['coef'].values[1]\n",
        "m_beta_2 = m_df['coef'].values[2]\n",
        "m_beta_3 = m_df['coef'].values[3]\n",
        "\n",
        "print('БЕТТА\\n\\nПарная модель:\\n', p_beta, \n",
        "'\\n\\nМножественная модель:\\n', m_beta_1, m_beta_2, m_beta_3)"
      ]
    },
    {
      "cell_type": "code",
      "execution_count": 15,
      "metadata": {},
      "outputs": [
        {
          "name": "stdout",
          "output_type": "stream",
          "text": [
            "ДЕЛЬТА\n",
            "\n",
            "Парная модель:\n",
            " 1.0252020086436782 \n",
            "\n",
            "Множественная модель:\n",
            " 0.7670273833325195 -0.0586918468489766 0.31617768721932094\n"
          ]
        }
      ],
      "source": [
        "p_delta = x1_corr * p_beta / p_results.rsquared\n",
        "m_delta_1 = x1_corr * m_beta_1 / m_results.rsquared\n",
        "m_delta_2 = x2_corr * m_beta_2 / m_results.rsquared\n",
        "m_delta_3 = x3_corr * m_beta_3 / m_results.rsquared\n",
        "\n",
        "print('ДЕЛЬТА\\n\\nПарная модель:\\n', p_delta, \n",
        "'\\n\\nМножественная модель:\\n', m_delta_1, m_delta_2, m_delta_3)"
      ]
    },
    {
      "cell_type": "code",
      "execution_count": 16,
      "metadata": {},
      "outputs": [
        {
          "name": "stdout",
          "output_type": "stream",
          "text": [
            "ЭЛАСТИЧНОСТИ\n",
            "\n",
            "Парная модель:\n",
            " 0.4950084317726777 \n",
            "\n",
            "Множественная модель:\n",
            " 0.4344833833463241 -0.01904123638586956 -0.01904123638586956\n"
          ]
        }
      ],
      "source": [
        "p_elastic = p_beta * x1.mean() / y.mean()\n",
        "m_elastic_1 = m_beta_1 * x1.mean() / y.mean()\n",
        "m_elastic_2 = m_beta_2 * x2.mean() / y.mean()\n",
        "m_elastic_3 = m_beta_2 * x2.mean() / y.mean()\n",
        "\n",
        "print('ЭЛАСТИЧНОСТИ\\n\\nПарная модель:\\n', p_elastic, \n",
        "'\\n\\nМножественная модель:\\n', m_elastic_1, m_elastic_2, m_elastic_3)"
      ]
    },
    {
      "cell_type": "markdown",
      "metadata": {},
      "source": [
        "#### 7. Проверьте модели на выполнение предпосылок о гомоскедастичности и об отсутствии автокорреляции. Используйте тесты: Гольфелда-Квандта, Бреуша-Пагана, Дарбина-Уотсона, Бреуша-Годфри."
      ]
    },
    {
      "cell_type": "code",
      "execution_count": 17,
      "metadata": {},
      "outputs": [
        {
          "name": "stdout",
          "output_type": "stream",
          "text": [
            "ГОЛЬФЕЛДА-КВАНДТА\n",
            "Парная модель: [('F statistic', 1.2181036297496088), ('p-value', 0.11563245324620201)] \n",
            "Множественная модель: [('F statistic', 1.0183078087398385), ('p-value', 0.45643528776129333)]\n"
          ]
        }
      ],
      "source": [
        "print('Гольфелда-Квандта'.upper())\n",
        "p_GQtest = sms.het_goldfeldquandt(p_results.resid, p_results.model.exog)\n",
        "m_GQtest = sms.het_goldfeldquandt(m_results.resid, m_results.model.exog)\n",
        "print('Парная модель:', lzip(['F statistic', 'p-value'], p_GQtest), \n",
        "'\\nМножественная модель:', lzip(['F statistic', 'p-value'], m_GQtest))"
      ]
    },
    {
      "cell_type": "code",
      "execution_count": 18,
      "metadata": {},
      "outputs": [
        {
          "name": "stdout",
          "output_type": "stream",
          "text": [
            "БРЕУША-ПАГАНА\n",
            "Парная модель: [('BP', 0.8565986114548507), ('p-value', 0.3546922998109465)] \n",
            "Множественная модель: [('BP', 2.0289676026294834), ('p-value', 0.5664161916454731)]\n"
          ]
        }
      ],
      "source": [
        "print('Бреуша-Пагана'.upper())\n",
        "p_BPtest = sms.het_breuschpagan(p_results.resid, p_results.model.exog)\n",
        "m_BPtest = sms.het_breuschpagan(m_results.resid, m_results.model.exog)\n",
        "\n",
        "print('Парная модель:', lzip(['BP','p-value'], p_BPtest), \n",
        "'\\nМножественная модель:', lzip(['BP','p-value'], m_BPtest))"
      ]
    },
    {
      "cell_type": "code",
      "execution_count": 19,
      "metadata": {},
      "outputs": [
        {
          "name": "stdout",
          "output_type": "stream",
          "text": [
            "ДАРБИНА-УОТСОНА\n",
            "Парная модель: 2.1627493404857248 \n",
            "Множественная модель: 2.0653635475521877\n"
          ]
        }
      ],
      "source": [
        "print('Дарбина-Уотсона'.upper())\n",
        "p_DWtest = smd.stattools.durbin_watson(p_results.resid)\n",
        "m_DWtest = smd.stattools.durbin_watson(m_results.resid)\n",
        "\n",
        "print('Парная модель:', p_DWtest, \n",
        "'\\nМножественная модель:', m_DWtest)"
      ]
    },
    {
      "cell_type": "code",
      "execution_count": 20,
      "metadata": {},
      "outputs": [
        {
          "data": {
            "text/plain": [
              "2.1627493404857248"
            ]
          },
          "execution_count": 20,
          "metadata": {},
          "output_type": "execute_result"
        }
      ],
      "source": [
        "sms.stattools.durbin_watson(p_results.resid)"
      ]
    },
    {
      "cell_type": "code",
      "execution_count": 21,
      "metadata": {},
      "outputs": [
        {
          "name": "stdout",
          "output_type": "stream",
          "text": [
            "БРЕУША-ГОДФРИ\n",
            "Парная модель: [('Chisq statistic', 2.4237670431252356), ('p-value', 0.11950723771594908), ('F statistic', 2.4190736089884997), ('p-value(F)', 0.12093071960857513)] \n",
            "Множественная модель: [('Chisq statistic', 0.5126276689482068), ('p-value', 0.47400356541927857), ('F statistic', 0.5049467066429993), ('p-value(F)', 0.4778960075216597)]\n"
          ]
        }
      ],
      "source": [
        "print('Бреуша-Годфри'.upper())\n",
        "p_BGtest = sms.acorr_breusch_godfrey(p_results, nlags=1)\n",
        "m_BGtest = sms.acorr_breusch_godfrey(m_results, nlags=1)\n",
        "\n",
        "print('Парная модель:', lzip(['Chisq statistic','p-value', 'F statistic','p-value(F)'], p_BGtest), \n",
        "'\\nМножественная модель:', lzip(['Chisq statistic','p-value', 'F statistic','p-value(F)'], m_BGtest))"
      ]
    },
    {
      "cell_type": "code",
      "execution_count": 116,
      "metadata": {},
      "outputs": [
        {
          "name": "stdout",
          "output_type": "stream",
          "text": [
            "УАЙТА\n",
            "Парная модель: [('WT', 1.1332462719479963), ('p-value', 0.5674383692446461)] \n",
            "Множественная модель: [('WT', 3.446264340466776), ('p-value', 0.9439519450412243)]\n"
          ]
        }
      ],
      "source": [
        "print('Уайта'.upper())\n",
        "p_Wtest = sms.het_white(p_results.resid, p_results.model.exog)\n",
        "m_Wtest = sms.het_white(m_results.resid, m_results.model.exog)\n",
        "\n",
        "print('Парная модель:', lzip(['WT','p-value'], p_Wtest), \n",
        "'\\nМножественная модель:', lzip(['WT','p-value'], m_Wtest))"
      ]
    },
    {
      "cell_type": "markdown",
      "metadata": {},
      "source": [
        "#### 8. Сравните модели множественной и парной регрессии с помощью соответствующего теста. Выберите лучшую."
      ]
    },
    {
      "cell_type": "code",
      "execution_count": 117,
      "metadata": {},
      "outputs": [
        {
          "name": "stdout",
          "output_type": "stream",
          "text": [
            "\t\t ПАРНАЯ\t\t\t МНОЖЕСТВЕННАЯ \n",
            "f_test - \t 545.3130476404082 \t 310.0702179085861 \n",
            "determ - \t 0.6466318162231632 \t 0.7586059139996671 \n",
            "adjust_determ -  0.6454460169487444 \t 0.7561593523172314 \n",
            "st_error - \t 0.5953952624025457 \t 0.49376152069319995 \n",
            "approx - \t 0.35327942525530276 \t 0.2922880895516989\n"
          ]
        }
      ],
      "source": [
        "print('\\t\\t ПАРНАЯ\\t\\t\\t МНОЖЕСТВЕННАЯ',\n",
        "'\\nf_test -', '\\t', p_results.fvalue, '\\t', m_results.fvalue,\n",
        "'\\ndeterm -', '\\t', p_results.rsquared, '\\t', m_results.rsquared,\n",
        "'\\nadjust_determ - ', p_results.rsquared_adj, '\\t', m_results.rsquared_adj,\n",
        "'\\nst_error -', '\\t', np.sqrt(p_results.scale), '\\t', np.sqrt(m_results.scale),\n",
        "'\\napprox -', '\\t', (1/len(x1))*sum(abs((y-p_results.fittedvalues)/y))*100, '\\t', (1/len(x1))*sum(abs((y-m_results.fittedvalues)/y))*100)\n"
      ]
    },
    {
      "cell_type": "markdown",
      "metadata": {},
      "source": [
        "**Итоги**: Выигрывает множественная модель по всем показателям, кроме f-теста"
      ]
    }
  ],
  "metadata": {
    "colab": {
      "collapsed_sections": [],
      "name": "ЭКОНОМЕТРИКА дз1.ipynb",
      "provenance": []
    },
    "interpreter": {
      "hash": "f36bb2415103839c44be3616e885f7d6aee90348d429d9698a9148e0dea357be"
    },
    "kernelspec": {
      "display_name": "Python 3.8.3 32-bit",
      "name": "python3"
    },
    "language_info": {
      "codemirror_mode": {
        "name": "ipython",
        "version": 3
      },
      "file_extension": ".py",
      "mimetype": "text/x-python",
      "name": "python",
      "nbconvert_exporter": "python",
      "pygments_lexer": "ipython3",
      "version": "3.8.3"
    }
  },
  "nbformat": 4,
  "nbformat_minor": 0
}
