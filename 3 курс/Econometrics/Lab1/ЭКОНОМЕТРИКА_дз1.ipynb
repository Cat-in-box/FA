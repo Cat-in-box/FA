{
  "nbformat": 4,
  "nbformat_minor": 0,
  "metadata": {
    "colab": {
      "name": "ЭКОНОМЕТРИКА дз1.ipynb",
      "provenance": [],
      "collapsed_sections": []
    },
    "kernelspec": {
      "name": "python3",
      "display_name": "Python 3"
    },
    "language_info": {
      "name": "python"
    }
  },
  "cells": [
    {
      "cell_type": "markdown",
      "metadata": {
        "id": "M4-HzMUPYW7P"
      },
      "source": [
        "# **ЭКОНОМЕТРИКА**\n",
        "## Домашняя работа №1"
      ]
    },
    {
      "cell_type": "markdown",
      "metadata": {
        "id": "hiN-Ow4dYffH"
      },
      "source": [
        "## *Задание - Спецификация.doc*"
      ]
    },
    {
      "cell_type": "markdown",
      "metadata": {
        "id": "7Wno7VPgaSx1"
      },
      "source": [
        "#### **Задача 4.** Модель корректировки размера дивидендов Линтнера."
      ]
    },
    {
      "cell_type": "markdown",
      "metadata": {
        "id": "ULITFVwIafjl"
      },
      "source": [
        "Пусть Pt - текущая прибыль фирмы после уплаты налогов, Dt - дивиденды, которые фирма выплачивает своим акционерам в текущем периоде. Известный американский экономист Дж. Линтнер сформулировал в 1956г. следующие утверждения:\n",
        "\n",
        "\n",
        "1.   У фирмы имеется долгосрочная целевая доля g текущей прибыли и соответствующий этой доле уровень дивидендов D*t, которые фирма хотела бы выплачивать своим акционерам (желаемый уровень);\n",
        "2.   Изменение (Dt - Dt-1) уровня реальных дивидендов за период прямо пропорционально отличию желаемого объёма D*t текущих дивидендов от их реального уровня в предшествующем периоде Dt-1.\n",
        "\n",
        "**Требуется:**"
      ]
    },
    {
      "cell_type": "markdown",
      "metadata": {
        "id": "W4vlACzPbimi"
      },
      "source": [
        "а) Составить спецификацию модели корректировки размера дивидендов, позволяющую объяснить текущий уровень Dt дивидендов их лаговым значением и текущей прибылью фирмы.\n"
      ]
    },
    {
      "cell_type": "markdown",
      "metadata": {
        "id": "4HcJy1mbdBpm"
      },
      "source": [
        "D*t = g Pt; 0<g<1\n",
        "\n",
        "Dt - Dt_1 = h(D*t - Dt_1)\n"
      ]
    },
    {
      "cell_type": "markdown",
      "metadata": {
        "id": "0bJSyG1oqbKz"
      },
      "source": [
        "D*t = g Pt; 0<g<1\n",
        "\n",
        "Dt = h D*t - h Dt_1 + Dt_1"
      ]
    },
    {
      "cell_type": "markdown",
      "metadata": {
        "id": "PuJQXdfArFst"
      },
      "source": [
        "D*t = g Pt; 0<g<1\n",
        "\n",
        "Dt = h D*t - (h + 1) Dt_1"
      ]
    },
    {
      "cell_type": "markdown",
      "metadata": {
        "id": "mcvRVQo-b5yy"
      },
      "source": [
        "б) Уточнить спецификацию включением случайного возмущения."
      ]
    },
    {
      "cell_type": "markdown",
      "metadata": {
        "id": "WjyZ7sjXsCMI"
      },
      "source": [
        "D*t = g Pt + et; 0<g<1\n",
        "\n",
        "Dt = h D*t - (h + 1) Dt_1 + ut\n"
      ]
    },
    {
      "cell_type": "markdown",
      "metadata": {
        "id": "V5Q_qBMOcIss"
      },
      "source": [
        "в) Представить структурную форму спецификации в матричном виде."
      ]
    },
    {
      "cell_type": "code",
      "metadata": {
        "id": "vCSBPeRQ3PeF"
      },
      "source": [
        "from sympy import symbols, Matrix"
      ],
      "execution_count": null,
      "outputs": []
    },
    {
      "cell_type": "code",
      "metadata": {
        "id": "elqJuPbZ3_0f"
      },
      "source": [
        "Dxt, Dt, Dt_1, Pt = symbols('D*t Dt Dt-1 Pt')\n",
        "g, h = symbols('g h')\n",
        "et, ut = symbols('et ut')"
      ],
      "execution_count": null,
      "outputs": []
    },
    {
      "cell_type": "code",
      "metadata": {
        "id": "JmVJrTbC6Ski"
      },
      "source": [
        "A = Matrix([\n",
        "    [1, 0],\n",
        "    [-h, 1]\n",
        "])"
      ],
      "execution_count": null,
      "outputs": []
    },
    {
      "cell_type": "code",
      "metadata": {
        "id": "qdiDU6yW5pon"
      },
      "source": [
        "Y = Matrix([\n",
        "    [Dxt],\n",
        "    [Dt]\n",
        "])"
      ],
      "execution_count": null,
      "outputs": []
    },
    {
      "cell_type": "code",
      "metadata": {
        "id": "scK-OERv8QVW"
      },
      "source": [
        "B = Matrix([\n",
        "    [-g, 0],\n",
        "    [0, h+1]\n",
        "])"
      ],
      "execution_count": null,
      "outputs": []
    },
    {
      "cell_type": "code",
      "metadata": {
        "id": "ra9LLziC6reG"
      },
      "source": [
        "X = Matrix([\n",
        "    [Pt],\n",
        "    [Dt_1]\n",
        "])"
      ],
      "execution_count": null,
      "outputs": []
    },
    {
      "cell_type": "code",
      "metadata": {
        "id": "KjBOVlug8-XS"
      },
      "source": [
        "U = Matrix([\n",
        "    [et],\n",
        "    [ut]\n",
        "])"
      ],
      "execution_count": null,
      "outputs": []
    },
    {
      "cell_type": "markdown",
      "metadata": {
        "id": "519VPKfPC8Aa"
      },
      "source": [
        "AY + BX = U"
      ]
    },
    {
      "cell_type": "code",
      "metadata": {
        "colab": {
          "base_uri": "https://localhost:8080/"
        },
        "id": "DA4s9ujQEsEB",
        "outputId": "e2757ff9-fd05-430d-8851-b59897a1ac23"
      },
      "source": [
        "A"
      ],
      "execution_count": null,
      "outputs": [
        {
          "output_type": "execute_result",
          "data": {
            "text/latex": "$\\displaystyle \\left[\\begin{matrix}1 & 0\\\\- h & 1\\end{matrix}\\right]$",
            "text/plain": [
              "Matrix([\n",
              "[ 1, 0],\n",
              "[-h, 1]])"
            ]
          },
          "metadata": {},
          "execution_count": 8
        }
      ]
    },
    {
      "cell_type": "code",
      "metadata": {
        "colab": {
          "base_uri": "https://localhost:8080/"
        },
        "id": "opJkaP6eEub2",
        "outputId": "5f378e59-284c-4f1e-e4de-7235dd5f6907"
      },
      "source": [
        "Y"
      ],
      "execution_count": null,
      "outputs": [
        {
          "output_type": "execute_result",
          "data": {
            "text/latex": "$\\displaystyle \\left[\\begin{matrix}D*t\\\\Dt\\end{matrix}\\right]$",
            "text/plain": [
              "Matrix([\n",
              "[D*t],\n",
              "[ Dt]])"
            ]
          },
          "metadata": {},
          "execution_count": 9
        }
      ]
    },
    {
      "cell_type": "markdown",
      "metadata": {
        "id": "VEb9KtuhDiY1"
      },
      "source": [
        "+"
      ]
    },
    {
      "cell_type": "code",
      "metadata": {
        "colab": {
          "base_uri": "https://localhost:8080/"
        },
        "id": "u8AvEYDTExFN",
        "outputId": "c00d02e8-829e-4b52-9a30-ff03e4691559"
      },
      "source": [
        "B"
      ],
      "execution_count": null,
      "outputs": [
        {
          "output_type": "execute_result",
          "data": {
            "text/latex": "$\\displaystyle \\left[\\begin{matrix}- g & 0\\\\0 & h + 1\\end{matrix}\\right]$",
            "text/plain": [
              "Matrix([\n",
              "[-g,     0],\n",
              "[ 0, h + 1]])"
            ]
          },
          "metadata": {},
          "execution_count": 10
        }
      ]
    },
    {
      "cell_type": "code",
      "metadata": {
        "colab": {
          "base_uri": "https://localhost:8080/"
        },
        "id": "0lN9fc15Ewr8",
        "outputId": "ba5fc5c1-ef7d-4d4d-cc7a-1dabc0b23c57"
      },
      "source": [
        "X"
      ],
      "execution_count": null,
      "outputs": [
        {
          "output_type": "execute_result",
          "data": {
            "text/latex": "$\\displaystyle \\left[\\begin{matrix}Pt\\\\Dt-1\\end{matrix}\\right]$",
            "text/plain": [
              "Matrix([\n",
              "[  Pt],\n",
              "[Dt-1]])"
            ]
          },
          "metadata": {},
          "execution_count": 11
        }
      ]
    },
    {
      "cell_type": "markdown",
      "metadata": {
        "id": "GOdDLhUjDp8y"
      },
      "source": [
        "="
      ]
    },
    {
      "cell_type": "code",
      "metadata": {
        "colab": {
          "base_uri": "https://localhost:8080/"
        },
        "id": "T7gsH0CcE2vE",
        "outputId": "4e21b596-566b-4604-85f8-1fb2e873cbdd"
      },
      "source": [
        "U"
      ],
      "execution_count": null,
      "outputs": [
        {
          "output_type": "execute_result",
          "data": {
            "text/latex": "$\\displaystyle \\left[\\begin{matrix}et\\\\ut\\end{matrix}\\right]$",
            "text/plain": [
              "Matrix([\n",
              "[et],\n",
              "[ut]])"
            ]
          },
          "metadata": {},
          "execution_count": 12
        }
      ]
    },
    {
      "cell_type": "markdown",
      "metadata": {
        "id": "md51yxHecLpf"
      },
      "source": [
        "г) Составить приведенную форму модели."
      ]
    },
    {
      "cell_type": "markdown",
      "metadata": {
        "id": "wtC5SU161Ga-"
      },
      "source": [
        "D*t = g Pt + 0 Dt_1 + et; 0<g<1\n",
        "\n",
        "Dt = h g Pt - (h + 1) Dt_1 + ut"
      ]
    },
    {
      "cell_type": "markdown",
      "metadata": {
        "id": "8XUKHWRbcPta"
      },
      "source": [
        "д) Записать приведенную форму в матричном виде."
      ]
    },
    {
      "cell_type": "markdown",
      "metadata": {
        "id": "1i5HilpiD7VX"
      },
      "source": [
        "Y = -A^(-1) B X + A^(-1) U"
      ]
    },
    {
      "cell_type": "code",
      "metadata": {
        "colab": {
          "base_uri": "https://localhost:8080/"
        },
        "id": "_5w9bQEUYfLs",
        "outputId": "323a8577-2dc3-4991-9972-c8f9949d2fef"
      },
      "source": [
        "Y"
      ],
      "execution_count": null,
      "outputs": [
        {
          "output_type": "execute_result",
          "data": {
            "text/latex": "$\\displaystyle \\left[\\begin{matrix}D*t\\\\Dt\\end{matrix}\\right]$",
            "text/plain": [
              "Matrix([\n",
              "[D*t],\n",
              "[ Dt]])"
            ]
          },
          "metadata": {},
          "execution_count": 13
        }
      ]
    },
    {
      "cell_type": "markdown",
      "metadata": {
        "id": "bM7zzVKTELXc"
      },
      "source": [
        "="
      ]
    },
    {
      "cell_type": "code",
      "metadata": {
        "colab": {
          "base_uri": "https://localhost:8080/"
        },
        "id": "MjCnYaIBYKNd",
        "outputId": "0585490e-a881-4384-ebe7-33eebc0844de"
      },
      "source": [
        "-A.inv() * B"
      ],
      "execution_count": null,
      "outputs": [
        {
          "output_type": "execute_result",
          "data": {
            "text/latex": "$\\displaystyle \\left[\\begin{matrix}g & 0\\\\g h & - h - 1\\end{matrix}\\right]$",
            "text/plain": [
              "Matrix([\n",
              "[  g,      0],\n",
              "[g*h, -h - 1]])"
            ]
          },
          "metadata": {},
          "execution_count": 14
        }
      ]
    },
    {
      "cell_type": "code",
      "metadata": {
        "colab": {
          "base_uri": "https://localhost:8080/"
        },
        "id": "ioM51TVZYWY9",
        "outputId": "f54faf95-7a63-426d-fb6b-92d823637f42"
      },
      "source": [
        "X"
      ],
      "execution_count": null,
      "outputs": [
        {
          "output_type": "execute_result",
          "data": {
            "text/latex": "$\\displaystyle \\left[\\begin{matrix}Pt\\\\Dt-1\\end{matrix}\\right]$",
            "text/plain": [
              "Matrix([\n",
              "[  Pt],\n",
              "[Dt-1]])"
            ]
          },
          "metadata": {},
          "execution_count": 15
        }
      ]
    },
    {
      "cell_type": "markdown",
      "metadata": {
        "id": "uRR3ev3kJdw8"
      },
      "source": [
        "+"
      ]
    },
    {
      "cell_type": "code",
      "metadata": {
        "colab": {
          "base_uri": "https://localhost:8080/"
        },
        "id": "HvGeV4qLYWPY",
        "outputId": "2f1e36b8-c879-42bf-b2b8-3a580a1ed420"
      },
      "source": [
        "A.inv()"
      ],
      "execution_count": null,
      "outputs": [
        {
          "output_type": "execute_result",
          "data": {
            "text/latex": "$\\displaystyle \\left[\\begin{matrix}1 & 0\\\\h & 1\\end{matrix}\\right]$",
            "text/plain": [
              "Matrix([\n",
              "[1, 0],\n",
              "[h, 1]])"
            ]
          },
          "metadata": {},
          "execution_count": 16
        }
      ]
    },
    {
      "cell_type": "code",
      "metadata": {
        "colab": {
          "base_uri": "https://localhost:8080/"
        },
        "id": "Uk2o0s0jYWG1",
        "outputId": "84d69b4b-e0be-49fe-b82f-9e86409edae5"
      },
      "source": [
        "U"
      ],
      "execution_count": null,
      "outputs": [
        {
          "output_type": "execute_result",
          "data": {
            "text/latex": "$\\displaystyle \\left[\\begin{matrix}et\\\\ut\\end{matrix}\\right]$",
            "text/plain": [
              "Matrix([\n",
              "[et],\n",
              "[ut]])"
            ]
          },
          "metadata": {},
          "execution_count": 17
        }
      ]
    },
    {
      "cell_type": "markdown",
      "metadata": {
        "id": "4lZ3taVGJ703"
      },
      "source": [
        "## *Задание на спецификацию.pdf*"
      ]
    },
    {
      "cell_type": "markdown",
      "metadata": {
        "id": "ECNFw83DKtl3"
      },
      "source": [
        "#### **Задача 2.1** Необходимо составить спецификацию модификации модели IS—LM - модели Манделла-Флеминга открытой экономики в краткосрочном периоде с плавающим обменным курсом."
      ]
    },
    {
      "cell_type": "markdown",
      "metadata": {
        "id": "tqO8fln4rZbB"
      },
      "source": [
        "Состояние национальной экономики в заданном периоде времени описывается количественными характеристиками *Y, C, I, NX, E, R, L, CF, M, P, G, T*, где\n",
        "*   *Y* - объем (величина) выпуска (совокупный спрос, валовый внутренний продукт);\n",
        "*   *C* - уровень потребления;\n",
        "*   *I* - объем инвестиций в экономику;\n",
        "*   *R* - ставка процента (рефинансирования);\n",
        "*   *L* - спрос на деньги в реальном выражении (не путать с уровнем затрат труда!);\n",
        "*   *M* - уровень предложения денег;\n",
        "*   *P* - уровень цен;\n",
        "*   *G* - объем государственных расходов;\n",
        "*   *T* - уровень налогов.\n",
        "\n",
        "Используя приведенные ниже утверждения, составьте спецификацию макромодели Манделла—Флеминга, предназначенной для объяснения переменных *Y, R, L, I, C, NX, E* и *CF* значениями переменных *M, P, G* и *T*."
      ]
    },
    {
      "cell_type": "markdown",
      "metadata": {
        "id": "GNHjUulKv2TS"
      },
      "source": [
        "При составлении спецификации модели следует использовать следующие утверждения:\n",
        "1.\tОбъем выпуска *Y* является суммой частного потребления *C*, инвестиций *I*, государственного потребления (расходов) *G* и чистого экспорта *NX*;\n",
        "2.\tУровень потребления *C* объясняется располагаемым доходом (*Y - T*), и возрастает в ответ на увеличение этого дохода, при этом каждая дополнительная единица располагаемого дохода потребляется не полностью;\n",
        "3.\tОбъем инвестиций в экономику *I* объясняется реальной ставкой процента *R* и снижается в ответ на рост этой ставки;\n",
        "4.\tУровень спроса на деньги в реальном выражении *L* объясняется реальной ставкой процента *R* и величиной дохода *Y*; *L* снижается при увеличении *R* и возрастает в ответ на увеличение *Y*;\n",
        "5.\tНа денежном рынке существует равновесие спроса и предложения денег в реальном выражении;\n",
        "6.\tУровень чистого экспорта *NX* объясняется номинальным обменным курсом *E*, и в ответ на увеличение номинального обменного курса уровень чистого экспорта снижается;\n",
        "7.\tПриток иностранного капитала *CF* (счет движения капитала платежного баланса) объясняется реальной ставкой процента *R* и увеличивается в ответ на рост этой ставки;\n",
        "8.\tСчет движения капитала платежного баланса *CF* и счет текущих операций *NX* уравновешивают друг друга, т.е. в сумме равны нулю."
      ]
    },
    {
      "cell_type": "markdown",
      "metadata": {
        "id": "mmNROkSNykLx"
      },
      "source": [
        "**Y** = **C** + **I** + G + **NX**\n",
        "\n",
        "**C** = a (**Y** - T) + b + ε; 0 < a < 1, b > 0\n",
        "\n",
        "**I** = - c **R** + d + u; c > 0, d > 0\n",
        "\n",
        "**L** = - e **R** + f **Y** + v; e > 0, f > 0\n",
        "\n",
        "**L** = M\n",
        "\n",
        "**NX** = - g **E** + h + λ; g > 0, h > 0\n",
        "\n",
        "**CF** = i **R** + φ; i > 0\n",
        "\n",
        "**CF** + **NX** = 0"
      ]
    },
    {
      "cell_type": "markdown",
      "metadata": {
        "id": "TDabB6gfv65b"
      },
      "source": [
        "После составления спецификации модели Манделла-Флеминга преобразуйте ее к приведенной форме. Запишите модель в матричном виде, указав вектора эндогенных и экзогенных векторов, матрицы коэффициентов при эндогенных и экзогенных переменных. Получив приведенную модель запишите результирующую матрицу М = -А^(-1) * В."
      ]
    },
    {
      "cell_type": "code",
      "metadata": {
        "id": "D26eBtE8UHNR"
      },
      "source": [
        "Yt, Rt, Lt, It, Ct, NXt, Et, CFt = symbols('Y R L I C NX E CF')\n",
        "Mt, Pt, Gt, Tt = symbols('M P G T')\n",
        "a, b, c, d, e, f, g, h, i = symbols(' a b c d e f g h i')\n",
        "ε, u, v, λ, φ = symbols('ε u v λ φ')"
      ],
      "execution_count": null,
      "outputs": []
    },
    {
      "cell_type": "code",
      "metadata": {
        "id": "9TB8RnbUvwcb"
      },
      "source": [
        "Y = Matrix([\n",
        "            [Yt],\n",
        "            [Rt],\n",
        "            [Lt],\n",
        "            [It],\n",
        "            [Ct],\n",
        "            [NXt],\n",
        "            [Et],\n",
        "            [CFt]            \n",
        "])"
      ],
      "execution_count": null,
      "outputs": []
    },
    {
      "cell_type": "code",
      "metadata": {
        "id": "vnG1h9hAW8eV"
      },
      "source": [
        "A = Matrix([\n",
        "            [1, 0, 0, -1, -1, -1, 0, 0],\n",
        "            [-a, 0, 0, 0, 1, 0, 0, 0],\n",
        "            [0, c, 0, 1, 0, 0, 0, 0],\n",
        "            [-f, e, 1, 0, 0, 0, 0, 0],\n",
        "            [0, 0, 1, 0, 0, 0, 0, 0],\n",
        "            [0, 0, 0, 0, 0, 1, g, 0],\n",
        "            [0, -i, 0, 0, 0, 0, 0, 1],\n",
        "            [0, 0, 0, 0, 0, 1, 0, 1]\n",
        "])"
      ],
      "execution_count": null,
      "outputs": []
    },
    {
      "cell_type": "code",
      "metadata": {
        "id": "Tp8YkwB_ZOFX"
      },
      "source": [
        "X = Matrix([\n",
        "            [1],\n",
        "            [Mt],\n",
        "            [Pt],\n",
        "            [Gt],\n",
        "            [Tt]\n",
        "])"
      ],
      "execution_count": null,
      "outputs": []
    },
    {
      "cell_type": "code",
      "metadata": {
        "id": "-7wkM_VIZ4pR"
      },
      "source": [
        "B =  Matrix([\n",
        "             [0, 0, 0, -1, 0],\n",
        "             [-b, 0, 0, 0, a],\n",
        "             [-d, 0, 0, 0, 0],\n",
        "             [0, 0, 0, 0, 0],\n",
        "             [0, -1, 0, 0, 0],\n",
        "             [-1, 0, 0, 0, 0],\n",
        "             [0, 0, 0, 0, 0],\n",
        "             [0, 0, 0, 0, 0]\n",
        "])"
      ],
      "execution_count": null,
      "outputs": []
    },
    {
      "cell_type": "code",
      "metadata": {
        "id": "D_cF9kRoluwl"
      },
      "source": [
        "U = Matrix([\n",
        "            [0],\n",
        "            [ε],\n",
        "            [u],\n",
        "            [v],\n",
        "            [0],\n",
        "            [λ],\n",
        "            [φ],\n",
        "            [0]\n",
        "\n",
        "])"
      ],
      "execution_count": null,
      "outputs": []
    },
    {
      "cell_type": "markdown",
      "metadata": {
        "id": "EG7giXXyrYj1"
      },
      "source": [
        "Y = -A^(-1) B X + A^(-1) U"
      ]
    },
    {
      "cell_type": "code",
      "metadata": {
        "id": "uL1MEQM8rX-f",
        "colab": {
          "base_uri": "https://localhost:8080/",
          "height": 181
        },
        "outputId": "9f4ebe9a-902b-4c30-8fe3-375b081d8895"
      },
      "source": [
        "Y"
      ],
      "execution_count": null,
      "outputs": [
        {
          "output_type": "execute_result",
          "data": {
            "text/latex": "$\\displaystyle \\left[\\begin{matrix}Y\\\\R\\\\L\\\\I\\\\C\\\\NX\\\\E\\\\CF\\end{matrix}\\right]$",
            "text/plain": [
              "Matrix([\n",
              "[ Y],\n",
              "[ R],\n",
              "[ L],\n",
              "[ I],\n",
              "[ C],\n",
              "[NX],\n",
              "[ E],\n",
              "[CF]])"
            ]
          },
          "metadata": {},
          "execution_count": 29
        }
      ]
    },
    {
      "cell_type": "markdown",
      "metadata": {
        "id": "nrlAT5AEmcsG"
      },
      "source": [
        "="
      ]
    },
    {
      "cell_type": "code",
      "metadata": {
        "colab": {
          "base_uri": "https://localhost:8080/",
          "height": 207
        },
        "id": "B0pp3TUNmeOx",
        "outputId": "e079973c-7815-4e3f-fc99-07e0445b3cd6"
      },
      "source": [
        "-A.inv() * B"
      ],
      "execution_count": null,
      "outputs": [
        {
          "output_type": "execute_result",
          "data": {
            "text/latex": "$\\displaystyle \\left[\\begin{matrix}- \\frac{b e}{a e - c f - e - f i} - \\frac{d e}{a e - c f - e - f i} & \\frac{- c - i}{a e - c f - e - f i} & 0 & - \\frac{e}{a e - c f - e - f i} & \\frac{a e}{a e - c f - e - f i}\\\\- \\frac{b f}{a e - c f - e - f i} - \\frac{d f}{a e - c f - e - f i} & \\frac{1 - a}{a e - c f - e - f i} & 0 & - \\frac{f}{a e - c f - e - f i} & \\frac{a f}{a e - c f - e - f i}\\\\0 & 1 & 0 & 0 & 0\\\\\\frac{b c f}{a e - c f - e - f i} + \\frac{d \\left(a e - e - f i\\right)}{a e - c f - e - f i} & \\frac{a c - c}{a e - c f - e - f i} & 0 & \\frac{c f}{a e - c f - e - f i} & - \\frac{a c f}{a e - c f - e - f i}\\\\- \\frac{a d e}{a e - c f - e - f i} + \\frac{b \\left(- c f - e - f i\\right)}{a e - c f - e - f i} & \\frac{- a c - a i}{a e - c f - e - f i} & 0 & - \\frac{a e}{a e - c f - e - f i} & - \\frac{a \\left(- c f - e - f i\\right)}{a e - c f - e - f i}\\\\\\frac{b f i}{a e - c f - e - f i} + \\frac{d f i}{a e - c f - e - f i} & \\frac{a i - i}{a e - c f - e - f i} & 0 & \\frac{f i}{a e - c f - e - f i} & - \\frac{a f i}{a e - c f - e - f i}\\\\- \\frac{b f i}{a e g - c f g - e g - f g i} - \\frac{d f i}{a e g - c f g - e g - f g i} + \\frac{1}{g} & \\frac{- a i + i}{a e g - c f g - e g - f g i} & 0 & - \\frac{f i}{a e g - c f g - e g - f g i} & \\frac{a f i}{a e g - c f g - e g - f g i}\\\\- \\frac{b f i}{a e - c f - e - f i} - \\frac{d f i}{a e - c f - e - f i} & \\frac{- a i + i}{a e - c f - e - f i} & 0 & - \\frac{f i}{a e - c f - e - f i} & \\frac{a f i}{a e - c f - e - f i}\\end{matrix}\\right]$",
            "text/plain": [
              "Matrix([\n",
              "[                          -b*e/(a*e - c*f - e - f*i) - d*e/(a*e - c*f - e - f*i),           (-c - i)/(a*e - c*f - e - f*i), 0,           -e/(a*e - c*f - e - f*i),                 a*e/(a*e - c*f - e - f*i)],\n",
              "[                          -b*f/(a*e - c*f - e - f*i) - d*f/(a*e - c*f - e - f*i),            (1 - a)/(a*e - c*f - e - f*i), 0,           -f/(a*e - c*f - e - f*i),                 a*f/(a*e - c*f - e - f*i)],\n",
              "[                                                                               0,                                        1, 0,                                  0,                                         0],\n",
              "[           b*c*f/(a*e - c*f - e - f*i) + d*(a*e - e - f*i)/(a*e - c*f - e - f*i),          (a*c - c)/(a*e - c*f - e - f*i), 0,          c*f/(a*e - c*f - e - f*i),              -a*c*f/(a*e - c*f - e - f*i)],\n",
              "[         -a*d*e/(a*e - c*f - e - f*i) + b*(-c*f - e - f*i)/(a*e - c*f - e - f*i),       (-a*c - a*i)/(a*e - c*f - e - f*i), 0,         -a*e/(a*e - c*f - e - f*i), -a*(-c*f - e - f*i)/(a*e - c*f - e - f*i)],\n",
              "[                       b*f*i/(a*e - c*f - e - f*i) + d*f*i/(a*e - c*f - e - f*i),          (a*i - i)/(a*e - c*f - e - f*i), 0,          f*i/(a*e - c*f - e - f*i),              -a*f*i/(a*e - c*f - e - f*i)],\n",
              "[-b*f*i/(a*e*g - c*f*g - e*g - f*g*i) - d*f*i/(a*e*g - c*f*g - e*g - f*g*i) + 1/g, (-a*i + i)/(a*e*g - c*f*g - e*g - f*g*i), 0, -f*i/(a*e*g - c*f*g - e*g - f*g*i),       a*f*i/(a*e*g - c*f*g - e*g - f*g*i)],\n",
              "[                      -b*f*i/(a*e - c*f - e - f*i) - d*f*i/(a*e - c*f - e - f*i),         (-a*i + i)/(a*e - c*f - e - f*i), 0,         -f*i/(a*e - c*f - e - f*i),               a*f*i/(a*e - c*f - e - f*i)]])"
            ]
          },
          "metadata": {},
          "execution_count": 32
        }
      ]
    },
    {
      "cell_type": "code",
      "metadata": {
        "colab": {
          "base_uri": "https://localhost:8080/",
          "height": 120
        },
        "id": "pYNrxfs4m_zW",
        "outputId": "2b30a46d-a9b2-453d-c739-bfcae47de001"
      },
      "source": [
        "X"
      ],
      "execution_count": null,
      "outputs": [
        {
          "output_type": "execute_result",
          "data": {
            "text/latex": "$\\displaystyle \\left[\\begin{matrix}1\\\\M\\\\P\\\\G\\\\T\\end{matrix}\\right]$",
            "text/plain": [
              "Matrix([\n",
              "[1],\n",
              "[M],\n",
              "[P],\n",
              "[G],\n",
              "[T]])"
            ]
          },
          "metadata": {},
          "execution_count": 33
        }
      ]
    },
    {
      "cell_type": "markdown",
      "metadata": {
        "id": "P0UJ-lVunEu-"
      },
      "source": [
        "+"
      ]
    },
    {
      "cell_type": "code",
      "metadata": {
        "colab": {
          "base_uri": "https://localhost:8080/",
          "height": 204
        },
        "id": "PeOAeuggnIlC",
        "outputId": "803e1803-f5ef-4e72-d831-844b48aab7fb"
      },
      "source": [
        "A.inv()"
      ],
      "execution_count": null,
      "outputs": [
        {
          "output_type": "execute_result",
          "data": {
            "text/latex": "$\\displaystyle \\left[\\begin{matrix}- \\frac{e}{a e - c f - e - f i} & - \\frac{e}{a e - c f - e - f i} & - \\frac{e}{a e - c f - e - f i} & \\frac{c + i}{a e - c f - e - f i} & \\frac{- c - i}{a e - c f - e - f i} & 0 & \\frac{e}{a e - c f - e - f i} & - \\frac{e}{a e - c f - e - f i}\\\\- \\frac{f}{a e - c f - e - f i} & - \\frac{f}{a e - c f - e - f i} & - \\frac{f}{a e - c f - e - f i} & \\frac{a - 1}{a e - c f - e - f i} & \\frac{1 - a}{a e - c f - e - f i} & 0 & \\frac{f}{a e - c f - e - f i} & - \\frac{f}{a e - c f - e - f i}\\\\0 & 0 & 0 & 0 & 1 & 0 & 0 & 0\\\\\\frac{c f}{a e - c f - e - f i} & \\frac{c f}{a e - c f - e - f i} & \\frac{a e - e - f i}{a e - c f - e - f i} & \\frac{- a c + c}{a e - c f - e - f i} & \\frac{a c - c}{a e - c f - e - f i} & 0 & - \\frac{c f}{a e - c f - e - f i} & \\frac{c f}{a e - c f - e - f i}\\\\- \\frac{a e}{a e - c f - e - f i} & \\frac{- c f - e - f i}{a e - c f - e - f i} & - \\frac{a e}{a e - c f - e - f i} & \\frac{a c + a i}{a e - c f - e - f i} & \\frac{- a c - a i}{a e - c f - e - f i} & 0 & \\frac{a e}{a e - c f - e - f i} & - \\frac{a e}{a e - c f - e - f i}\\\\\\frac{f i}{a e - c f - e - f i} & \\frac{f i}{a e - c f - e - f i} & \\frac{f i}{a e - c f - e - f i} & \\frac{- a i + i}{a e - c f - e - f i} & \\frac{a i - i}{a e - c f - e - f i} & 0 & \\frac{- a e + c f + e}{a e - c f - e - f i} & \\frac{a e - c f - e}{a e - c f - e - f i}\\\\- \\frac{f i}{a e g - c f g - e g - f g i} & - \\frac{f i}{a e g - c f g - e g - f g i} & - \\frac{f i}{a e g - c f g - e g - f g i} & \\frac{a i - i}{a e g - c f g - e g - f g i} & \\frac{- a i + i}{a e g - c f g - e g - f g i} & \\frac{1}{g} & \\frac{a e - c f - e}{a e g - c f g - e g - f g i} & \\frac{- a e + c f + e}{a e g - c f g - e g - f g i}\\\\- \\frac{f i}{a e - c f - e - f i} & - \\frac{f i}{a e - c f - e - f i} & - \\frac{f i}{a e - c f - e - f i} & \\frac{a i - i}{a e - c f - e - f i} & \\frac{- a i + i}{a e - c f - e - f i} & 0 & \\frac{a e - c f - e}{a e - c f - e - f i} & - \\frac{f i}{a e - c f - e - f i}\\end{matrix}\\right]$",
            "text/plain": [
              "Matrix([\n",
              "[          -e/(a*e - c*f - e - f*i),               -e/(a*e - c*f - e - f*i),              -e/(a*e - c*f - e - f*i),           (c + i)/(a*e - c*f - e - f*i),           (-c - i)/(a*e - c*f - e - f*i),   0,                       e/(a*e - c*f - e - f*i),                       -e/(a*e - c*f - e - f*i)],\n",
              "[          -f/(a*e - c*f - e - f*i),               -f/(a*e - c*f - e - f*i),              -f/(a*e - c*f - e - f*i),           (a - 1)/(a*e - c*f - e - f*i),            (1 - a)/(a*e - c*f - e - f*i),   0,                       f/(a*e - c*f - e - f*i),                       -f/(a*e - c*f - e - f*i)],\n",
              "[                                 0,                                      0,                                     0,                                       0,                                        1,   0,                                             0,                                              0],\n",
              "[         c*f/(a*e - c*f - e - f*i),              c*f/(a*e - c*f - e - f*i), (a*e - e - f*i)/(a*e - c*f - e - f*i),        (-a*c + c)/(a*e - c*f - e - f*i),          (a*c - c)/(a*e - c*f - e - f*i),   0,                    -c*f/(a*e - c*f - e - f*i),                      c*f/(a*e - c*f - e - f*i)],\n",
              "[        -a*e/(a*e - c*f - e - f*i), (-c*f - e - f*i)/(a*e - c*f - e - f*i),            -a*e/(a*e - c*f - e - f*i),       (a*c + a*i)/(a*e - c*f - e - f*i),       (-a*c - a*i)/(a*e - c*f - e - f*i),   0,                     a*e/(a*e - c*f - e - f*i),                     -a*e/(a*e - c*f - e - f*i)],\n",
              "[         f*i/(a*e - c*f - e - f*i),              f*i/(a*e - c*f - e - f*i),             f*i/(a*e - c*f - e - f*i),        (-a*i + i)/(a*e - c*f - e - f*i),          (a*i - i)/(a*e - c*f - e - f*i),   0,        (-a*e + c*f + e)/(a*e - c*f - e - f*i),          (a*e - c*f - e)/(a*e - c*f - e - f*i)],\n",
              "[-f*i/(a*e*g - c*f*g - e*g - f*g*i),     -f*i/(a*e*g - c*f*g - e*g - f*g*i),    -f*i/(a*e*g - c*f*g - e*g - f*g*i), (a*i - i)/(a*e*g - c*f*g - e*g - f*g*i), (-a*i + i)/(a*e*g - c*f*g - e*g - f*g*i), 1/g, (a*e - c*f - e)/(a*e*g - c*f*g - e*g - f*g*i), (-a*e + c*f + e)/(a*e*g - c*f*g - e*g - f*g*i)],\n",
              "[        -f*i/(a*e - c*f - e - f*i),             -f*i/(a*e - c*f - e - f*i),            -f*i/(a*e - c*f - e - f*i),         (a*i - i)/(a*e - c*f - e - f*i),         (-a*i + i)/(a*e - c*f - e - f*i),   0,         (a*e - c*f - e)/(a*e - c*f - e - f*i),                     -f*i/(a*e - c*f - e - f*i)]])"
            ]
          },
          "metadata": {},
          "execution_count": 34
        }
      ]
    },
    {
      "cell_type": "code",
      "metadata": {
        "colab": {
          "base_uri": "https://localhost:8080/",
          "height": 181
        },
        "id": "JeO43ES8nRX9",
        "outputId": "069a5150-16c0-4ac3-bc0e-c9e8b9d05104"
      },
      "source": [
        "U"
      ],
      "execution_count": null,
      "outputs": [
        {
          "output_type": "execute_result",
          "data": {
            "text/latex": "$\\displaystyle \\left[\\begin{matrix}0\\\\ε\\\\u\\\\v\\\\0\\\\λ\\\\φ\\\\0\\end{matrix}\\right]$",
            "text/plain": [
              "Matrix([\n",
              "[0],\n",
              "[ε],\n",
              "[u],\n",
              "[v],\n",
              "[0],\n",
              "[λ],\n",
              "[φ],\n",
              "[0]])"
            ]
          },
          "metadata": {},
          "execution_count": 35
        }
      ]
    },
    {
      "cell_type": "markdown",
      "metadata": {
        "id": "E_vDyO6xKsOW"
      },
      "source": [
        "#### **Задача 2.2** Представленную ниже структурную форму модели преобразуйте к приведенной. Запишите приведенную форму задачи в матричном виде."
      ]
    },
    {
      "cell_type": "markdown",
      "metadata": {
        "id": "3LEuYaGXxxIg"
      },
      "source": [
        "Модель денежного и товарного рынков:\n",
        "\n",
        "Rt = a1 + b12 Yt + b14 Mt (функция денежного рынка)\n",
        "\n",
        "Yt = a2 + b21 Rt + b23 It + b25 Gt (функция товарного рынка)\n",
        "\n",
        "It = a3 + b31 Rt (функция инвестиций)\n",
        "\n",
        "где\n",
        "*   Rt - процентные ставки;\n",
        "*   Yt - реальный ВВП;\n",
        "*   Mt - денежная масса;\n",
        "*   It - внутренние инвестиции;\n",
        "*   Gt - реальные государственные расходы.\n",
        "\n"
      ]
    },
    {
      "cell_type": "markdown",
      "metadata": {
        "id": "vqDEqFihs8DF"
      },
      "source": [
        "Приведенная форма задачи в матричном виде:"
      ]
    },
    {
      "cell_type": "code",
      "metadata": {
        "id": "a7N9lRn_xwpG"
      },
      "source": [
        "Rt, Yt, It = symbols('Rt Yt It')\n",
        "Mt, Gt = symbols('Mt Gt')\n",
        "a1, b12, b14, a2, b21, b23, b25, a3, b31 = symbols('a1 b12 b14 a2 b21 b23 b25 a3 b31')"
      ],
      "execution_count": null,
      "outputs": []
    },
    {
      "cell_type": "code",
      "metadata": {
        "id": "eQxayG8Jqolm"
      },
      "source": [
        "Y = Matrix([\n",
        "            [Rt],\n",
        "            [Yt],\n",
        "            [It]\n",
        "])"
      ],
      "execution_count": null,
      "outputs": []
    },
    {
      "cell_type": "code",
      "metadata": {
        "id": "G_dxOWFPq-NY"
      },
      "source": [
        "A = Matrix([\n",
        "            [1, -b12, 0],\n",
        "            [-b21, 1, -b23],\n",
        "            [-b31, 0, 1]\n",
        "])"
      ],
      "execution_count": null,
      "outputs": []
    },
    {
      "cell_type": "code",
      "metadata": {
        "id": "9a9jYQGorph8"
      },
      "source": [
        "X = Matrix([\n",
        "            [1],\n",
        "            [Mt],\n",
        "            [Gt]\n",
        "])"
      ],
      "execution_count": null,
      "outputs": []
    },
    {
      "cell_type": "code",
      "metadata": {
        "id": "3MAAL1CvsFvT"
      },
      "source": [
        "B = Matrix([\n",
        "            [-a1, -b14, 0],\n",
        "            [-a2, 0, -b25],\n",
        "            [-a3, 0, 0]\n",
        "])"
      ],
      "execution_count": null,
      "outputs": []
    },
    {
      "cell_type": "code",
      "metadata": {
        "id": "g2EjEV9IspJq"
      },
      "source": [
        "U = Matrix([\n",
        "            [0],\n",
        "            [0],\n",
        "            [0]\n",
        "])"
      ],
      "execution_count": null,
      "outputs": []
    },
    {
      "cell_type": "markdown",
      "metadata": {
        "id": "b_SkTMYVs5Ax"
      },
      "source": [
        "Y = -A^(-1) B X + A^(-1) U"
      ]
    },
    {
      "cell_type": "code",
      "metadata": {
        "colab": {
          "base_uri": "https://localhost:8080/",
          "height": 79
        },
        "id": "eBcIf8Zrs4ap",
        "outputId": "65e51129-ea36-400a-c4d0-6cb7bae0194e"
      },
      "source": [
        "Y"
      ],
      "execution_count": null,
      "outputs": [
        {
          "output_type": "execute_result",
          "data": {
            "text/latex": "$\\displaystyle \\left[\\begin{matrix}Rt\\\\Yt\\\\It\\end{matrix}\\right]$",
            "text/plain": [
              "Matrix([\n",
              "[Rt],\n",
              "[Yt],\n",
              "[It]])"
            ]
          },
          "metadata": {},
          "execution_count": 10
        }
      ]
    },
    {
      "cell_type": "markdown",
      "metadata": {
        "id": "t03aZd1CtVVM"
      },
      "source": [
        "="
      ]
    },
    {
      "cell_type": "code",
      "metadata": {
        "colab": {
          "base_uri": "https://localhost:8080/",
          "height": 90
        },
        "id": "6DdJ-O1wtW2a",
        "outputId": "5835dec8-e51a-4a42-c337-805476630e2c"
      },
      "source": [
        "-A.inv() * B"
      ],
      "execution_count": null,
      "outputs": [
        {
          "output_type": "execute_result",
          "data": {
            "text/latex": "$\\displaystyle \\left[\\begin{matrix}- \\frac{a_{1}}{b_{12} b_{21} + b_{12} b_{23} b_{31} - 1} - \\frac{a_{2} b_{12}}{b_{12} b_{21} + b_{12} b_{23} b_{31} - 1} - \\frac{a_{3} b_{12} b_{23}}{b_{12} b_{21} + b_{12} b_{23} b_{31} - 1} & - \\frac{b_{14}}{b_{12} b_{21} + b_{12} b_{23} b_{31} - 1} & - \\frac{b_{12} b_{25}}{b_{12} b_{21} + b_{12} b_{23} b_{31} - 1}\\\\\\frac{a_{1} \\left(- b_{21} - b_{23} b_{31}\\right)}{b_{12} b_{21} + b_{12} b_{23} b_{31} - 1} - \\frac{a_{2}}{b_{12} b_{21} + b_{12} b_{23} b_{31} - 1} - \\frac{a_{3} b_{23}}{b_{12} b_{21} + b_{12} b_{23} b_{31} - 1} & \\frac{b_{14} \\left(- b_{21} - b_{23} b_{31}\\right)}{b_{12} b_{21} + b_{12} b_{23} b_{31} - 1} & - \\frac{b_{25}}{b_{12} b_{21} + b_{12} b_{23} b_{31} - 1}\\\\- \\frac{a_{1} b_{31}}{b_{12} b_{21} + b_{12} b_{23} b_{31} - 1} - \\frac{a_{2} b_{12} b_{31}}{b_{12} b_{21} + b_{12} b_{23} b_{31} - 1} + \\frac{a_{3} \\left(b_{12} b_{21} - 1\\right)}{b_{12} b_{21} + b_{12} b_{23} b_{31} - 1} & - \\frac{b_{14} b_{31}}{b_{12} b_{21} + b_{12} b_{23} b_{31} - 1} & - \\frac{b_{12} b_{25} b_{31}}{b_{12} b_{21} + b_{12} b_{23} b_{31} - 1}\\end{matrix}\\right]$",
            "text/plain": [
              "Matrix([\n",
              "[              -a1/(b12*b21 + b12*b23*b31 - 1) - a2*b12/(b12*b21 + b12*b23*b31 - 1) - a3*b12*b23/(b12*b21 + b12*b23*b31 - 1),                 -b14/(b12*b21 + b12*b23*b31 - 1),     -b12*b25/(b12*b21 + b12*b23*b31 - 1)],\n",
              "[      a1*(-b21 - b23*b31)/(b12*b21 + b12*b23*b31 - 1) - a2/(b12*b21 + b12*b23*b31 - 1) - a3*b23/(b12*b21 + b12*b23*b31 - 1), b14*(-b21 - b23*b31)/(b12*b21 + b12*b23*b31 - 1),         -b25/(b12*b21 + b12*b23*b31 - 1)],\n",
              "[-a1*b31/(b12*b21 + b12*b23*b31 - 1) - a2*b12*b31/(b12*b21 + b12*b23*b31 - 1) + a3*(b12*b21 - 1)/(b12*b21 + b12*b23*b31 - 1),             -b14*b31/(b12*b21 + b12*b23*b31 - 1), -b12*b25*b31/(b12*b21 + b12*b23*b31 - 1)]])"
            ]
          },
          "metadata": {},
          "execution_count": 16
        }
      ]
    },
    {
      "cell_type": "code",
      "metadata": {
        "colab": {
          "base_uri": "https://localhost:8080/",
          "height": 79
        },
        "id": "pjhjo7l1tz_y",
        "outputId": "090fa4e9-7d63-4c36-a455-612bf807cd84"
      },
      "source": [
        "X"
      ],
      "execution_count": null,
      "outputs": [
        {
          "output_type": "execute_result",
          "data": {
            "text/latex": "$\\displaystyle \\left[\\begin{matrix}1\\\\Mt\\\\Gt\\end{matrix}\\right]$",
            "text/plain": [
              "Matrix([\n",
              "[ 1],\n",
              "[Mt],\n",
              "[Gt]])"
            ]
          },
          "metadata": {},
          "execution_count": 17
        }
      ]
    },
    {
      "cell_type": "markdown",
      "metadata": {
        "id": "dU_ekOPgtUch"
      },
      "source": [
        "+"
      ]
    },
    {
      "cell_type": "code",
      "metadata": {
        "colab": {
          "base_uri": "https://localhost:8080/",
          "height": 89
        },
        "id": "ZmO3XUHzt4O3",
        "outputId": "d82352a8-ae41-4d84-8977-8b97b4ad663b"
      },
      "source": [
        "A.inv()"
      ],
      "execution_count": null,
      "outputs": [
        {
          "output_type": "execute_result",
          "data": {
            "text/latex": "$\\displaystyle \\left[\\begin{matrix}- \\frac{1}{b_{12} b_{21} + b_{12} b_{23} b_{31} - 1} & - \\frac{b_{12}}{b_{12} b_{21} + b_{12} b_{23} b_{31} - 1} & - \\frac{b_{12} b_{23}}{b_{12} b_{21} + b_{12} b_{23} b_{31} - 1}\\\\\\frac{- b_{21} - b_{23} b_{31}}{b_{12} b_{21} + b_{12} b_{23} b_{31} - 1} & - \\frac{1}{b_{12} b_{21} + b_{12} b_{23} b_{31} - 1} & - \\frac{b_{23}}{b_{12} b_{21} + b_{12} b_{23} b_{31} - 1}\\\\- \\frac{b_{31}}{b_{12} b_{21} + b_{12} b_{23} b_{31} - 1} & - \\frac{b_{12} b_{31}}{b_{12} b_{21} + b_{12} b_{23} b_{31} - 1} & \\frac{b_{12} b_{21} - 1}{b_{12} b_{21} + b_{12} b_{23} b_{31} - 1}\\end{matrix}\\right]$",
            "text/plain": [
              "Matrix([\n",
              "[              -1/(b12*b21 + b12*b23*b31 - 1),     -b12/(b12*b21 + b12*b23*b31 - 1),      -b12*b23/(b12*b21 + b12*b23*b31 - 1)],\n",
              "[(-b21 - b23*b31)/(b12*b21 + b12*b23*b31 - 1),       -1/(b12*b21 + b12*b23*b31 - 1),          -b23/(b12*b21 + b12*b23*b31 - 1)],\n",
              "[            -b31/(b12*b21 + b12*b23*b31 - 1), -b12*b31/(b12*b21 + b12*b23*b31 - 1), (b12*b21 - 1)/(b12*b21 + b12*b23*b31 - 1)]])"
            ]
          },
          "metadata": {},
          "execution_count": 18
        }
      ]
    },
    {
      "cell_type": "code",
      "metadata": {
        "colab": {
          "base_uri": "https://localhost:8080/",
          "height": 79
        },
        "id": "tHuKsu7Jt9Oz",
        "outputId": "30aa0453-b274-49b3-f5df-e7adebc0c5b8"
      },
      "source": [
        "U"
      ],
      "execution_count": null,
      "outputs": [
        {
          "output_type": "execute_result",
          "data": {
            "text/latex": "$\\displaystyle \\left[\\begin{matrix}0\\\\0\\\\0\\end{matrix}\\right]$",
            "text/plain": [
              "Matrix([\n",
              "[0],\n",
              "[0],\n",
              "[0]])"
            ]
          },
          "metadata": {},
          "execution_count": 19
        }
      ]
    },
    {
      "cell_type": "markdown",
      "metadata": {
        "id": "ehmKyz99qzII"
      },
      "source": [
        "#### **Задача 2.3** Представленную ниже структурную форму модели преобразуйте к приведенной. Запишите приведенную форму задачи в матричном виде."
      ]
    },
    {
      "cell_type": "markdown",
      "metadata": {
        "id": "ZYjTtzNr4acY"
      },
      "source": [
        "Гипотетическая модель экономики:\n",
        "\n",
        "Ct = a1 + b11 Yt + b12 Jt\n",
        "\n",
        "Jt = a2 + b21 Yt_1\n",
        "\n",
        "Tt = a3 + b31 Yt\n",
        "\n",
        "Yt = Ct + Jt + Gt\n",
        "\n",
        "где\n",
        "*   Ct - совокупное потребление в период t;\n",
        "*   Yt - совокупный доход в период t;\n",
        "*   Jt - инвестиции в период t;\n",
        "*   Tt - налоги в период t;\n",
        "*   Gt - государственные доходы в период t."
      ]
    },
    {
      "cell_type": "markdown",
      "metadata": {
        "id": "OHCB_8ZMLWXs"
      },
      "source": [
        "Приведенна форма в матричном виде:"
      ]
    },
    {
      "cell_type": "code",
      "metadata": {
        "id": "lgoAVpJ4MFi1"
      },
      "source": [
        "Ct, Jt, Tt, Yt = symbols('Ct Jt Tt Yt')\n",
        "Yt_1, Gt = symbols('Yt-1 Gt')\n",
        "a1, b11, b12, a2, b21, a3, b31 = symbols('a1 b11 b12 a2 b21 a3 b3')"
      ],
      "execution_count": null,
      "outputs": []
    },
    {
      "cell_type": "code",
      "metadata": {
        "id": "rr2Vm2yAKauT"
      },
      "source": [
        "Y = Matrix([\n",
        "            [Ct],\n",
        "            [Jt],\n",
        "            [Tt],\n",
        "            [Yt]\n",
        "])"
      ],
      "execution_count": null,
      "outputs": []
    },
    {
      "cell_type": "code",
      "metadata": {
        "id": "fGSF6g5UL2-u"
      },
      "source": [
        "A = Matrix([\n",
        "            [1, -b12, 0, -b11],\n",
        "            [0, 1, 0, 0],\n",
        "            [0, 0, 1, -b31],\n",
        "            [-1, -1, 0, 1]\n",
        "])"
      ],
      "execution_count": null,
      "outputs": []
    },
    {
      "cell_type": "code",
      "metadata": {
        "id": "qZxSvYRdPCBa"
      },
      "source": [
        "X = Matrix([\n",
        "            [1],\n",
        "            [Gt],\n",
        "            [Yt_1]\n",
        "])"
      ],
      "execution_count": null,
      "outputs": []
    },
    {
      "cell_type": "code",
      "metadata": {
        "id": "SZ7jXrO8PcHZ"
      },
      "source": [
        "B = Matrix([\n",
        "            [-a1, 0, 0],\n",
        "            [-a2, 0, -b21],\n",
        "            [-a3, 0, 0],\n",
        "            [0, -1, 0]\n",
        "])"
      ],
      "execution_count": null,
      "outputs": []
    },
    {
      "cell_type": "code",
      "metadata": {
        "id": "D3FNVShlSCi9"
      },
      "source": [
        "U = Matrix([\n",
        "            [0],\n",
        "            [0],\n",
        "            [0],\n",
        "            [0]\n",
        "])"
      ],
      "execution_count": null,
      "outputs": []
    },
    {
      "cell_type": "markdown",
      "metadata": {
        "id": "C7HxAU_7Qapi"
      },
      "source": [
        "Y = -A^(-1) B X + A^(-1) U"
      ]
    },
    {
      "cell_type": "code",
      "metadata": {
        "colab": {
          "base_uri": "https://localhost:8080/",
          "height": 98
        },
        "id": "Aq98lyrFQWCa",
        "outputId": "a074b79a-0736-465f-e4ee-415fc8cd5960"
      },
      "source": [
        "Y"
      ],
      "execution_count": null,
      "outputs": [
        {
          "output_type": "execute_result",
          "data": {
            "text/latex": "$\\displaystyle \\left[\\begin{matrix}Ct\\\\Jt\\\\Tt\\\\Yt\\end{matrix}\\right]$",
            "text/plain": [
              "Matrix([\n",
              "[Ct],\n",
              "[Jt],\n",
              "[Tt],\n",
              "[Yt]])"
            ]
          },
          "metadata": {},
          "execution_count": 10
        }
      ]
    },
    {
      "cell_type": "markdown",
      "metadata": {
        "id": "wZINkSZBQyGk"
      },
      "source": [
        "="
      ]
    },
    {
      "cell_type": "code",
      "metadata": {
        "colab": {
          "base_uri": "https://localhost:8080/",
          "height": 120
        },
        "id": "grJJN6rTQntI",
        "outputId": "54476294-3638-4188-ccc5-8f3418e14f69"
      },
      "source": [
        "-A.inv() * B"
      ],
      "execution_count": null,
      "outputs": [
        {
          "output_type": "execute_result",
          "data": {
            "text/latex": "$\\displaystyle \\left[\\begin{matrix}\\frac{a_{1}}{1 - b_{11}} + \\frac{a_{2} \\left(b_{11} + b_{12}\\right)}{1 - b_{11}} & \\frac{b_{11}}{1 - b_{11}} & \\frac{b_{21} \\left(b_{11} + b_{12}\\right)}{1 - b_{11}}\\\\a_{2} & 0 & b_{21}\\\\\\frac{a_{1} b_{3}}{1 - b_{11}} + \\frac{a_{2} \\left(- b_{12} b_{3} - b_{3}\\right)}{b_{11} - 1} + a_{3} & \\frac{b_{3}}{1 - b_{11}} & \\frac{b_{21} \\left(- b_{12} b_{3} - b_{3}\\right)}{b_{11} - 1}\\\\\\frac{a_{1}}{1 - b_{11}} - a_{2} \\left(- \\frac{b_{12}}{1 - b_{11}} - \\frac{1}{1 - b_{11}}\\right) & \\frac{1}{1 - b_{11}} & - b_{21} \\left(- \\frac{b_{12}}{1 - b_{11}} - \\frac{1}{1 - b_{11}}\\right)\\end{matrix}\\right]$",
            "text/plain": [
              "Matrix([\n",
              "[           a1/(1 - b11) + a2*(b11 + b12)/(1 - b11), b11/(1 - b11),           b21*(b11 + b12)/(1 - b11)],\n",
              "[                                                a2,             0,                                 b21],\n",
              "[a1*b3/(1 - b11) + a2*(-b12*b3 - b3)/(b11 - 1) + a3,  b3/(1 - b11),        b21*(-b12*b3 - b3)/(b11 - 1)],\n",
              "[  a1/(1 - b11) - a2*(-b12/(1 - b11) - 1/(1 - b11)),   1/(1 - b11), -b21*(-b12/(1 - b11) - 1/(1 - b11))]])"
            ]
          },
          "metadata": {},
          "execution_count": 14
        }
      ]
    },
    {
      "cell_type": "code",
      "metadata": {
        "colab": {
          "base_uri": "https://localhost:8080/",
          "height": 79
        },
        "id": "Pg2RiOMnQmJy",
        "outputId": "423a48bd-f302-4b1f-936f-bf51a6c1e1c1"
      },
      "source": [
        "X"
      ],
      "execution_count": null,
      "outputs": [
        {
          "output_type": "execute_result",
          "data": {
            "text/latex": "$\\displaystyle \\left[\\begin{matrix}1\\\\Gt\\\\Yt-1\\end{matrix}\\right]$",
            "text/plain": [
              "Matrix([\n",
              "[   1],\n",
              "[  Gt],\n",
              "[Yt-1]])"
            ]
          },
          "metadata": {},
          "execution_count": 12
        }
      ]
    },
    {
      "cell_type": "markdown",
      "metadata": {
        "id": "AKBS-KvTRTfN"
      },
      "source": [
        "+"
      ]
    },
    {
      "cell_type": "code",
      "metadata": {
        "colab": {
          "base_uri": "https://localhost:8080/",
          "height": 105
        },
        "id": "8Ei2X6-UQ3NE",
        "outputId": "14efd760-6f4d-4a06-e15d-87ab62fcf0e2"
      },
      "source": [
        "A.inv()"
      ],
      "execution_count": null,
      "outputs": [
        {
          "output_type": "execute_result",
          "data": {
            "text/latex": "$\\displaystyle \\left[\\begin{matrix}\\frac{1}{1 - b_{11}} & \\frac{b_{11} + b_{12}}{1 - b_{11}} & 0 & \\frac{b_{11}}{1 - b_{11}}\\\\0 & 1 & 0 & 0\\\\\\frac{b_{3}}{1 - b_{11}} & \\frac{- b_{12} b_{3} - b_{3}}{b_{11} - 1} & 1 & \\frac{b_{3}}{1 - b_{11}}\\\\\\frac{1}{1 - b_{11}} & \\frac{b_{12}}{1 - b_{11}} + \\frac{1}{1 - b_{11}} & 0 & \\frac{1}{1 - b_{11}}\\end{matrix}\\right]$",
            "text/plain": [
              "Matrix([\n",
              "[ 1/(1 - b11),       (b11 + b12)/(1 - b11), 0, b11/(1 - b11)],\n",
              "[           0,                           1, 0,             0],\n",
              "[b3/(1 - b11),    (-b12*b3 - b3)/(b11 - 1), 1,  b3/(1 - b11)],\n",
              "[ 1/(1 - b11), b12/(1 - b11) + 1/(1 - b11), 0,   1/(1 - b11)]])"
            ]
          },
          "metadata": {},
          "execution_count": 15
        }
      ]
    },
    {
      "cell_type": "code",
      "metadata": {
        "colab": {
          "base_uri": "https://localhost:8080/",
          "height": 99
        },
        "id": "naFLXVQERbLE",
        "outputId": "c04e027c-13ad-4467-da53-4bf11a730508"
      },
      "source": [
        "U"
      ],
      "execution_count": null,
      "outputs": [
        {
          "output_type": "execute_result",
          "data": {
            "text/latex": "$\\displaystyle \\left[\\begin{matrix}0\\\\0\\\\0\\\\0\\end{matrix}\\right]$",
            "text/plain": [
              "Matrix([\n",
              "[0],\n",
              "[0],\n",
              "[0],\n",
              "[0]])"
            ]
          },
          "metadata": {},
          "execution_count": 18
        }
      ]
    },
    {
      "cell_type": "code",
      "metadata": {
        "id": "ouMJs34KRct_"
      },
      "source": [
        ""
      ],
      "execution_count": null,
      "outputs": []
    }
  ]
}