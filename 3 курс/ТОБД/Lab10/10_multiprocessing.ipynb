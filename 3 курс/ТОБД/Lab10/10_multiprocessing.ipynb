{
 "cells": [
  {
   "cell_type": "markdown",
   "metadata": {},
   "source": [
    "# Параллельные вычисления"
   ]
  },
  {
   "cell_type": "markdown",
   "metadata": {},
   "source": [
    "Материалы:\n",
    "* Макрушин С.В. Лекция 10: Параллельные вычисления\n",
    "* https://docs.python.org/3/library/multiprocessing.html"
   ]
  },
  {
   "cell_type": "markdown",
   "metadata": {},
   "source": [
    "## Задачи для совместного разбора"
   ]
  },
  {
   "cell_type": "code",
   "execution_count": 1,
   "metadata": {},
   "outputs": [],
   "source": [
    "import multiprocessing as mp"
   ]
  },
  {
   "cell_type": "markdown",
   "metadata": {},
   "source": [
    "1. Посчитайте, сколько раз встречается каждый из символов (заглавные и строчные символы не различаются) в файле `Dostoevskiy Fedor. Prestuplenie i nakazanie - BooksCafe.Net.txt` и в файле `Dostoevskiy Fedor. Igrok - BooksCafe.Net.txt`. "
   ]
  },
  {
   "cell_type": "code",
   "execution_count": 2,
   "metadata": {},
   "outputs": [
    {
     "name": "stdout",
     "output_type": "stream",
     "text": [
      "Overwriting count_letters.py\n"
     ]
    }
   ],
   "source": [
    "%%file count_letters.py\n",
    "from collections import Counter\n",
    "\n",
    "def count_letters(file):\n",
    "    with open(file) as fp:\n",
    "        text = fp.read().lower()\n",
    "    return Counter(file)"
   ]
  },
  {
   "cell_type": "code",
   "execution_count": 3,
   "metadata": {},
   "outputs": [],
   "source": [
    "from count_letters import count_letters"
   ]
  },
  {
   "cell_type": "code",
   "execution_count": 4,
   "metadata": {},
   "outputs": [
    {
     "name": "stdout",
     "output_type": "stream",
     "text": [
      "Wall time: 82.9 ms\n"
     ]
    },
    {
     "data": {
      "text/plain": [
       "Counter({'.': 5,\n",
       "         '/': 2,\n",
       "         'd': 2,\n",
       "         'a': 6,\n",
       "         't': 6,\n",
       "         'D': 1,\n",
       "         'o': 5,\n",
       "         's': 4,\n",
       "         'e': 8,\n",
       "         'v': 1,\n",
       "         'k': 3,\n",
       "         'i': 4,\n",
       "         'y': 1,\n",
       "         ' ': 6,\n",
       "         'F': 1,\n",
       "         'r': 2,\n",
       "         'P': 1,\n",
       "         'u': 1,\n",
       "         'p': 1,\n",
       "         'l': 1,\n",
       "         'n': 3,\n",
       "         'z': 1,\n",
       "         '-': 1,\n",
       "         'B': 1,\n",
       "         'C': 1,\n",
       "         'f': 1,\n",
       "         'N': 1,\n",
       "         'x': 1})"
      ]
     },
     "execution_count": 4,
     "metadata": {},
     "output_type": "execute_result"
    }
   ],
   "source": [
    "%%time\n",
    "count_letters('../data/Dostoevskiy Fedor. Igrok - BooksCafe.Net.txt')\n",
    "count_letters('../data/Dostoevskiy Fedor. Prestuplenie i nakazanie - BooksCafe.Net.txt')"
   ]
  },
  {
   "cell_type": "markdown",
   "metadata": {},
   "source": [
    "2. Решить задачу 1, распараллелив вычисления с помощью модуля `multiprocessing`. Для обработки каждого файла создать свой собственный процесс. "
   ]
  },
  {
   "cell_type": "markdown",
   "metadata": {},
   "source": [
    "*pool.map()* - возвращает результаты в том же порядке\n",
    "\n",
    "**!** (но впринципе распараллеливание не должно использоваться, если порядок важен)"
   ]
  },
  {
   "cell_type": "code",
   "execution_count": 5,
   "metadata": {},
   "outputs": [
    {
     "name": "stdout",
     "output_type": "stream",
     "text": [
      "Wall time: 202 ms\n"
     ]
    }
   ],
   "source": [
    "%%time\n",
    "if __name__ == '__main__':\n",
    "\n",
    "    files = [r'../data/Dostoevskiy Fedor. Igrok - BooksCafe.Net.txt', \n",
    "    r'../data/Dostoevskiy Fedor. Prestuplenie i nakazanie - BooksCafe.Net.txt']\n",
    "\n",
    "    with mp.Pool(processes=len(files)) as pool:\n",
    "        counters = pool.map(count_letters, files)"
   ]
  },
  {
   "cell_type": "code",
   "execution_count": 6,
   "metadata": {},
   "outputs": [
    {
     "name": "stdout",
     "output_type": "stream",
     "text": [
      "<class 'list'>\n",
      "Counter({'o': 6, '.': 5, 't': 5, 'e': 4, ' ': 4, 'a': 3, 's': 3, 'k': 3, '/': 2, 'd': 2, 'r': 2, 'D': 1, 'v': 1, 'i': 1, 'y': 1, 'F': 1, 'I': 1, 'g': 1, '-': 1, 'B': 1, 'C': 1, 'f': 1, 'N': 1, 'x': 1})\n",
      "Counter({'e': 8, 'a': 6, 't': 6, ' ': 6, '.': 5, 'o': 5, 's': 4, 'i': 4, 'k': 3, 'n': 3, '/': 2, 'd': 2, 'r': 2, 'D': 1, 'v': 1, 'y': 1, 'F': 1, 'P': 1, 'u': 1, 'p': 1, 'l': 1, 'z': 1, '-': 1, 'B': 1, 'C': 1, 'f': 1, 'N': 1, 'x': 1})\n"
     ]
    }
   ],
   "source": [
    "print(f'{type(counters)}\\n{counters[0]}\\n{counters[1]}')"
   ]
  },
  {
   "cell_type": "markdown",
   "metadata": {},
   "source": [
    "## Лабораторная работа 10"
   ]
  },
  {
   "cell_type": "code",
   "execution_count": 4,
   "metadata": {},
   "outputs": [],
   "source": [
    "import csv"
   ]
  },
  {
   "cell_type": "markdown",
   "metadata": {},
   "source": [
    "1. Разбейте файл `recipes_full.csv` на несколько (например, 8) примерно одинаковых по объему файлов c названиями `id_tag_nsteps_*.csv`. Каждый файл содержит 3 столбца: `id`, `tag` и `n_steps`, разделенных символом `;`. Для разбора строк используйте `csv.reader`.\n",
    "\n",
    "__Важно__: вы не можете загружать в память весь файл сразу. Посмотреть на первые несколько строк файла вы можете, написав код, который считывает эти строки.\n",
    "\n",
    "Подсказка: примерное кол-во строк в файле - 2.3 млн.\n",
    "\n",
    "Фрагмент одного из файлов, которые должны получиться в результате:\n",
    "```\n",
    "id;tag;n_steps\n",
    "137739;60-minutes-or-less;11\n",
    "137739;time-to-make;11\n",
    "137739;course;11\n",
    "```\n"
   ]
  },
  {
   "cell_type": "code",
   "execution_count": 23,
   "metadata": {},
   "outputs": [
    {
     "name": "stdout",
     "output_type": "stream",
     "text": [
      "['name', 'id', 'minutes', 'contributor_id', 'submitted', 'tags', 'n_steps', 'steps', 'description', 'ingredients', 'n_ingredients']\n",
      "['vant ivoire mickies nothing', '683970', '33', '803776', '2019-08-22', \"['mexican', 'healthy-2', 'orange-roughy', 'chicken-thighs-legs', 'freezer', 'whitefish', 'pork-sausage']\", '4', \"['remove the fat cap and any large areas or pockets of external fat that can be easily trimmed away', 'cut the eggplants in half lengthwise and , taking care not to break the skins , gently scoop out the flesh', 'bake uncovered in a 350f for one hour or until golden and hot through', 'refrigerate']\", \"pat and gina neely and their family own and operate some of tennessee's best - and devilishly delicious - barbecue restaurants. but when they are relaxing at home in memphis, they love to create tasty dishes their whole family can enjoy. now they're ready to share secrets from their famous restaurant dishes.  here is the recipe for their barbecue chicken.  courtesy of food network.  this recipe is absolutely wonderful!  i made it for 4th of july and it went over big!!!  when grilling make sure you keep your heat low, as the sugar can char while cooking.  make sure you use tongs so you don't puncture your meat while turning.  also, make sure you soak your wood in water for 1/2 hr. before putting in your smoker or grill so it won't burn.  preparation time does not include marinating time.\", \"['fresh sauerkraut', 'gyro mix', 'black sesame seed', 'bacon drippings', 'frappuccino caramel coffee drink', 'marble loaf cake', 'sesame powder', 'sparkling apple juice', 'dory fillets']\", '9']\n",
      "['kremsils mariposa baccala cookies class borage buta gokittengo curd', '1089012', '23', '51579', '2013-03-02', \"['brunch', 'ham-and-bean-soup', 'colombian', 'savory-pies', 'refrigerator', 'australian', 'served-cold', 'spaghetti']\", '1', \"['combine all of the ingredients in a bowl']\", 'a light, tasty and easy to put together chicken and rice dish.  something for a night when there just isnt enough time to put too much energy into the cooking.  you can either use a can of cream of mushroom soup or a can of cream of chicken soup for this dish.  you can make this dish without the eggs on top - i have had it both ways and they are both equally delicious and easy to digest.', \"['durum flour', 'veal stew meat', 'campbells condensed creamy verde soup', 'cheese tortellini', 'cherry jam']\", '5']\n",
      "['tania lander', '1428572', '0', '68884', '1980-11-09', \"['passover', 'quick-breads', 'californian', 'namibian', 'candy', 'independence-day']\", '1', \"['wash quinces well to remove the fuzz']\", 'a delicious melt in your mouth appetizer. for zaar world tour 8', \"['head of broccoli', 'cranberry beans', 'pear halves', 'cornmeal', 'white corn kernels']\", '5']\n",
      "['heloise milli asher doogh zojirushi', '1400250', '24', '678862', '2018-04-29', \"['baking', 'pennsylvania-dutch']\", '3', \"['add peppermint schnapps , kahlua , and coffee to a large mug', 'cupcakes', 'form into 8- 5 inch patties']\", 'delicious cream cheese and peach filled crescent rolls topped with a brown sugar, almond topping and made easy with canned pie filling and refrigerated crescent rolls. have not tried it, but i assume this can be made with other pie fillings as well. super easy!', \"['cocoa krispies']\", '1']\n"
     ]
    }
   ],
   "source": [
    "with open('../data/recipes_full.csv', encoding='utf-8') as f:\n",
    "    file_reader = csv.reader(f, delimiter = ',')\n",
    "    headers = next(file_reader)\n",
    "    print(headers)\n",
    "    for i, row in enumerate(file_reader, start=1):\n",
    "        if i < 5:\n",
    "            print(row)\n",
    "        else:\n",
    "            break"
   ]
  },
  {
   "cell_type": "code",
   "execution_count": 2,
   "metadata": {},
   "outputs": [
    {
     "name": "stdout",
     "output_type": "stream",
     "text": [
      "1\n",
      "322356\n",
      "2\n",
      "644712\n",
      "3\n",
      "967068\n",
      "4\n",
      "1289424\n",
      "5\n",
      "1611780\n",
      "6\n",
      "1934136\n"
     ]
    }
   ],
   "source": [
    "rows_number = 322356\n",
    "columns = ['id', 'tag', 'n_steps']\n",
    "\n",
    "new_file = open('id_tag_nsteps_1.csv', mode='w', encoding='utf-8')\n",
    "file_writer = csv.writer(new_file, delimiter = ';', quotechar='\\n')\n",
    "file_writer.writerow(columns)\n",
    "\n",
    "with open('../data/recipes_full.csv', encoding='utf-8') as f:\n",
    "    file_reader = csv.reader(f, delimiter = ',')\n",
    "    headers = next(file_reader)\n",
    "    headers = [headers.index(column) for column in ['id', 'tags', 'n_steps']]\n",
    "\n",
    "    for i, row in enumerate(file_reader, start=1):\n",
    "        row_slice = [row[column] for column in range(len(row)) if column in headers]\n",
    "        print(row_slice)\n",
    "        for tag in row_slice[1][2:len(row_slice)-2].split(\"', '\"):\n",
    "            file_writer.writerow([row_slice[0], tag, row_slice[2]])\n",
    "\n",
    "        if (i % rows_number == 0):\n",
    "            print(i//rows_number)\n",
    "            print(i)\n",
    "            new_file.close()\n",
    "            new_file = open(f'id_tag_nsteps_{i//rows_number+1}.csv', mode='w', encoding='utf-8')\n",
    "            file_writer = csv.writer(new_file, delimiter = ';', quotechar='\\n')\n",
    "            file_writer.writerow(columns)\n",
    "\n",
    "new_file.close()"
   ]
  },
  {
   "cell_type": "markdown",
   "metadata": {},
   "source": [
    "2. Напишите функцию, которая принимает на вход название файла, созданного в результате решения задачи 1, считает среднее значение количества шагов для каждого тэга и возвращает результат в виде словаря."
   ]
  },
  {
   "cell_type": "code",
   "execution_count": 16,
   "metadata": {},
   "outputs": [],
   "source": [
    "from typing import Dict\n",
    "\n",
    "def tag_counter(file_name: str) -> Dict[str, float]:\n",
    "    mean_value = {}\n",
    "    \n",
    "    with open(file_name) as file:\n",
    "        file_reader = csv.reader(file, delimiter = ';')\n",
    "        next(file_reader)\n",
    "        for row in file_reader:\n",
    "            r_id, tag, n_steps = row\n",
    "            \n",
    "            if tag not in mean_value.keys():\n",
    "                mean_value[tag]= {'sum' : 0, 'count': 0}\n",
    "            mean_value[tag]['sum'] += int(n_steps)\n",
    "            mean_value[tag]['count'] += 1\n",
    "\n",
    "    for tag, value in mean_value.items():\n",
    "        mean_value[tag] = value['sum']/value['count']\n",
    "\n",
    "    return mean_value"
   ]
  },
  {
   "cell_type": "code",
   "execution_count": 14,
   "metadata": {},
   "outputs": [
    {
     "data": {
      "text/plain": [
       "{'mexican': 4.0,\n",
       " 'healthy-2': 4.0,\n",
       " 'orange-roughy': 4.0,\n",
       " 'chicken-thighs-legs': 4.0,\n",
       " 'freezer': 4.0,\n",
       " 'whitefish': 4.0,\n",
       " 'pork-sausage': 4.0,\n",
       " 'brunch': 1.0,\n",
       " 'ham-and-bean-soup': 1.0,\n",
       " 'colombian': 1.0,\n",
       " 'savory-pies': 1.0,\n",
       " 'refrigerator': 1.0,\n",
       " 'australian': 1.0,\n",
       " 'served-cold': 1.0,\n",
       " 'passover': 1.0,\n",
       " 'quick-breads': 1.0,\n",
       " 'californian': 1.0,\n",
       " 'namibian': 1.0,\n",
       " 'candy': 1.0,\n",
       " \"independence-day']\": 1.0,\n",
       " 'baking': 3.0,\n",
       " \"pennsylvania-dutch']\": 3.0,\n",
       " 'weeknight': 8.0,\n",
       " '60-minutes-or-less': 8.0,\n",
       " 'time-to-make': 8.0,\n",
       " 'course': 8.0,\n",
       " 'cuisine': 8.0,\n",
       " 'preparation': 8.0,\n",
       " 'occasion': 8.0,\n",
       " 'n': 8.0}"
      ]
     },
     "execution_count": 14,
     "metadata": {},
     "output_type": "execute_result"
    }
   ],
   "source": [
    "tag_counter('id_tag_nsteps_1.csv')"
   ]
  },
  {
   "cell_type": "markdown",
   "metadata": {},
   "source": [
    "3. Напишите функцию, которая считает среднее значение количества шагов для каждого тэга по всем файлам, полученным в задаче 1, и возвращает результат в виде словаря. Не используйте параллельных вычислений. При реализации выделите функцию, которая объединяет результаты обработки отдельных файлов. Модифицируйте код из задачи 2 таким образом, чтобы получить результат, имея результаты обработки отдельных файлов. Определите, за какое время задача решается для всех файлов.\n"
   ]
  },
  {
   "cell_type": "code",
   "execution_count": null,
   "metadata": {},
   "outputs": [],
   "source": [
    "%%file tag_counter_all.py\n",
    "import csv\n",
    "from typing import Dict\n",
    "\n",
    "def tag_counter_all(file_name: str) -> Dict[str, Dict[str, int]]:\n",
    "    mean_value_dict = {}\n",
    "    \n",
    "    with open(file_name) as file:\n",
    "        file_reader = csv.reader(file, delimiter = ';')\n",
    "        next(file_reader)\n",
    "        for row in file_reader:\n",
    "            r_id, tag, n_steps = row\n",
    "            \n",
    "            if tag not in mean_value_dict.keys():\n",
    "                mean_value_dict[tag]= {'sum' : 0, 'count': 0}\n",
    "            mean_value_dict[tag]['sum'] += int(n_steps)\n",
    "            mean_value_dict[tag]['count'] += 1\n",
    "\n",
    "    return mean_value_dict"
   ]
  },
  {
   "cell_type": "code",
   "execution_count": null,
   "metadata": {},
   "outputs": [],
   "source": [
    "from tag_counter_all import tag_counter_all\n",
    "from typing import List\n",
    "\n",
    "def mean_counter_all(files_list: List[str]) -> Dict[str, float]:\n",
    "    files_list_dict = [tag_counter_all(item) for item in files_list]\n",
    "    new_dict = {}\n",
    "    for tag, value in files_list_dict.items():\n",
    "        if tag not in new_dict:\n",
    "            new_dict[tag] = value\n",
    "        else:\n",
    "            new_dict[tag]['count'] += value['count']\n",
    "            new_dict[tag]['sum'] += value['sum']\n",
    "\n",
    "    for tag, value in new_dict.items():\n",
    "        new_dict[tag] = value['sum']/value['count']\n",
    "    return new_dict"
   ]
  },
  {
   "cell_type": "code",
   "execution_count": 19,
   "metadata": {},
   "outputs": [
    {
     "data": {
      "text/plain": [
       "['id_tag_nsteps_1.csv',\n",
       " 'id_tag_nsteps_2.csv',\n",
       " 'id_tag_nsteps_3.csv',\n",
       " 'id_tag_nsteps_4.csv',\n",
       " 'id_tag_nsteps_5.csv',\n",
       " 'id_tag_nsteps_6.csv',\n",
       " 'id_tag_nsteps_7.csv',\n",
       " 'id_tag_nsteps_8.csv']"
      ]
     },
     "execution_count": 19,
     "metadata": {},
     "output_type": "execute_result"
    }
   ],
   "source": [
    "files_list = [f'id_tag_nsteps_{n}.csv' for n in range(1, 9)]\n",
    "files_list"
   ]
  },
  {
   "cell_type": "code",
   "execution_count": null,
   "metadata": {},
   "outputs": [],
   "source": [
    "%%time\n",
    "mean_counter_all(files_list)"
   ]
  },
  {
   "cell_type": "markdown",
   "metadata": {},
   "source": [
    "4. Решите задачу 3, распараллелив вычисления с помощью модуля `multiprocessing`. Для обработки каждого файла создайте свой собственный процесс. Определите, за какое время задача решается для всех файлов."
   ]
  },
  {
   "cell_type": "code",
   "execution_count": null,
   "metadata": {},
   "outputs": [],
   "source": [
    "def mean_counter_all_new(files_list_dict) -> Dict[str, float]:\n",
    "    new_dict = {}\n",
    "    for tag, value in files_list_dict.items():\n",
    "        if tag not in new_dict:\n",
    "            new_dict[tag] = value\n",
    "        else:\n",
    "            new_dict[tag]['count'] += value['count']\n",
    "            new_dict[tag]['sum'] += value['sum']\n",
    "\n",
    "    for tag, value in new_dict.items():\n",
    "        new_dict[tag] = value['sum']/value['count']\n",
    "    return new_dict"
   ]
  },
  {
   "cell_type": "code",
   "execution_count": null,
   "metadata": {},
   "outputs": [],
   "source": [
    "%%time\n",
    "if __name__ == '__main__':\n",
    "    with mp.Pool(processes=len(files_list)) as pool:\n",
    "        counters = pool.map(tag_counter_all, files_list)\n",
    "\n",
    "    mean_counter_all_new(counters)"
   ]
  },
  {
   "cell_type": "markdown",
   "metadata": {},
   "source": [
    "5. Решите задачу 3, распараллелив вычисления с помощью модуля `multiprocessing`. Создайте фиксированное количество процессов (равное половине количества ядер на компьютере). При помощи очереди `multiprocessing.queue` передайте названия файлов для обработки процессам и при помощи другой очереди заберите от них ответы. "
   ]
  },
  {
   "cell_type": "code",
   "execution_count": null,
   "metadata": {},
   "outputs": [],
   "source": [
    "%%time\n",
    "if __name__ == '__main__':\n",
    "    processes = 4\n",
    "    processes_list = []\n",
    "    tasks_queue = mp.Queue()\n",
    "    results_queue = mp.Queue()\n",
    "    \n",
    "    for file in files_list:\n",
    "        tasks_queue.put(file)\n",
    "    \n",
    "    for i in range(processes):\n",
    "        p = MyWorker(task_q,result_q)\n",
    "        p.start()\n",
    "        processes_list.append(p)\n",
    "    with mp.Pool(processes=processes) as pool:\n",
    "        results_queue.put(pool.map(tag_counter_all, tasks_queue.get()))\n",
    "\n",
    "    mean_counter_all_new([results_queue.get() for _ in range(processes*2)])"
   ]
  }
 ],
 "metadata": {
  "interpreter": {
   "hash": "f36bb2415103839c44be3616e885f7d6aee90348d429d9698a9148e0dea357be"
  },
  "kernelspec": {
   "display_name": "Python [conda env:gcn]",
   "language": "python",
   "name": "python3"
  },
  "language_info": {
   "codemirror_mode": {
    "name": "ipython",
    "version": 3
   },
   "file_extension": ".py",
   "mimetype": "text/x-python",
   "name": "python",
   "nbconvert_exporter": "python",
   "pygments_lexer": "ipython3",
   "version": "3.8.3"
  }
 },
 "nbformat": 4,
 "nbformat_minor": 4
}
