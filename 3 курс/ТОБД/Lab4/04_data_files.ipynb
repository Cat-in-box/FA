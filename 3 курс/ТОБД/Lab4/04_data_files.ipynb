{
 "cells": [
  {
   "cell_type": "markdown",
   "source": [
    "# Форматы данных (1)"
   ],
   "metadata": {}
  },
  {
   "cell_type": "markdown",
   "source": [
    "Материалы:\n",
    "* Макрушин С.В. \"Лекция 4: Форматы данных\"\n",
    "* https://docs.python.org/3/library/json.html\n",
    "* https://docs.python.org/3/library/pickle.html\n",
    "* https://www.crummy.com/software/BeautifulSoup/bs4/doc.ru/bs4ru.html\n",
    "* Уэс Маккини. Python и анализ данных"
   ],
   "metadata": {}
  },
  {
   "cell_type": "markdown",
   "source": [
    "## Задачи для совместного разбора"
   ],
   "metadata": {}
  },
  {
   "cell_type": "markdown",
   "source": [
    "1. Вывести все адреса электронной почты, содержащиеся в адресной книге `addres-book.json`"
   ],
   "metadata": {}
  },
  {
   "cell_type": "code",
   "execution_count": 1,
   "source": [
    "import json\r\n",
    "\r\n",
    "with open('../data/addres-book.json', 'r', encoding='utf8') as fp:\r\n",
    "  data = json.load(fp)"
   ],
   "outputs": [],
   "metadata": {}
  },
  {
   "cell_type": "code",
   "execution_count": 3,
   "source": [
    "for person in data:\r\n",
    "    for item in person:\r\n",
    "        if item == 'email':\r\n",
    "            print(person[item])"
   ],
   "outputs": [
    {
     "output_type": "stream",
     "name": "stdout",
     "text": [
      "faina@mail.ru\n",
      "robert@mail.ru\n"
     ]
    }
   ],
   "metadata": {}
  },
  {
   "cell_type": "markdown",
   "source": [
    "2. Вывести телефоны, содержащиеся в адресной книге `addres-book.json`"
   ],
   "metadata": {}
  },
  {
   "cell_type": "code",
   "execution_count": 19,
   "source": [
    "for person in data:\r\n",
    "    for item in person:\r\n",
    "        if item == 'phones':\r\n",
    "            print(person['name'].upper())\r\n",
    "            for i in range(len(person[item])):\r\n",
    "                print(person[item][i]['phone'])"
   ],
   "outputs": [
    {
     "output_type": "stream",
     "name": "stdout",
     "text": [
      "FAINA LEE\n",
      "232-19-55\n",
      "+7 (916) 232-19-55\n",
      "ROBERT LEE\n",
      "111-19-55\n",
      "+7 (916) 445-19-55\n"
     ]
    }
   ],
   "metadata": {}
  },
  {
   "cell_type": "markdown",
   "source": [
    "3. По данным из файла `addres-book-q.xml` сформировать список словарей с телефонами каждого из людей. "
   ],
   "metadata": {}
  },
  {
   "cell_type": "code",
   "execution_count": 32,
   "source": [
    "from bs4 import BeautifulSoup\r\n",
    "\r\n",
    "with open ('../data/addres-book-q.xml', 'r', encoding='utf8') as fp:\r\n",
    "    data = BeautifulSoup(fp)"
   ],
   "outputs": [],
   "metadata": {}
  },
  {
   "cell_type": "code",
   "execution_count": 31,
   "source": [
    "beautifulList = []\r\n",
    "for address in data.find_all('address'):\r\n",
    "    person_phones = {}\r\n",
    "    for phone in address.find_all('phone'):\r\n",
    "        person_phones[phone['type']] = phone.text\r\n",
    "    beautifulList.append(person_phones)\r\n",
    "\r\n",
    "beautifulList"
   ],
   "outputs": [
    {
     "output_type": "execute_result",
     "data": {
      "text/plain": [
       "[{'work': '+ (213) 6150 4015', 'personal': '+ (213) 2173 5247'},\n",
       " {'work': '+ (244-2) 325 023', 'personal': '+ (244-2) 325 023'},\n",
       " {'personal': '+ (244) 4232 2836'},\n",
       " {'work': '+ (244-2) 325 023', 'personal': '+ (244-2) 325 023'},\n",
       " {'work': '+ (54-11) 4784 1159'},\n",
       " {'work': '+ (61-2) 6274 9500', 'personal': '+ (61-2) 6274 9513'},\n",
       " {'work': '+ (61-3) 9807 4702'}]"
      ]
     },
     "metadata": {},
     "execution_count": 31
    }
   ],
   "metadata": {}
  },
  {
   "cell_type": "markdown",
   "source": [
    "## Лабораторная работа №4"
   ],
   "metadata": {}
  },
  {
   "cell_type": "markdown",
   "source": [
    "### JSON"
   ],
   "metadata": {}
  },
  {
   "cell_type": "markdown",
   "source": [
    "1.1 Считайте файл `contributors_sample.json`. Воспользовавшись модулем `json`, преобразуйте содержимое файла в соответствующие объекты python. Выведите на экран информацию о первых 3 пользователях."
   ],
   "metadata": {}
  },
  {
   "cell_type": "markdown",
   "source": [
    "1.2 Выведите уникальные почтовые домены, содержащиеся в почтовых адресах людей"
   ],
   "metadata": {}
  },
  {
   "cell_type": "markdown",
   "source": [
    "1.3 Напишите функцию, которая по `username` ищет человека и выводит информацию о нем. Если пользователь с заданным `username` отсутствует, возбудите исключение `ValueError`"
   ],
   "metadata": {}
  },
  {
   "cell_type": "markdown",
   "source": [
    "1.4 Посчитайте, сколько мужчин и женщин присутсвует в этом наборе данных."
   ],
   "metadata": {}
  },
  {
   "cell_type": "markdown",
   "source": [
    "1.5 Создайте `pd.DataFrame` `contributors`, имеющий столбцы `id`, `username` и `sex`."
   ],
   "metadata": {}
  },
  {
   "cell_type": "markdown",
   "source": [
    "1.6 Загрузите данные из файла `recipes_sample.csv` (__ЛР2__) в таблицу `recipes`. Объедините `recipes` с таблицей `contributors` с сохранением строк в том случае, если информация о человеке отсутствует в JSON-файле. Для скольких человек информация отсутствует? "
   ],
   "metadata": {}
  },
  {
   "cell_type": "markdown",
   "source": [
    "### pickle"
   ],
   "metadata": {}
  },
  {
   "cell_type": "markdown",
   "source": [
    "2.1 На основе файла `contributors_sample.json` создайте словарь следующего вида: \n",
    "```\n",
    "{\n",
    "    должность: [список username людей, занимавших эту должность]\n",
    "}\n",
    "```"
   ],
   "metadata": {}
  },
  {
   "cell_type": "markdown",
   "source": [
    "2.2 Сохраните результаты в файл `job_people.pickle` и в файл `job_people.json` с использованием форматов pickle и JSON соответственно. Сравните объемы получившихся файлов. При сохранении в JSON укажите аргумент `indent`."
   ],
   "metadata": {}
  },
  {
   "cell_type": "markdown",
   "source": [
    "2.3 Считайте файл `job_people.pickle` и продемонстрируйте, что данные считались корректно. "
   ],
   "metadata": {}
  },
  {
   "cell_type": "markdown",
   "source": [
    "### XML"
   ],
   "metadata": {}
  },
  {
   "cell_type": "markdown",
   "source": [
    "3.1 По данным файла `steps_sample.xml` сформируйте словарь с шагами по каждому рецепту вида `{id_рецепта: [\"шаг1\", \"шаг2\"]}`. Сохраните этот словарь в файл `steps_sample.json`"
   ],
   "metadata": {}
  },
  {
   "cell_type": "markdown",
   "source": [
    "3.2 По данным файла `steps_sample.xml` сформируйте словарь следующего вида: `кол-во_шагов_в_рецепте: [список_id_рецептов]`"
   ],
   "metadata": {}
  },
  {
   "cell_type": "markdown",
   "source": [
    "3.3 Получите список рецептов, в этапах выполнения которых есть информация о времени (часы или минуты). Для отбора подходящих рецептов обратите внимание на атрибуты соответствующих тэгов."
   ],
   "metadata": {}
  },
  {
   "cell_type": "markdown",
   "source": [
    "3.4 Загрузите данные из файла `recipes_sample.csv` (__ЛР2__) в таблицу `recipes`. Для строк, которые содержат пропуски в столбце `n_steps`, заполните этот столбец на основе файла  `steps_sample.xml`. Строки, в которых столбец `n_steps` заполнен, оставьте без изменений."
   ],
   "metadata": {}
  },
  {
   "cell_type": "markdown",
   "source": [
    "3.5 Проверьте, содержит ли столбец `n_steps` пропуски. Если нет, то преобразуйте его к целочисленному типу и сохраните результаты в файл `recipes_sample_with_filled_nsteps.csv`"
   ],
   "metadata": {}
  },
  {
   "cell_type": "code",
   "execution_count": null,
   "source": [],
   "outputs": [],
   "metadata": {}
  }
 ],
 "metadata": {
  "kernelspec": {
   "name": "python3",
   "display_name": "Python 3.8.3 32-bit"
  },
  "language_info": {
   "codemirror_mode": {
    "name": "ipython",
    "version": 3
   },
   "file_extension": ".py",
   "mimetype": "text/x-python",
   "name": "python",
   "nbconvert_exporter": "python",
   "pygments_lexer": "ipython3",
   "version": "3.8.3"
  },
  "interpreter": {
   "hash": "f36bb2415103839c44be3616e885f7d6aee90348d429d9698a9148e0dea357be"
  }
 },
 "nbformat": 4,
 "nbformat_minor": 4
}