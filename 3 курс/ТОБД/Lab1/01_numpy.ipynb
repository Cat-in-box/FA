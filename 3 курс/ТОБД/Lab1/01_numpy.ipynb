{
  "cells": [
    {
      "cell_type": "markdown",
      "metadata": {
        "id": "-dLiGqzPqjYm"
      },
      "source": [
        "# Numpy"
      ]
    },
    {
      "cell_type": "markdown",
      "metadata": {
        "id": "KbrKsE47qjYz"
      },
      "source": [
        "Материалы:\n",
        "* Макрушин С.В. \"Лекция 1: Библиотека Numpy\"\n",
        "* https://numpy.org/doc/stable/user/index.html\n",
        "* https://numpy.org/doc/stable/reference/index.html"
      ]
    },
    {
      "cell_type": "code",
      "execution_count": 1,
      "metadata": {
        "id": "qBiP2A2kqjY2"
      },
      "outputs": [],
      "source": [
        "import numpy as np\n",
        "import pandas as pd"
      ]
    },
    {
      "cell_type": "code",
      "execution_count": 2,
      "metadata": {
        "id": "rB2VpDgDqjY7",
        "outputId": "06442cff-1089-4d42-a247-e9fab1d568b3"
      },
      "outputs": [
        {
          "data": {
            "text/plain": [
              "[1, 9, 25, 81, 400]"
            ]
          },
          "execution_count": 2,
          "metadata": {},
          "output_type": "execute_result"
        }
      ],
      "source": [
        "lst = [1, 3, 5, 9, 20]\n",
        "[i**2 for i in lst]"
      ]
    },
    {
      "cell_type": "markdown",
      "metadata": {
        "id": "e37fuvKeqjY-"
      },
      "source": [
        "#### Векторизация мат операций"
      ]
    },
    {
      "cell_type": "code",
      "execution_count": 3,
      "metadata": {
        "id": "Vsu6b8VyqjY_",
        "outputId": "c9939f09-e71b-48e6-b5e8-ad69840624d1"
      },
      "outputs": [
        {
          "data": {
            "text/plain": [
              "array([  1,   9,  25,  81, 400], dtype=int32)"
            ]
          },
          "execution_count": 3,
          "metadata": {},
          "output_type": "execute_result"
        }
      ],
      "source": [
        "arr = np.array(lst)\n",
        "arr ** 2"
      ]
    },
    {
      "cell_type": "markdown",
      "metadata": {
        "id": "yN0fZwHnqjZB"
      },
      "source": [
        "#### Использование маски для выборки по индексам"
      ]
    },
    {
      "cell_type": "code",
      "execution_count": 4,
      "metadata": {
        "id": "gYdLHLlNqjZB",
        "outputId": "5d8feffd-f046-4484-90f3-19e3e876dbc0"
      },
      "outputs": [
        {
          "data": {
            "text/plain": [
              "array([3, 9])"
            ]
          },
          "execution_count": 4,
          "metadata": {},
          "output_type": "execute_result"
        }
      ],
      "source": [
        "arr[arr % 3 == 0]"
      ]
    },
    {
      "cell_type": "markdown",
      "metadata": {
        "id": "ZTBXzXCKqjZD"
      },
      "source": [
        "#### Сложная выборка (срез по столбцам и выборка по строкам)"
      ]
    },
    {
      "cell_type": "code",
      "execution_count": 5,
      "metadata": {
        "id": "c2x1WbXCqjZE",
        "outputId": "c8f1e096-b2cb-41dc-a4a6-34b66f90da53"
      },
      "outputs": [
        {
          "data": {
            "text/plain": [
              "array([ 7, 11])"
            ]
          },
          "execution_count": 5,
          "metadata": {},
          "output_type": "execute_result"
        }
      ],
      "source": [
        "arr = np.arange(20).reshape(5, 4)\n",
        "arr[1:3, -1]"
      ]
    },
    {
      "cell_type": "markdown",
      "metadata": {
        "id": "lplmkSLFqjZF"
      },
      "source": [
        "## Задачи для совместного разбора"
      ]
    },
    {
      "cell_type": "markdown",
      "metadata": {
        "id": "-DhiT2dNqjZG"
      },
      "source": [
        "1. Сгенерировать двухмерный массив `arr` размерности (4, 7), состоящий из случайных действительных чисел, равномерно распределенных в диапазоне от 0 до 20. Нормализовать значения массива с помощью преобразования вида  $𝑎𝑥+𝑏$  так, что после нормализации максимальный элемент масcива будет равен 1.0, минимальный 0.0"
      ]
    },
    {
      "cell_type": "code",
      "execution_count": 6,
      "metadata": {
        "id": "WkhzvctQqjZH",
        "outputId": "91e7d69b-6ed9-48eb-d6ab-fe82f9093d9d"
      },
      "outputs": [
        {
          "data": {
            "text/plain": [
              "array([[0.27235828, 0.53541666, 0.90719519, 0.96485619, 0.72633959,\n",
              "        0.16026748, 0.8706627 ],\n",
              "       [0.19268415, 0.01394651, 0.42945981, 0.06841062, 0.16646637,\n",
              "        0.54916565, 1.        ],\n",
              "       [0.79800542, 0.41404477, 0.4604498 , 0.36539156, 0.49350831,\n",
              "        0.26186607, 0.53241728],\n",
              "       [0.5116678 , 0.99823157, 0.78956242, 0.19781637, 0.        ,\n",
              "        0.46071927, 0.09042549]])"
            ]
          },
          "execution_count": 6,
          "metadata": {},
          "output_type": "execute_result"
        }
      ],
      "source": [
        "arr = np.random.uniform(0, 20, (4, 7))\n",
        "(arr - arr.min())/(arr.max() - arr.min())"
      ]
    },
    {
      "cell_type": "code",
      "execution_count": 7,
      "metadata": {
        "id": "IkXf0TKqqjZI",
        "outputId": "461172cb-f67c-4c27-83d3-f68ff8671969"
      },
      "outputs": [
        {
          "data": {
            "text/plain": [
              "array([[0.27235828, 0.53541666, 0.90719519, 0.96485619, 0.72633959,\n",
              "        0.16026748, 0.8706627 ],\n",
              "       [0.19268415, 0.01394651, 0.42945981, 0.06841062, 0.16646637,\n",
              "        0.54916565, 1.        ],\n",
              "       [0.79800542, 0.41404477, 0.4604498 , 0.36539156, 0.49350831,\n",
              "        0.26186607, 0.53241728],\n",
              "       [0.5116678 , 0.99823157, 0.78956242, 0.19781637, 0.        ,\n",
              "        0.46071927, 0.09042549]])"
            ]
          },
          "execution_count": 7,
          "metadata": {},
          "output_type": "execute_result"
        }
      ],
      "source": [
        "# К виду ax + b\n",
        "arr*(1/(arr.max() - arr.min()))-(arr.min()/(arr.max() - arr.min()))"
      ]
    },
    {
      "cell_type": "markdown",
      "metadata": {
        "id": "ll0I9v9fqjZJ"
      },
      "source": [
        "2. Создать матрицу 8 на 10 из случайных целых (используя модуль `numpy.random`) чисел из диапозона от 0 до 10 и найти в ней строку (ее индекс и вывести саму строку), в которой сумма значений минимальна."
      ]
    },
    {
      "cell_type": "code",
      "execution_count": 8,
      "metadata": {
        "id": "eLdGAl95qjZK",
        "outputId": "75881846-05a6-42f0-fcee-763664dd6e99"
      },
      "outputs": [
        {
          "data": {
            "text/plain": [
              "array([[7, 6, 7, 0, 4, 2, 0, 1, 4, 4],\n",
              "       [0, 2, 5, 2, 0, 9, 5, 5, 8, 9],\n",
              "       [0, 1, 6, 3, 5, 8, 1, 7, 0, 1],\n",
              "       [4, 3, 9, 2, 7, 6, 7, 2, 9, 0],\n",
              "       [4, 9, 5, 9, 9, 4, 0, 8, 5, 2],\n",
              "       [3, 0, 1, 6, 4, 5, 1, 7, 1, 1],\n",
              "       [7, 7, 8, 7, 0, 9, 7, 1, 7, 2],\n",
              "       [1, 9, 2, 6, 7, 2, 9, 7, 6, 5]])"
            ]
          },
          "execution_count": 8,
          "metadata": {},
          "output_type": "execute_result"
        }
      ],
      "source": [
        "arr = np.random.randint(0, 10, size=(8, 10))\n",
        "arr"
      ]
    },
    {
      "cell_type": "code",
      "execution_count": 9,
      "metadata": {
        "id": "tchXjN9oqjZL",
        "outputId": "8a117ae1-98aa-4fdf-f1cd-99467b733e92"
      },
      "outputs": [
        {
          "data": {
            "text/plain": [
              "array([[3, 0, 1, 6, 4, 5, 1, 7, 1, 1]])"
            ]
          },
          "execution_count": 9,
          "metadata": {},
          "output_type": "execute_result"
        }
      ],
      "source": [
        "arr_sum = arr.sum(axis=1)\n",
        "arr[arr_sum == arr_sum.min()]"
      ]
    },
    {
      "cell_type": "markdown",
      "metadata": {
        "id": "KRYwJOqNqjZM"
      },
      "source": [
        "3. Найти евклидово расстояние между двумя одномерными векторами одинаковой размерности."
      ]
    },
    {
      "cell_type": "code",
      "execution_count": 10,
      "metadata": {
        "id": "83qhPsFGqjZN"
      },
      "outputs": [],
      "source": [
        "arr1 = np.random.randint(0, 10, size=10)\n",
        "arr2 = np.random.randint(0, 10, size=10)"
      ]
    },
    {
      "cell_type": "code",
      "execution_count": 11,
      "metadata": {
        "id": "r9wY42FGqjZO",
        "outputId": "7e5c6f8d-088b-4de2-a5c7-fbfa716efc83"
      },
      "outputs": [
        {
          "data": {
            "text/plain": [
              "13.820274961085254"
            ]
          },
          "execution_count": 11,
          "metadata": {},
          "output_type": "execute_result"
        }
      ],
      "source": [
        "((arr1 - arr2) ** 2).sum() ** (1/2)"
      ]
    },
    {
      "cell_type": "code",
      "execution_count": 12,
      "metadata": {
        "id": "AnCWQwNsqjZP",
        "outputId": "90693882-b086-4a6c-bc92-ad4fa6709aed"
      },
      "outputs": [
        {
          "data": {
            "text/plain": [
              "13.820274961085254"
            ]
          },
          "execution_count": 12,
          "metadata": {},
          "output_type": "execute_result"
        }
      ],
      "source": [
        "np.linalg.norm(arr1 - arr2)"
      ]
    },
    {
      "cell_type": "markdown",
      "metadata": {
        "id": "sa47bDAlqjZQ"
      },
      "source": [
        "4. Решить матричное уравнение `A*X*B=-C` - найти матрицу `X`. Где `A = [[-1, 2, 4], [-3, 1, 2], [-3, 0, 1]]`, `B=[[3, -1], [2, 1]]`, `C=[[7, 21], [11, 8], [8, 4]]`."
      ]
    },
    {
      "cell_type": "code",
      "execution_count": 13,
      "metadata": {
        "id": "6xeVUjtZqjZR",
        "outputId": "c781de24-c5bd-4d44-d05b-531769905b63"
      },
      "outputs": [
        {
          "data": {
            "text/plain": [
              "array([[ 1.00000000e+00,  5.55111512e-16],\n",
              "       [-2.00000000e+00,  1.00000000e+00],\n",
              "       [ 3.00000000e+00, -4.00000000e+00]])"
            ]
          },
          "execution_count": 13,
          "metadata": {},
          "output_type": "execute_result"
        }
      ],
      "source": [
        "A = np.array([[-1, 2, 4], [-3, 1, 2], [-3, 0, 1]])\n",
        "B = np.array([[3, -1], [2, 1]])\n",
        "C = np.array([[7, 21], [11, 8], [8, 4]])\n",
        "\n",
        "X = np.linalg.inv(A) @ -C @ np.linalg.inv(B)\n",
        "X"
      ]
    },
    {
      "cell_type": "code",
      "execution_count": 14,
      "metadata": {
        "id": "bnJeauPvqjZS",
        "outputId": "6fe67622-b413-48e3-815b-35ed40784838"
      },
      "outputs": [
        {
          "data": {
            "text/plain": [
              "array([[ -7., -21.],\n",
              "       [-11.,  -8.],\n",
              "       [ -8.,  -4.]])"
            ]
          },
          "execution_count": 14,
          "metadata": {},
          "output_type": "execute_result"
        }
      ],
      "source": [
        "A @ X @ B"
      ]
    },
    {
      "cell_type": "code",
      "execution_count": 15,
      "metadata": {
        "id": "lv0fqOwQqjZT",
        "outputId": "f1ce5be2-398f-42bc-d2dd-e4c86d3e45dd"
      },
      "outputs": [
        {
          "data": {
            "text/plain": [
              "array([[ -7, -21],\n",
              "       [-11,  -8],\n",
              "       [ -8,  -4]])"
            ]
          },
          "execution_count": 15,
          "metadata": {},
          "output_type": "execute_result"
        }
      ],
      "source": [
        "-C"
      ]
    },
    {
      "cell_type": "markdown",
      "metadata": {
        "id": "Q6iz3jORqjZU"
      },
      "source": [
        "## Лабораторная работа №1"
      ]
    },
    {
      "cell_type": "markdown",
      "metadata": {
        "id": "uJGQIFzmqjZU"
      },
      "source": [
        "Замечание: при решении данных задач не подразумевается использования циклов или генераторов Python, если в задании не сказано обратного. Решение должно опираться на использования функционала библиотеки `numpy`."
      ]
    },
    {
      "cell_type": "markdown",
      "metadata": {
        "id": "CaluuUcjqjZV"
      },
      "source": [
        "1. Файл `minutes_n_ingredients.csv` содержит информацию об идентификаторе рецепта, времени его выполнения в минутах и количестве необходимых ингредиентов. Считайте данные из этого файла в виде массива `numpy` типа `int32`, используя `np.load_txt`. Выведите на экран первые 5 строк массива."
      ]
    },
    {
      "cell_type": "code",
      "execution_count": 20,
      "metadata": {
        "colab": {
          "base_uri": "https://localhost:8080/"
        },
        "id": "CRJ4cIzvqjZW",
        "outputId": "dddea4ef-7fd9-42ef-8f43-90ad2db96f0d"
      },
      "outputs": [
        {
          "data": {
            "text/plain": [
              "array([[127244,     60,     16],\n",
              "       [ 23891,     25,      7],\n",
              "       [ 94746,     10,      6],\n",
              "       [ 67660,      5,      6],\n",
              "       [157911,     60,     14]])"
            ]
          },
          "execution_count": 20,
          "metadata": {},
          "output_type": "execute_result"
        }
      ],
      "source": [
        "arr = np.loadtxt(\"../data/minutes_n_ingredients.csv\", dtype=int, delimiter=\",\", skiprows=1)\n",
        "arr[0:5]"
      ]
    },
    {
      "cell_type": "markdown",
      "metadata": {
        "id": "cPMBMa7OqjZX"
      },
      "source": [
        "2. Вычислите среднее значение, минимум, максимум и медиану по каждому из столбцов, кроме первого."
      ]
    },
    {
      "cell_type": "code",
      "execution_count": 21,
      "metadata": {
        "colab": {
          "base_uri": "https://localhost:8080/"
        },
        "id": "DRojQCX6qjZY",
        "outputId": "06945221-ac50-4af7-9067-9d74b46d16ce"
      },
      "outputs": [
        {
          "data": {
            "text/plain": [
              "array([2.16010017e+04, 9.05528000e+00])"
            ]
          },
          "execution_count": 21,
          "metadata": {},
          "output_type": "execute_result"
        }
      ],
      "source": [
        "# Среднее\n",
        "arr[:,1:].mean(axis=0)"
      ]
    },
    {
      "cell_type": "code",
      "execution_count": 22,
      "metadata": {
        "colab": {
          "base_uri": "https://localhost:8080/"
        },
        "id": "lFOMut0NqjZY",
        "outputId": "be3d7994-49da-40a9-bc46-fb6a5eb173db"
      },
      "outputs": [
        {
          "data": {
            "text/plain": [
              "array([0, 1])"
            ]
          },
          "execution_count": 22,
          "metadata": {},
          "output_type": "execute_result"
        }
      ],
      "source": [
        "# Минимум\n",
        "arr[:,1:].min(axis=0)"
      ]
    },
    {
      "cell_type": "code",
      "execution_count": 23,
      "metadata": {
        "colab": {
          "base_uri": "https://localhost:8080/"
        },
        "id": "8-YPL7s-qjZZ",
        "outputId": "28657c64-8537-4179-e4c6-0f8f3d6331b0"
      },
      "outputs": [
        {
          "data": {
            "text/plain": [
              "array([2147483647,         39])"
            ]
          },
          "execution_count": 23,
          "metadata": {},
          "output_type": "execute_result"
        }
      ],
      "source": [
        "# Максимум\n",
        "arr[:,1:].max(axis=0)"
      ]
    },
    {
      "cell_type": "code",
      "execution_count": 24,
      "metadata": {
        "colab": {
          "base_uri": "https://localhost:8080/"
        },
        "id": "IhS03tl7qjZa",
        "outputId": "cc1a801e-5483-4293-ea5c-1de1ae7b670c"
      },
      "outputs": [
        {
          "data": {
            "text/plain": [
              "array([40.,  9.])"
            ]
          },
          "execution_count": 24,
          "metadata": {},
          "output_type": "execute_result"
        }
      ],
      "source": [
        "# Медиана\n",
        "np.median(arr[:,1:], axis=0)"
      ]
    },
    {
      "cell_type": "markdown",
      "metadata": {
        "id": "PhfcU4qeqjZb"
      },
      "source": [
        "3. Ограничьте сверху значения продолжительности выполнения рецепта значением квантиля $q_{0.75}$. "
      ]
    },
    {
      "cell_type": "code",
      "execution_count": 25,
      "metadata": {
        "colab": {
          "base_uri": "https://localhost:8080/"
        },
        "id": "Sp6gh4bDuCom",
        "outputId": "8a0b2dda-264d-494a-ace5-85f440e33631"
      },
      "outputs": [
        {
          "data": {
            "text/plain": [
              "array([[127244,     60,     16],\n",
              "       [ 23891,     25,      7],\n",
              "       [ 94746,     10,      6],\n",
              "       ...,\n",
              "       [ 43407,     35,      7],\n",
              "       [498432,     65,     15],\n",
              "       [370915,      5,      4]])"
            ]
          },
          "execution_count": 25,
          "metadata": {},
          "output_type": "execute_result"
        }
      ],
      "source": [
        "arr[arr[:,1] <= np.quantile(arr[:,1], 0.75)]"
      ]
    },
    {
      "cell_type": "markdown",
      "metadata": {
        "id": "vRirMND0qjZc"
      },
      "source": [
        "4. Посчитайте, для скольких рецептов указана продолжительность, равная нулю. Замените для таких строк значение в данном столбце на 1."
      ]
    },
    {
      "cell_type": "code",
      "execution_count": 26,
      "metadata": {
        "colab": {
          "base_uri": "https://localhost:8080/"
        },
        "id": "LZSH97Sfw71O",
        "outputId": "2bbcdc01-1601-4a1f-b2b7-258f62cd781b"
      },
      "outputs": [
        {
          "data": {
            "text/plain": [
              "479"
            ]
          },
          "execution_count": 26,
          "metadata": {},
          "output_type": "execute_result"
        }
      ],
      "source": [
        "arr_0_mask = arr[:,1] == 0\n",
        "arr[arr_0_mask].shape[0]"
      ]
    },
    {
      "cell_type": "code",
      "execution_count": 27,
      "metadata": {
        "colab": {
          "base_uri": "https://localhost:8080/"
        },
        "id": "ZsOpl8ncxqgZ",
        "outputId": "5c3b6ceb-dd5c-429c-c302-f7c9ffad436c"
      },
      "outputs": [
        {
          "data": {
            "text/plain": [
              "array([[9325,    1,   10],\n",
              "       [2828,    1,    8],\n",
              "       [8008,    1,   11],\n",
              "       ...,\n",
              "       [3383,    1,    7],\n",
              "       [2778,    1,   11],\n",
              "       [4747,    1,    9]])"
            ]
          },
          "execution_count": 27,
          "metadata": {},
          "output_type": "execute_result"
        }
      ],
      "source": [
        "arr[arr_0_mask,1] = 1\n",
        "arr[arr_0_mask]"
      ]
    },
    {
      "cell_type": "markdown",
      "metadata": {
        "id": "cyQIAEMZqjZc"
      },
      "source": [
        "5. Посчитайте, сколько уникальных рецептов находится в датасете."
      ]
    },
    {
      "cell_type": "code",
      "execution_count": 28,
      "metadata": {
        "colab": {
          "base_uri": "https://localhost:8080/"
        },
        "id": "sjBJmPVgyKLL",
        "outputId": "516a4309-9c5e-491f-deaf-5319e50a98cd"
      },
      "outputs": [
        {
          "data": {
            "text/plain": [
              "100000"
            ]
          },
          "execution_count": 28,
          "metadata": {},
          "output_type": "execute_result"
        }
      ],
      "source": [
        "np.unique(arr[:,1:], axis=1).shape[0]"
      ]
    },
    {
      "cell_type": "markdown",
      "metadata": {
        "id": "2WuKS0qYqjZd"
      },
      "source": [
        "6. Сколько и каких различных значений кол-ва ингредиентов присутвует в рецептах из датасета?"
      ]
    },
    {
      "cell_type": "code",
      "execution_count": 29,
      "metadata": {
        "colab": {
          "base_uri": "https://localhost:8080/"
        },
        "id": "zlJ7BWsN13vY",
        "outputId": "358ffa38-ac52-4d56-c138-7538c4bb64e2"
      },
      "outputs": [
        {
          "data": {
            "text/plain": [
              "(37,\n",
              " array([ 1,  2,  3,  4,  5,  6,  7,  8,  9, 10, 11, 12, 13, 14, 15, 16, 17,\n",
              "        18, 19, 20, 21, 22, 23, 24, 25, 26, 27, 28, 29, 30, 31, 32, 33, 34,\n",
              "        35, 37, 39]))"
            ]
          },
          "execution_count": 29,
          "metadata": {},
          "output_type": "execute_result"
        }
      ],
      "source": [
        "arr_ingredients_unique = np.unique(arr[:,2])\n",
        "arr_ingredients_unique.size, arr_ingredients_unique"
      ]
    },
    {
      "cell_type": "markdown",
      "metadata": {
        "id": "NRtjC1MGqjZd"
      },
      "source": [
        "7. Создайте версию массива, содержащую информацию только о рецептах, состоящих не более чем из 5 ингредиентов."
      ]
    },
    {
      "cell_type": "code",
      "execution_count": 30,
      "metadata": {
        "colab": {
          "base_uri": "https://localhost:8080/"
        },
        "id": "gJidJo8dhgUa",
        "outputId": "e910ae9a-ac70-408f-e247-5d1e9427b28c"
      },
      "outputs": [
        {
          "data": {
            "text/plain": [
              "array([[446597,     15,      5],\n",
              "       [204134,      5,      3],\n",
              "       [ 25623,      6,      4],\n",
              "       ...,\n",
              "       [ 52088,     60,      5],\n",
              "       [128811,     15,      4],\n",
              "       [370915,      5,      4]])"
            ]
          },
          "execution_count": 30,
          "metadata": {},
          "output_type": "execute_result"
        }
      ],
      "source": [
        "arr_short5 = arr[arr[:,2] <= 5]\n",
        "arr_short5"
      ]
    },
    {
      "cell_type": "markdown",
      "metadata": {
        "id": "1uz6mjztqjZe"
      },
      "source": [
        "8. Для каждого рецепта посчитайте, сколько в среднем ингредиентов приходится на одну минуту рецепта. Найдите максимальное значение этой величины для всего датасета"
      ]
    },
    {
      "cell_type": "code",
      "execution_count": 31,
      "metadata": {
        "colab": {
          "base_uri": "https://localhost:8080/"
        },
        "id": "RKhu5t7MmjNX",
        "outputId": "f0e49b18-7738-4c87-f987-c39e890cd07f"
      },
      "outputs": [
        {
          "data": {
            "text/plain": [
              "24.0"
            ]
          },
          "execution_count": 31,
          "metadata": {},
          "output_type": "execute_result"
        }
      ],
      "source": [
        "(arr[:,2]/arr[:,1]).max()"
      ]
    },
    {
      "cell_type": "markdown",
      "metadata": {
        "id": "47GrCPVdqjZe"
      },
      "source": [
        "9. Вычислите среднее количество ингредиентов для топ-100 рецептов с наибольшей продолжительностью"
      ]
    },
    {
      "cell_type": "code",
      "execution_count": 32,
      "metadata": {
        "colab": {
          "base_uri": "https://localhost:8080/"
        },
        "id": "-EGt3JZco_tk",
        "outputId": "dcd75a57-300b-41b3-d02b-8352963cbe9a"
      },
      "outputs": [
        {
          "data": {
            "text/plain": [
              "6.61"
            ]
          },
          "execution_count": 32,
          "metadata": {},
          "output_type": "execute_result"
        }
      ],
      "source": [
        "arr[np.argsort(arr[:,1])][arr.shape[0]-100:,2].mean()"
      ]
    },
    {
      "cell_type": "markdown",
      "metadata": {
        "id": "2qHfSTOuqjZf"
      },
      "source": [
        "10. Выберите случайным образом и выведите информацию о 10 различных рецептах"
      ]
    },
    {
      "cell_type": "code",
      "execution_count": 33,
      "metadata": {
        "colab": {
          "base_uri": "https://localhost:8080/"
        },
        "id": "3lDJglM2CkEr",
        "outputId": "522e1823-b629-4705-eb19-cd90befdb503"
      },
      "outputs": [
        {
          "data": {
            "text/plain": [
              "array([[141792,     45,      5],\n",
              "       [398444,     55,     10],\n",
              "       [325584,     32,      6],\n",
              "       [ 92127,     24,     10],\n",
              "       [371074,     30,     10],\n",
              "       [243844,     65,      7],\n",
              "       [225847,    315,     12],\n",
              "       [502334,     60,     12],\n",
              "       [243470,     35,     11],\n",
              "       [165117,     55,      6]])"
            ]
          },
          "execution_count": 33,
          "metadata": {},
          "output_type": "execute_result"
        }
      ],
      "source": [
        "arr[np.random.choice(arr.shape[0], size=10, replace=False)]"
      ]
    },
    {
      "cell_type": "markdown",
      "metadata": {
        "id": "fpuiTPm-qjZf"
      },
      "source": [
        "11. Выведите процент рецептов, кол-во ингредиентов в которых меньше среднего."
      ]
    },
    {
      "cell_type": "code",
      "execution_count": 34,
      "metadata": {
        "colab": {
          "base_uri": "https://localhost:8080/"
        },
        "id": "G83WIkonZ2qJ",
        "outputId": "ae1b201e-7924-4cb7-de00-5b8a27389fb6"
      },
      "outputs": [
        {
          "data": {
            "text/plain": [
              "58.802"
            ]
          },
          "execution_count": 34,
          "metadata": {},
          "output_type": "execute_result"
        }
      ],
      "source": [
        "(arr[arr[:,2] < arr[:,2].mean()].shape[0] / arr.shape[0]) * 100"
      ]
    },
    {
      "cell_type": "markdown",
      "metadata": {
        "id": "kOS1hr8dqjZg"
      },
      "source": [
        "12. Назовем \"простым\" такой рецепт, длительность выполнения которого не больше 20 минут и кол-во ингредиентов в котором не больше 5. Создайте версию датасета с дополнительным столбцом, значениями которого являются 1, если рецепт простой, и 0 в противном случае."
      ]
    },
    {
      "cell_type": "code",
      "execution_count": 35,
      "metadata": {
        "colab": {
          "base_uri": "https://localhost:8080/"
        },
        "id": "f6pEMlpDbPT3",
        "outputId": "998d375f-81c7-4f77-fdcb-36140953b5b3"
      },
      "outputs": [
        {
          "data": {
            "text/plain": [
              "array([[127244,     60,     16,      0],\n",
              "       [ 23891,     25,      7,      0],\n",
              "       [ 94746,     10,      6,      0],\n",
              "       ...,\n",
              "       [498432,     65,     15,      0],\n",
              "       [370915,      5,      4,      1],\n",
              "       [ 81993,    140,     14,      0]])"
            ]
          },
          "execution_count": 35,
          "metadata": {},
          "output_type": "execute_result"
        }
      ],
      "source": [
        "arr_simpledetected = np.c_[arr, ((arr[:,1] <= 20) * (arr[:,2] <= 5)).astype(\"int\")]\n",
        "arr_simpledetected"
      ]
    },
    {
      "cell_type": "markdown",
      "metadata": {
        "id": "VrCX6L5pqjZg"
      },
      "source": [
        "13. Выведите процент \"простых\" рецептов в датасете"
      ]
    },
    {
      "cell_type": "code",
      "execution_count": 36,
      "metadata": {
        "colab": {
          "base_uri": "https://localhost:8080/"
        },
        "id": "Rxx0G_mQgzJD",
        "outputId": "0435c024-b6e2-42cf-c614-c0d9cc593498"
      },
      "outputs": [
        {
          "data": {
            "text/plain": [
              "9.552"
            ]
          },
          "execution_count": 36,
          "metadata": {},
          "output_type": "execute_result"
        }
      ],
      "source": [
        "(arr_simpledetected[arr_simpledetected[:,3] == 1].shape[0] / arr_simpledetected.shape[0]) * 100"
      ]
    },
    {
      "cell_type": "markdown",
      "metadata": {
        "id": "r5wiYGAeqjZh"
      },
      "source": [
        "14. Разделим рецепты на группы по следующему правилу. Назовем рецепты короткими, если их продолжительность составляет менее 10 минут; стандартными, если их продолжительность составляет более 10, но менее 20 минут; и длинными, если их продолжительность составляет не менее 20 минут. Создайте трехмерный массив, где нулевая ось отвечает за номер группы (короткий, стандартный или длинный рецепт), первая ось - за сам рецепт и вторая ось - за характеристики рецепта. Выберите максимальное количество рецептов из каждой группы таким образом, чтобы было возможно сформировать трехмерный массив. Выведите форму полученного массива."
      ]
    },
    {
      "cell_type": "code",
      "execution_count": 37,
      "metadata": {
        "colab": {
          "base_uri": "https://localhost:8080/"
        },
        "id": "DIskV1ysqjZh",
        "outputId": "abe1a25d-68f0-4713-e750-9b3cb51c584c"
      },
      "outputs": [
        {
          "data": {
            "text/plain": [
              "array([[[ 67660,      5,      6],\n",
              "        [366174,      7,      9],\n",
              "        [204134,      5,      3],\n",
              "        ...,\n",
              "        [420725,      5,      3],\n",
              "        [  4747,      1,      9],\n",
              "        [370915,      5,      4]],\n",
              "\n",
              "       [[ 94746,     10,      6],\n",
              "        [ 33941,     18,      9],\n",
              "        [446597,     15,      5],\n",
              "        ...,\n",
              "        [  9831,     15,      7],\n",
              "        [335859,     12,     14],\n",
              "        [256812,     10,      3]],\n",
              "\n",
              "       [[127244,     60,     16],\n",
              "        [ 23891,     25,      7],\n",
              "        [157911,     60,     14],\n",
              "        ...,\n",
              "        [168901,     25,      7],\n",
              "        [392339,     35,     13],\n",
              "        [206732,     45,     10]]])"
            ]
          },
          "execution_count": 37,
          "metadata": {},
          "output_type": "execute_result"
        }
      ],
      "source": [
        "arr_0 = arr[arr[:,1] < 10]\n",
        "arr_1 = arr[(10 <= arr[:,1]) * (arr[:,1] < 20)]\n",
        "arr_2 = arr[20 <= arr[:,1]]\n",
        "\n",
        "max_size = min([arr_0.shape[0], arr_1.shape[0], arr_2.shape[0]])\n",
        "\n",
        "arr_categories_detected = np.array([arr_0[:max_size], arr_1[:max_size], arr_2[:max_size]])\n",
        "arr_categories_detected\n"
      ]
    }
  ],
  "metadata": {
    "colab": {
      "collapsed_sections": [],
      "name": "01_numpy.ipynb",
      "provenance": []
    },
    "kernelspec": {
      "display_name": "Python 3",
      "language": "python",
      "name": "python3"
    },
    "language_info": {
      "codemirror_mode": {
        "name": "ipython",
        "version": 3
      },
      "file_extension": ".py",
      "mimetype": "text/x-python",
      "name": "python",
      "nbconvert_exporter": "python",
      "pygments_lexer": "ipython3",
      "version": "3.8.3"
    }
  },
  "nbformat": 4,
  "nbformat_minor": 0
}
