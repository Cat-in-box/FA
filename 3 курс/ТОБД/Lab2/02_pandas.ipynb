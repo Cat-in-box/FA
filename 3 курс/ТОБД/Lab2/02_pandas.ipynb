{
  "nbformat": 4,
  "nbformat_minor": 2,
  "metadata": {
    "kernelspec": {
      "name": "python3",
      "display_name": "Python 3.8.3 32-bit"
    },
    "language_info": {
      "codemirror_mode": {
        "name": "ipython",
        "version": 3
      },
      "file_extension": ".py",
      "mimetype": "text/x-python",
      "name": "python",
      "nbconvert_exporter": "python",
      "pygments_lexer": "ipython3",
      "version": "3.8.3"
    },
    "colab": {
      "name": "ФИНАЛ \"БЕКАП \"02_pandas.ipynb\"\"",
      "provenance": [],
      "collapsed_sections": []
    },
    "interpreter": {
      "hash": "f36bb2415103839c44be3616e885f7d6aee90348d429d9698a9148e0dea357be"
    }
  },
  "cells": [
    {
      "cell_type": "markdown",
      "source": [
        "# Pandas"
      ],
      "metadata": {
        "id": "a09d4FeYgcS8"
      }
    },
    {
      "cell_type": "markdown",
      "source": [
        "Материалы:\n",
        "* Макрушин С.В. \"Лекция 2: Библиотека Pandas\"\n",
        "* https://pandas.pydata.org/docs/user_guide/index.html#\n",
        "* https://pandas.pydata.org/docs/reference/index.html\n",
        "* Уэс Маккини. Python и анализ данных"
      ],
      "metadata": {
        "id": "UKZfI32tgcTB"
      }
    },
    {
      "cell_type": "code",
      "execution_count": 1,
      "source": [
        "import pandas as pd"
      ],
      "outputs": [],
      "metadata": {
        "id": "B5jL_w3KgcTD"
      }
    },
    {
      "cell_type": "markdown",
      "source": [
        "## Задачи для совместного разбора"
      ],
      "metadata": {
        "id": "yrYwc_ScgcTF"
      }
    },
    {
      "cell_type": "markdown",
      "source": [
        "1. Загрузите данные из файла `sp500hst.txt` и обозначьте столбцы в соответствии с содержимым: `\"date\", \"ticker\", \"open\", \"high\", \"low\", \"close\", \"volume\"`."
      ],
      "metadata": {
        "id": "N7-B-wWegcTG"
      }
    },
    {
      "cell_type": "code",
      "execution_count": 2,
      "source": [
        "df = pd.read_csv(r\"https://raw.githubusercontent.com/Cat-in-box/FA/main/3%20%D0%BA%D1%83%D1%80%D1%81/%D0%A2%D0%9E%D0%91%D0%94/data/sp500hst.txt\", sep =',', header=None, names=[\"date\", \"ticker\", \"open\", \"high\", \"low\", \"close\", \"volume\"])\r\n",
        "df"
      ],
      "outputs": [
        {
          "output_type": "execute_result",
          "data": {
            "text/plain": [
              "            date ticker   open     high     low  close  volume\n",
              "0       20090821      A  25.60  25.6100  25.220  25.55   34758\n",
              "1       20090824      A  25.64  25.7400  25.330  25.50   22247\n",
              "2       20090825      A  25.50  25.7000  25.225  25.34   30891\n",
              "3       20090826      A  25.32  25.6425  25.145  25.48   33334\n",
              "4       20090827      A  25.50  25.5700  25.230  25.54   70176\n",
              "...          ...    ...    ...      ...     ...    ...     ...\n",
              "122569  20100813    ZMH  51.72  51.9000  51.380  51.44   14561\n",
              "122570  20100816    ZMH  51.13  51.4700  50.600  51.00   13489\n",
              "122571  20100817    ZMH  51.14  51.6000  50.890  51.21   20498\n",
              "122572  20100819    ZMH  51.63  51.6300  50.170  50.22   18259\n",
              "122573  20100820    ZMH  50.03  50.5500  49.480  49.82   17792\n",
              "\n",
              "[122574 rows x 7 columns]"
            ],
            "text/html": [
              "<div>\n",
              "<style scoped>\n",
              "    .dataframe tbody tr th:only-of-type {\n",
              "        vertical-align: middle;\n",
              "    }\n",
              "\n",
              "    .dataframe tbody tr th {\n",
              "        vertical-align: top;\n",
              "    }\n",
              "\n",
              "    .dataframe thead th {\n",
              "        text-align: right;\n",
              "    }\n",
              "</style>\n",
              "<table border=\"1\" class=\"dataframe\">\n",
              "  <thead>\n",
              "    <tr style=\"text-align: right;\">\n",
              "      <th></th>\n",
              "      <th>date</th>\n",
              "      <th>ticker</th>\n",
              "      <th>open</th>\n",
              "      <th>high</th>\n",
              "      <th>low</th>\n",
              "      <th>close</th>\n",
              "      <th>volume</th>\n",
              "    </tr>\n",
              "  </thead>\n",
              "  <tbody>\n",
              "    <tr>\n",
              "      <th>0</th>\n",
              "      <td>20090821</td>\n",
              "      <td>A</td>\n",
              "      <td>25.60</td>\n",
              "      <td>25.6100</td>\n",
              "      <td>25.220</td>\n",
              "      <td>25.55</td>\n",
              "      <td>34758</td>\n",
              "    </tr>\n",
              "    <tr>\n",
              "      <th>1</th>\n",
              "      <td>20090824</td>\n",
              "      <td>A</td>\n",
              "      <td>25.64</td>\n",
              "      <td>25.7400</td>\n",
              "      <td>25.330</td>\n",
              "      <td>25.50</td>\n",
              "      <td>22247</td>\n",
              "    </tr>\n",
              "    <tr>\n",
              "      <th>2</th>\n",
              "      <td>20090825</td>\n",
              "      <td>A</td>\n",
              "      <td>25.50</td>\n",
              "      <td>25.7000</td>\n",
              "      <td>25.225</td>\n",
              "      <td>25.34</td>\n",
              "      <td>30891</td>\n",
              "    </tr>\n",
              "    <tr>\n",
              "      <th>3</th>\n",
              "      <td>20090826</td>\n",
              "      <td>A</td>\n",
              "      <td>25.32</td>\n",
              "      <td>25.6425</td>\n",
              "      <td>25.145</td>\n",
              "      <td>25.48</td>\n",
              "      <td>33334</td>\n",
              "    </tr>\n",
              "    <tr>\n",
              "      <th>4</th>\n",
              "      <td>20090827</td>\n",
              "      <td>A</td>\n",
              "      <td>25.50</td>\n",
              "      <td>25.5700</td>\n",
              "      <td>25.230</td>\n",
              "      <td>25.54</td>\n",
              "      <td>70176</td>\n",
              "    </tr>\n",
              "    <tr>\n",
              "      <th>...</th>\n",
              "      <td>...</td>\n",
              "      <td>...</td>\n",
              "      <td>...</td>\n",
              "      <td>...</td>\n",
              "      <td>...</td>\n",
              "      <td>...</td>\n",
              "      <td>...</td>\n",
              "    </tr>\n",
              "    <tr>\n",
              "      <th>122569</th>\n",
              "      <td>20100813</td>\n",
              "      <td>ZMH</td>\n",
              "      <td>51.72</td>\n",
              "      <td>51.9000</td>\n",
              "      <td>51.380</td>\n",
              "      <td>51.44</td>\n",
              "      <td>14561</td>\n",
              "    </tr>\n",
              "    <tr>\n",
              "      <th>122570</th>\n",
              "      <td>20100816</td>\n",
              "      <td>ZMH</td>\n",
              "      <td>51.13</td>\n",
              "      <td>51.4700</td>\n",
              "      <td>50.600</td>\n",
              "      <td>51.00</td>\n",
              "      <td>13489</td>\n",
              "    </tr>\n",
              "    <tr>\n",
              "      <th>122571</th>\n",
              "      <td>20100817</td>\n",
              "      <td>ZMH</td>\n",
              "      <td>51.14</td>\n",
              "      <td>51.6000</td>\n",
              "      <td>50.890</td>\n",
              "      <td>51.21</td>\n",
              "      <td>20498</td>\n",
              "    </tr>\n",
              "    <tr>\n",
              "      <th>122572</th>\n",
              "      <td>20100819</td>\n",
              "      <td>ZMH</td>\n",
              "      <td>51.63</td>\n",
              "      <td>51.6300</td>\n",
              "      <td>50.170</td>\n",
              "      <td>50.22</td>\n",
              "      <td>18259</td>\n",
              "    </tr>\n",
              "    <tr>\n",
              "      <th>122573</th>\n",
              "      <td>20100820</td>\n",
              "      <td>ZMH</td>\n",
              "      <td>50.03</td>\n",
              "      <td>50.5500</td>\n",
              "      <td>49.480</td>\n",
              "      <td>49.82</td>\n",
              "      <td>17792</td>\n",
              "    </tr>\n",
              "  </tbody>\n",
              "</table>\n",
              "<p>122574 rows × 7 columns</p>\n",
              "</div>"
            ]
          },
          "metadata": {},
          "execution_count": 2
        }
      ],
      "metadata": {
        "id": "IHGR8D0WgcTH",
        "colab": {
          "base_uri": "https://localhost:8080/",
          "height": 419
        },
        "outputId": "5ac82b8d-22b8-4664-aefd-8afcec7f5ddc"
      }
    },
    {
      "cell_type": "markdown",
      "source": [
        "2. Рассчитайте среднее значение показателей для каждого из столбцов c номерами 3-6."
      ],
      "metadata": {
        "id": "sTZqe-0ggcTJ"
      }
    },
    {
      "cell_type": "code",
      "execution_count": null,
      "source": [
        "df.iloc[:, 3:6].mean()"
      ],
      "outputs": [
        {
          "output_type": "execute_result",
          "data": {
            "text/plain": [
              "high     43.102243\n",
              "low      42.054464\n",
              "close    42.601865\n",
              "dtype: float64"
            ]
          },
          "metadata": {},
          "execution_count": 31
        }
      ],
      "metadata": {
        "scrolled": true,
        "id": "9Lzwhqh9gcTJ",
        "colab": {
          "base_uri": "https://localhost:8080/"
        },
        "outputId": "abe1b0f2-db84-4dac-be71-5243bd48b5be"
      }
    },
    {
      "cell_type": "markdown",
      "source": [
        "3. Добавьте столбец, содержащий только число месяца, к которому относится дата."
      ],
      "metadata": {
        "id": "sMlRZbgbgcTK"
      }
    },
    {
      "cell_type": "code",
      "execution_count": null,
      "source": [
        "pd.to_datetime(df['date'],format=\"%Y%m%d\").dt.month.head()"
      ],
      "outputs": [
        {
          "output_type": "execute_result",
          "data": {
            "text/plain": [
              "0    8\n",
              "1    8\n",
              "2    8\n",
              "3    8\n",
              "4    8\n",
              "Name: date, dtype: int64"
            ]
          },
          "metadata": {},
          "execution_count": 32
        }
      ],
      "metadata": {
        "id": "GHyDwDY-gcTL",
        "colab": {
          "base_uri": "https://localhost:8080/"
        },
        "outputId": "16551066-9f0d-43a0-dffb-f8848fd842ab"
      }
    },
    {
      "cell_type": "markdown",
      "source": [
        "4. Рассчитайте суммарный объем торгов для для одинаковых значений тикеров."
      ],
      "metadata": {
        "id": "SJbDFNxpgcTN"
      }
    },
    {
      "cell_type": "code",
      "execution_count": null,
      "source": [
        "df['ticker'].str.lower().head()\r\n",
        "df['open'].mean()"
      ],
      "outputs": [
        {
          "output_type": "execute_result",
          "data": {
            "text/plain": [
              "42.5954576590471"
            ]
          },
          "metadata": {},
          "execution_count": 33
        }
      ],
      "metadata": {
        "id": "b1YYRYn1gcTN",
        "colab": {
          "base_uri": "https://localhost:8080/"
        },
        "outputId": "ba769193-ced6-45a4-967f-58fd7d45b48b"
      }
    },
    {
      "cell_type": "code",
      "execution_count": null,
      "source": [
        "df.groupby('ticker')['open'].mean()"
      ],
      "outputs": [
        {
          "output_type": "execute_result",
          "data": {
            "text/plain": [
              "ticker\n",
              "A        30.234857\n",
              "AA       13.086959\n",
              "AAPL    221.342427\n",
              "ABC      27.432122\n",
              "ABT      50.996776\n",
              "           ...    \n",
              "XTO      44.640338\n",
              "YHOO     15.854774\n",
              "YUM      37.456898\n",
              "ZION     19.694057\n",
              "ZMH      56.220980\n",
              "Name: open, Length: 524, dtype: float64"
            ]
          },
          "metadata": {},
          "execution_count": 34
        }
      ],
      "metadata": {
        "id": "4xKE9OMOgcTP",
        "colab": {
          "base_uri": "https://localhost:8080/"
        },
        "outputId": "764646de-a108-4df3-ae97-2b0ecb7b7589"
      }
    },
    {
      "cell_type": "markdown",
      "source": [
        "5. Загрузите данные из файла sp500hst.txt и обозначьте столбцы в соответствии с содержимым: \"date\", \"ticker\", \"open\", \"high\", \"low\", \"close\", \"volume\". Добавьте столбец с расшифровкой названия тикера, используя данные из файла `sp_data2.csv` . В случае нехватки данных об именах тикеров корректно обработать их."
      ],
      "metadata": {
        "id": "Gn9Ps_AmgcTP"
      }
    },
    {
      "cell_type": "code",
      "execution_count": null,
      "source": [
        "headers = [\"ticker\", \"company\", \"percent\"]\r\n",
        "sp = pd.read_csv(\"https://raw.githubusercontent.com/Cat-in-box/FA/main/3%20%D0%BA%D1%83%D1%80%D1%81/%D0%A2%D0%9E%D0%91%D0%94/data/sp_data2.csv\", sep=\";\", names=headers)\r\n",
        "sp"
      ],
      "outputs": [
        {
          "output_type": "execute_result",
          "data": {
            "text/plain": [
              "    ticker          company percent\n",
              "0     AAPL            Apple    3.6%\n",
              "1     AMZN       Amazon.com    3.2%\n",
              "2    GOOGL         Alphabet    3.1%\n",
              "3     GOOG         Alphabet    3.1%\n",
              "4     MSFT        Microsoft    3.0%\n",
              "..     ...              ...     ...\n",
              "500    SCG            SCANA    0.0%\n",
              "501    AIZ         Assurant    0.0%\n",
              "502    AYI    Acuity Brands    0.0%\n",
              "503    HRB        H&R Block    0.0%\n",
              "504    RRC  Range Resources    0.0%\n",
              "\n",
              "[505 rows x 3 columns]"
            ],
            "text/html": [
              "<div>\n",
              "<style scoped>\n",
              "    .dataframe tbody tr th:only-of-type {\n",
              "        vertical-align: middle;\n",
              "    }\n",
              "\n",
              "    .dataframe tbody tr th {\n",
              "        vertical-align: top;\n",
              "    }\n",
              "\n",
              "    .dataframe thead th {\n",
              "        text-align: right;\n",
              "    }\n",
              "</style>\n",
              "<table border=\"1\" class=\"dataframe\">\n",
              "  <thead>\n",
              "    <tr style=\"text-align: right;\">\n",
              "      <th></th>\n",
              "      <th>ticker</th>\n",
              "      <th>company</th>\n",
              "      <th>percent</th>\n",
              "    </tr>\n",
              "  </thead>\n",
              "  <tbody>\n",
              "    <tr>\n",
              "      <th>0</th>\n",
              "      <td>AAPL</td>\n",
              "      <td>Apple</td>\n",
              "      <td>3.6%</td>\n",
              "    </tr>\n",
              "    <tr>\n",
              "      <th>1</th>\n",
              "      <td>AMZN</td>\n",
              "      <td>Amazon.com</td>\n",
              "      <td>3.2%</td>\n",
              "    </tr>\n",
              "    <tr>\n",
              "      <th>2</th>\n",
              "      <td>GOOGL</td>\n",
              "      <td>Alphabet</td>\n",
              "      <td>3.1%</td>\n",
              "    </tr>\n",
              "    <tr>\n",
              "      <th>3</th>\n",
              "      <td>GOOG</td>\n",
              "      <td>Alphabet</td>\n",
              "      <td>3.1%</td>\n",
              "    </tr>\n",
              "    <tr>\n",
              "      <th>4</th>\n",
              "      <td>MSFT</td>\n",
              "      <td>Microsoft</td>\n",
              "      <td>3.0%</td>\n",
              "    </tr>\n",
              "    <tr>\n",
              "      <th>...</th>\n",
              "      <td>...</td>\n",
              "      <td>...</td>\n",
              "      <td>...</td>\n",
              "    </tr>\n",
              "    <tr>\n",
              "      <th>500</th>\n",
              "      <td>SCG</td>\n",
              "      <td>SCANA</td>\n",
              "      <td>0.0%</td>\n",
              "    </tr>\n",
              "    <tr>\n",
              "      <th>501</th>\n",
              "      <td>AIZ</td>\n",
              "      <td>Assurant</td>\n",
              "      <td>0.0%</td>\n",
              "    </tr>\n",
              "    <tr>\n",
              "      <th>502</th>\n",
              "      <td>AYI</td>\n",
              "      <td>Acuity Brands</td>\n",
              "      <td>0.0%</td>\n",
              "    </tr>\n",
              "    <tr>\n",
              "      <th>503</th>\n",
              "      <td>HRB</td>\n",
              "      <td>H&amp;R Block</td>\n",
              "      <td>0.0%</td>\n",
              "    </tr>\n",
              "    <tr>\n",
              "      <th>504</th>\n",
              "      <td>RRC</td>\n",
              "      <td>Range Resources</td>\n",
              "      <td>0.0%</td>\n",
              "    </tr>\n",
              "  </tbody>\n",
              "</table>\n",
              "<p>505 rows × 3 columns</p>\n",
              "</div>"
            ]
          },
          "metadata": {},
          "execution_count": 35
        }
      ],
      "metadata": {
        "id": "LEhgoR5pgcTP",
        "colab": {
          "base_uri": "https://localhost:8080/",
          "height": 419
        },
        "outputId": "a3ac54c1-ce77-4afe-8d6a-070f23d0a289"
      }
    },
    {
      "cell_type": "code",
      "execution_count": null,
      "source": [
        "pd.merge(df, sp, how='inner', left_on=\"ticker\", right_on=\"ticker\")"
      ],
      "outputs": [
        {
          "output_type": "execute_result",
          "data": {
            "text/plain": [
              "           date ticker   open  ...  volume               company  percent\n",
              "0      20090821      A  25.60  ...   34758  Agilent Technologies     0.1%\n",
              "1      20090824      A  25.64  ...   22247  Agilent Technologies     0.1%\n",
              "2      20090825      A  25.50  ...   30891  Agilent Technologies     0.1%\n",
              "3      20090826      A  25.32  ...   33334  Agilent Technologies     0.1%\n",
              "4      20090827      A  25.50  ...   70176  Agilent Technologies     0.1%\n",
              "...         ...    ...    ...  ...     ...                   ...      ...\n",
              "82167  20100813   ZION  20.17  ...   25193         Zions Bancorp     0.0%\n",
              "82168  20100816   ZION  19.81  ...   25914         Zions Bancorp     0.0%\n",
              "82169  20100817   ZION  20.07  ...   31717         Zions Bancorp     0.0%\n",
              "82170  20100819   ZION  19.83  ...   45935         Zions Bancorp     0.0%\n",
              "82171  20100820   ZION  19.15  ...   37225         Zions Bancorp     0.0%\n",
              "\n",
              "[82172 rows x 9 columns]"
            ],
            "text/html": [
              "<div>\n",
              "<style scoped>\n",
              "    .dataframe tbody tr th:only-of-type {\n",
              "        vertical-align: middle;\n",
              "    }\n",
              "\n",
              "    .dataframe tbody tr th {\n",
              "        vertical-align: top;\n",
              "    }\n",
              "\n",
              "    .dataframe thead th {\n",
              "        text-align: right;\n",
              "    }\n",
              "</style>\n",
              "<table border=\"1\" class=\"dataframe\">\n",
              "  <thead>\n",
              "    <tr style=\"text-align: right;\">\n",
              "      <th></th>\n",
              "      <th>date</th>\n",
              "      <th>ticker</th>\n",
              "      <th>open</th>\n",
              "      <th>high</th>\n",
              "      <th>low</th>\n",
              "      <th>close</th>\n",
              "      <th>volume</th>\n",
              "      <th>company</th>\n",
              "      <th>percent</th>\n",
              "    </tr>\n",
              "  </thead>\n",
              "  <tbody>\n",
              "    <tr>\n",
              "      <th>0</th>\n",
              "      <td>20090821</td>\n",
              "      <td>A</td>\n",
              "      <td>25.60</td>\n",
              "      <td>25.6100</td>\n",
              "      <td>25.220</td>\n",
              "      <td>25.55</td>\n",
              "      <td>34758</td>\n",
              "      <td>Agilent Technologies</td>\n",
              "      <td>0.1%</td>\n",
              "    </tr>\n",
              "    <tr>\n",
              "      <th>1</th>\n",
              "      <td>20090824</td>\n",
              "      <td>A</td>\n",
              "      <td>25.64</td>\n",
              "      <td>25.7400</td>\n",
              "      <td>25.330</td>\n",
              "      <td>25.50</td>\n",
              "      <td>22247</td>\n",
              "      <td>Agilent Technologies</td>\n",
              "      <td>0.1%</td>\n",
              "    </tr>\n",
              "    <tr>\n",
              "      <th>2</th>\n",
              "      <td>20090825</td>\n",
              "      <td>A</td>\n",
              "      <td>25.50</td>\n",
              "      <td>25.7000</td>\n",
              "      <td>25.225</td>\n",
              "      <td>25.34</td>\n",
              "      <td>30891</td>\n",
              "      <td>Agilent Technologies</td>\n",
              "      <td>0.1%</td>\n",
              "    </tr>\n",
              "    <tr>\n",
              "      <th>3</th>\n",
              "      <td>20090826</td>\n",
              "      <td>A</td>\n",
              "      <td>25.32</td>\n",
              "      <td>25.6425</td>\n",
              "      <td>25.145</td>\n",
              "      <td>25.48</td>\n",
              "      <td>33334</td>\n",
              "      <td>Agilent Technologies</td>\n",
              "      <td>0.1%</td>\n",
              "    </tr>\n",
              "    <tr>\n",
              "      <th>4</th>\n",
              "      <td>20090827</td>\n",
              "      <td>A</td>\n",
              "      <td>25.50</td>\n",
              "      <td>25.5700</td>\n",
              "      <td>25.230</td>\n",
              "      <td>25.54</td>\n",
              "      <td>70176</td>\n",
              "      <td>Agilent Technologies</td>\n",
              "      <td>0.1%</td>\n",
              "    </tr>\n",
              "    <tr>\n",
              "      <th>...</th>\n",
              "      <td>...</td>\n",
              "      <td>...</td>\n",
              "      <td>...</td>\n",
              "      <td>...</td>\n",
              "      <td>...</td>\n",
              "      <td>...</td>\n",
              "      <td>...</td>\n",
              "      <td>...</td>\n",
              "      <td>...</td>\n",
              "    </tr>\n",
              "    <tr>\n",
              "      <th>82167</th>\n",
              "      <td>20100813</td>\n",
              "      <td>ZION</td>\n",
              "      <td>20.17</td>\n",
              "      <td>20.4300</td>\n",
              "      <td>19.840</td>\n",
              "      <td>19.89</td>\n",
              "      <td>25193</td>\n",
              "      <td>Zions Bancorp</td>\n",
              "      <td>0.0%</td>\n",
              "    </tr>\n",
              "    <tr>\n",
              "      <th>82168</th>\n",
              "      <td>20100816</td>\n",
              "      <td>ZION</td>\n",
              "      <td>19.81</td>\n",
              "      <td>19.9600</td>\n",
              "      <td>19.600</td>\n",
              "      <td>19.95</td>\n",
              "      <td>25914</td>\n",
              "      <td>Zions Bancorp</td>\n",
              "      <td>0.0%</td>\n",
              "    </tr>\n",
              "    <tr>\n",
              "      <th>82169</th>\n",
              "      <td>20100817</td>\n",
              "      <td>ZION</td>\n",
              "      <td>20.07</td>\n",
              "      <td>20.4700</td>\n",
              "      <td>19.830</td>\n",
              "      <td>20.31</td>\n",
              "      <td>31717</td>\n",
              "      <td>Zions Bancorp</td>\n",
              "      <td>0.0%</td>\n",
              "    </tr>\n",
              "    <tr>\n",
              "      <th>82170</th>\n",
              "      <td>20100819</td>\n",
              "      <td>ZION</td>\n",
              "      <td>19.83</td>\n",
              "      <td>20.0000</td>\n",
              "      <td>19.130</td>\n",
              "      <td>19.35</td>\n",
              "      <td>45935</td>\n",
              "      <td>Zions Bancorp</td>\n",
              "      <td>0.0%</td>\n",
              "    </tr>\n",
              "    <tr>\n",
              "      <th>82171</th>\n",
              "      <td>20100820</td>\n",
              "      <td>ZION</td>\n",
              "      <td>19.15</td>\n",
              "      <td>19.2700</td>\n",
              "      <td>18.810</td>\n",
              "      <td>19.14</td>\n",
              "      <td>37225</td>\n",
              "      <td>Zions Bancorp</td>\n",
              "      <td>0.0%</td>\n",
              "    </tr>\n",
              "  </tbody>\n",
              "</table>\n",
              "<p>82172 rows × 9 columns</p>\n",
              "</div>"
            ]
          },
          "metadata": {},
          "execution_count": 36
        }
      ],
      "metadata": {
        "id": "DG4EyFGmgcTR",
        "colab": {
          "base_uri": "https://localhost:8080/",
          "height": 419
        },
        "outputId": "4cf0ecb6-cc83-4607-f601-1efc40eb4a65"
      }
    },
    {
      "cell_type": "markdown",
      "source": [
        "## Лабораторная работа №2"
      ],
      "metadata": {
        "id": "FRmWL4NHgcTR"
      }
    },
    {
      "cell_type": "markdown",
      "source": [
        "### Базовые операции с `DataFrame`"
      ],
      "metadata": {
        "id": "SpzhpH51gcTR"
      }
    },
    {
      "cell_type": "markdown",
      "source": [
        "1.1 В файлах `recipes_sample.csv` и `reviews_sample.csv` находится информация об рецептах блюд и отзывах на эти рецепты соответственно. Загрузите данные из файлов в виде `pd.DataFrame` с названиями `recipes` и `reviews`. Обратите внимание на корректное считывание столбца(ов) с индексами."
      ],
      "metadata": {
        "id": "Q3bA7kVAgcTR"
      }
    },
    {
      "cell_type": "code",
      "execution_count": 3,
      "source": [
        "recipes = pd.read_csv(r\"https://raw.githubusercontent.com/Cat-in-box/FA/main/3%20%D0%BA%D1%83%D1%80%D1%81/%D0%A2%D0%9E%D0%91%D0%94/data/recipes_sample.csv\", sep=\",\")\r\n",
        "recipes"
      ],
      "outputs": [
        {
          "output_type": "execute_result",
          "data": {
            "text/plain": [
              "                                               name      id  minutes  \\\n",
              "0             george s at the cove  black bean soup   44123       90   \n",
              "1                healthy for them  yogurt popsicles   67664       10   \n",
              "2                      i can t believe it s spinach   38798       30   \n",
              "3                              italian  gut busters   35173       45   \n",
              "4          love is in the air  beef fondue   sauces   84797       25   \n",
              "...                                             ...     ...      ...   \n",
              "29995  zurie s holey rustic olive and cheddar bread  267661       80   \n",
              "29996          zwetschgenkuchen  bavarian plum cake  386977      240   \n",
              "29997   zwiebelkuchen   southwest german onion cake  103312       75   \n",
              "29998                                   zydeco soup  486161       60   \n",
              "29999        cookies by design   cookies on a stick  298512       29   \n",
              "\n",
              "       contributor_id   submitted  n_steps  \\\n",
              "0               35193  2002-10-25      NaN   \n",
              "1               91970  2003-07-26      NaN   \n",
              "2                1533  2002-08-29      NaN   \n",
              "3               22724  2002-07-27      NaN   \n",
              "4                4470  2004-02-23      4.0   \n",
              "...               ...         ...      ...   \n",
              "29995          200862  2007-11-25     16.0   \n",
              "29996          177443  2009-08-24      NaN   \n",
              "29997          161745  2004-11-03      NaN   \n",
              "29998          227978  2012-08-29      NaN   \n",
              "29999          506822  2008-04-15      9.0   \n",
              "\n",
              "                                             description  n_ingredients  \n",
              "0      an original recipe created by chef scott meska...           18.0  \n",
              "1      my children and their friends ask for my homem...            NaN  \n",
              "2                these were so go, it surprised even me.            8.0  \n",
              "3      my sister-in-law made these for us at a family...            NaN  \n",
              "4      i think a fondue is a very romantic casual din...            NaN  \n",
              "...                                                  ...            ...  \n",
              "29995  this is based on a french recipe but i changed...           10.0  \n",
              "29996  this is a traditional fresh plum cake, thought...           11.0  \n",
              "29997  this is a traditional late summer early fall s...            NaN  \n",
              "29998  this is a delicious soup that i originally fou...            NaN  \n",
              "29999  i've heard of the 'cookies by design' company,...           10.0  \n",
              "\n",
              "[30000 rows x 8 columns]"
            ],
            "text/html": [
              "<div>\n",
              "<style scoped>\n",
              "    .dataframe tbody tr th:only-of-type {\n",
              "        vertical-align: middle;\n",
              "    }\n",
              "\n",
              "    .dataframe tbody tr th {\n",
              "        vertical-align: top;\n",
              "    }\n",
              "\n",
              "    .dataframe thead th {\n",
              "        text-align: right;\n",
              "    }\n",
              "</style>\n",
              "<table border=\"1\" class=\"dataframe\">\n",
              "  <thead>\n",
              "    <tr style=\"text-align: right;\">\n",
              "      <th></th>\n",
              "      <th>name</th>\n",
              "      <th>id</th>\n",
              "      <th>minutes</th>\n",
              "      <th>contributor_id</th>\n",
              "      <th>submitted</th>\n",
              "      <th>n_steps</th>\n",
              "      <th>description</th>\n",
              "      <th>n_ingredients</th>\n",
              "    </tr>\n",
              "  </thead>\n",
              "  <tbody>\n",
              "    <tr>\n",
              "      <th>0</th>\n",
              "      <td>george s at the cove  black bean soup</td>\n",
              "      <td>44123</td>\n",
              "      <td>90</td>\n",
              "      <td>35193</td>\n",
              "      <td>2002-10-25</td>\n",
              "      <td>NaN</td>\n",
              "      <td>an original recipe created by chef scott meska...</td>\n",
              "      <td>18.0</td>\n",
              "    </tr>\n",
              "    <tr>\n",
              "      <th>1</th>\n",
              "      <td>healthy for them  yogurt popsicles</td>\n",
              "      <td>67664</td>\n",
              "      <td>10</td>\n",
              "      <td>91970</td>\n",
              "      <td>2003-07-26</td>\n",
              "      <td>NaN</td>\n",
              "      <td>my children and their friends ask for my homem...</td>\n",
              "      <td>NaN</td>\n",
              "    </tr>\n",
              "    <tr>\n",
              "      <th>2</th>\n",
              "      <td>i can t believe it s spinach</td>\n",
              "      <td>38798</td>\n",
              "      <td>30</td>\n",
              "      <td>1533</td>\n",
              "      <td>2002-08-29</td>\n",
              "      <td>NaN</td>\n",
              "      <td>these were so go, it surprised even me.</td>\n",
              "      <td>8.0</td>\n",
              "    </tr>\n",
              "    <tr>\n",
              "      <th>3</th>\n",
              "      <td>italian  gut busters</td>\n",
              "      <td>35173</td>\n",
              "      <td>45</td>\n",
              "      <td>22724</td>\n",
              "      <td>2002-07-27</td>\n",
              "      <td>NaN</td>\n",
              "      <td>my sister-in-law made these for us at a family...</td>\n",
              "      <td>NaN</td>\n",
              "    </tr>\n",
              "    <tr>\n",
              "      <th>4</th>\n",
              "      <td>love is in the air  beef fondue   sauces</td>\n",
              "      <td>84797</td>\n",
              "      <td>25</td>\n",
              "      <td>4470</td>\n",
              "      <td>2004-02-23</td>\n",
              "      <td>4.0</td>\n",
              "      <td>i think a fondue is a very romantic casual din...</td>\n",
              "      <td>NaN</td>\n",
              "    </tr>\n",
              "    <tr>\n",
              "      <th>...</th>\n",
              "      <td>...</td>\n",
              "      <td>...</td>\n",
              "      <td>...</td>\n",
              "      <td>...</td>\n",
              "      <td>...</td>\n",
              "      <td>...</td>\n",
              "      <td>...</td>\n",
              "      <td>...</td>\n",
              "    </tr>\n",
              "    <tr>\n",
              "      <th>29995</th>\n",
              "      <td>zurie s holey rustic olive and cheddar bread</td>\n",
              "      <td>267661</td>\n",
              "      <td>80</td>\n",
              "      <td>200862</td>\n",
              "      <td>2007-11-25</td>\n",
              "      <td>16.0</td>\n",
              "      <td>this is based on a french recipe but i changed...</td>\n",
              "      <td>10.0</td>\n",
              "    </tr>\n",
              "    <tr>\n",
              "      <th>29996</th>\n",
              "      <td>zwetschgenkuchen  bavarian plum cake</td>\n",
              "      <td>386977</td>\n",
              "      <td>240</td>\n",
              "      <td>177443</td>\n",
              "      <td>2009-08-24</td>\n",
              "      <td>NaN</td>\n",
              "      <td>this is a traditional fresh plum cake, thought...</td>\n",
              "      <td>11.0</td>\n",
              "    </tr>\n",
              "    <tr>\n",
              "      <th>29997</th>\n",
              "      <td>zwiebelkuchen   southwest german onion cake</td>\n",
              "      <td>103312</td>\n",
              "      <td>75</td>\n",
              "      <td>161745</td>\n",
              "      <td>2004-11-03</td>\n",
              "      <td>NaN</td>\n",
              "      <td>this is a traditional late summer early fall s...</td>\n",
              "      <td>NaN</td>\n",
              "    </tr>\n",
              "    <tr>\n",
              "      <th>29998</th>\n",
              "      <td>zydeco soup</td>\n",
              "      <td>486161</td>\n",
              "      <td>60</td>\n",
              "      <td>227978</td>\n",
              "      <td>2012-08-29</td>\n",
              "      <td>NaN</td>\n",
              "      <td>this is a delicious soup that i originally fou...</td>\n",
              "      <td>NaN</td>\n",
              "    </tr>\n",
              "    <tr>\n",
              "      <th>29999</th>\n",
              "      <td>cookies by design   cookies on a stick</td>\n",
              "      <td>298512</td>\n",
              "      <td>29</td>\n",
              "      <td>506822</td>\n",
              "      <td>2008-04-15</td>\n",
              "      <td>9.0</td>\n",
              "      <td>i've heard of the 'cookies by design' company,...</td>\n",
              "      <td>10.0</td>\n",
              "    </tr>\n",
              "  </tbody>\n",
              "</table>\n",
              "<p>30000 rows × 8 columns</p>\n",
              "</div>"
            ]
          },
          "metadata": {},
          "execution_count": 3
        }
      ],
      "metadata": {
        "id": "FXbAQj1kgcTT",
        "colab": {
          "base_uri": "https://localhost:8080/",
          "height": 742
        },
        "outputId": "f6a5701b-32f9-416e-d934-3862d6104b25"
      }
    },
    {
      "cell_type": "code",
      "execution_count": 4,
      "source": [
        "reviews = pd.read_csv(r\"https://raw.githubusercontent.com/Cat-in-box/FA/main/3%20%D0%BA%D1%83%D1%80%D1%81/%D0%A2%D0%9E%D0%91%D0%94/data/reviews_sample.csv\", sep=\",\")\r\n",
        "reviews"
      ],
      "outputs": [
        {
          "output_type": "execute_result",
          "data": {
            "text/plain": [
              "        Unnamed: 0     user_id  recipe_id        date  rating  \\\n",
              "0           370476       21752      57993  2003-05-01       5   \n",
              "1           624300      431813     142201  2007-09-16       5   \n",
              "2           187037      400708     252013  2008-01-10       4   \n",
              "3           706134  2001852463     404716  2017-12-11       5   \n",
              "4           312179       95810     129396  2008-03-14       5   \n",
              "...            ...         ...        ...         ...     ...   \n",
              "126691     1013457     1270706     335534  2009-05-17       4   \n",
              "126692      158736     2282344       8701  2012-06-03       0   \n",
              "126693     1059834      689540     222001  2008-04-08       5   \n",
              "126694      453285  2000242659     354979  2015-06-02       5   \n",
              "126695      691207      463435     415599  2010-09-30       5   \n",
              "\n",
              "                                                   review  \n",
              "0       Last week whole sides of frozen salmon fillet ...  \n",
              "1       So simple and so tasty!  I used a yellow capsi...  \n",
              "2       Very nice breakfast HH, easy to make and yummy...  \n",
              "3       These are a favorite for the holidays and so e...  \n",
              "4       Excellent soup!  The tomato flavor is just gre...  \n",
              "...                                                   ...  \n",
              "126691  This recipe was great! I made it last night. I...  \n",
              "126692  This recipe is outstanding. I followed the rec...  \n",
              "126693  Well, we were not a crowd but it was a fabulou...  \n",
              "126694  I have been a steak eater and dedicated BBQ gr...  \n",
              "126695  Wonderful and simple to prepare seasoning blen...  \n",
              "\n",
              "[126696 rows x 6 columns]"
            ],
            "text/html": [
              "<div>\n",
              "<style scoped>\n",
              "    .dataframe tbody tr th:only-of-type {\n",
              "        vertical-align: middle;\n",
              "    }\n",
              "\n",
              "    .dataframe tbody tr th {\n",
              "        vertical-align: top;\n",
              "    }\n",
              "\n",
              "    .dataframe thead th {\n",
              "        text-align: right;\n",
              "    }\n",
              "</style>\n",
              "<table border=\"1\" class=\"dataframe\">\n",
              "  <thead>\n",
              "    <tr style=\"text-align: right;\">\n",
              "      <th></th>\n",
              "      <th>Unnamed: 0</th>\n",
              "      <th>user_id</th>\n",
              "      <th>recipe_id</th>\n",
              "      <th>date</th>\n",
              "      <th>rating</th>\n",
              "      <th>review</th>\n",
              "    </tr>\n",
              "  </thead>\n",
              "  <tbody>\n",
              "    <tr>\n",
              "      <th>0</th>\n",
              "      <td>370476</td>\n",
              "      <td>21752</td>\n",
              "      <td>57993</td>\n",
              "      <td>2003-05-01</td>\n",
              "      <td>5</td>\n",
              "      <td>Last week whole sides of frozen salmon fillet ...</td>\n",
              "    </tr>\n",
              "    <tr>\n",
              "      <th>1</th>\n",
              "      <td>624300</td>\n",
              "      <td>431813</td>\n",
              "      <td>142201</td>\n",
              "      <td>2007-09-16</td>\n",
              "      <td>5</td>\n",
              "      <td>So simple and so tasty!  I used a yellow capsi...</td>\n",
              "    </tr>\n",
              "    <tr>\n",
              "      <th>2</th>\n",
              "      <td>187037</td>\n",
              "      <td>400708</td>\n",
              "      <td>252013</td>\n",
              "      <td>2008-01-10</td>\n",
              "      <td>4</td>\n",
              "      <td>Very nice breakfast HH, easy to make and yummy...</td>\n",
              "    </tr>\n",
              "    <tr>\n",
              "      <th>3</th>\n",
              "      <td>706134</td>\n",
              "      <td>2001852463</td>\n",
              "      <td>404716</td>\n",
              "      <td>2017-12-11</td>\n",
              "      <td>5</td>\n",
              "      <td>These are a favorite for the holidays and so e...</td>\n",
              "    </tr>\n",
              "    <tr>\n",
              "      <th>4</th>\n",
              "      <td>312179</td>\n",
              "      <td>95810</td>\n",
              "      <td>129396</td>\n",
              "      <td>2008-03-14</td>\n",
              "      <td>5</td>\n",
              "      <td>Excellent soup!  The tomato flavor is just gre...</td>\n",
              "    </tr>\n",
              "    <tr>\n",
              "      <th>...</th>\n",
              "      <td>...</td>\n",
              "      <td>...</td>\n",
              "      <td>...</td>\n",
              "      <td>...</td>\n",
              "      <td>...</td>\n",
              "      <td>...</td>\n",
              "    </tr>\n",
              "    <tr>\n",
              "      <th>126691</th>\n",
              "      <td>1013457</td>\n",
              "      <td>1270706</td>\n",
              "      <td>335534</td>\n",
              "      <td>2009-05-17</td>\n",
              "      <td>4</td>\n",
              "      <td>This recipe was great! I made it last night. I...</td>\n",
              "    </tr>\n",
              "    <tr>\n",
              "      <th>126692</th>\n",
              "      <td>158736</td>\n",
              "      <td>2282344</td>\n",
              "      <td>8701</td>\n",
              "      <td>2012-06-03</td>\n",
              "      <td>0</td>\n",
              "      <td>This recipe is outstanding. I followed the rec...</td>\n",
              "    </tr>\n",
              "    <tr>\n",
              "      <th>126693</th>\n",
              "      <td>1059834</td>\n",
              "      <td>689540</td>\n",
              "      <td>222001</td>\n",
              "      <td>2008-04-08</td>\n",
              "      <td>5</td>\n",
              "      <td>Well, we were not a crowd but it was a fabulou...</td>\n",
              "    </tr>\n",
              "    <tr>\n",
              "      <th>126694</th>\n",
              "      <td>453285</td>\n",
              "      <td>2000242659</td>\n",
              "      <td>354979</td>\n",
              "      <td>2015-06-02</td>\n",
              "      <td>5</td>\n",
              "      <td>I have been a steak eater and dedicated BBQ gr...</td>\n",
              "    </tr>\n",
              "    <tr>\n",
              "      <th>126695</th>\n",
              "      <td>691207</td>\n",
              "      <td>463435</td>\n",
              "      <td>415599</td>\n",
              "      <td>2010-09-30</td>\n",
              "      <td>5</td>\n",
              "      <td>Wonderful and simple to prepare seasoning blen...</td>\n",
              "    </tr>\n",
              "  </tbody>\n",
              "</table>\n",
              "<p>126696 rows × 6 columns</p>\n",
              "</div>"
            ]
          },
          "metadata": {},
          "execution_count": 4
        }
      ],
      "metadata": {
        "id": "IQNLMFgngcTT",
        "colab": {
          "base_uri": "https://localhost:8080/",
          "height": 419
        },
        "outputId": "ef95b8d5-efd2-4d2a-d039-f5d7cf8058bc"
      }
    },
    {
      "cell_type": "markdown",
      "source": [
        "1.2 Для каждой из таблиц выведите основные параметры:\n",
        "* количество точек данных (строк);\n",
        "* количество столбцов;\n",
        "* тип данных каждого столбца."
      ],
      "metadata": {
        "id": "JbmMuAnMgcTT"
      }
    },
    {
      "cell_type": "code",
      "execution_count": 5,
      "source": [
        "print(\"recipes\".upper(), \"\\n- количество точек данных (строк):\", recipes.shape[0],\r\n",
        "      \"\\n- количество столбцов:\", recipes.shape[1],\r\n",
        "      \"\\n- тип данных каждого столбца:\\n\" + str(recipes.dtypes))"
      ],
      "outputs": [
        {
          "output_type": "stream",
          "name": "stdout",
          "text": [
            "RECIPES \n",
            "- количество точек данных (строк): 30000 \n",
            "- количество столбцов: 8 \n",
            "- тип данных каждого столбца:\n",
            "name               object\n",
            "id                  int64\n",
            "minutes             int64\n",
            "contributor_id      int64\n",
            "submitted          object\n",
            "n_steps           float64\n",
            "description        object\n",
            "n_ingredients     float64\n",
            "dtype: object\n"
          ]
        }
      ],
      "metadata": {
        "id": "JEU6k2bhgcTT",
        "colab": {
          "base_uri": "https://localhost:8080/"
        },
        "outputId": "51389fe4-81cd-4e9e-e173-271f64b33e3f"
      }
    },
    {
      "cell_type": "code",
      "execution_count": 6,
      "source": [
        "print(\"reviews\".upper(), \"\\n- количество точек данных (строк):\", reviews.shape[0],\r\n",
        "      \"\\n- количество столбцов:\", reviews.shape[1],\r\n",
        "      \"\\n- тип данных каждого столбца:\\n\" + str(reviews.dtypes))"
      ],
      "outputs": [
        {
          "output_type": "stream",
          "name": "stdout",
          "text": [
            "REVIEWS \n",
            "- количество точек данных (строк): 126696 \n",
            "- количество столбцов: 6 \n",
            "- тип данных каждого столбца:\n",
            "Unnamed: 0     int64\n",
            "user_id        int64\n",
            "recipe_id      int64\n",
            "date          object\n",
            "rating         int64\n",
            "review        object\n",
            "dtype: object\n"
          ]
        }
      ],
      "metadata": {
        "id": "AnE4Q_3ugcTV",
        "colab": {
          "base_uri": "https://localhost:8080/"
        },
        "outputId": "92150a30-d41f-473f-8983-407831ec9eb9"
      }
    },
    {
      "cell_type": "markdown",
      "source": [
        "1.3 Исследуйте, в каких столбцах таблиц содержатся пропуски. Посчитайте долю строк, содержащих пропуски, в отношении к общему количеству строк."
      ],
      "metadata": {
        "id": "XVSDeGZwgcTV"
      }
    },
    {
      "cell_type": "code",
      "execution_count": 7,
      "source": [
        "print(\"recipes\".upper(), \r\n",
        "      \"\\n- столбцы с пропусками:\", recipes.loc[:, recipes.isna().any(axis=0)].columns,\r\n",
        "      \"\\n- доля строк с пропусками:\", recipes[recipes.isna().any(axis=1)].shape[0]/recipes.shape[0])"
      ],
      "outputs": [
        {
          "output_type": "stream",
          "name": "stdout",
          "text": [
            "RECIPES \n",
            "- столбцы с пропусками: Index(['n_steps', 'description', 'n_ingredients'], dtype='object') \n",
            "- доля строк с пропусками: 0.5684666666666667\n"
          ]
        }
      ],
      "metadata": {
        "colab": {
          "base_uri": "https://localhost:8080/"
        },
        "id": "5uk501ReTvfb",
        "outputId": "87811ba8-874e-4a0b-ea92-226a32c64e4b"
      }
    },
    {
      "cell_type": "code",
      "execution_count": 8,
      "source": [
        "print(\"reviews\".upper(), \r\n",
        "      \"\\n- столбцы с пропусками:\", reviews.loc[:, reviews.isna().any(axis=0)].columns,\r\n",
        "      \"\\n- доля строк с пропусками:\", reviews[reviews.isna().any(axis=1)].shape[0]/reviews.shape[0])"
      ],
      "outputs": [
        {
          "output_type": "stream",
          "name": "stdout",
          "text": [
            "REVIEWS \n",
            "- столбцы с пропусками: Index(['review'], dtype='object') \n",
            "- доля строк с пропусками: 0.00013417945317926376\n"
          ]
        }
      ],
      "metadata": {
        "colab": {
          "base_uri": "https://localhost:8080/"
        },
        "id": "h68IdlAWcW-C",
        "outputId": "c2ec1764-af65-4a1e-9a1e-796659bac9b3"
      }
    },
    {
      "cell_type": "markdown",
      "source": [
        "1.4 Рассчитайте среднее значение для каждого из числовых столбцов (где это имеет смысл)."
      ],
      "metadata": {
        "id": "FLYPSOSKoNsr"
      }
    },
    {
      "cell_type": "code",
      "execution_count": 9,
      "source": [
        "recipes[[\"minutes\", \"n_steps\", \"n_ingredients\"]].mean()"
      ],
      "outputs": [
        {
          "output_type": "execute_result",
          "data": {
            "text/plain": [
              "minutes          123.358133\n",
              "n_steps            9.805582\n",
              "n_ingredients      9.008286\n",
              "dtype: float64"
            ]
          },
          "metadata": {},
          "execution_count": 9
        }
      ],
      "metadata": {
        "colab": {
          "base_uri": "https://localhost:8080/"
        },
        "id": "Mxrtl7wsdT2O",
        "outputId": "6d260494-d772-44c1-cac5-0a5d437bb86d"
      }
    },
    {
      "cell_type": "code",
      "execution_count": 10,
      "source": [
        "reviews[[\"rating\"]].mean()"
      ],
      "outputs": [
        {
          "output_type": "execute_result",
          "data": {
            "text/plain": [
              "rating    4.410802\n",
              "dtype: float64"
            ]
          },
          "metadata": {},
          "execution_count": 10
        }
      ],
      "metadata": {
        "colab": {
          "base_uri": "https://localhost:8080/"
        },
        "id": "k0qU8aSTfopM",
        "outputId": "6e4279d1-db41-4205-a352-77bc0f27d3dd"
      }
    },
    {
      "cell_type": "markdown",
      "source": [
        "1.5 Создайте серию из 10 случайных названий рецептов."
      ],
      "metadata": {
        "id": "P1QI_x6boNsu"
      }
    },
    {
      "cell_type": "code",
      "execution_count": 11,
      "source": [
        "recipes.sample(n=10)"
      ],
      "outputs": [
        {
          "output_type": "execute_result",
          "data": {
            "text/plain": [
              "                                           name      id  minutes  \\\n",
              "1644                   bacon breakfast souffles  451417       25   \n",
              "19534       out of this world chocolate cookies  219769       15   \n",
              "20244                   peanut butter fudge iii    4797       35   \n",
              "15004                        jiggly fruit salad  219599      135   \n",
              "24018       shrimp    scallop   mussels pouches  128101       35   \n",
              "3633                             brats in sauce   18213       50   \n",
              "21122                      poor man s crab bake  116771       50   \n",
              "28776                         veggie oat burger  310073       60   \n",
              "16043  lemony salmon  a k a  pink princess fish  216061       17   \n",
              "5594                    chicken and mango curry   25396       45   \n",
              "\n",
              "       contributor_id   submitted  n_steps  \\\n",
              "1644            97901  2011-03-23      NaN   \n",
              "19534          465845  2007-03-30      7.0   \n",
              "20244            1952  1999-11-22     13.0   \n",
              "15004          457536  2007-03-29     12.0   \n",
              "24018           82737  2005-06-29      7.0   \n",
              "3633            29300  2002-01-27      8.0   \n",
              "21122          107334  2005-04-12      NaN   \n",
              "28776           37449  2008-06-18     14.0   \n",
              "16043          454328  2007-03-10      NaN   \n",
              "5594            30716  2002-04-16     11.0   \n",
              "\n",
              "                                             description  n_ingredients  \n",
              "1644   this recipe comes from a pillsbury recipe card...            NaN  \n",
              "19534  this recipe is quick and easy and always a hit...            7.0  \n",
              "20244                                                NaN            NaN  \n",
              "15004  i always have this made for the kids for an af...            6.0  \n",
              "24018  this is almost a 1 dish meal.  super simple an...            NaN  \n",
              "3633          this is a great recipe for the summertime.            4.0  \n",
              "21122  very good!  kind of reminds me of the devilled...            NaN  \n",
              "28776  a recipe gotten from the micheff sisters “fath...           16.0  \n",
              "16043  after renaming salmon the pink princess fish, ...            5.0  \n",
              "5594   i haven't made this yet but it sounds amazing....           16.0  "
            ],
            "text/html": [
              "<div>\n",
              "<style scoped>\n",
              "    .dataframe tbody tr th:only-of-type {\n",
              "        vertical-align: middle;\n",
              "    }\n",
              "\n",
              "    .dataframe tbody tr th {\n",
              "        vertical-align: top;\n",
              "    }\n",
              "\n",
              "    .dataframe thead th {\n",
              "        text-align: right;\n",
              "    }\n",
              "</style>\n",
              "<table border=\"1\" class=\"dataframe\">\n",
              "  <thead>\n",
              "    <tr style=\"text-align: right;\">\n",
              "      <th></th>\n",
              "      <th>name</th>\n",
              "      <th>id</th>\n",
              "      <th>minutes</th>\n",
              "      <th>contributor_id</th>\n",
              "      <th>submitted</th>\n",
              "      <th>n_steps</th>\n",
              "      <th>description</th>\n",
              "      <th>n_ingredients</th>\n",
              "    </tr>\n",
              "  </thead>\n",
              "  <tbody>\n",
              "    <tr>\n",
              "      <th>1644</th>\n",
              "      <td>bacon breakfast souffles</td>\n",
              "      <td>451417</td>\n",
              "      <td>25</td>\n",
              "      <td>97901</td>\n",
              "      <td>2011-03-23</td>\n",
              "      <td>NaN</td>\n",
              "      <td>this recipe comes from a pillsbury recipe card...</td>\n",
              "      <td>NaN</td>\n",
              "    </tr>\n",
              "    <tr>\n",
              "      <th>19534</th>\n",
              "      <td>out of this world chocolate cookies</td>\n",
              "      <td>219769</td>\n",
              "      <td>15</td>\n",
              "      <td>465845</td>\n",
              "      <td>2007-03-30</td>\n",
              "      <td>7.0</td>\n",
              "      <td>this recipe is quick and easy and always a hit...</td>\n",
              "      <td>7.0</td>\n",
              "    </tr>\n",
              "    <tr>\n",
              "      <th>20244</th>\n",
              "      <td>peanut butter fudge iii</td>\n",
              "      <td>4797</td>\n",
              "      <td>35</td>\n",
              "      <td>1952</td>\n",
              "      <td>1999-11-22</td>\n",
              "      <td>13.0</td>\n",
              "      <td>NaN</td>\n",
              "      <td>NaN</td>\n",
              "    </tr>\n",
              "    <tr>\n",
              "      <th>15004</th>\n",
              "      <td>jiggly fruit salad</td>\n",
              "      <td>219599</td>\n",
              "      <td>135</td>\n",
              "      <td>457536</td>\n",
              "      <td>2007-03-29</td>\n",
              "      <td>12.0</td>\n",
              "      <td>i always have this made for the kids for an af...</td>\n",
              "      <td>6.0</td>\n",
              "    </tr>\n",
              "    <tr>\n",
              "      <th>24018</th>\n",
              "      <td>shrimp    scallop   mussels pouches</td>\n",
              "      <td>128101</td>\n",
              "      <td>35</td>\n",
              "      <td>82737</td>\n",
              "      <td>2005-06-29</td>\n",
              "      <td>7.0</td>\n",
              "      <td>this is almost a 1 dish meal.  super simple an...</td>\n",
              "      <td>NaN</td>\n",
              "    </tr>\n",
              "    <tr>\n",
              "      <th>3633</th>\n",
              "      <td>brats in sauce</td>\n",
              "      <td>18213</td>\n",
              "      <td>50</td>\n",
              "      <td>29300</td>\n",
              "      <td>2002-01-27</td>\n",
              "      <td>8.0</td>\n",
              "      <td>this is a great recipe for the summertime.</td>\n",
              "      <td>4.0</td>\n",
              "    </tr>\n",
              "    <tr>\n",
              "      <th>21122</th>\n",
              "      <td>poor man s crab bake</td>\n",
              "      <td>116771</td>\n",
              "      <td>50</td>\n",
              "      <td>107334</td>\n",
              "      <td>2005-04-12</td>\n",
              "      <td>NaN</td>\n",
              "      <td>very good!  kind of reminds me of the devilled...</td>\n",
              "      <td>NaN</td>\n",
              "    </tr>\n",
              "    <tr>\n",
              "      <th>28776</th>\n",
              "      <td>veggie oat burger</td>\n",
              "      <td>310073</td>\n",
              "      <td>60</td>\n",
              "      <td>37449</td>\n",
              "      <td>2008-06-18</td>\n",
              "      <td>14.0</td>\n",
              "      <td>a recipe gotten from the micheff sisters “fath...</td>\n",
              "      <td>16.0</td>\n",
              "    </tr>\n",
              "    <tr>\n",
              "      <th>16043</th>\n",
              "      <td>lemony salmon  a k a  pink princess fish</td>\n",
              "      <td>216061</td>\n",
              "      <td>17</td>\n",
              "      <td>454328</td>\n",
              "      <td>2007-03-10</td>\n",
              "      <td>NaN</td>\n",
              "      <td>after renaming salmon the pink princess fish, ...</td>\n",
              "      <td>5.0</td>\n",
              "    </tr>\n",
              "    <tr>\n",
              "      <th>5594</th>\n",
              "      <td>chicken and mango curry</td>\n",
              "      <td>25396</td>\n",
              "      <td>45</td>\n",
              "      <td>30716</td>\n",
              "      <td>2002-04-16</td>\n",
              "      <td>11.0</td>\n",
              "      <td>i haven't made this yet but it sounds amazing....</td>\n",
              "      <td>16.0</td>\n",
              "    </tr>\n",
              "  </tbody>\n",
              "</table>\n",
              "</div>"
            ]
          },
          "metadata": {},
          "execution_count": 11
        }
      ],
      "metadata": {
        "colab": {
          "base_uri": "https://localhost:8080/",
          "height": 614
        },
        "id": "-L6VS0ztgZbY",
        "outputId": "2a4bb120-7857-4a4a-a693-01636c6a2555"
      }
    },
    {
      "cell_type": "markdown",
      "source": [
        "1.6 Измените индекс в таблице `reviews`, пронумеровав строки, начиная с нуля."
      ],
      "metadata": {
        "id": "DjW7ySxpoNsw"
      }
    },
    {
      "cell_type": "code",
      "execution_count": 12,
      "source": [
        "reviews.reindex(range(1, reviews.shape[0]+1), method=\"ffill\")"
      ],
      "outputs": [
        {
          "output_type": "execute_result",
          "data": {
            "text/plain": [
              "        Unnamed: 0     user_id  recipe_id        date  rating  \\\n",
              "1           624300      431813     142201  2007-09-16       5   \n",
              "2           187037      400708     252013  2008-01-10       4   \n",
              "3           706134  2001852463     404716  2017-12-11       5   \n",
              "4           312179       95810     129396  2008-03-14       5   \n",
              "5           910362       35106      31322  2003-01-03       4   \n",
              "...            ...         ...        ...         ...     ...   \n",
              "126692      158736     2282344       8701  2012-06-03       0   \n",
              "126693     1059834      689540     222001  2008-04-08       5   \n",
              "126694      453285  2000242659     354979  2015-06-02       5   \n",
              "126695      691207      463435     415599  2010-09-30       5   \n",
              "126696      691207      463435     415599  2010-09-30       5   \n",
              "\n",
              "                                                   review  \n",
              "1       So simple and so tasty!  I used a yellow capsi...  \n",
              "2       Very nice breakfast HH, easy to make and yummy...  \n",
              "3       These are a favorite for the holidays and so e...  \n",
              "4       Excellent soup!  The tomato flavor is just gre...  \n",
              "5       I forgot to add skim milk but it still tasted ...  \n",
              "...                                                   ...  \n",
              "126692  This recipe is outstanding. I followed the rec...  \n",
              "126693  Well, we were not a crowd but it was a fabulou...  \n",
              "126694  I have been a steak eater and dedicated BBQ gr...  \n",
              "126695  Wonderful and simple to prepare seasoning blen...  \n",
              "126696  Wonderful and simple to prepare seasoning blen...  \n",
              "\n",
              "[126696 rows x 6 columns]"
            ],
            "text/html": [
              "<div>\n",
              "<style scoped>\n",
              "    .dataframe tbody tr th:only-of-type {\n",
              "        vertical-align: middle;\n",
              "    }\n",
              "\n",
              "    .dataframe tbody tr th {\n",
              "        vertical-align: top;\n",
              "    }\n",
              "\n",
              "    .dataframe thead th {\n",
              "        text-align: right;\n",
              "    }\n",
              "</style>\n",
              "<table border=\"1\" class=\"dataframe\">\n",
              "  <thead>\n",
              "    <tr style=\"text-align: right;\">\n",
              "      <th></th>\n",
              "      <th>Unnamed: 0</th>\n",
              "      <th>user_id</th>\n",
              "      <th>recipe_id</th>\n",
              "      <th>date</th>\n",
              "      <th>rating</th>\n",
              "      <th>review</th>\n",
              "    </tr>\n",
              "  </thead>\n",
              "  <tbody>\n",
              "    <tr>\n",
              "      <th>1</th>\n",
              "      <td>624300</td>\n",
              "      <td>431813</td>\n",
              "      <td>142201</td>\n",
              "      <td>2007-09-16</td>\n",
              "      <td>5</td>\n",
              "      <td>So simple and so tasty!  I used a yellow capsi...</td>\n",
              "    </tr>\n",
              "    <tr>\n",
              "      <th>2</th>\n",
              "      <td>187037</td>\n",
              "      <td>400708</td>\n",
              "      <td>252013</td>\n",
              "      <td>2008-01-10</td>\n",
              "      <td>4</td>\n",
              "      <td>Very nice breakfast HH, easy to make and yummy...</td>\n",
              "    </tr>\n",
              "    <tr>\n",
              "      <th>3</th>\n",
              "      <td>706134</td>\n",
              "      <td>2001852463</td>\n",
              "      <td>404716</td>\n",
              "      <td>2017-12-11</td>\n",
              "      <td>5</td>\n",
              "      <td>These are a favorite for the holidays and so e...</td>\n",
              "    </tr>\n",
              "    <tr>\n",
              "      <th>4</th>\n",
              "      <td>312179</td>\n",
              "      <td>95810</td>\n",
              "      <td>129396</td>\n",
              "      <td>2008-03-14</td>\n",
              "      <td>5</td>\n",
              "      <td>Excellent soup!  The tomato flavor is just gre...</td>\n",
              "    </tr>\n",
              "    <tr>\n",
              "      <th>5</th>\n",
              "      <td>910362</td>\n",
              "      <td>35106</td>\n",
              "      <td>31322</td>\n",
              "      <td>2003-01-03</td>\n",
              "      <td>4</td>\n",
              "      <td>I forgot to add skim milk but it still tasted ...</td>\n",
              "    </tr>\n",
              "    <tr>\n",
              "      <th>...</th>\n",
              "      <td>...</td>\n",
              "      <td>...</td>\n",
              "      <td>...</td>\n",
              "      <td>...</td>\n",
              "      <td>...</td>\n",
              "      <td>...</td>\n",
              "    </tr>\n",
              "    <tr>\n",
              "      <th>126692</th>\n",
              "      <td>158736</td>\n",
              "      <td>2282344</td>\n",
              "      <td>8701</td>\n",
              "      <td>2012-06-03</td>\n",
              "      <td>0</td>\n",
              "      <td>This recipe is outstanding. I followed the rec...</td>\n",
              "    </tr>\n",
              "    <tr>\n",
              "      <th>126693</th>\n",
              "      <td>1059834</td>\n",
              "      <td>689540</td>\n",
              "      <td>222001</td>\n",
              "      <td>2008-04-08</td>\n",
              "      <td>5</td>\n",
              "      <td>Well, we were not a crowd but it was a fabulou...</td>\n",
              "    </tr>\n",
              "    <tr>\n",
              "      <th>126694</th>\n",
              "      <td>453285</td>\n",
              "      <td>2000242659</td>\n",
              "      <td>354979</td>\n",
              "      <td>2015-06-02</td>\n",
              "      <td>5</td>\n",
              "      <td>I have been a steak eater and dedicated BBQ gr...</td>\n",
              "    </tr>\n",
              "    <tr>\n",
              "      <th>126695</th>\n",
              "      <td>691207</td>\n",
              "      <td>463435</td>\n",
              "      <td>415599</td>\n",
              "      <td>2010-09-30</td>\n",
              "      <td>5</td>\n",
              "      <td>Wonderful and simple to prepare seasoning blen...</td>\n",
              "    </tr>\n",
              "    <tr>\n",
              "      <th>126696</th>\n",
              "      <td>691207</td>\n",
              "      <td>463435</td>\n",
              "      <td>415599</td>\n",
              "      <td>2010-09-30</td>\n",
              "      <td>5</td>\n",
              "      <td>Wonderful and simple to prepare seasoning blen...</td>\n",
              "    </tr>\n",
              "  </tbody>\n",
              "</table>\n",
              "<p>126696 rows × 6 columns</p>\n",
              "</div>"
            ]
          },
          "metadata": {},
          "execution_count": 12
        }
      ],
      "metadata": {
        "colab": {
          "base_uri": "https://localhost:8080/",
          "height": 419
        },
        "id": "nO3akhRzhGkm",
        "outputId": "3451f15b-e2c1-42e4-d3f9-a1f4fc35cd1d"
      }
    },
    {
      "cell_type": "markdown",
      "source": [
        "1.7 Выведите информацию о рецептах, время выполнения которых не больше 20 минут и кол-во ингредиентов в которых не больше 5."
      ],
      "metadata": {
        "id": "nI_TcTzmoNsx"
      }
    },
    {
      "cell_type": "code",
      "execution_count": 13,
      "source": [
        "recipes[(recipes[\"minutes\"] <= 20) & (recipes[\"n_ingredients\"] <= 5)]"
      ],
      "outputs": [
        {
          "output_type": "execute_result",
          "data": {
            "text/plain": [
              "                                                    name      id  minutes  \\\n",
              "28                                   quick biscuit bread  302399       20   \n",
              "60                         peas  fit for a king or queen  303944       20   \n",
              "90                     hawaiian sunrise           mimosa  100837        5   \n",
              "91            tasty dish s   banana pudding in 2 minutes  286484        2   \n",
              "94                                    1 minute meatballs   11361       13   \n",
              "...                                                  ...     ...      ...   \n",
              "29873  zip and steam red potatoes with butter and garlic  304922       13   \n",
              "29874                          ziplock vanilla ice cream   74250       10   \n",
              "29905                      zucchini and corn with cheese  256177       15   \n",
              "29980               zucchini with jalapeno monterey jack  320622       10   \n",
              "29983                          zucchini with serrano ham  162411       15   \n",
              "\n",
              "       contributor_id   submitted  n_steps  \\\n",
              "28             213909  2008-05-06     11.0   \n",
              "60             213909  2008-05-16      NaN   \n",
              "90              58104  2004-09-29      4.0   \n",
              "91              47892  2008-02-13      NaN   \n",
              "94               4470  2001-09-03      NaN   \n",
              "...               ...         ...      ...   \n",
              "29873          724218  2008-05-27      9.0   \n",
              "29874           24386  2003-10-29      8.0   \n",
              "29905          305531  2007-09-29      4.0   \n",
              "29980          305531  2008-08-20      3.0   \n",
              "29983          152500  2006-03-31      6.0   \n",
              "\n",
              "                                             description  n_ingredients  \n",
              "28     this is a wonderful quick bread to make as an ...            5.0  \n",
              "60     this recipe is so simple and the flavors are s...            5.0  \n",
              "90     pineapple mimosa was changed to hawaiian sunri...            3.0  \n",
              "91     \"mmmm, i love bananas!\" a --tasty dish-- origi...            4.0  \n",
              "94     this is a real short cut for cooks in a hurry....            2.0  \n",
              "...                                                  ...            ...  \n",
              "29873  i haven't tried this yet, but i am going to so...            5.0  \n",
              "29874  a fun thing for kids to do. may want to use mi...            3.0  \n",
              "29905  from betty crocker fresh spring recipes. i lik...            5.0  \n",
              "29980                                  simple and yummy!            3.0  \n",
              "29983  this dish is from tim malzer, a german chef wh...            5.0  \n",
              "\n",
              "[2019 rows x 8 columns]"
            ],
            "text/html": [
              "<div>\n",
              "<style scoped>\n",
              "    .dataframe tbody tr th:only-of-type {\n",
              "        vertical-align: middle;\n",
              "    }\n",
              "\n",
              "    .dataframe tbody tr th {\n",
              "        vertical-align: top;\n",
              "    }\n",
              "\n",
              "    .dataframe thead th {\n",
              "        text-align: right;\n",
              "    }\n",
              "</style>\n",
              "<table border=\"1\" class=\"dataframe\">\n",
              "  <thead>\n",
              "    <tr style=\"text-align: right;\">\n",
              "      <th></th>\n",
              "      <th>name</th>\n",
              "      <th>id</th>\n",
              "      <th>minutes</th>\n",
              "      <th>contributor_id</th>\n",
              "      <th>submitted</th>\n",
              "      <th>n_steps</th>\n",
              "      <th>description</th>\n",
              "      <th>n_ingredients</th>\n",
              "    </tr>\n",
              "  </thead>\n",
              "  <tbody>\n",
              "    <tr>\n",
              "      <th>28</th>\n",
              "      <td>quick biscuit bread</td>\n",
              "      <td>302399</td>\n",
              "      <td>20</td>\n",
              "      <td>213909</td>\n",
              "      <td>2008-05-06</td>\n",
              "      <td>11.0</td>\n",
              "      <td>this is a wonderful quick bread to make as an ...</td>\n",
              "      <td>5.0</td>\n",
              "    </tr>\n",
              "    <tr>\n",
              "      <th>60</th>\n",
              "      <td>peas  fit for a king or queen</td>\n",
              "      <td>303944</td>\n",
              "      <td>20</td>\n",
              "      <td>213909</td>\n",
              "      <td>2008-05-16</td>\n",
              "      <td>NaN</td>\n",
              "      <td>this recipe is so simple and the flavors are s...</td>\n",
              "      <td>5.0</td>\n",
              "    </tr>\n",
              "    <tr>\n",
              "      <th>90</th>\n",
              "      <td>hawaiian sunrise           mimosa</td>\n",
              "      <td>100837</td>\n",
              "      <td>5</td>\n",
              "      <td>58104</td>\n",
              "      <td>2004-09-29</td>\n",
              "      <td>4.0</td>\n",
              "      <td>pineapple mimosa was changed to hawaiian sunri...</td>\n",
              "      <td>3.0</td>\n",
              "    </tr>\n",
              "    <tr>\n",
              "      <th>91</th>\n",
              "      <td>tasty dish s   banana pudding in 2 minutes</td>\n",
              "      <td>286484</td>\n",
              "      <td>2</td>\n",
              "      <td>47892</td>\n",
              "      <td>2008-02-13</td>\n",
              "      <td>NaN</td>\n",
              "      <td>\"mmmm, i love bananas!\" a --tasty dish-- origi...</td>\n",
              "      <td>4.0</td>\n",
              "    </tr>\n",
              "    <tr>\n",
              "      <th>94</th>\n",
              "      <td>1 minute meatballs</td>\n",
              "      <td>11361</td>\n",
              "      <td>13</td>\n",
              "      <td>4470</td>\n",
              "      <td>2001-09-03</td>\n",
              "      <td>NaN</td>\n",
              "      <td>this is a real short cut for cooks in a hurry....</td>\n",
              "      <td>2.0</td>\n",
              "    </tr>\n",
              "    <tr>\n",
              "      <th>...</th>\n",
              "      <td>...</td>\n",
              "      <td>...</td>\n",
              "      <td>...</td>\n",
              "      <td>...</td>\n",
              "      <td>...</td>\n",
              "      <td>...</td>\n",
              "      <td>...</td>\n",
              "      <td>...</td>\n",
              "    </tr>\n",
              "    <tr>\n",
              "      <th>29873</th>\n",
              "      <td>zip and steam red potatoes with butter and garlic</td>\n",
              "      <td>304922</td>\n",
              "      <td>13</td>\n",
              "      <td>724218</td>\n",
              "      <td>2008-05-27</td>\n",
              "      <td>9.0</td>\n",
              "      <td>i haven't tried this yet, but i am going to so...</td>\n",
              "      <td>5.0</td>\n",
              "    </tr>\n",
              "    <tr>\n",
              "      <th>29874</th>\n",
              "      <td>ziplock vanilla ice cream</td>\n",
              "      <td>74250</td>\n",
              "      <td>10</td>\n",
              "      <td>24386</td>\n",
              "      <td>2003-10-29</td>\n",
              "      <td>8.0</td>\n",
              "      <td>a fun thing for kids to do. may want to use mi...</td>\n",
              "      <td>3.0</td>\n",
              "    </tr>\n",
              "    <tr>\n",
              "      <th>29905</th>\n",
              "      <td>zucchini and corn with cheese</td>\n",
              "      <td>256177</td>\n",
              "      <td>15</td>\n",
              "      <td>305531</td>\n",
              "      <td>2007-09-29</td>\n",
              "      <td>4.0</td>\n",
              "      <td>from betty crocker fresh spring recipes. i lik...</td>\n",
              "      <td>5.0</td>\n",
              "    </tr>\n",
              "    <tr>\n",
              "      <th>29980</th>\n",
              "      <td>zucchini with jalapeno monterey jack</td>\n",
              "      <td>320622</td>\n",
              "      <td>10</td>\n",
              "      <td>305531</td>\n",
              "      <td>2008-08-20</td>\n",
              "      <td>3.0</td>\n",
              "      <td>simple and yummy!</td>\n",
              "      <td>3.0</td>\n",
              "    </tr>\n",
              "    <tr>\n",
              "      <th>29983</th>\n",
              "      <td>zucchini with serrano ham</td>\n",
              "      <td>162411</td>\n",
              "      <td>15</td>\n",
              "      <td>152500</td>\n",
              "      <td>2006-03-31</td>\n",
              "      <td>6.0</td>\n",
              "      <td>this dish is from tim malzer, a german chef wh...</td>\n",
              "      <td>5.0</td>\n",
              "    </tr>\n",
              "  </tbody>\n",
              "</table>\n",
              "<p>2019 rows × 8 columns</p>\n",
              "</div>"
            ]
          },
          "metadata": {},
          "execution_count": 13
        }
      ],
      "metadata": {
        "colab": {
          "base_uri": "https://localhost:8080/",
          "height": 725
        },
        "id": "cVpb58hzj8v_",
        "outputId": "7bd76ab6-6d95-4498-fb19-131ac49c4225"
      }
    },
    {
      "cell_type": "markdown",
      "source": [
        "### Работа с датами в `pandas`"
      ],
      "metadata": {
        "id": "SGjFFwCOgcTX"
      }
    },
    {
      "cell_type": "markdown",
      "source": [
        "2.1 Преобразуйте столбец `submitted` из таблицы `recipes` в формат времени. Модифицируйте решение задачи 1.1 так, чтобы считать столбец сразу в нужном формате."
      ],
      "metadata": {
        "id": "xsundYnGgcTX"
      }
    },
    {
      "cell_type": "code",
      "execution_count": 14,
      "source": [
        "recipes['submitted'] = pd.to_datetime(recipes['submitted'], format='%Y-%m-%d')\r\n",
        "recipes['submitted']"
      ],
      "outputs": [
        {
          "output_type": "execute_result",
          "data": {
            "text/plain": [
              "0       2002-10-25\n",
              "1       2003-07-26\n",
              "2       2002-08-29\n",
              "3       2002-07-27\n",
              "4       2004-02-23\n",
              "           ...    \n",
              "29995   2007-11-25\n",
              "29996   2009-08-24\n",
              "29997   2004-11-03\n",
              "29998   2012-08-29\n",
              "29999   2008-04-15\n",
              "Name: submitted, Length: 30000, dtype: datetime64[ns]"
            ]
          },
          "metadata": {},
          "execution_count": 14
        }
      ],
      "metadata": {
        "colab": {
          "base_uri": "https://localhost:8080/"
        },
        "id": "aHplYq88rhRs",
        "outputId": "b56f0a3d-08d7-4f94-edb1-6c85d443177e"
      }
    },
    {
      "cell_type": "code",
      "execution_count": 15,
      "source": [
        "recipes = pd.read_csv(r\"https://raw.githubusercontent.com/Cat-in-box/FA/main/3%20%D0%BA%D1%83%D1%80%D1%81/%D0%A2%D0%9E%D0%91%D0%94/data/recipes_sample.csv\", sep=\",\", parse_dates=[\"submitted\"])\r\n",
        "recipes['submitted']"
      ],
      "outputs": [
        {
          "output_type": "execute_result",
          "data": {
            "text/plain": [
              "0       2002-10-25\n",
              "1       2003-07-26\n",
              "2       2002-08-29\n",
              "3       2002-07-27\n",
              "4       2004-02-23\n",
              "           ...    \n",
              "29995   2007-11-25\n",
              "29996   2009-08-24\n",
              "29997   2004-11-03\n",
              "29998   2012-08-29\n",
              "29999   2008-04-15\n",
              "Name: submitted, Length: 30000, dtype: datetime64[ns]"
            ]
          },
          "metadata": {},
          "execution_count": 15
        }
      ],
      "metadata": {
        "colab": {
          "base_uri": "https://localhost:8080/"
        },
        "id": "8CmDXCm3y3mD",
        "outputId": "d81e3601-787f-4ff0-9853-a42921f1d345"
      }
    },
    {
      "cell_type": "code",
      "execution_count": 16,
      "source": [
        "reviews = pd.read_csv(r\"https://raw.githubusercontent.com/Cat-in-box/FA/main/3%20%D0%BA%D1%83%D1%80%D1%81/%D0%A2%D0%9E%D0%91%D0%94/data/reviews_sample.csv\", sep=\",\", parse_dates=[\"date\"])\r\n",
        "reviews['date']"
      ],
      "outputs": [
        {
          "output_type": "execute_result",
          "data": {
            "text/plain": [
              "0        2003-05-01\n",
              "1        2007-09-16\n",
              "2        2008-01-10\n",
              "3        2017-12-11\n",
              "4        2008-03-14\n",
              "            ...    \n",
              "126691   2009-05-17\n",
              "126692   2012-06-03\n",
              "126693   2008-04-08\n",
              "126694   2015-06-02\n",
              "126695   2010-09-30\n",
              "Name: date, Length: 126696, dtype: datetime64[ns]"
            ]
          },
          "metadata": {},
          "execution_count": 16
        }
      ],
      "metadata": {
        "colab": {
          "base_uri": "https://localhost:8080/"
        },
        "id": "LhRSvwg1wLQf",
        "outputId": "6eca8d89-a658-41e3-9749-8c7106aca065"
      }
    },
    {
      "cell_type": "markdown",
      "source": [
        "2.2 Выведите информацию о рецептах, добавленных в датасет не позже 2010 года."
      ],
      "metadata": {
        "id": "shCcfJOogcTX"
      }
    },
    {
      "cell_type": "code",
      "execution_count": 17,
      "source": [
        "import datetime\r\n",
        "\r\n",
        "recipes[recipes['submitted'] < datetime.datetime(2011, 1, 1)]"
      ],
      "outputs": [
        {
          "output_type": "execute_result",
          "data": {
            "text/plain": [
              "                                               name      id  minutes  \\\n",
              "0             george s at the cove  black bean soup   44123       90   \n",
              "1                healthy for them  yogurt popsicles   67664       10   \n",
              "2                      i can t believe it s spinach   38798       30   \n",
              "3                              italian  gut busters   35173       45   \n",
              "4          love is in the air  beef fondue   sauces   84797       25   \n",
              "...                                             ...     ...      ...   \n",
              "29993                     zuni caf zucchini pickles  316950     2895   \n",
              "29995  zurie s holey rustic olive and cheddar bread  267661       80   \n",
              "29996          zwetschgenkuchen  bavarian plum cake  386977      240   \n",
              "29997   zwiebelkuchen   southwest german onion cake  103312       75   \n",
              "29999        cookies by design   cookies on a stick  298512       29   \n",
              "\n",
              "       contributor_id  submitted  n_steps  \\\n",
              "0               35193 2002-10-25      NaN   \n",
              "1               91970 2003-07-26      NaN   \n",
              "2                1533 2002-08-29      NaN   \n",
              "3               22724 2002-07-27      NaN   \n",
              "4                4470 2004-02-23      4.0   \n",
              "...               ...        ...      ...   \n",
              "29993           62264 2008-07-31      NaN   \n",
              "29995          200862 2007-11-25     16.0   \n",
              "29996          177443 2009-08-24      NaN   \n",
              "29997          161745 2004-11-03      NaN   \n",
              "29999          506822 2008-04-15      9.0   \n",
              "\n",
              "                                             description  n_ingredients  \n",
              "0      an original recipe created by chef scott meska...           18.0  \n",
              "1      my children and their friends ask for my homem...            NaN  \n",
              "2                these were so go, it surprised even me.            8.0  \n",
              "3      my sister-in-law made these for us at a family...            NaN  \n",
              "4      i think a fondue is a very romantic casual din...            NaN  \n",
              "...                                                  ...            ...  \n",
              "29993  refrigerator pickles for some of the zucchini ...            8.0  \n",
              "29995  this is based on a french recipe but i changed...           10.0  \n",
              "29996  this is a traditional fresh plum cake, thought...           11.0  \n",
              "29997  this is a traditional late summer early fall s...            NaN  \n",
              "29999  i've heard of the 'cookies by design' company,...           10.0  \n",
              "\n",
              "[27661 rows x 8 columns]"
            ],
            "text/html": [
              "<div>\n",
              "<style scoped>\n",
              "    .dataframe tbody tr th:only-of-type {\n",
              "        vertical-align: middle;\n",
              "    }\n",
              "\n",
              "    .dataframe tbody tr th {\n",
              "        vertical-align: top;\n",
              "    }\n",
              "\n",
              "    .dataframe thead th {\n",
              "        text-align: right;\n",
              "    }\n",
              "</style>\n",
              "<table border=\"1\" class=\"dataframe\">\n",
              "  <thead>\n",
              "    <tr style=\"text-align: right;\">\n",
              "      <th></th>\n",
              "      <th>name</th>\n",
              "      <th>id</th>\n",
              "      <th>minutes</th>\n",
              "      <th>contributor_id</th>\n",
              "      <th>submitted</th>\n",
              "      <th>n_steps</th>\n",
              "      <th>description</th>\n",
              "      <th>n_ingredients</th>\n",
              "    </tr>\n",
              "  </thead>\n",
              "  <tbody>\n",
              "    <tr>\n",
              "      <th>0</th>\n",
              "      <td>george s at the cove  black bean soup</td>\n",
              "      <td>44123</td>\n",
              "      <td>90</td>\n",
              "      <td>35193</td>\n",
              "      <td>2002-10-25</td>\n",
              "      <td>NaN</td>\n",
              "      <td>an original recipe created by chef scott meska...</td>\n",
              "      <td>18.0</td>\n",
              "    </tr>\n",
              "    <tr>\n",
              "      <th>1</th>\n",
              "      <td>healthy for them  yogurt popsicles</td>\n",
              "      <td>67664</td>\n",
              "      <td>10</td>\n",
              "      <td>91970</td>\n",
              "      <td>2003-07-26</td>\n",
              "      <td>NaN</td>\n",
              "      <td>my children and their friends ask for my homem...</td>\n",
              "      <td>NaN</td>\n",
              "    </tr>\n",
              "    <tr>\n",
              "      <th>2</th>\n",
              "      <td>i can t believe it s spinach</td>\n",
              "      <td>38798</td>\n",
              "      <td>30</td>\n",
              "      <td>1533</td>\n",
              "      <td>2002-08-29</td>\n",
              "      <td>NaN</td>\n",
              "      <td>these were so go, it surprised even me.</td>\n",
              "      <td>8.0</td>\n",
              "    </tr>\n",
              "    <tr>\n",
              "      <th>3</th>\n",
              "      <td>italian  gut busters</td>\n",
              "      <td>35173</td>\n",
              "      <td>45</td>\n",
              "      <td>22724</td>\n",
              "      <td>2002-07-27</td>\n",
              "      <td>NaN</td>\n",
              "      <td>my sister-in-law made these for us at a family...</td>\n",
              "      <td>NaN</td>\n",
              "    </tr>\n",
              "    <tr>\n",
              "      <th>4</th>\n",
              "      <td>love is in the air  beef fondue   sauces</td>\n",
              "      <td>84797</td>\n",
              "      <td>25</td>\n",
              "      <td>4470</td>\n",
              "      <td>2004-02-23</td>\n",
              "      <td>4.0</td>\n",
              "      <td>i think a fondue is a very romantic casual din...</td>\n",
              "      <td>NaN</td>\n",
              "    </tr>\n",
              "    <tr>\n",
              "      <th>...</th>\n",
              "      <td>...</td>\n",
              "      <td>...</td>\n",
              "      <td>...</td>\n",
              "      <td>...</td>\n",
              "      <td>...</td>\n",
              "      <td>...</td>\n",
              "      <td>...</td>\n",
              "      <td>...</td>\n",
              "    </tr>\n",
              "    <tr>\n",
              "      <th>29993</th>\n",
              "      <td>zuni caf zucchini pickles</td>\n",
              "      <td>316950</td>\n",
              "      <td>2895</td>\n",
              "      <td>62264</td>\n",
              "      <td>2008-07-31</td>\n",
              "      <td>NaN</td>\n",
              "      <td>refrigerator pickles for some of the zucchini ...</td>\n",
              "      <td>8.0</td>\n",
              "    </tr>\n",
              "    <tr>\n",
              "      <th>29995</th>\n",
              "      <td>zurie s holey rustic olive and cheddar bread</td>\n",
              "      <td>267661</td>\n",
              "      <td>80</td>\n",
              "      <td>200862</td>\n",
              "      <td>2007-11-25</td>\n",
              "      <td>16.0</td>\n",
              "      <td>this is based on a french recipe but i changed...</td>\n",
              "      <td>10.0</td>\n",
              "    </tr>\n",
              "    <tr>\n",
              "      <th>29996</th>\n",
              "      <td>zwetschgenkuchen  bavarian plum cake</td>\n",
              "      <td>386977</td>\n",
              "      <td>240</td>\n",
              "      <td>177443</td>\n",
              "      <td>2009-08-24</td>\n",
              "      <td>NaN</td>\n",
              "      <td>this is a traditional fresh plum cake, thought...</td>\n",
              "      <td>11.0</td>\n",
              "    </tr>\n",
              "    <tr>\n",
              "      <th>29997</th>\n",
              "      <td>zwiebelkuchen   southwest german onion cake</td>\n",
              "      <td>103312</td>\n",
              "      <td>75</td>\n",
              "      <td>161745</td>\n",
              "      <td>2004-11-03</td>\n",
              "      <td>NaN</td>\n",
              "      <td>this is a traditional late summer early fall s...</td>\n",
              "      <td>NaN</td>\n",
              "    </tr>\n",
              "    <tr>\n",
              "      <th>29999</th>\n",
              "      <td>cookies by design   cookies on a stick</td>\n",
              "      <td>298512</td>\n",
              "      <td>29</td>\n",
              "      <td>506822</td>\n",
              "      <td>2008-04-15</td>\n",
              "      <td>9.0</td>\n",
              "      <td>i've heard of the 'cookies by design' company,...</td>\n",
              "      <td>10.0</td>\n",
              "    </tr>\n",
              "  </tbody>\n",
              "</table>\n",
              "<p>27661 rows × 8 columns</p>\n",
              "</div>"
            ]
          },
          "metadata": {},
          "execution_count": 17
        }
      ],
      "metadata": {
        "colab": {
          "base_uri": "https://localhost:8080/",
          "height": 742
        },
        "id": "8iRkLcuj1GfR",
        "outputId": "283c8fc4-a8f9-4d08-bbe5-3e9d9d01a7c3"
      }
    },
    {
      "cell_type": "markdown",
      "source": [
        "### Работа со строковыми данными в `pandas`"
      ],
      "metadata": {
        "id": "5eu6819fgcTY"
      }
    },
    {
      "cell_type": "markdown",
      "source": [
        "3.1  Добавьте в таблицу `recipes` столбец `description_length`, в котором хранится длина описания рецепта из столбца `description`."
      ],
      "metadata": {
        "id": "5si9CSeUgcTY"
      }
    },
    {
      "cell_type": "code",
      "execution_count": 18,
      "source": [
        "recipes['description_length'] = recipes['description'].str.len()\r\n",
        "recipes"
      ],
      "outputs": [
        {
          "output_type": "execute_result",
          "data": {
            "text/plain": [
              "                                               name      id  minutes  \\\n",
              "0             george s at the cove  black bean soup   44123       90   \n",
              "1                healthy for them  yogurt popsicles   67664       10   \n",
              "2                      i can t believe it s spinach   38798       30   \n",
              "3                              italian  gut busters   35173       45   \n",
              "4          love is in the air  beef fondue   sauces   84797       25   \n",
              "...                                             ...     ...      ...   \n",
              "29995  zurie s holey rustic olive and cheddar bread  267661       80   \n",
              "29996          zwetschgenkuchen  bavarian plum cake  386977      240   \n",
              "29997   zwiebelkuchen   southwest german onion cake  103312       75   \n",
              "29998                                   zydeco soup  486161       60   \n",
              "29999        cookies by design   cookies on a stick  298512       29   \n",
              "\n",
              "       contributor_id  submitted  n_steps  \\\n",
              "0               35193 2002-10-25      NaN   \n",
              "1               91970 2003-07-26      NaN   \n",
              "2                1533 2002-08-29      NaN   \n",
              "3               22724 2002-07-27      NaN   \n",
              "4                4470 2004-02-23      4.0   \n",
              "...               ...        ...      ...   \n",
              "29995          200862 2007-11-25     16.0   \n",
              "29996          177443 2009-08-24      NaN   \n",
              "29997          161745 2004-11-03      NaN   \n",
              "29998          227978 2012-08-29      NaN   \n",
              "29999          506822 2008-04-15      9.0   \n",
              "\n",
              "                                             description  n_ingredients  \\\n",
              "0      an original recipe created by chef scott meska...           18.0   \n",
              "1      my children and their friends ask for my homem...            NaN   \n",
              "2                these were so go, it surprised even me.            8.0   \n",
              "3      my sister-in-law made these for us at a family...            NaN   \n",
              "4      i think a fondue is a very romantic casual din...            NaN   \n",
              "...                                                  ...            ...   \n",
              "29995  this is based on a french recipe but i changed...           10.0   \n",
              "29996  this is a traditional fresh plum cake, thought...           11.0   \n",
              "29997  this is a traditional late summer early fall s...            NaN   \n",
              "29998  this is a delicious soup that i originally fou...            NaN   \n",
              "29999  i've heard of the 'cookies by design' company,...           10.0   \n",
              "\n",
              "       description_length  \n",
              "0                   330.0  \n",
              "1                   255.0  \n",
              "2                    39.0  \n",
              "3                   154.0  \n",
              "4                   587.0  \n",
              "...                   ...  \n",
              "29995               484.0  \n",
              "29996               286.0  \n",
              "29997               311.0  \n",
              "29998               648.0  \n",
              "29999               125.0  \n",
              "\n",
              "[30000 rows x 9 columns]"
            ],
            "text/html": [
              "<div>\n",
              "<style scoped>\n",
              "    .dataframe tbody tr th:only-of-type {\n",
              "        vertical-align: middle;\n",
              "    }\n",
              "\n",
              "    .dataframe tbody tr th {\n",
              "        vertical-align: top;\n",
              "    }\n",
              "\n",
              "    .dataframe thead th {\n",
              "        text-align: right;\n",
              "    }\n",
              "</style>\n",
              "<table border=\"1\" class=\"dataframe\">\n",
              "  <thead>\n",
              "    <tr style=\"text-align: right;\">\n",
              "      <th></th>\n",
              "      <th>name</th>\n",
              "      <th>id</th>\n",
              "      <th>minutes</th>\n",
              "      <th>contributor_id</th>\n",
              "      <th>submitted</th>\n",
              "      <th>n_steps</th>\n",
              "      <th>description</th>\n",
              "      <th>n_ingredients</th>\n",
              "      <th>description_length</th>\n",
              "    </tr>\n",
              "  </thead>\n",
              "  <tbody>\n",
              "    <tr>\n",
              "      <th>0</th>\n",
              "      <td>george s at the cove  black bean soup</td>\n",
              "      <td>44123</td>\n",
              "      <td>90</td>\n",
              "      <td>35193</td>\n",
              "      <td>2002-10-25</td>\n",
              "      <td>NaN</td>\n",
              "      <td>an original recipe created by chef scott meska...</td>\n",
              "      <td>18.0</td>\n",
              "      <td>330.0</td>\n",
              "    </tr>\n",
              "    <tr>\n",
              "      <th>1</th>\n",
              "      <td>healthy for them  yogurt popsicles</td>\n",
              "      <td>67664</td>\n",
              "      <td>10</td>\n",
              "      <td>91970</td>\n",
              "      <td>2003-07-26</td>\n",
              "      <td>NaN</td>\n",
              "      <td>my children and their friends ask for my homem...</td>\n",
              "      <td>NaN</td>\n",
              "      <td>255.0</td>\n",
              "    </tr>\n",
              "    <tr>\n",
              "      <th>2</th>\n",
              "      <td>i can t believe it s spinach</td>\n",
              "      <td>38798</td>\n",
              "      <td>30</td>\n",
              "      <td>1533</td>\n",
              "      <td>2002-08-29</td>\n",
              "      <td>NaN</td>\n",
              "      <td>these were so go, it surprised even me.</td>\n",
              "      <td>8.0</td>\n",
              "      <td>39.0</td>\n",
              "    </tr>\n",
              "    <tr>\n",
              "      <th>3</th>\n",
              "      <td>italian  gut busters</td>\n",
              "      <td>35173</td>\n",
              "      <td>45</td>\n",
              "      <td>22724</td>\n",
              "      <td>2002-07-27</td>\n",
              "      <td>NaN</td>\n",
              "      <td>my sister-in-law made these for us at a family...</td>\n",
              "      <td>NaN</td>\n",
              "      <td>154.0</td>\n",
              "    </tr>\n",
              "    <tr>\n",
              "      <th>4</th>\n",
              "      <td>love is in the air  beef fondue   sauces</td>\n",
              "      <td>84797</td>\n",
              "      <td>25</td>\n",
              "      <td>4470</td>\n",
              "      <td>2004-02-23</td>\n",
              "      <td>4.0</td>\n",
              "      <td>i think a fondue is a very romantic casual din...</td>\n",
              "      <td>NaN</td>\n",
              "      <td>587.0</td>\n",
              "    </tr>\n",
              "    <tr>\n",
              "      <th>...</th>\n",
              "      <td>...</td>\n",
              "      <td>...</td>\n",
              "      <td>...</td>\n",
              "      <td>...</td>\n",
              "      <td>...</td>\n",
              "      <td>...</td>\n",
              "      <td>...</td>\n",
              "      <td>...</td>\n",
              "      <td>...</td>\n",
              "    </tr>\n",
              "    <tr>\n",
              "      <th>29995</th>\n",
              "      <td>zurie s holey rustic olive and cheddar bread</td>\n",
              "      <td>267661</td>\n",
              "      <td>80</td>\n",
              "      <td>200862</td>\n",
              "      <td>2007-11-25</td>\n",
              "      <td>16.0</td>\n",
              "      <td>this is based on a french recipe but i changed...</td>\n",
              "      <td>10.0</td>\n",
              "      <td>484.0</td>\n",
              "    </tr>\n",
              "    <tr>\n",
              "      <th>29996</th>\n",
              "      <td>zwetschgenkuchen  bavarian plum cake</td>\n",
              "      <td>386977</td>\n",
              "      <td>240</td>\n",
              "      <td>177443</td>\n",
              "      <td>2009-08-24</td>\n",
              "      <td>NaN</td>\n",
              "      <td>this is a traditional fresh plum cake, thought...</td>\n",
              "      <td>11.0</td>\n",
              "      <td>286.0</td>\n",
              "    </tr>\n",
              "    <tr>\n",
              "      <th>29997</th>\n",
              "      <td>zwiebelkuchen   southwest german onion cake</td>\n",
              "      <td>103312</td>\n",
              "      <td>75</td>\n",
              "      <td>161745</td>\n",
              "      <td>2004-11-03</td>\n",
              "      <td>NaN</td>\n",
              "      <td>this is a traditional late summer early fall s...</td>\n",
              "      <td>NaN</td>\n",
              "      <td>311.0</td>\n",
              "    </tr>\n",
              "    <tr>\n",
              "      <th>29998</th>\n",
              "      <td>zydeco soup</td>\n",
              "      <td>486161</td>\n",
              "      <td>60</td>\n",
              "      <td>227978</td>\n",
              "      <td>2012-08-29</td>\n",
              "      <td>NaN</td>\n",
              "      <td>this is a delicious soup that i originally fou...</td>\n",
              "      <td>NaN</td>\n",
              "      <td>648.0</td>\n",
              "    </tr>\n",
              "    <tr>\n",
              "      <th>29999</th>\n",
              "      <td>cookies by design   cookies on a stick</td>\n",
              "      <td>298512</td>\n",
              "      <td>29</td>\n",
              "      <td>506822</td>\n",
              "      <td>2008-04-15</td>\n",
              "      <td>9.0</td>\n",
              "      <td>i've heard of the 'cookies by design' company,...</td>\n",
              "      <td>10.0</td>\n",
              "      <td>125.0</td>\n",
              "    </tr>\n",
              "  </tbody>\n",
              "</table>\n",
              "<p>30000 rows × 9 columns</p>\n",
              "</div>"
            ]
          },
          "metadata": {},
          "execution_count": 18
        }
      ],
      "metadata": {
        "colab": {
          "base_uri": "https://localhost:8080/",
          "height": 949
        },
        "id": "A93I8Zt42Tsp",
        "outputId": "6836cc92-e252-47b0-e3bd-39d15738c782"
      }
    },
    {
      "cell_type": "markdown",
      "source": [
        "3.2 Измените название каждого рецепта в таблице `recipes` таким образом, чтобы каждое слово в названии начиналось с прописной буквы."
      ],
      "metadata": {
        "id": "0wQmOCvqgcTZ"
      }
    },
    {
      "cell_type": "code",
      "execution_count": 19,
      "source": [
        "recipes['name'] = recipes['name'].str.title()\r\n",
        "recipes"
      ],
      "outputs": [
        {
          "output_type": "execute_result",
          "data": {
            "text/plain": [
              "                                               name      id  minutes  \\\n",
              "0             George S At The Cove  Black Bean Soup   44123       90   \n",
              "1                Healthy For Them  Yogurt Popsicles   67664       10   \n",
              "2                      I Can T Believe It S Spinach   38798       30   \n",
              "3                              Italian  Gut Busters   35173       45   \n",
              "4          Love Is In The Air  Beef Fondue   Sauces   84797       25   \n",
              "...                                             ...     ...      ...   \n",
              "29995  Zurie S Holey Rustic Olive And Cheddar Bread  267661       80   \n",
              "29996          Zwetschgenkuchen  Bavarian Plum Cake  386977      240   \n",
              "29997   Zwiebelkuchen   Southwest German Onion Cake  103312       75   \n",
              "29998                                   Zydeco Soup  486161       60   \n",
              "29999        Cookies By Design   Cookies On A Stick  298512       29   \n",
              "\n",
              "       contributor_id  submitted  n_steps  \\\n",
              "0               35193 2002-10-25      NaN   \n",
              "1               91970 2003-07-26      NaN   \n",
              "2                1533 2002-08-29      NaN   \n",
              "3               22724 2002-07-27      NaN   \n",
              "4                4470 2004-02-23      4.0   \n",
              "...               ...        ...      ...   \n",
              "29995          200862 2007-11-25     16.0   \n",
              "29996          177443 2009-08-24      NaN   \n",
              "29997          161745 2004-11-03      NaN   \n",
              "29998          227978 2012-08-29      NaN   \n",
              "29999          506822 2008-04-15      9.0   \n",
              "\n",
              "                                             description  n_ingredients  \\\n",
              "0      an original recipe created by chef scott meska...           18.0   \n",
              "1      my children and their friends ask for my homem...            NaN   \n",
              "2                these were so go, it surprised even me.            8.0   \n",
              "3      my sister-in-law made these for us at a family...            NaN   \n",
              "4      i think a fondue is a very romantic casual din...            NaN   \n",
              "...                                                  ...            ...   \n",
              "29995  this is based on a french recipe but i changed...           10.0   \n",
              "29996  this is a traditional fresh plum cake, thought...           11.0   \n",
              "29997  this is a traditional late summer early fall s...            NaN   \n",
              "29998  this is a delicious soup that i originally fou...            NaN   \n",
              "29999  i've heard of the 'cookies by design' company,...           10.0   \n",
              "\n",
              "       description_length  \n",
              "0                   330.0  \n",
              "1                   255.0  \n",
              "2                    39.0  \n",
              "3                   154.0  \n",
              "4                   587.0  \n",
              "...                   ...  \n",
              "29995               484.0  \n",
              "29996               286.0  \n",
              "29997               311.0  \n",
              "29998               648.0  \n",
              "29999               125.0  \n",
              "\n",
              "[30000 rows x 9 columns]"
            ],
            "text/html": [
              "<div>\n",
              "<style scoped>\n",
              "    .dataframe tbody tr th:only-of-type {\n",
              "        vertical-align: middle;\n",
              "    }\n",
              "\n",
              "    .dataframe tbody tr th {\n",
              "        vertical-align: top;\n",
              "    }\n",
              "\n",
              "    .dataframe thead th {\n",
              "        text-align: right;\n",
              "    }\n",
              "</style>\n",
              "<table border=\"1\" class=\"dataframe\">\n",
              "  <thead>\n",
              "    <tr style=\"text-align: right;\">\n",
              "      <th></th>\n",
              "      <th>name</th>\n",
              "      <th>id</th>\n",
              "      <th>minutes</th>\n",
              "      <th>contributor_id</th>\n",
              "      <th>submitted</th>\n",
              "      <th>n_steps</th>\n",
              "      <th>description</th>\n",
              "      <th>n_ingredients</th>\n",
              "      <th>description_length</th>\n",
              "    </tr>\n",
              "  </thead>\n",
              "  <tbody>\n",
              "    <tr>\n",
              "      <th>0</th>\n",
              "      <td>George S At The Cove  Black Bean Soup</td>\n",
              "      <td>44123</td>\n",
              "      <td>90</td>\n",
              "      <td>35193</td>\n",
              "      <td>2002-10-25</td>\n",
              "      <td>NaN</td>\n",
              "      <td>an original recipe created by chef scott meska...</td>\n",
              "      <td>18.0</td>\n",
              "      <td>330.0</td>\n",
              "    </tr>\n",
              "    <tr>\n",
              "      <th>1</th>\n",
              "      <td>Healthy For Them  Yogurt Popsicles</td>\n",
              "      <td>67664</td>\n",
              "      <td>10</td>\n",
              "      <td>91970</td>\n",
              "      <td>2003-07-26</td>\n",
              "      <td>NaN</td>\n",
              "      <td>my children and their friends ask for my homem...</td>\n",
              "      <td>NaN</td>\n",
              "      <td>255.0</td>\n",
              "    </tr>\n",
              "    <tr>\n",
              "      <th>2</th>\n",
              "      <td>I Can T Believe It S Spinach</td>\n",
              "      <td>38798</td>\n",
              "      <td>30</td>\n",
              "      <td>1533</td>\n",
              "      <td>2002-08-29</td>\n",
              "      <td>NaN</td>\n",
              "      <td>these were so go, it surprised even me.</td>\n",
              "      <td>8.0</td>\n",
              "      <td>39.0</td>\n",
              "    </tr>\n",
              "    <tr>\n",
              "      <th>3</th>\n",
              "      <td>Italian  Gut Busters</td>\n",
              "      <td>35173</td>\n",
              "      <td>45</td>\n",
              "      <td>22724</td>\n",
              "      <td>2002-07-27</td>\n",
              "      <td>NaN</td>\n",
              "      <td>my sister-in-law made these for us at a family...</td>\n",
              "      <td>NaN</td>\n",
              "      <td>154.0</td>\n",
              "    </tr>\n",
              "    <tr>\n",
              "      <th>4</th>\n",
              "      <td>Love Is In The Air  Beef Fondue   Sauces</td>\n",
              "      <td>84797</td>\n",
              "      <td>25</td>\n",
              "      <td>4470</td>\n",
              "      <td>2004-02-23</td>\n",
              "      <td>4.0</td>\n",
              "      <td>i think a fondue is a very romantic casual din...</td>\n",
              "      <td>NaN</td>\n",
              "      <td>587.0</td>\n",
              "    </tr>\n",
              "    <tr>\n",
              "      <th>...</th>\n",
              "      <td>...</td>\n",
              "      <td>...</td>\n",
              "      <td>...</td>\n",
              "      <td>...</td>\n",
              "      <td>...</td>\n",
              "      <td>...</td>\n",
              "      <td>...</td>\n",
              "      <td>...</td>\n",
              "      <td>...</td>\n",
              "    </tr>\n",
              "    <tr>\n",
              "      <th>29995</th>\n",
              "      <td>Zurie S Holey Rustic Olive And Cheddar Bread</td>\n",
              "      <td>267661</td>\n",
              "      <td>80</td>\n",
              "      <td>200862</td>\n",
              "      <td>2007-11-25</td>\n",
              "      <td>16.0</td>\n",
              "      <td>this is based on a french recipe but i changed...</td>\n",
              "      <td>10.0</td>\n",
              "      <td>484.0</td>\n",
              "    </tr>\n",
              "    <tr>\n",
              "      <th>29996</th>\n",
              "      <td>Zwetschgenkuchen  Bavarian Plum Cake</td>\n",
              "      <td>386977</td>\n",
              "      <td>240</td>\n",
              "      <td>177443</td>\n",
              "      <td>2009-08-24</td>\n",
              "      <td>NaN</td>\n",
              "      <td>this is a traditional fresh plum cake, thought...</td>\n",
              "      <td>11.0</td>\n",
              "      <td>286.0</td>\n",
              "    </tr>\n",
              "    <tr>\n",
              "      <th>29997</th>\n",
              "      <td>Zwiebelkuchen   Southwest German Onion Cake</td>\n",
              "      <td>103312</td>\n",
              "      <td>75</td>\n",
              "      <td>161745</td>\n",
              "      <td>2004-11-03</td>\n",
              "      <td>NaN</td>\n",
              "      <td>this is a traditional late summer early fall s...</td>\n",
              "      <td>NaN</td>\n",
              "      <td>311.0</td>\n",
              "    </tr>\n",
              "    <tr>\n",
              "      <th>29998</th>\n",
              "      <td>Zydeco Soup</td>\n",
              "      <td>486161</td>\n",
              "      <td>60</td>\n",
              "      <td>227978</td>\n",
              "      <td>2012-08-29</td>\n",
              "      <td>NaN</td>\n",
              "      <td>this is a delicious soup that i originally fou...</td>\n",
              "      <td>NaN</td>\n",
              "      <td>648.0</td>\n",
              "    </tr>\n",
              "    <tr>\n",
              "      <th>29999</th>\n",
              "      <td>Cookies By Design   Cookies On A Stick</td>\n",
              "      <td>298512</td>\n",
              "      <td>29</td>\n",
              "      <td>506822</td>\n",
              "      <td>2008-04-15</td>\n",
              "      <td>9.0</td>\n",
              "      <td>i've heard of the 'cookies by design' company,...</td>\n",
              "      <td>10.0</td>\n",
              "      <td>125.0</td>\n",
              "    </tr>\n",
              "  </tbody>\n",
              "</table>\n",
              "<p>30000 rows × 9 columns</p>\n",
              "</div>"
            ]
          },
          "metadata": {},
          "execution_count": 19
        }
      ],
      "metadata": {
        "colab": {
          "base_uri": "https://localhost:8080/",
          "height": 949
        },
        "id": "0pS0i2H6_t6R",
        "outputId": "157a08ea-86a9-49b7-e96a-cdf274842422"
      }
    },
    {
      "cell_type": "markdown",
      "source": [
        "3.3 Добавьте в таблицу `recipes` столбец `name_word_count`, в котором хранится количество слов из названии рецепта (считайте, что слова в названии разделяются только пробелами)."
      ],
      "metadata": {
        "id": "PX7KtSrFgcTZ"
      }
    },
    {
      "cell_type": "code",
      "execution_count": 20,
      "source": [
        "recipes['name_word_count'] = recipes['name'].str.split().apply(len).values\r\n",
        "recipes"
      ],
      "outputs": [
        {
          "output_type": "execute_result",
          "data": {
            "text/plain": [
              "                                               name      id  minutes  \\\n",
              "0             George S At The Cove  Black Bean Soup   44123       90   \n",
              "1                Healthy For Them  Yogurt Popsicles   67664       10   \n",
              "2                      I Can T Believe It S Spinach   38798       30   \n",
              "3                              Italian  Gut Busters   35173       45   \n",
              "4          Love Is In The Air  Beef Fondue   Sauces   84797       25   \n",
              "...                                             ...     ...      ...   \n",
              "29995  Zurie S Holey Rustic Olive And Cheddar Bread  267661       80   \n",
              "29996          Zwetschgenkuchen  Bavarian Plum Cake  386977      240   \n",
              "29997   Zwiebelkuchen   Southwest German Onion Cake  103312       75   \n",
              "29998                                   Zydeco Soup  486161       60   \n",
              "29999        Cookies By Design   Cookies On A Stick  298512       29   \n",
              "\n",
              "       contributor_id  submitted  n_steps  \\\n",
              "0               35193 2002-10-25      NaN   \n",
              "1               91970 2003-07-26      NaN   \n",
              "2                1533 2002-08-29      NaN   \n",
              "3               22724 2002-07-27      NaN   \n",
              "4                4470 2004-02-23      4.0   \n",
              "...               ...        ...      ...   \n",
              "29995          200862 2007-11-25     16.0   \n",
              "29996          177443 2009-08-24      NaN   \n",
              "29997          161745 2004-11-03      NaN   \n",
              "29998          227978 2012-08-29      NaN   \n",
              "29999          506822 2008-04-15      9.0   \n",
              "\n",
              "                                             description  n_ingredients  \\\n",
              "0      an original recipe created by chef scott meska...           18.0   \n",
              "1      my children and their friends ask for my homem...            NaN   \n",
              "2                these were so go, it surprised even me.            8.0   \n",
              "3      my sister-in-law made these for us at a family...            NaN   \n",
              "4      i think a fondue is a very romantic casual din...            NaN   \n",
              "...                                                  ...            ...   \n",
              "29995  this is based on a french recipe but i changed...           10.0   \n",
              "29996  this is a traditional fresh plum cake, thought...           11.0   \n",
              "29997  this is a traditional late summer early fall s...            NaN   \n",
              "29998  this is a delicious soup that i originally fou...            NaN   \n",
              "29999  i've heard of the 'cookies by design' company,...           10.0   \n",
              "\n",
              "       description_length  name_word_count  \n",
              "0                   330.0                8  \n",
              "1                   255.0                5  \n",
              "2                    39.0                7  \n",
              "3                   154.0                3  \n",
              "4                   587.0                8  \n",
              "...                   ...              ...  \n",
              "29995               484.0                8  \n",
              "29996               286.0                4  \n",
              "29997               311.0                5  \n",
              "29998               648.0                2  \n",
              "29999               125.0                7  \n",
              "\n",
              "[30000 rows x 10 columns]"
            ],
            "text/html": [
              "<div>\n",
              "<style scoped>\n",
              "    .dataframe tbody tr th:only-of-type {\n",
              "        vertical-align: middle;\n",
              "    }\n",
              "\n",
              "    .dataframe tbody tr th {\n",
              "        vertical-align: top;\n",
              "    }\n",
              "\n",
              "    .dataframe thead th {\n",
              "        text-align: right;\n",
              "    }\n",
              "</style>\n",
              "<table border=\"1\" class=\"dataframe\">\n",
              "  <thead>\n",
              "    <tr style=\"text-align: right;\">\n",
              "      <th></th>\n",
              "      <th>name</th>\n",
              "      <th>id</th>\n",
              "      <th>minutes</th>\n",
              "      <th>contributor_id</th>\n",
              "      <th>submitted</th>\n",
              "      <th>n_steps</th>\n",
              "      <th>description</th>\n",
              "      <th>n_ingredients</th>\n",
              "      <th>description_length</th>\n",
              "      <th>name_word_count</th>\n",
              "    </tr>\n",
              "  </thead>\n",
              "  <tbody>\n",
              "    <tr>\n",
              "      <th>0</th>\n",
              "      <td>George S At The Cove  Black Bean Soup</td>\n",
              "      <td>44123</td>\n",
              "      <td>90</td>\n",
              "      <td>35193</td>\n",
              "      <td>2002-10-25</td>\n",
              "      <td>NaN</td>\n",
              "      <td>an original recipe created by chef scott meska...</td>\n",
              "      <td>18.0</td>\n",
              "      <td>330.0</td>\n",
              "      <td>8</td>\n",
              "    </tr>\n",
              "    <tr>\n",
              "      <th>1</th>\n",
              "      <td>Healthy For Them  Yogurt Popsicles</td>\n",
              "      <td>67664</td>\n",
              "      <td>10</td>\n",
              "      <td>91970</td>\n",
              "      <td>2003-07-26</td>\n",
              "      <td>NaN</td>\n",
              "      <td>my children and their friends ask for my homem...</td>\n",
              "      <td>NaN</td>\n",
              "      <td>255.0</td>\n",
              "      <td>5</td>\n",
              "    </tr>\n",
              "    <tr>\n",
              "      <th>2</th>\n",
              "      <td>I Can T Believe It S Spinach</td>\n",
              "      <td>38798</td>\n",
              "      <td>30</td>\n",
              "      <td>1533</td>\n",
              "      <td>2002-08-29</td>\n",
              "      <td>NaN</td>\n",
              "      <td>these were so go, it surprised even me.</td>\n",
              "      <td>8.0</td>\n",
              "      <td>39.0</td>\n",
              "      <td>7</td>\n",
              "    </tr>\n",
              "    <tr>\n",
              "      <th>3</th>\n",
              "      <td>Italian  Gut Busters</td>\n",
              "      <td>35173</td>\n",
              "      <td>45</td>\n",
              "      <td>22724</td>\n",
              "      <td>2002-07-27</td>\n",
              "      <td>NaN</td>\n",
              "      <td>my sister-in-law made these for us at a family...</td>\n",
              "      <td>NaN</td>\n",
              "      <td>154.0</td>\n",
              "      <td>3</td>\n",
              "    </tr>\n",
              "    <tr>\n",
              "      <th>4</th>\n",
              "      <td>Love Is In The Air  Beef Fondue   Sauces</td>\n",
              "      <td>84797</td>\n",
              "      <td>25</td>\n",
              "      <td>4470</td>\n",
              "      <td>2004-02-23</td>\n",
              "      <td>4.0</td>\n",
              "      <td>i think a fondue is a very romantic casual din...</td>\n",
              "      <td>NaN</td>\n",
              "      <td>587.0</td>\n",
              "      <td>8</td>\n",
              "    </tr>\n",
              "    <tr>\n",
              "      <th>...</th>\n",
              "      <td>...</td>\n",
              "      <td>...</td>\n",
              "      <td>...</td>\n",
              "      <td>...</td>\n",
              "      <td>...</td>\n",
              "      <td>...</td>\n",
              "      <td>...</td>\n",
              "      <td>...</td>\n",
              "      <td>...</td>\n",
              "      <td>...</td>\n",
              "    </tr>\n",
              "    <tr>\n",
              "      <th>29995</th>\n",
              "      <td>Zurie S Holey Rustic Olive And Cheddar Bread</td>\n",
              "      <td>267661</td>\n",
              "      <td>80</td>\n",
              "      <td>200862</td>\n",
              "      <td>2007-11-25</td>\n",
              "      <td>16.0</td>\n",
              "      <td>this is based on a french recipe but i changed...</td>\n",
              "      <td>10.0</td>\n",
              "      <td>484.0</td>\n",
              "      <td>8</td>\n",
              "    </tr>\n",
              "    <tr>\n",
              "      <th>29996</th>\n",
              "      <td>Zwetschgenkuchen  Bavarian Plum Cake</td>\n",
              "      <td>386977</td>\n",
              "      <td>240</td>\n",
              "      <td>177443</td>\n",
              "      <td>2009-08-24</td>\n",
              "      <td>NaN</td>\n",
              "      <td>this is a traditional fresh plum cake, thought...</td>\n",
              "      <td>11.0</td>\n",
              "      <td>286.0</td>\n",
              "      <td>4</td>\n",
              "    </tr>\n",
              "    <tr>\n",
              "      <th>29997</th>\n",
              "      <td>Zwiebelkuchen   Southwest German Onion Cake</td>\n",
              "      <td>103312</td>\n",
              "      <td>75</td>\n",
              "      <td>161745</td>\n",
              "      <td>2004-11-03</td>\n",
              "      <td>NaN</td>\n",
              "      <td>this is a traditional late summer early fall s...</td>\n",
              "      <td>NaN</td>\n",
              "      <td>311.0</td>\n",
              "      <td>5</td>\n",
              "    </tr>\n",
              "    <tr>\n",
              "      <th>29998</th>\n",
              "      <td>Zydeco Soup</td>\n",
              "      <td>486161</td>\n",
              "      <td>60</td>\n",
              "      <td>227978</td>\n",
              "      <td>2012-08-29</td>\n",
              "      <td>NaN</td>\n",
              "      <td>this is a delicious soup that i originally fou...</td>\n",
              "      <td>NaN</td>\n",
              "      <td>648.0</td>\n",
              "      <td>2</td>\n",
              "    </tr>\n",
              "    <tr>\n",
              "      <th>29999</th>\n",
              "      <td>Cookies By Design   Cookies On A Stick</td>\n",
              "      <td>298512</td>\n",
              "      <td>29</td>\n",
              "      <td>506822</td>\n",
              "      <td>2008-04-15</td>\n",
              "      <td>9.0</td>\n",
              "      <td>i've heard of the 'cookies by design' company,...</td>\n",
              "      <td>10.0</td>\n",
              "      <td>125.0</td>\n",
              "      <td>7</td>\n",
              "    </tr>\n",
              "  </tbody>\n",
              "</table>\n",
              "<p>30000 rows × 10 columns</p>\n",
              "</div>"
            ]
          },
          "metadata": {},
          "execution_count": 20
        }
      ],
      "metadata": {
        "colab": {
          "base_uri": "https://localhost:8080/",
          "height": 949
        },
        "id": "wyQcGUUcBhw4",
        "outputId": "5c9000e8-d984-492f-80d7-8f8904312ff6"
      }
    },
    {
      "cell_type": "markdown",
      "source": [
        "### Группировки таблиц `pd.DataFrame`"
      ],
      "metadata": {
        "id": "JBJz-VpLgcTa"
      }
    },
    {
      "cell_type": "markdown",
      "source": [
        "4.1 Посчитайте количество рецептов, представленных каждым из участников (`contributor_id`). Какой участник добавил максимальное кол-во рецептов?"
      ],
      "metadata": {
        "id": "kwv62sHUgcTa"
      }
    },
    {
      "cell_type": "code",
      "execution_count": 21,
      "source": [
        "recipes['name'].groupby(recipes['contributor_id']).count().sort_values()[::-1]"
      ],
      "outputs": [
        {
          "output_type": "execute_result",
          "data": {
            "text/plain": [
              "contributor_id\n",
              "89831     421\n",
              "37449     346\n",
              "37779     345\n",
              "1533      186\n",
              "169430    183\n",
              "         ... \n",
              "448748      1\n",
              "449014      1\n",
              "449229      1\n",
              "449247      1\n",
              "302190      1\n",
              "Name: name, Length: 8404, dtype: int64"
            ]
          },
          "metadata": {},
          "execution_count": 21
        }
      ],
      "metadata": {
        "colab": {
          "base_uri": "https://localhost:8080/"
        },
        "id": "feoogs6rHApC",
        "outputId": "3ddf8804-348c-49c2-c595-d97dec878aad"
      }
    },
    {
      "cell_type": "markdown",
      "source": [
        "4.2 Посчитайте средний рейтинг к каждому из рецептов. Для скольких рецептов отсутствуют отзывы?"
      ],
      "metadata": {
        "id": "p-qN-_hjgcTa"
      }
    },
    {
      "cell_type": "code",
      "execution_count": 22,
      "source": [
        "reviews['rating'].groupby(reviews['recipe_id']).mean()"
      ],
      "outputs": [
        {
          "output_type": "execute_result",
          "data": {
            "text/plain": [
              "recipe_id\n",
              "48        1.000000\n",
              "55        4.750000\n",
              "66        4.944444\n",
              "91        4.750000\n",
              "94        5.000000\n",
              "            ...   \n",
              "536547    5.000000\n",
              "536610    0.000000\n",
              "536728    4.000000\n",
              "536729    4.750000\n",
              "536747    0.000000\n",
              "Name: rating, Length: 28100, dtype: float64"
            ]
          },
          "metadata": {},
          "execution_count": 22
        }
      ],
      "metadata": {
        "colab": {
          "base_uri": "https://localhost:8080/"
        },
        "id": "icaj3hU3Jb6m",
        "outputId": "de5a527a-b6f4-467f-aa24-de388da32f4f"
      }
    },
    {
      "cell_type": "code",
      "execution_count": 23,
      "source": [
        "recipes['id'].count() - reviews['recipe_id'].unique().size"
      ],
      "outputs": [
        {
          "output_type": "execute_result",
          "data": {
            "text/plain": [
              "1900"
            ]
          },
          "metadata": {},
          "execution_count": 23
        }
      ],
      "metadata": {
        "colab": {
          "base_uri": "https://localhost:8080/"
        },
        "id": "6tsoYQ-HJ0EE",
        "outputId": "0f9a4e36-196f-49f7-aa17-1367a99ea78c"
      }
    },
    {
      "cell_type": "markdown",
      "source": [
        "4.3 Посчитайте количество рецептов с разбивкой по годам создания."
      ],
      "metadata": {
        "id": "ypC14hmtgcTb"
      }
    },
    {
      "cell_type": "code",
      "execution_count": 24,
      "source": [
        "recipes['name'].groupby(pd.DatetimeIndex(recipes['submitted']).year).count()"
      ],
      "outputs": [
        {
          "output_type": "execute_result",
          "data": {
            "text/plain": [
              "submitted\n",
              "1999     275\n",
              "2000     104\n",
              "2001     589\n",
              "2002    2644\n",
              "2003    2334\n",
              "2004    2153\n",
              "2005    3130\n",
              "2006    3473\n",
              "2007    4429\n",
              "2008    4029\n",
              "2009    2963\n",
              "2010    1538\n",
              "2011     922\n",
              "2012     659\n",
              "2013     490\n",
              "2014     139\n",
              "2015      42\n",
              "2016      24\n",
              "2017      39\n",
              "2018      24\n",
              "Name: name, dtype: int64"
            ]
          },
          "metadata": {},
          "execution_count": 24
        }
      ],
      "metadata": {
        "colab": {
          "base_uri": "https://localhost:8080/"
        },
        "id": "9qYVudWkLOXh",
        "outputId": "b18aa7cd-e6ee-40cb-f3dc-542a2e2dacbc"
      }
    },
    {
      "cell_type": "markdown",
      "source": [
        "### Объединение таблиц `pd.DataFrame`"
      ],
      "metadata": {
        "id": "lM65f9RBgcTb"
      }
    },
    {
      "cell_type": "markdown",
      "source": [
        "5.1 При помощи объединения таблиц, создайте `DataFrame`, состоящий из четырех столбцов: `id`, `name`, `user_id`, `rating`. Рецепты без отзывов должны отсутствовать в данной таблице. Подтвердите правильность работы вашего кода, выбрав рецепт, не имеющий отзывов, и выведя на экран строку из полученного `DataFrame`, содержащую информацию об этом отзыве."
      ],
      "metadata": {
        "id": "w3BI7E8TgcTb"
      }
    },
    {
      "cell_type": "code",
      "execution_count": 25,
      "source": [
        "df = recipes.merge(reviews, how='right', left_on='id', right_on='recipe_id')[['id', 'name', 'user_id', 'rating']]\r\n",
        "df"
      ],
      "outputs": [
        {
          "output_type": "execute_result",
          "data": {
            "text/plain": [
              "            id                                               name     user_id  \\\n",
              "0        57993                               Salmon With Tomatoes       21752   \n",
              "1       142201                               Lemon Cajun Stir Fry      431813   \n",
              "2       252013        Cottage Cheese  Honey And Cinnamon On Toast      400708   \n",
              "3       404716                                      Belly Buttons  2001852463   \n",
              "4       129396                                 Double Tomato Soup       95810   \n",
              "...        ...                                                ...         ...   \n",
              "126691  335534                     Melissa S Lemon Pepper Chicken     1270706   \n",
              "126692    8701                    Should Be Illegal Oven Bbq Ribs     2282344   \n",
              "126693  222001                                 Cheesy Bacon Bread      689540   \n",
              "126694  354979  Kittencal S Pan Seared Steak  Stove Top To Ove...  2000242659   \n",
              "126695  415599                               Montreal Steak Spice      463435   \n",
              "\n",
              "        rating  \n",
              "0            5  \n",
              "1            5  \n",
              "2            4  \n",
              "3            5  \n",
              "4            5  \n",
              "...        ...  \n",
              "126691       4  \n",
              "126692       0  \n",
              "126693       5  \n",
              "126694       5  \n",
              "126695       5  \n",
              "\n",
              "[126696 rows x 4 columns]"
            ],
            "text/html": [
              "<div>\n",
              "<style scoped>\n",
              "    .dataframe tbody tr th:only-of-type {\n",
              "        vertical-align: middle;\n",
              "    }\n",
              "\n",
              "    .dataframe tbody tr th {\n",
              "        vertical-align: top;\n",
              "    }\n",
              "\n",
              "    .dataframe thead th {\n",
              "        text-align: right;\n",
              "    }\n",
              "</style>\n",
              "<table border=\"1\" class=\"dataframe\">\n",
              "  <thead>\n",
              "    <tr style=\"text-align: right;\">\n",
              "      <th></th>\n",
              "      <th>id</th>\n",
              "      <th>name</th>\n",
              "      <th>user_id</th>\n",
              "      <th>rating</th>\n",
              "    </tr>\n",
              "  </thead>\n",
              "  <tbody>\n",
              "    <tr>\n",
              "      <th>0</th>\n",
              "      <td>57993</td>\n",
              "      <td>Salmon With Tomatoes</td>\n",
              "      <td>21752</td>\n",
              "      <td>5</td>\n",
              "    </tr>\n",
              "    <tr>\n",
              "      <th>1</th>\n",
              "      <td>142201</td>\n",
              "      <td>Lemon Cajun Stir Fry</td>\n",
              "      <td>431813</td>\n",
              "      <td>5</td>\n",
              "    </tr>\n",
              "    <tr>\n",
              "      <th>2</th>\n",
              "      <td>252013</td>\n",
              "      <td>Cottage Cheese  Honey And Cinnamon On Toast</td>\n",
              "      <td>400708</td>\n",
              "      <td>4</td>\n",
              "    </tr>\n",
              "    <tr>\n",
              "      <th>3</th>\n",
              "      <td>404716</td>\n",
              "      <td>Belly Buttons</td>\n",
              "      <td>2001852463</td>\n",
              "      <td>5</td>\n",
              "    </tr>\n",
              "    <tr>\n",
              "      <th>4</th>\n",
              "      <td>129396</td>\n",
              "      <td>Double Tomato Soup</td>\n",
              "      <td>95810</td>\n",
              "      <td>5</td>\n",
              "    </tr>\n",
              "    <tr>\n",
              "      <th>...</th>\n",
              "      <td>...</td>\n",
              "      <td>...</td>\n",
              "      <td>...</td>\n",
              "      <td>...</td>\n",
              "    </tr>\n",
              "    <tr>\n",
              "      <th>126691</th>\n",
              "      <td>335534</td>\n",
              "      <td>Melissa S Lemon Pepper Chicken</td>\n",
              "      <td>1270706</td>\n",
              "      <td>4</td>\n",
              "    </tr>\n",
              "    <tr>\n",
              "      <th>126692</th>\n",
              "      <td>8701</td>\n",
              "      <td>Should Be Illegal Oven Bbq Ribs</td>\n",
              "      <td>2282344</td>\n",
              "      <td>0</td>\n",
              "    </tr>\n",
              "    <tr>\n",
              "      <th>126693</th>\n",
              "      <td>222001</td>\n",
              "      <td>Cheesy Bacon Bread</td>\n",
              "      <td>689540</td>\n",
              "      <td>5</td>\n",
              "    </tr>\n",
              "    <tr>\n",
              "      <th>126694</th>\n",
              "      <td>354979</td>\n",
              "      <td>Kittencal S Pan Seared Steak  Stove Top To Ove...</td>\n",
              "      <td>2000242659</td>\n",
              "      <td>5</td>\n",
              "    </tr>\n",
              "    <tr>\n",
              "      <th>126695</th>\n",
              "      <td>415599</td>\n",
              "      <td>Montreal Steak Spice</td>\n",
              "      <td>463435</td>\n",
              "      <td>5</td>\n",
              "    </tr>\n",
              "  </tbody>\n",
              "</table>\n",
              "<p>126696 rows × 4 columns</p>\n",
              "</div>"
            ]
          },
          "metadata": {},
          "execution_count": 25
        }
      ],
      "metadata": {
        "colab": {
          "base_uri": "https://localhost:8080/",
          "height": 419
        },
        "id": "5tRA89SeMj1A",
        "outputId": "148e385a-d1d7-4cc9-9536-6c6021e724bd"
      }
    },
    {
      "cell_type": "code",
      "execution_count": 26,
      "source": [
        "i = recipes.merge(reviews, how='left', left_on='id', right_on='recipe_id')[['id', 'name', 'user_id', 'rating']].sort_values(by='user_id').id.values[-1]\r\n",
        "df.loc[df['id'] == i]"
      ],
      "outputs": [
        {
          "output_type": "execute_result",
          "data": {
            "text/plain": [
              "Empty DataFrame\n",
              "Columns: [id, name, user_id, rating]\n",
              "Index: []"
            ],
            "text/html": [
              "<div>\n",
              "<style scoped>\n",
              "    .dataframe tbody tr th:only-of-type {\n",
              "        vertical-align: middle;\n",
              "    }\n",
              "\n",
              "    .dataframe tbody tr th {\n",
              "        vertical-align: top;\n",
              "    }\n",
              "\n",
              "    .dataframe thead th {\n",
              "        text-align: right;\n",
              "    }\n",
              "</style>\n",
              "<table border=\"1\" class=\"dataframe\">\n",
              "  <thead>\n",
              "    <tr style=\"text-align: right;\">\n",
              "      <th></th>\n",
              "      <th>id</th>\n",
              "      <th>name</th>\n",
              "      <th>user_id</th>\n",
              "      <th>rating</th>\n",
              "    </tr>\n",
              "  </thead>\n",
              "  <tbody>\n",
              "  </tbody>\n",
              "</table>\n",
              "</div>"
            ]
          },
          "metadata": {},
          "execution_count": 26
        }
      ],
      "metadata": {
        "colab": {
          "base_uri": "https://localhost:8080/",
          "height": 49
        },
        "id": "JMhrCmMNQw29",
        "outputId": "b9c7bf0c-d37a-40e3-81a6-c7744ac1a1d6"
      }
    },
    {
      "cell_type": "markdown",
      "source": [
        "5.2 При помощи объединения таблиц и группировок, создайте `DataFrame`, состоящий из трех столбцов: `recipe_id`, `name`, `review_count`. У рецептов, для которых отсутствуют отзывы, в соответствущем столбце должен быть указан 0. Подтвердите правильность работы вашего кода, выбрав рецепт, не имеющий отзывов, и выведя на экран строку из полученного `DataFrame`, содержащую информацию об этом отзыве.\n"
      ],
      "metadata": {
        "id": "8HzC-nwUgcTc"
      }
    },
    {
      "cell_type": "code",
      "execution_count": 31,
      "source": [
        "df1 = recipes.merge(reviews, how='left', left_on='id', right_on='recipe_id')\r\n",
        "df1 = recipes[['id', 'name']].merge(df1['review'].groupby(df1['name']).count(), how='left', on=\"name\")\r\n",
        "df1 = df1.rename(columns={'id': 'recipe_id', 'review': 'review_count'})\r\n",
        "df1"
      ],
      "outputs": [
        {
          "output_type": "execute_result",
          "data": {
            "text/plain": [
              "       recipe_id                                          name  review_count\n",
              "0          44123         George S At The Cove  Black Bean Soup             3\n",
              "1          67664            Healthy For Them  Yogurt Popsicles             8\n",
              "2          38798                  I Can T Believe It S Spinach             3\n",
              "3          35173                          Italian  Gut Busters             1\n",
              "4          84797      Love Is In The Air  Beef Fondue   Sauces             8\n",
              "...          ...                                           ...           ...\n",
              "29995     267661  Zurie S Holey Rustic Olive And Cheddar Bread             4\n",
              "29996     386977          Zwetschgenkuchen  Bavarian Plum Cake             2\n",
              "29997     103312   Zwiebelkuchen   Southwest German Onion Cake             6\n",
              "29998     486161                                   Zydeco Soup             6\n",
              "29999     298512        Cookies By Design   Cookies On A Stick             1\n",
              "\n",
              "[30000 rows x 3 columns]"
            ],
            "text/html": [
              "<div>\n",
              "<style scoped>\n",
              "    .dataframe tbody tr th:only-of-type {\n",
              "        vertical-align: middle;\n",
              "    }\n",
              "\n",
              "    .dataframe tbody tr th {\n",
              "        vertical-align: top;\n",
              "    }\n",
              "\n",
              "    .dataframe thead th {\n",
              "        text-align: right;\n",
              "    }\n",
              "</style>\n",
              "<table border=\"1\" class=\"dataframe\">\n",
              "  <thead>\n",
              "    <tr style=\"text-align: right;\">\n",
              "      <th></th>\n",
              "      <th>recipe_id</th>\n",
              "      <th>name</th>\n",
              "      <th>review_count</th>\n",
              "    </tr>\n",
              "  </thead>\n",
              "  <tbody>\n",
              "    <tr>\n",
              "      <th>0</th>\n",
              "      <td>44123</td>\n",
              "      <td>George S At The Cove  Black Bean Soup</td>\n",
              "      <td>3</td>\n",
              "    </tr>\n",
              "    <tr>\n",
              "      <th>1</th>\n",
              "      <td>67664</td>\n",
              "      <td>Healthy For Them  Yogurt Popsicles</td>\n",
              "      <td>8</td>\n",
              "    </tr>\n",
              "    <tr>\n",
              "      <th>2</th>\n",
              "      <td>38798</td>\n",
              "      <td>I Can T Believe It S Spinach</td>\n",
              "      <td>3</td>\n",
              "    </tr>\n",
              "    <tr>\n",
              "      <th>3</th>\n",
              "      <td>35173</td>\n",
              "      <td>Italian  Gut Busters</td>\n",
              "      <td>1</td>\n",
              "    </tr>\n",
              "    <tr>\n",
              "      <th>4</th>\n",
              "      <td>84797</td>\n",
              "      <td>Love Is In The Air  Beef Fondue   Sauces</td>\n",
              "      <td>8</td>\n",
              "    </tr>\n",
              "    <tr>\n",
              "      <th>...</th>\n",
              "      <td>...</td>\n",
              "      <td>...</td>\n",
              "      <td>...</td>\n",
              "    </tr>\n",
              "    <tr>\n",
              "      <th>29995</th>\n",
              "      <td>267661</td>\n",
              "      <td>Zurie S Holey Rustic Olive And Cheddar Bread</td>\n",
              "      <td>4</td>\n",
              "    </tr>\n",
              "    <tr>\n",
              "      <th>29996</th>\n",
              "      <td>386977</td>\n",
              "      <td>Zwetschgenkuchen  Bavarian Plum Cake</td>\n",
              "      <td>2</td>\n",
              "    </tr>\n",
              "    <tr>\n",
              "      <th>29997</th>\n",
              "      <td>103312</td>\n",
              "      <td>Zwiebelkuchen   Southwest German Onion Cake</td>\n",
              "      <td>6</td>\n",
              "    </tr>\n",
              "    <tr>\n",
              "      <th>29998</th>\n",
              "      <td>486161</td>\n",
              "      <td>Zydeco Soup</td>\n",
              "      <td>6</td>\n",
              "    </tr>\n",
              "    <tr>\n",
              "      <th>29999</th>\n",
              "      <td>298512</td>\n",
              "      <td>Cookies By Design   Cookies On A Stick</td>\n",
              "      <td>1</td>\n",
              "    </tr>\n",
              "  </tbody>\n",
              "</table>\n",
              "<p>30000 rows × 3 columns</p>\n",
              "</div>"
            ]
          },
          "metadata": {},
          "execution_count": 31
        }
      ],
      "metadata": {
        "colab": {
          "base_uri": "https://localhost:8080/",
          "height": 80
        },
        "id": "pCPofIS3ThVP",
        "outputId": "5f3254ac-cff2-4c97-e348-519eb8c0101e"
      }
    },
    {
      "cell_type": "code",
      "execution_count": 32,
      "source": [
        "df1.loc[df1['recipe_id'] == i]"
      ],
      "outputs": [
        {
          "output_type": "execute_result",
          "data": {
            "text/plain": [
              "       recipe_id                                  name  review_count\n",
              "29979     363362  Zucchini With Bell Pepper And Tomato             0"
            ],
            "text/html": [
              "<div>\n",
              "<style scoped>\n",
              "    .dataframe tbody tr th:only-of-type {\n",
              "        vertical-align: middle;\n",
              "    }\n",
              "\n",
              "    .dataframe tbody tr th {\n",
              "        vertical-align: top;\n",
              "    }\n",
              "\n",
              "    .dataframe thead th {\n",
              "        text-align: right;\n",
              "    }\n",
              "</style>\n",
              "<table border=\"1\" class=\"dataframe\">\n",
              "  <thead>\n",
              "    <tr style=\"text-align: right;\">\n",
              "      <th></th>\n",
              "      <th>recipe_id</th>\n",
              "      <th>name</th>\n",
              "      <th>review_count</th>\n",
              "    </tr>\n",
              "  </thead>\n",
              "  <tbody>\n",
              "    <tr>\n",
              "      <th>29979</th>\n",
              "      <td>363362</td>\n",
              "      <td>Zucchini With Bell Pepper And Tomato</td>\n",
              "      <td>0</td>\n",
              "    </tr>\n",
              "  </tbody>\n",
              "</table>\n",
              "</div>"
            ]
          },
          "metadata": {},
          "execution_count": 32
        }
      ],
      "metadata": {}
    },
    {
      "cell_type": "markdown",
      "source": [
        "5.3. Выясните, отзывы, добавленные в каком году, имеют наименьший средний рейтинг?"
      ],
      "metadata": {
        "id": "1B5kv-DWgcTc"
      }
    },
    {
      "cell_type": "code",
      "execution_count": 33,
      "source": [
        "reviews['rating'].groupby(pd.DatetimeIndex(reviews['date']).year).mean().sort_values()"
      ],
      "outputs": [
        {
          "output_type": "execute_result",
          "data": {
            "text/plain": [
              "date\n",
              "2017    3.353042\n",
              "2000    3.384615\n",
              "2018    3.504076\n",
              "2016    3.912603\n",
              "2015    4.047145\n",
              "2014    4.110595\n",
              "2001    4.134426\n",
              "2013    4.274168\n",
              "2011    4.302045\n",
              "2012    4.341427\n",
              "2010    4.454440\n",
              "2002    4.481556\n",
              "2008    4.484635\n",
              "2009    4.524728\n",
              "2003    4.526940\n",
              "2004    4.546548\n",
              "2007    4.547077\n",
              "2005    4.563680\n",
              "2006    4.603673\n",
              "Name: rating, dtype: float64"
            ]
          },
          "metadata": {},
          "execution_count": 33
        }
      ],
      "metadata": {
        "colab": {
          "base_uri": "https://localhost:8080/"
        },
        "id": "dJWBzgz1vBrq",
        "outputId": "33b2a5f7-a6d8-410e-9093-a1e8dd857e0b"
      }
    },
    {
      "cell_type": "markdown",
      "source": [
        "### Сохранение таблиц `pd.DataFrame`"
      ],
      "metadata": {
        "id": "TiSUal92gcTc"
      }
    },
    {
      "cell_type": "markdown",
      "source": [
        "6.1 Отсортируйте таблицу в порядке убывания величины столбца `name_word_count` и сохраните результаты выполнения заданий 3.1-3.3 в csv файл. "
      ],
      "metadata": {
        "id": "Wjg7jqsWgcTc"
      }
    },
    {
      "cell_type": "code",
      "execution_count": 34,
      "source": [
        "recipes.sort_values(by='name_word_count').to_csv(r\"./recipes_result.csv\")"
      ],
      "outputs": [],
      "metadata": {
        "id": "AgGz1qOLxbi_"
      }
    },
    {
      "cell_type": "markdown",
      "source": [
        "6.2 Воспользовавшись `pd.ExcelWriter`, cохраните результаты 5.1 и 5.2 в файл: на лист с названием `Рецепты с оценками` сохраните результаты выполнения 5.1; на лист с названием `Количество отзывов по рецептам` сохраните результаты выполнения 5.2."
      ],
      "metadata": {
        "id": "qTSppdxYgcTd"
      }
    },
    {
      "cell_type": "code",
      "execution_count": 42,
      "source": [
        "with pd.ExcelWriter(r\"./merge_result.xlsx\") as writer:\r\n",
        "    df.to_excel(writer, sheet_name=\"Рецепты с оценками\")\r\n",
        "    df1.to_excel(writer, sheet_name=\"Количество отзывов по рецептам\")"
      ],
      "outputs": [],
      "metadata": {
        "id": "eHHAQi7XzV3J"
      }
    }
  ]
}